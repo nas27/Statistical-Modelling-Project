{
 "cells": [
  {
   "cell_type": "code",
   "execution_count": 24,
   "metadata": {},
   "outputs": [],
   "source": [
    "import pandas as pd\n",
    "import os #env variables\n",
    "import requests #call the APIs\n",
    "import json"
   ]
  },
  {
   "cell_type": "markdown",
   "metadata": {},
   "source": [
    "# Foursquare"
   ]
  },
  {
   "cell_type": "markdown",
   "metadata": {},
   "source": [
    "Send a request to Foursquare with a small radius (1000m) for all the bike stations in your city of choice. "
   ]
  },
  {
   "cell_type": "code",
   "execution_count": 7,
   "metadata": {},
   "outputs": [],
   "source": [
    "FOURSQUARE_KEY = os.getenv('FOURSQUARE_API_KEY')"
   ]
  },
  {
   "cell_type": "code",
   "execution_count": 15,
   "metadata": {},
   "outputs": [],
   "source": [
    "def getDetails():\n",
    "    url = \"https://api.foursquare.com/v3/places/search\"\n",
    "    \n",
    "    params = {\n",
    "      \t\"query\": \"bars\",\n",
    "        #lat long of chicago in previous exercise\n",
    "      \t\"ll\": \"47.606,-122.349358\",\n",
    "      \t\"open_now\": \"true\",\n",
    "      \t\"radius\": \"1000\",\n",
    "        #\"category_id\": \"4e4c9077bd41f78e849722f9\",\n",
    "        #\"categories\": 19002,\n",
    "      \t\"sort\":\"DISTANCE\",\n",
    "        'limit': 10 \n",
    "    }\n",
    "    \n",
    "    headers = {\n",
    "        \"Accept\": \"application/json\",\n",
    "        \"Authorization\": FOURSQUARE_KEY\n",
    "    }\n",
    "\n",
    "    response = requests.request(\"GET\", url, params=params, headers=headers)\n",
    "    return response\n"
   ]
  },
  {
   "cell_type": "code",
   "execution_count": 16,
   "metadata": {},
   "outputs": [
    {
     "name": "stdout",
     "output_type": "stream",
     "text": [
      "{\"results\":[{\"fsq_id\":\"4fbfa89ee4b0fddeca5b5cef\",\"categories\":[{\"id\":10001,\"name\":\"Amusement Park\",\"short_name\":\"Amusement Park\",\"plural_name\":\"Amusement Parks\",\"icon\":{\"prefix\":\"https://ss3.4sqi.net/img/categories_v2/arts_entertainment/themepark_\",\"suffix\":\".png\"}}],\"chains\":[],\"closed_bucket\":\"VeryLikelyOpen\",\"distance\":513,\"geocodes\":{\"main\":{\"latitude\":47.605993,\"longitude\":-122.341159},\"roof\":{\"latitude\":47.605993,\"longitude\":-122.341159}},\"link\":\"/v3/places/4fbfa89ee4b0fddeca5b5cef\",\"location\":{\"address\":\"1301 Alaskan Way\",\"census_block\":\"530330081013017\",\"country\":\"US\",\"cross_street\":\"Pier 57\",\"dma\":\"Seattle-Tacoma\",\"formatted_address\":\"1301 Alaskan Way (Pier 57), Seattle, WA 98101\",\"locality\":\"Seattle\",\"postcode\":\"98101\",\"region\":\"WA\"},\"name\":\"Seattle Great Wheel\",\"related_places\":{\"parent\":{\"fsq_id\":\"4b5fbee2f964a5200bcb29e3\",\"categories\":[{\"id\":19021,\"name\":\"Pier\",\"short_name\":\"Piers\",\"plural_name\":\"Piers\",\"icon\":{\"prefix\":\"https://ss3.4sqi.net/img/categories_v2/travel/ferry_pier_\",\"suffix\":\".png\"}}],\"name\":\"Pier 57\"}},\"timezone\":\"America/Los_Angeles\"},{\"fsq_id\":\"4eeff5cf10818ba0cf80683d\",\"categories\":[{\"id\":13034,\"name\":\"Café\",\"short_name\":\"Café\",\"plural_name\":\"Cafés\",\"icon\":{\"prefix\":\"https://ss3.4sqi.net/img/categories_v2/food/cafe_\",\"suffix\":\".png\"}}],\"chains\":[],\"closed_bucket\":\"VeryLikelyOpen\",\"distance\":541,\"geocodes\":{\"main\":{\"latitude\":47.607446,\"longitude\":-122.342301},\"roof\":{\"latitude\":47.607446,\"longitude\":-122.342301}},\"link\":\"/v3/places/4eeff5cf10818ba0cf80683d\",\"location\":{\"address\":\"1483 Alaskan Way\",\"census_block\":\"530330081013006\",\"country\":\"US\",\"dma\":\"Seattle-Tacoma\",\"formatted_address\":\"1483 Alaskan Way, Seattle, WA 98101\",\"locality\":\"Seattle\",\"postcode\":\"98101\",\"region\":\"WA\"},\"name\":\"Seattle Aquarium Cafe\",\"related_places\":{\"parent\":{\"fsq_id\":\"4412d38af964a520d9301fe3\",\"categories\":[{\"id\":10002,\"name\":\"Aquarium\",\"short_name\":\"Aquarium\",\"plural_name\":\"Aquariums\",\"icon\":{\"prefix\":\"https://ss3.4sqi.net/img/categories_v2/arts_entertainment/aquarium_\",\"suffix\":\".png\"}}],\"name\":\"Seattle Aquarium\"}},\"timezone\":\"America/Los_Angeles\"},{\"fsq_id\":\"4412d38af964a520d9301fe3\",\"categories\":[{\"id\":10002,\"name\":\"Aquarium\",\"short_name\":\"Aquarium\",\"plural_name\":\"Aquariums\",\"icon\":{\"prefix\":\"https://ss3.4sqi.net/img/categories_v2/arts_entertainment/aquarium_\",\"suffix\":\".png\"}}],\"chains\":[],\"closed_bucket\":\"VeryLikelyOpen\",\"distance\":547,\"geocodes\":{\"main\":{\"latitude\":47.60743,\"longitude\":-122.34307},\"roof\":{\"latitude\":47.607587,\"longitude\":-122.343029}},\"link\":\"/v3/places/4412d38af964a520d9301fe3\",\"location\":{\"address\":\"1483 Alaskan Way\",\"census_block\":\"530330081013006\",\"country\":\"US\",\"cross_street\":\"Pier 59\",\"dma\":\"Seattle-Tacoma\",\"formatted_address\":\"1483 Alaskan Way (Pier 59), Seattle, WA 98101\",\"locality\":\"Seattle\",\"postcode\":\"98101\",\"region\":\"WA\"},\"name\":\"Seattle Aquarium\",\"related_places\":{\"children\":[{\"fsq_id\":\"4d3b2f5cfa736ea8289c1d8a\",\"categories\":[{\"id\":17089,\"name\":\"Gift Store\",\"short_name\":\"Gift Store\",\"plural_name\":\"Gift Stores\",\"icon\":{\"prefix\":\"https://ss3.4sqi.net/img/categories_v2/shops/giftshop_\",\"suffix\":\".png\"}}],\"name\":\"Seattle Aquarium Gift Store\"},{\"fsq_id\":\"4da9c5606e81162ae7c5a263\",\"categories\":[{\"id\":10000,\"name\":\"Arts and Entertainment\",\"short_name\":\"Arts & Entertainment\",\"plural_name\":\"Arts and Entertainment\",\"icon\":{\"prefix\":\"https://ss3.4sqi.net/img/categories_v2/arts_entertainment/default_\",\"suffix\":\".png\"}}],\"name\":\"Seattle Aquarium Sea Otters\"},{\"fsq_id\":\"4eeff5cf10818ba0cf80683d\",\"categories\":[{\"id\":13034,\"name\":\"Café\",\"short_name\":\"Café\",\"plural_name\":\"Cafés\",\"icon\":{\"prefix\":\"https://ss3.4sqi.net/img/categories_v2/food/cafe_\",\"suffix\":\".png\"}}],\"name\":\"Seattle Aquarium Cafe\"},{\"fsq_id\":\"51bf7e0e498ec7d233a91a08\",\"categories\":[{\"id\":10002,\"name\":\"Aquarium\",\"short_name\":\"Aquarium\",\"plural_name\":\"Aquariums\",\"icon\":{\"prefix\":\"https://ss3.4sqi.net/img/categories_v2/arts_entertainment/aquarium_\",\"suffix\":\".png\"}}],\"name\":\"Seal Harbor\"}]},\"timezone\":\"America/Los_Angeles\"},{\"fsq_id\":\"45431fd4f964a5205c3c1fe3\",\"categories\":[{\"id\":19014,\"name\":\"Hotel\",\"short_name\":\"Hotel\",\"plural_name\":\"Hotels\",\"icon\":{\"prefix\":\"https://ss3.4sqi.net/img/categories_v2/travel/hotel_\",\"suffix\":\".png\"}}],\"chains\":[{\"id\":\"c4a6ee4c-28f5-4cea-972e-37b57852cd5f\",\"name\":\"Marriott Hotels & Resorts\"}],\"closed_bucket\":\"VeryLikelyOpen\",\"distance\":558,\"geocodes\":{\"drop_off\":{\"latitude\":47.61071,\"longitude\":-122.346926},\"main\":{\"latitude\":47.610694,\"longitude\":-122.346685},\"roof\":{\"latitude\":47.610694,\"longitude\":-122.346685}},\"link\":\"/v3/places/45431fd4f964a5205c3c1fe3\",\"location\":{\"address\":\"2100 Alaskan Way\",\"address_extended\":\"Ste 300\",\"census_block\":\"530330080022009\",\"country\":\"US\",\"cross_street\":\"\",\"dma\":\"Seattle-Tacoma\",\"formatted_address\":\"2100 Alaskan Way, Seattle, WA 98121\",\"locality\":\"Seattle\",\"postcode\":\"98121\",\"region\":\"WA\"},\"name\":\"Marriott Hotels & Resorts\",\"related_places\":{\"children\":[{\"fsq_id\":\"50631209e4b043ec7fdba68d\",\"categories\":[{\"id\":13068,\"name\":\"American Restaurant\",\"short_name\":\"American\",\"plural_name\":\"American Restaurants\",\"icon\":{\"prefix\":\"https://ss3.4sqi.net/img/categories_v2/food/default_\",\"suffix\":\".png\"}}],\"name\":\"Marriott Concierge Lounge\"},{\"fsq_id\":\"4fe9bd0fe4b0b2eb5e3f486a\",\"categories\":[{\"id\":18021,\"name\":\"Gym and Studio\",\"short_name\":\"Gym and Studio\",\"plural_name\":\"Gym and Studios\",\"icon\":{\"prefix\":\"https://ss3.4sqi.net/img/categories_v2/building/gym_\",\"suffix\":\".png\"}}],\"name\":\"Marriott Fitness Center\"},{\"fsq_id\":\"73ca71b6e2bf4b2766316ebf\",\"categories\":[{\"id\":19006,\"name\":\"Electric Vehicle Charging Station\",\"short_name\":\"Electric Vehicle Charging Station\",\"plural_name\":\"Electric Vehicle Charging Stations\",\"icon\":{\"prefix\":\"https://ss3.4sqi.net/img/categories_v2/shops/automotive_\",\"suffix\":\".png\"}}],\"name\":\"Electric Charging Station\"}]},\"timezone\":\"America/Los_Angeles\"},{\"fsq_id\":\"4c77edff93ef236afa74aa0f\",\"categories\":[{\"id\":13002,\"name\":\"Bakery\",\"short_name\":\"Bakery\",\"plural_name\":\"Bakeries\",\"icon\":{\"prefix\":\"https://ss3.4sqi.net/img/categories_v2/food/bakery_\",\"suffix\":\".png\"}},{\"id\":13039,\"name\":\"Deli\",\"short_name\":\"Deli\",\"plural_name\":\"Delis\",\"icon\":{\"prefix\":\"https://ss3.4sqi.net/img/categories_v2/food/deli_\",\"suffix\":\".png\"}},{\"id\":13334,\"name\":\"Sandwich Spot\",\"short_name\":\"Sandwich Spot\",\"plural_name\":\"Sandwich Spots\",\"icon\":{\"prefix\":\"https://ss3.4sqi.net/img/categories_v2/food/deli_\",\"suffix\":\".png\"}}],\"chains\":[],\"closed_bucket\":\"VeryLikelyOpen\",\"distance\":607,\"geocodes\":{\"main\":{\"latitude\":47.605993,\"longitude\":-122.341159},\"roof\":{\"latitude\":47.605993,\"longitude\":-122.341159}},\"link\":\"/v3/places/4c77edff93ef236afa74aa0f\",\"location\":{\"address\":\"1301 Alaskan Way\",\"census_block\":\"530330081013017\",\"country\":\"US\",\"dma\":\"Seattle-Tacoma\",\"formatted_address\":\"1301 Alaskan Way, Seattle, WA 98101\",\"locality\":\"Seattle\",\"postcode\":\"98101\",\"region\":\"WA\"},\"name\":\"Alaskan Sourdough Bakery\",\"related_places\":{\"parent\":{\"fsq_id\":\"4bb535b06edc76b017722f1c\",\"categories\":[{\"id\":10000,\"name\":\"Arts and Entertainment\",\"short_name\":\"Arts & Entertainment\",\"plural_name\":\"Arts and Entertainment\",\"icon\":{\"prefix\":\"https://ss3.4sqi.net/img/categories_v2/arts_entertainment/default_\",\"suffix\":\".png\"}}],\"name\":\"Miners Landing\"}},\"timezone\":\"America/Los_Angeles\"},{\"fsq_id\":\"595c0cb5123a195de691c5ea\",\"categories\":[{\"id\":13029,\"name\":\"Brewery\",\"short_name\":\"Brewery\",\"plural_name\":\"Breweries\",\"icon\":{\"prefix\":\"https://ss3.4sqi.net/img/categories_v2/food/brewery_\",\"suffix\":\".png\"}}],\"chains\":[],\"closed_bucket\":\"LikelyOpen\",\"distance\":619,\"geocodes\":{\"main\":{\"latitude\":47.608331,\"longitude\":-122.341567},\"roof\":{\"latitude\":47.608331,\"longitude\":-122.341567}},\"link\":\"/v3/places/595c0cb5123a195de691c5ea\",\"location\":{\"address\":\"1501 Western Ave\",\"census_block\":\"530330081011005\",\"country\":\"US\",\"cross_street\":\"\",\"dma\":\"Seattle-Tacoma\",\"formatted_address\":\"1501 Western Ave, Seattle, WA 98101\",\"locality\":\"Seattle\",\"postcode\":\"98101\",\"region\":\"WA\"},\"name\":\"Old Stove Brewing Company\",\"related_places\":{\"parent\":{\"fsq_id\":\"5924a2743149b933a0bba7b4\",\"categories\":[{\"id\":16000,\"name\":\"Landmarks and Outdoors\",\"short_name\":\"Landmarks and Outdoors\",\"plural_name\":\"Landmarks and Outdoors\",\"icon\":{\"prefix\":\"https://ss3.4sqi.net/img/categories_v2/parks_outdoors/default_\",\"suffix\":\".png\"}}],\"name\":\"The MarketFront\"}},\"timezone\":\"America/Los_Angeles\"},{\"fsq_id\":\"49e7ab3df964a520ff641fe3\",\"categories\":[{\"id\":13068,\"name\":\"American Restaurant\",\"short_name\":\"American\",\"plural_name\":\"American Restaurants\",\"icon\":{\"prefix\":\"https://ss3.4sqi.net/img/categories_v2/food/default_\",\"suffix\":\".png\"}},{\"id\":13338,\"name\":\"Seafood Restaurant\",\"short_name\":\"Seafood\",\"plural_name\":\"Seafood Restaurants\",\"icon\":{\"prefix\":\"https://ss3.4sqi.net/img/categories_v2/food/seafood_\",\"suffix\":\".png\"}}],\"chains\":[],\"closed_bucket\":\"LikelyOpen\",\"distance\":626,\"geocodes\":{\"main\":{\"latitude\":47.605993,\"longitude\":-122.341159},\"roof\":{\"latitude\":47.605993,\"longitude\":-122.341159}},\"link\":\"/v3/places/49e7ab3df964a520ff641fe3\",\"location\":{\"address\":\"1301 Alaskan Way\",\"census_block\":\"530330081013017\",\"country\":\"US\",\"cross_street\":\"at Pier 57\",\"dma\":\"Seattle-Tacoma\",\"formatted_address\":\"1301 Alaskan Way (at Pier 57), Seattle, WA 98101\",\"locality\":\"Seattle\",\"postcode\":\"98101\",\"region\":\"WA\"},\"name\":\"The Crab Pot\",\"related_places\":{\"parent\":{\"fsq_id\":\"4bb535b06edc76b017722f1c\",\"categories\":[{\"id\":10000,\"name\":\"Arts and Entertainment\",\"short_name\":\"Arts & Entertainment\",\"plural_name\":\"Arts and Entertainment\",\"icon\":{\"prefix\":\"https://ss3.4sqi.net/img/categories_v2/arts_entertainment/default_\",\"suffix\":\".png\"}}],\"name\":\"Miners Landing\"}},\"timezone\":\"America/Los_Angeles\"},{\"fsq_id\":\"5e5acc79b4f57300088c7f62\",\"categories\":[{\"id\":13003,\"name\":\"Bar\",\"short_name\":\"Bar\",\"plural_name\":\"Bars\",\"icon\":{\"prefix\":\"https://ss3.4sqi.net/img/categories_v2/nightlife/pub_\",\"suffix\":\".png\"}},{\"id\":13064,\"name\":\"Pizzeria\",\"short_name\":\"Pizza\",\"plural_name\":\"Pizzerias\",\"icon\":{\"prefix\":\"https://ss3.4sqi.net/img/categories_v2/food/pizza_\",\"suffix\":\".png\"}}],\"chains\":[],\"closed_bucket\":\"VeryLikelyOpen\",\"distance\":632,\"geocodes\":{\"main\":{\"latitude\":47.610862,\"longitude\":-122.344782},\"roof\":{\"latitude\":47.610862,\"longitude\":-122.344782}},\"link\":\"/v3/places/5e5acc79b4f57300088c7f62\",\"location\":{\"address\":\"2003 Western Ave\",\"census_block\":\"530330081011005\",\"country\":\"US\",\"cross_street\":\"Lenora\",\"dma\":\"Seattle-Tacoma\",\"formatted_address\":\"2003 Western Ave (Lenora), Seattle, WA 98121\",\"locality\":\"Seattle\",\"postcode\":\"98121\",\"region\":\"WA\"},\"name\":\"Locust Cider & Brewing Co.\",\"related_places\":{\"children\":[{\"fsq_id\":\"5f3957a42447bd0cbb52a6d3\",\"categories\":[{\"id\":13035,\"name\":\"Coffee Shop\",\"short_name\":\"Coffee Shop\",\"plural_name\":\"Coffee Shops\",\"icon\":{\"prefix\":\"https://ss3.4sqi.net/img/categories_v2/food/coffeeshop_\",\"suffix\":\".png\"}}],\"name\":\"Anchorhead Coffee\"}]},\"timezone\":\"America/Los_Angeles\"},{\"fsq_id\":\"4158a980f964a5203b1d1fe3\",\"categories\":[{\"id\":13338,\"name\":\"Seafood Restaurant\",\"short_name\":\"Seafood\",\"plural_name\":\"Seafood Restaurants\",\"icon\":{\"prefix\":\"https://ss3.4sqi.net/img/categories_v2/food/seafood_\",\"suffix\":\".png\"}}],\"chains\":[],\"closed_bucket\":\"Unsure\",\"distance\":646,\"geocodes\":{\"main\":{\"latitude\":47.610873,\"longitude\":-122.343985},\"roof\":{\"latitude\":47.610873,\"longitude\":-122.343985}},\"link\":\"/v3/places/4158a980f964a5203b1d1fe3\",\"location\":{\"address\":\"2020 Western Ave\",\"address_extended\":\"2020 Western Ave.\",\"census_block\":\"530330080021003\",\"country\":\"US\",\"cross_street\":\"btwn Lenora & Virginia\",\"dma\":\"Seattle-Tacoma\",\"formatted_address\":\"2020 Western Ave (btwn Lenora & Virginia), Seattle, WA 98121\",\"locality\":\"Seattle\",\"postcode\":\"98121\",\"region\":\"WA\"},\"name\":\"Ettas Seafoods\",\"related_places\":{},\"timezone\":\"America/Los_Angeles\"},{\"fsq_id\":\"4a11c309f964a52041771fe3\",\"categories\":[{\"id\":17000,\"name\":\"Retail\",\"short_name\":\"Retail\",\"plural_name\":\"Retail\",\"icon\":{\"prefix\":\"https://ss3.4sqi.net/img/categories_v2/shops/default_\",\"suffix\":\".png\"}}],\"chains\":[{\"id\":\"162722cb-2994-4a6a-9a35-35f9c53cbacf\",\"name\":\"Cost Plus World Market\"}],\"closed_bucket\":\"VeryLikelyOpen\",\"distance\":648,\"geocodes\":{\"drop_off\":{\"latitude\":47.611164,\"longitude\":-122.345225},\"front_door\":{\"latitude\":47.611174,\"longitude\":-122.345043},\"main\":{\"latitude\":47.611174,\"longitude\":-122.345043},\"roof\":{\"latitude\":47.611169,\"longitude\":-122.345283}},\"link\":\"/v3/places/4a11c309f964a52041771fe3\",\"location\":{\"address\":\"2103 Western Ave\",\"census_block\":\"530330080022006\",\"country\":\"US\",\"cross_street\":\"\",\"dma\":\"Seattle-Tacoma\",\"formatted_address\":\"2103 Western Ave, Seattle, WA 98121\",\"locality\":\"Seattle\",\"postcode\":\"98121\",\"region\":\"WA\"},\"name\":\"Cost Plus World Market\",\"related_places\":{},\"timezone\":\"America/Los_Angeles\"}],\"context\":{\"geo_bounds\":{\"circle\":{\"center\":{\"latitude\":47.606,\"longitude\":-122.349358},\"radius\":1000}}}}\n"
     ]
    }
   ],
   "source": [
    "# Call the function to get the response\n",
    "response = getDetails()\n",
    "\n",
    "# Print the response text\n",
    "print(response.text)"
   ]
  },
  {
   "cell_type": "markdown",
   "metadata": {},
   "source": [
    "Parse through the response to get the POI (such as restaurants, bars, etc) details you want (ratings, name, location, etc)"
   ]
  },
  {
   "cell_type": "code",
   "execution_count": 17,
   "metadata": {},
   "outputs": [
    {
     "name": "stdout",
     "output_type": "stream",
     "text": [
      "                         Name                                 Categories  \\\n",
      "0         Seattle Great Wheel                           [Amusement Park]   \n",
      "1       Seattle Aquarium Cafe                                     [Café]   \n",
      "2            Seattle Aquarium                                 [Aquarium]   \n",
      "3   Marriott Hotels & Resorts                                    [Hotel]   \n",
      "4    Alaskan Sourdough Bakery              [Bakery, Deli, Sandwich Spot]   \n",
      "5   Old Stove Brewing Company                                  [Brewery]   \n",
      "6                The Crab Pot  [American Restaurant, Seafood Restaurant]   \n",
      "7  Locust Cider & Brewing Co.                            [Bar, Pizzeria]   \n",
      "8              Ettas Seafoods                       [Seafood Restaurant]   \n",
      "9      Cost Plus World Market                                   [Retail]   \n",
      "\n",
      "                                            Location  \n",
      "0  {'address': '1301 Alaskan Way', 'census_block'...  \n",
      "1  {'address': '1483 Alaskan Way', 'census_block'...  \n",
      "2  {'address': '1483 Alaskan Way', 'census_block'...  \n",
      "3  {'address': '2100 Alaskan Way', 'address_exten...  \n",
      "4  {'address': '1301 Alaskan Way', 'census_block'...  \n",
      "5  {'address': '1501 Western Ave', 'census_block'...  \n",
      "6  {'address': '1301 Alaskan Way', 'census_block'...  \n",
      "7  {'address': '2003 Western Ave', 'census_block'...  \n",
      "8  {'address': '2020 Western Ave', 'address_exten...  \n",
      "9  {'address': '2103 Western Ave', 'census_block'...  \n"
     ]
    }
   ],
   "source": [
    "# Parse the JSON string\n",
    "data = json.loads(response.text)\n",
    "\n",
    "#Create an empty list\n",
    "poi_data = []\n",
    "\n",
    "# Extracting key information\n",
    "\n",
    "for result in data['results']:\n",
    "    name = result['name']\n",
    "    categories = [category['name'] for category in result['categories']]\n",
    "    location = result['location']\n",
    "\n",
    "    # Append data to the list\n",
    "    poi_data.append({\n",
    "        'Name': name,\n",
    "        'Categories': categories,\n",
    "        'Location': location\n",
    "    })\n",
    "\n",
    "# Create a DataFrame from the list of dictionaries\n",
    "df = pd.DataFrame(poi_data)\n",
    "\n",
    "# Display the DataFrame\n",
    "print(df)\n"
   ]
  },
  {
   "cell_type": "markdown",
   "metadata": {},
   "source": [
    "Put your parsed results into a DataFrame"
   ]
  },
  {
   "cell_type": "markdown",
   "metadata": {},
   "source": [
    "# Yelp"
   ]
  },
  {
   "cell_type": "markdown",
   "metadata": {},
   "source": [
    "Send a request to Yelp with a small radius (1000m) for all the bike stations in your city of choice. "
   ]
  },
  {
   "cell_type": "code",
   "execution_count": 27,
   "metadata": {},
   "outputs": [
    {
     "name": "stdout",
     "output_type": "stream",
     "text": [
      "Failed to get 'YELP_API_KEY' from environment variables.\n",
      "{\"error\": {\"code\": \"VALIDATION_ERROR\", \"description\": \"'Bearer None' does not match '^(?i)Bearer [A-Za-z0-9\\\\\\\\-\\\\\\\\_]{128}$'\", \"field\": \"Authorization\", \"instance\": \"Bearer None\"}}\n"
     ]
    }
   ],
   "source": [
    "YELP_KEY = os.getenv('YELP_API_KEY')\n",
    "#with help from Larry API to add \"bearer\" to auth\n",
    "# Ensure that the API key is actually being fetched from environment variables\n",
    "if YELP_KEY is None:\n",
    "    print(\"Failed to get 'YELP_API_KEY' from environment variables.\")\n",
    "    exit(1)  # Stops the script if the API key is not available\n",
    "\n",
    "url = \"https://api.yelp.com/v3/businesses/search?sort_by=best_match&limit=20\"\n",
    "\n",
    "# The API key needs to be prefixed with 'Bearer ' as per OAuth 2.0 standards\n",
    "headers = {\n",
    "    \"Accept\": \"application/json\",\n",
    "    \"Authorization\": f\"Bearer {YELP_KEY}\"\n",
    "}\n",
    "\n",
    "response = requests.get(url, headers=headers)\n",
    "\n",
    "print(response.text)"
   ]
  },
  {
   "cell_type": "markdown",
   "metadata": {},
   "source": [
    "Parse through the response to get the POI (such as restaurants, bars, etc) details you want (ratings, name, location, etc)"
   ]
  },
  {
   "cell_type": "code",
   "execution_count": 34,
   "metadata": {},
   "outputs": [
    {
     "name": "stdout",
     "output_type": "stream",
     "text": [
      "{'businesses': [{'id': 'vDHQ2-Jx08UqEh9yYw9AyQ', 'alias': 'toronto-bicycle-tours-toronto', 'name': 'Toronto Bicycle Tours', 'image_url': 'https://s3-media2.fl.yelpcdn.com/bphoto/qlE6w2LGHj0qaj0sl-9e3Q/o.jpg', 'is_closed': False, 'url': 'https://www.yelp.com/biz/toronto-bicycle-tours-toronto?adjust_creative=3tCkQZtuSUfDUi7IC68EDw&utm_campaign=yelp_api_v3&utm_medium=api_v3_business_search&utm_source=3tCkQZtuSUfDUi7IC68EDw', 'review_count': 31, 'categories': [{'alias': 'bikerentals', 'title': 'Bike Rentals'}, {'alias': 'biketours', 'title': 'Bike tours'}], 'rating': 5.0, 'coordinates': {'latitude': 43.6543007, 'longitude': -79.3904114}, 'transactions': [], 'location': {'address1': '275 Dundas Street  W', 'address2': None, 'address3': '', 'city': 'Toronto', 'zip_code': 'M5T 3K1', 'country': 'CA', 'state': 'ON', 'display_address': ['275 Dundas Street  W', 'Toronto, ON M5T 3K1', 'Canada']}, 'phone': '+14164772184', 'display_phone': '+1 416-477-2184', 'distance': 2268.494886146885}, {'id': 'opvd8U6pD7UBMi05zvFOTQ', 'alias': 'curbside-cycle-toronto', 'name': 'Curbside Cycle', 'image_url': 'https://s3-media2.fl.yelpcdn.com/bphoto/fD1bANCHmhI4wip797Z4yg/o.jpg', 'is_closed': False, 'url': 'https://www.yelp.com/biz/curbside-cycle-toronto?adjust_creative=3tCkQZtuSUfDUi7IC68EDw&utm_campaign=yelp_api_v3&utm_medium=api_v3_business_search&utm_source=3tCkQZtuSUfDUi7IC68EDw', 'review_count': 54, 'categories': [{'alias': 'bikes', 'title': 'Bikes'}, {'alias': 'bikerentals', 'title': 'Bike Rentals'}, {'alias': 'bike_repair_maintenance', 'title': 'Bike Repair/Maintenance'}], 'rating': 4.0, 'coordinates': {'latitude': 43.66602, 'longitude': -79.40809}, 'transactions': [], 'price': '$$', 'location': {'address1': '412 Bloor Street W', 'address2': '', 'address3': '', 'city': 'Toronto', 'zip_code': 'M5S 1X5', 'country': 'CA', 'state': 'ON', 'display_address': ['412 Bloor Street W', 'Toronto, ON M5S 1X5', 'Canada']}, 'phone': '+14169204933', 'display_phone': '+1 416-920-4933', 'distance': 1300.5313881649076}, {'id': 'ZbqOJzVWEtmuC4tkNygAxQ', 'alias': 'gears-bike-shop-toronto-2', 'name': 'Gears Bike Shop', 'image_url': 'https://s3-media1.fl.yelpcdn.com/bphoto/3QBdQXayQZaGfYCFftFbkQ/o.jpg', 'is_closed': False, 'url': 'https://www.yelp.com/biz/gears-bike-shop-toronto-2?adjust_creative=3tCkQZtuSUfDUi7IC68EDw&utm_campaign=yelp_api_v3&utm_medium=api_v3_business_search&utm_source=3tCkQZtuSUfDUi7IC68EDw', 'review_count': 11, 'categories': [{'alias': 'bikes', 'title': 'Bikes'}, {'alias': 'bike_repair_maintenance', 'title': 'Bike Repair/Maintenance'}, {'alias': 'bikerentals', 'title': 'Bike Rentals'}], 'rating': 4.0, 'coordinates': {'latitude': 43.65684774129787, 'longitude': -79.35585924926698}, 'transactions': [], 'price': '$$', 'location': {'address1': '599 King Street E', 'address2': '', 'address3': '', 'city': 'Toronto', 'zip_code': 'M5A 0E9', 'country': 'CA', 'state': 'ON', 'display_address': ['599 King Street E', 'Toronto, ON M5A 0E9', 'Canada']}, 'phone': '+14168554327', 'display_phone': '+1 416-855-4327', 'distance': 3822.7548868258327}], 'total': 3, 'region': {'center': {'longitude': -79.39682006835938, 'latitude': 43.67428196976998}}}\n"
     ]
    }
   ],
   "source": [
    "import requests\n",
    "\n",
    "# Replace 'YOUR_YELP_API_KEY' with your actual Yelp API key\n",
    "YELP_API_KEY = 'Vmas7VzYKLED8wRB3B5pHdUeysLWVR6RIc8E1CI3Or1iEmzb0QAhxCVXjgyr5tPZpiiIhotKbZW_kvfHKu5UDpfzKjGfQ4tfUk6L0cB9UAG6NpkmVkScBJSMiQ5xZXYx'\n",
    "YELP_CLIENT_ID = '3tCkQZtuSUfDUi7IC68EDw'\n",
    "url = \"https://api.yelp.com/v3/businesses/search\"\n",
    "\n",
    "headers = {\n",
    "    \"Authorization\": f\"Bearer {YELP_API_KEY}\",\n",
    "}\n",
    "\n",
    "params = {\n",
    "    \"term\": \"bike rental\",\n",
    "    \"location\": \"Toronto\",\n",
    "    \"radius\": 1000,\n",
    "    \"limit\": 10,\n",
    "    \"client_id\": YELP_CLIENT_ID,\n",
    "}\n",
    "\n",
    "response = requests.get(url, headers=headers, params=params)\n",
    "\n",
    "if response.status_code == 200:\n",
    "    print(response.json())\n",
    "else:\n",
    "    print(f\"Failed to get data. Status code: {response.status_code}, Error: {response.text}\")\n"
   ]
  },
  {
   "cell_type": "markdown",
   "metadata": {},
   "source": [
    "Put your parsed results into a DataFrame"
   ]
  },
  {
   "cell_type": "markdown",
   "metadata": {},
   "source": []
  },
  {
   "cell_type": "markdown",
   "metadata": {},
   "source": [
    "# Comparing Results"
   ]
  },
  {
   "cell_type": "markdown",
   "metadata": {},
   "source": [
    "Which API provided you with more complete data? Provide an explanation. "
   ]
  },
  {
   "cell_type": "markdown",
   "metadata": {},
   "source": []
  },
  {
   "cell_type": "markdown",
   "metadata": {},
   "source": [
    "Get the top 10 restaurants according to their rating"
   ]
  },
  {
   "cell_type": "code",
   "execution_count": null,
   "metadata": {},
   "outputs": [],
   "source": []
  }
 ],
 "metadata": {
  "kernelspec": {
   "display_name": "Python 3 (ipykernel)",
   "language": "python",
   "name": "python3"
  },
  "language_info": {
   "codemirror_mode": {
    "name": "ipython",
    "version": 3
   },
   "file_extension": ".py",
   "mimetype": "text/x-python",
   "name": "python",
   "nbconvert_exporter": "python",
   "pygments_lexer": "ipython3",
   "version": "3.9.18"
  }
 },
 "nbformat": 4,
 "nbformat_minor": 4
}
