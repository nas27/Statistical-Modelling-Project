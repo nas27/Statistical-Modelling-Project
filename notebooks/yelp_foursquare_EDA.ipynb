{
 "cells": [
  {
   "cell_type": "code",
   "execution_count": 19,
   "metadata": {},
   "outputs": [],
   "source": [
    "import pandas as pd\n",
    "import os #env variables\n",
    "import requests #call the APIs\n",
    "import json\n",
    "from IPython.display import JSON"
   ]
  },
  {
   "cell_type": "markdown",
   "metadata": {},
   "source": [
    "# Foursquare"
   ]
  },
  {
   "cell_type": "markdown",
   "metadata": {},
   "source": [
    "Send a request to Foursquare with a small radius (1000m) for all the bike stations in your city of choice. "
   ]
  },
  {
   "cell_type": "code",
   "execution_count": 20,
   "metadata": {},
   "outputs": [],
   "source": [
    "FOURSQUARE_KEY = os.getenv('FOURSQUARE_API_KEY')"
   ]
  },
  {
   "cell_type": "code",
   "execution_count": 21,
   "metadata": {},
   "outputs": [],
   "source": [
    "csv_file_path = '..\\data\\df_bikes.csv'\n",
    "\n",
    "# Read the CSV file into a DataFrame\n",
    "df_bikes = pd.read_csv(csv_file_path)"
   ]
  },
  {
   "cell_type": "code",
   "execution_count": 22,
   "metadata": {},
   "outputs": [
    {
     "data": {
      "text/html": [
       "<div>\n",
       "<style scoped>\n",
       "    .dataframe tbody tr th:only-of-type {\n",
       "        vertical-align: middle;\n",
       "    }\n",
       "\n",
       "    .dataframe tbody tr th {\n",
       "        vertical-align: top;\n",
       "    }\n",
       "\n",
       "    .dataframe thead th {\n",
       "        text-align: right;\n",
       "    }\n",
       "</style>\n",
       "<table border=\"1\" class=\"dataframe\">\n",
       "  <thead>\n",
       "    <tr style=\"text-align: right;\">\n",
       "      <th></th>\n",
       "      <th>Station_No</th>\n",
       "      <th>Station_ID</th>\n",
       "      <th>City</th>\n",
       "      <th>Bike_Lat</th>\n",
       "      <th>Bike_Lon</th>\n",
       "      <th>Free_Bikes</th>\n",
       "      <th>Empty_Slots</th>\n",
       "      <th>Total_Bikes</th>\n",
       "    </tr>\n",
       "  </thead>\n",
       "  <tbody>\n",
       "    <tr>\n",
       "      <th>0</th>\n",
       "      <td>0</td>\n",
       "      <td>d0e8f4f1834b7b33a3faf8882f567ab8</td>\n",
       "      <td>San Francisco Bay Area, CA</td>\n",
       "      <td>37.849735</td>\n",
       "      <td>-122.270582</td>\n",
       "      <td>1</td>\n",
       "      <td>14</td>\n",
       "      <td>15</td>\n",
       "    </tr>\n",
       "    <tr>\n",
       "      <th>1</th>\n",
       "      <td>1</td>\n",
       "      <td>983514094dd808b1604da2dcfc2d09af</td>\n",
       "      <td>San Francisco Bay Area, CA</td>\n",
       "      <td>37.336188</td>\n",
       "      <td>-121.889277</td>\n",
       "      <td>6</td>\n",
       "      <td>5</td>\n",
       "      <td>11</td>\n",
       "    </tr>\n",
       "    <tr>\n",
       "      <th>2</th>\n",
       "      <td>2</td>\n",
       "      <td>da17603652106fda93da4e255a5b0a22</td>\n",
       "      <td>San Francisco Bay Area, CA</td>\n",
       "      <td>37.322125</td>\n",
       "      <td>-121.881090</td>\n",
       "      <td>16</td>\n",
       "      <td>7</td>\n",
       "      <td>23</td>\n",
       "    </tr>\n",
       "    <tr>\n",
       "      <th>3</th>\n",
       "      <td>3</td>\n",
       "      <td>7a21c92b3b4cd2f7759107b4fdebf869</td>\n",
       "      <td>San Francisco Bay Area, CA</td>\n",
       "      <td>37.323678</td>\n",
       "      <td>-121.874119</td>\n",
       "      <td>7</td>\n",
       "      <td>7</td>\n",
       "      <td>14</td>\n",
       "    </tr>\n",
       "    <tr>\n",
       "      <th>4</th>\n",
       "      <td>4</td>\n",
       "      <td>ce34d38fb230a23c1ced12d1e16df294</td>\n",
       "      <td>San Francisco Bay Area, CA</td>\n",
       "      <td>37.325998</td>\n",
       "      <td>-121.877120</td>\n",
       "      <td>4</td>\n",
       "      <td>23</td>\n",
       "      <td>27</td>\n",
       "    </tr>\n",
       "  </tbody>\n",
       "</table>\n",
       "</div>"
      ],
      "text/plain": [
       "   Station_No                        Station_ID                        City  \\\n",
       "0           0  d0e8f4f1834b7b33a3faf8882f567ab8  San Francisco Bay Area, CA   \n",
       "1           1  983514094dd808b1604da2dcfc2d09af  San Francisco Bay Area, CA   \n",
       "2           2  da17603652106fda93da4e255a5b0a22  San Francisco Bay Area, CA   \n",
       "3           3  7a21c92b3b4cd2f7759107b4fdebf869  San Francisco Bay Area, CA   \n",
       "4           4  ce34d38fb230a23c1ced12d1e16df294  San Francisco Bay Area, CA   \n",
       "\n",
       "    Bike_Lat    Bike_Lon  Free_Bikes  Empty_Slots  Total_Bikes  \n",
       "0  37.849735 -122.270582           1           14           15  \n",
       "1  37.336188 -121.889277           6            5           11  \n",
       "2  37.322125 -121.881090          16            7           23  \n",
       "3  37.323678 -121.874119           7            7           14  \n",
       "4  37.325998 -121.877120           4           23           27  "
      ]
     },
     "execution_count": 22,
     "metadata": {},
     "output_type": "execute_result"
    }
   ],
   "source": [
    "df_bikes.head()"
   ]
  },
  {
   "cell_type": "code",
   "execution_count": 17,
   "metadata": {},
   "outputs": [],
   "source": [
    "# This method accepts a station no/id from bike data\n",
    "def getDetails(no,id,lat,long):\n",
    "    url = \"https://api.foursquare.com/v3/places/search\"\n",
    "    params = {\n",
    "        \"query\": \"bars\",\n",
    "        \"ll\": f\"{lat},{long}\",  # Using latitude and longitude from the CityBikes df\n",
    "        \"radius\": \"1000\",\n",
    "        \"sort\": \"DISTANCE\",\n",
    "        #Grab 5 closest POIs per bike station\n",
    "        'limit': 5\n",
    "    }\n",
    "\n",
    "    headers = {\n",
    "        \"Accept\": \"application/json\",\n",
    "        \"Authorization\": FOURSQUARE_KEY\n",
    "    }\n",
    "\n",
    "    # API request\n",
    "    response = requests.get(url, params=params, headers=headers)\n",
    "    # Parse the JSON response\n",
    "    data = response.json().get(\"results\", [])\n",
    "    \n",
    "    # Extracting relevant data\n",
    "    poi_data = []\n",
    "    for result in data:\n",
    "        name = result['name']\n",
    "        distance = result['distance']\n",
    "        poi_data.append([no,id, lat, long, name, distance])\n",
    "    \n",
    "    \n",
    "    return poi_data"
   ]
  },
  {
   "cell_type": "code",
   "execution_count": 8,
   "metadata": {},
   "outputs": [],
   "source": [
    "#Get Fsq data foreach lat/long\n",
    "foursquare_data = []\n",
    "for _, row in df_bikes.iterrows():\n",
    "    foursquare_data.extend(getDetails(row[\"Station_No\"],row[\"Station_ID\"],row[\"Bike_Lat\"], row[\"Bike_Lon\"]))"
   ]
  },
  {
   "cell_type": "markdown",
   "metadata": {},
   "source": [
    "Parse through the response to get the POI (such as restaurants, bars, etc) details you want (ratings, name, location, etc)"
   ]
  },
  {
   "cell_type": "markdown",
   "metadata": {},
   "source": [
    "Put your parsed results into a DataFrame"
   ]
  },
  {
   "cell_type": "code",
   "execution_count": 12,
   "metadata": {},
   "outputs": [],
   "source": [
    "# Create a FSQ dataframe\n",
    "df_fsq = pd.DataFrame(foursquare_data, columns=[\"Station_No\",\"Station_ID\", \"Bike_Lat\", \"Bike_Lon\", \"name\", \"distance\"])"
   ]
  },
  {
   "cell_type": "code",
   "execution_count": 10,
   "metadata": {},
   "outputs": [],
   "source": [
    "# Display or save/export the dataframe as needed\n",
    "df_fsq.to_csv('..\\data\\df_fsq.csv', index=False)"
   ]
  },
  {
   "cell_type": "code",
   "execution_count": null,
   "metadata": {},
   "outputs": [],
   "source": [
    "df_fsq.head()"
   ]
  },
  {
   "cell_type": "markdown",
   "metadata": {},
   "source": [
    "# Yelp"
   ]
  },
  {
   "cell_type": "markdown",
   "metadata": {},
   "source": [
    "Send a request to Yelp with a small radius (1000m) for all the bike stations in your city of choice. "
   ]
  },
  {
   "cell_type": "markdown",
   "metadata": {},
   "source": [
    "Parse through the response to get the POI (such as restaurants, bars, etc) details you want (ratings, name, location, etc)"
   ]
  },
  {
   "cell_type": "code",
   "execution_count": 23,
   "metadata": {
    "scrolled": true
   },
   "outputs": [],
   "source": [
    "YELP_API_KEY = os.getenv('YELP_API_KEY')\n",
    "YELP_CLIENT_ID = os.getenv('YELP_CLIENT_ID')"
   ]
  },
  {
   "cell_type": "code",
   "execution_count": 25,
   "metadata": {},
   "outputs": [],
   "source": [
    "# Yelp data for each latitude and longitude pertaining to each bike station\n",
    "def getYelpDetails(no, id, lat, long):\n",
    "    yelp_url = \"https://api.yelp.com/v3/businesses/search\"\n",
    "\n",
    "    headers = {\n",
    "        \"Authorization\": f\"Bearer {YELP_API_KEY}\",\n",
    "    }\n",
    "\n",
    "    params = {\n",
    "        \"term\": \"restaurant\",\n",
    "        \"radius\": 1000,\n",
    "        #This limit is due to Free API tier -  HTTP 429 Too Many Requests\n",
    "        \"limit\": 3,\n",
    "        \"sort_by\": \"distance\"\n",
    "    }\n",
    "\n",
    "    url = yelp_url\n",
    "\n",
    "    # Add latitude and longitude to the params dictionary\n",
    "    params[\"latitude\"] = lat\n",
    "    params[\"longitude\"] = long\n",
    "\n",
    "    response = requests.get(url, params=params, headers=headers)\n",
    "\n",
    "    # Check the response status code\n",
    "    if response.status_code != 200:\n",
    "        print(f\"Warning: Yelp API request failed with status code {response.status_code}\")\n",
    "        return []\n",
    "\n",
    "    pois = response.json().get(\"businesses\", [])\n",
    "   \n",
    "    extracted_data = []\n",
    "\n",
    "    for poi in pois:\n",
    "        name = poi[\"name\"]\n",
    "        review_count = poi[\"review_count\"]\n",
    "        categories = ', '.join([category[\"title\"] for category in poi[\"categories\"]])\n",
    "        rating = poi[\"rating\"]\n",
    "        distance = poi[\"distance\"]\n",
    "\n",
    "        extracted_data.append([no, id, lat, long, name, review_count, categories, rating, distance])\n",
    "\n",
    "    return extracted_data "
   ]
  },
  {
   "cell_type": "code",
   "execution_count": null,
   "metadata": {},
   "outputs": [],
   "source": [
    "# Yelp data for each set of latitude and longitude\n",
    "yelp_data = []\n",
    "for _, row in df_bikes.iterrows():\n",
    "    yelp_data.extend(getYelpDetails(row[\"Station_No\"], row[\"Station_ID\"], row[\"Bike_Lat\"], row[\"Bike_Lon\"]))"
   ]
  },
  {
   "cell_type": "code",
   "execution_count": 37,
   "metadata": {},
   "outputs": [
    {
     "name": "stdout",
     "output_type": "stream",
     "text": [
      "[0, 'd0e8f4f1834b7b33a3faf8882f567ab8', 37.849735, -122.270582, 'The Fat Fish', 190, 'Fish & Chips', 4.0, 29.9305557971102]\n",
      "[0, 'd0e8f4f1834b7b33a3faf8882f567ab8', 37.849735, -122.270582, 'El Tiny Cafe', 57, 'Cafes', 5.0, 31.707767038858425]\n",
      "[0, 'd0e8f4f1834b7b33a3faf8882f567ab8', 37.849735, -122.270582, '808 deli and cafe', 0, 'Delis', 0.0, 79.03748686104271]\n",
      "[1, '983514094dd808b1604da2dcfc2d09af', 37.33618830029063, -121.8892765045166, 'Scratch Cookery', 495, 'Food Trucks, Chicken Shop', 4.5, 28.365905869786513]\n",
      "[1, '983514094dd808b1604da2dcfc2d09af', 37.33618830029063, -121.8892765045166, 'Goodtime Bar', 73, 'Wine Bars, Tapas/Small Plates, Seafood', 5.0, 33.119119462517794]\n",
      "[1, '983514094dd808b1604da2dcfc2d09af', 37.33618830029063, -121.8892765045166, 'CommonGrounds Workspace', 2, 'Shared Office Spaces, Venues & Event Spaces, Cafes', 3.5, 39.069892422608945]\n"
     ]
    }
   ],
   "source": [
    "# Spot check list\n",
    "for i in range(6):\n",
    "    print(yelp_data[i])"
   ]
  },
  {
   "cell_type": "markdown",
   "metadata": {},
   "source": [
    "Put your parsed results into a DataFrame"
   ]
  },
  {
   "cell_type": "code",
   "execution_count": 38,
   "metadata": {},
   "outputs": [],
   "source": [
    "df_yelp = pd.DataFrame(yelp_data, columns=[\"Station_No\",\"Station_ID\", \"Bike_Lat\", \"Bike_Long\", \"name\", \"review_count\", \"categories\", \"rating\",\"distance\"])\n",
    "# Export the dataframe\n",
    "df_yelp.to_csv('..\\data\\df_yelp.csv', index=False)"
   ]
  },
  {
   "cell_type": "code",
   "execution_count": 39,
   "metadata": {},
   "outputs": [
    {
     "data": {
      "text/html": [
       "<div>\n",
       "<style scoped>\n",
       "    .dataframe tbody tr th:only-of-type {\n",
       "        vertical-align: middle;\n",
       "    }\n",
       "\n",
       "    .dataframe tbody tr th {\n",
       "        vertical-align: top;\n",
       "    }\n",
       "\n",
       "    .dataframe thead th {\n",
       "        text-align: right;\n",
       "    }\n",
       "</style>\n",
       "<table border=\"1\" class=\"dataframe\">\n",
       "  <thead>\n",
       "    <tr style=\"text-align: right;\">\n",
       "      <th></th>\n",
       "      <th>Station_No</th>\n",
       "      <th>Station_ID</th>\n",
       "      <th>Bike_Lat</th>\n",
       "      <th>Bike_Long</th>\n",
       "      <th>name</th>\n",
       "      <th>review_count</th>\n",
       "      <th>categories</th>\n",
       "      <th>rating</th>\n",
       "      <th>distance</th>\n",
       "    </tr>\n",
       "  </thead>\n",
       "  <tbody>\n",
       "    <tr>\n",
       "      <th>0</th>\n",
       "      <td>0</td>\n",
       "      <td>d0e8f4f1834b7b33a3faf8882f567ab8</td>\n",
       "      <td>37.849735</td>\n",
       "      <td>-122.270582</td>\n",
       "      <td>The Fat Fish</td>\n",
       "      <td>190</td>\n",
       "      <td>Fish &amp; Chips</td>\n",
       "      <td>4.0</td>\n",
       "      <td>29.930556</td>\n",
       "    </tr>\n",
       "    <tr>\n",
       "      <th>1</th>\n",
       "      <td>0</td>\n",
       "      <td>d0e8f4f1834b7b33a3faf8882f567ab8</td>\n",
       "      <td>37.849735</td>\n",
       "      <td>-122.270582</td>\n",
       "      <td>El Tiny Cafe</td>\n",
       "      <td>57</td>\n",
       "      <td>Cafes</td>\n",
       "      <td>5.0</td>\n",
       "      <td>31.707767</td>\n",
       "    </tr>\n",
       "    <tr>\n",
       "      <th>2</th>\n",
       "      <td>0</td>\n",
       "      <td>d0e8f4f1834b7b33a3faf8882f567ab8</td>\n",
       "      <td>37.849735</td>\n",
       "      <td>-122.270582</td>\n",
       "      <td>808 deli and cafe</td>\n",
       "      <td>0</td>\n",
       "      <td>Delis</td>\n",
       "      <td>0.0</td>\n",
       "      <td>79.037487</td>\n",
       "    </tr>\n",
       "    <tr>\n",
       "      <th>3</th>\n",
       "      <td>1</td>\n",
       "      <td>983514094dd808b1604da2dcfc2d09af</td>\n",
       "      <td>37.336188</td>\n",
       "      <td>-121.889277</td>\n",
       "      <td>Scratch Cookery</td>\n",
       "      <td>495</td>\n",
       "      <td>Food Trucks, Chicken Shop</td>\n",
       "      <td>4.5</td>\n",
       "      <td>28.365906</td>\n",
       "    </tr>\n",
       "    <tr>\n",
       "      <th>4</th>\n",
       "      <td>1</td>\n",
       "      <td>983514094dd808b1604da2dcfc2d09af</td>\n",
       "      <td>37.336188</td>\n",
       "      <td>-121.889277</td>\n",
       "      <td>Goodtime Bar</td>\n",
       "      <td>73</td>\n",
       "      <td>Wine Bars, Tapas/Small Plates, Seafood</td>\n",
       "      <td>5.0</td>\n",
       "      <td>33.119119</td>\n",
       "    </tr>\n",
       "  </tbody>\n",
       "</table>\n",
       "</div>"
      ],
      "text/plain": [
       "   Station_No                        Station_ID   Bike_Lat   Bike_Long  \\\n",
       "0           0  d0e8f4f1834b7b33a3faf8882f567ab8  37.849735 -122.270582   \n",
       "1           0  d0e8f4f1834b7b33a3faf8882f567ab8  37.849735 -122.270582   \n",
       "2           0  d0e8f4f1834b7b33a3faf8882f567ab8  37.849735 -122.270582   \n",
       "3           1  983514094dd808b1604da2dcfc2d09af  37.336188 -121.889277   \n",
       "4           1  983514094dd808b1604da2dcfc2d09af  37.336188 -121.889277   \n",
       "\n",
       "                name  review_count                              categories  \\\n",
       "0       The Fat Fish           190                            Fish & Chips   \n",
       "1       El Tiny Cafe            57                                   Cafes   \n",
       "2  808 deli and cafe             0                                   Delis   \n",
       "3    Scratch Cookery           495               Food Trucks, Chicken Shop   \n",
       "4       Goodtime Bar            73  Wine Bars, Tapas/Small Plates, Seafood   \n",
       "\n",
       "   rating   distance  \n",
       "0     4.0  29.930556  \n",
       "1     5.0  31.707767  \n",
       "2     0.0  79.037487  \n",
       "3     4.5  28.365906  \n",
       "4     5.0  33.119119  "
      ]
     },
     "execution_count": 39,
     "metadata": {},
     "output_type": "execute_result"
    }
   ],
   "source": [
    "df_yelp.head()"
   ]
  },
  {
   "cell_type": "code",
   "execution_count": 40,
   "metadata": {},
   "outputs": [
    {
     "data": {
      "text/plain": [
       "Index(['Station_No', 'Station_ID', 'Bike_Lat', 'Bike_Long', 'name',\n",
       "       'review_count', 'categories', 'rating', 'distance'],\n",
       "      dtype='object')"
      ]
     },
     "execution_count": 40,
     "metadata": {},
     "output_type": "execute_result"
    }
   ],
   "source": [
    "df_yelp.columns"
   ]
  },
  {
   "cell_type": "code",
   "execution_count": 41,
   "metadata": {},
   "outputs": [
    {
     "data": {
      "text/plain": [
       "Station_No        int64\n",
       "Station_ID       object\n",
       "Bike_Lat        float64\n",
       "Bike_Long       float64\n",
       "name             object\n",
       "review_count      int64\n",
       "categories       object\n",
       "rating          float64\n",
       "distance        float64\n",
       "dtype: object"
      ]
     },
     "execution_count": 41,
     "metadata": {},
     "output_type": "execute_result"
    }
   ],
   "source": [
    "df_yelp.dtypes"
   ]
  },
  {
   "cell_type": "markdown",
   "metadata": {},
   "source": [
    "# Comparing Results"
   ]
  },
  {
   "cell_type": "markdown",
   "metadata": {},
   "source": [
    "Which API provided you with more complete data? Provide an explanation. "
   ]
  },
  {
   "cell_type": "markdown",
   "metadata": {},
   "source": [
    "They both were comparable in the data they provided. Foursquare focuses more on location data and Yelp has a more details on the Points of Interest based on ratings/customer reviews. However, Yelp also has some location info and data relative to one another which is useful. Depending on the use case you could select either or both."
   ]
  },
  {
   "cell_type": "markdown",
   "metadata": {},
   "source": [
    "Get the top 10 restaurants according to their rating"
   ]
  },
  {
   "cell_type": "markdown",
   "metadata": {},
   "source": [
    "Using the Yelp API below as it has ratings provided:"
   ]
  },
  {
   "cell_type": "code",
   "execution_count": 42,
   "metadata": {},
   "outputs": [],
   "source": [
    "top_10_resto = df_yelp.sort_values(by='rating', ascending=False)"
   ]
  },
  {
   "cell_type": "code",
   "execution_count": 43,
   "metadata": {},
   "outputs": [
    {
     "data": {
      "text/html": [
       "<div>\n",
       "<style scoped>\n",
       "    .dataframe tbody tr th:only-of-type {\n",
       "        vertical-align: middle;\n",
       "    }\n",
       "\n",
       "    .dataframe tbody tr th {\n",
       "        vertical-align: top;\n",
       "    }\n",
       "\n",
       "    .dataframe thead th {\n",
       "        text-align: right;\n",
       "    }\n",
       "</style>\n",
       "<table border=\"1\" class=\"dataframe\">\n",
       "  <thead>\n",
       "    <tr style=\"text-align: right;\">\n",
       "      <th></th>\n",
       "      <th>Station_No</th>\n",
       "      <th>Station_ID</th>\n",
       "      <th>Bike_Lat</th>\n",
       "      <th>Bike_Long</th>\n",
       "      <th>name</th>\n",
       "      <th>review_count</th>\n",
       "      <th>categories</th>\n",
       "      <th>rating</th>\n",
       "      <th>distance</th>\n",
       "    </tr>\n",
       "  </thead>\n",
       "  <tbody>\n",
       "    <tr>\n",
       "      <th>489</th>\n",
       "      <td>163</td>\n",
       "      <td>e69e4dce53bdbe1ffe17185ee72fdcae</td>\n",
       "      <td>37.858868</td>\n",
       "      <td>-122.291209</td>\n",
       "      <td>Tarocco</td>\n",
       "      <td>54</td>\n",
       "      <td>Mediterranean, Gluten-Free, Venues &amp; Event Spaces</td>\n",
       "      <td>5.0</td>\n",
       "      <td>27.210341</td>\n",
       "    </tr>\n",
       "    <tr>\n",
       "      <th>406</th>\n",
       "      <td>135</td>\n",
       "      <td>4a2e731c87e9a1e07ad0f5c8a91efd4b</td>\n",
       "      <td>37.866418</td>\n",
       "      <td>-122.253799</td>\n",
       "      <td>Pizzeria 1868</td>\n",
       "      <td>1</td>\n",
       "      <td>Pizza</td>\n",
       "      <td>5.0</td>\n",
       "      <td>228.298703</td>\n",
       "    </tr>\n",
       "    <tr>\n",
       "      <th>1321</th>\n",
       "      <td>440</td>\n",
       "      <td>7201ad6fe2a1e03ff9ea5749d84c354d</td>\n",
       "      <td>37.803030</td>\n",
       "      <td>-122.270496</td>\n",
       "      <td>Pierre Pierre</td>\n",
       "      <td>4</td>\n",
       "      <td>Cajun/Creole</td>\n",
       "      <td>5.0</td>\n",
       "      <td>22.369493</td>\n",
       "    </tr>\n",
       "    <tr>\n",
       "      <th>490</th>\n",
       "      <td>163</td>\n",
       "      <td>e69e4dce53bdbe1ffe17185ee72fdcae</td>\n",
       "      <td>37.858868</td>\n",
       "      <td>-122.291209</td>\n",
       "      <td>Cafe Buenos Aires</td>\n",
       "      <td>4</td>\n",
       "      <td>Empanadas, Coffee &amp; Tea, Breakfast &amp; Brunch</td>\n",
       "      <td>5.0</td>\n",
       "      <td>112.315716</td>\n",
       "    </tr>\n",
       "    <tr>\n",
       "      <th>1315</th>\n",
       "      <td>438</td>\n",
       "      <td>b8644a87f64a3672609640fee7a2adc2</td>\n",
       "      <td>37.725372</td>\n",
       "      <td>-122.393954</td>\n",
       "      <td>ChiliCali</td>\n",
       "      <td>25</td>\n",
       "      <td>Pop-Up Restaurants, Caterers, Indonesian</td>\n",
       "      <td>5.0</td>\n",
       "      <td>139.585572</td>\n",
       "    </tr>\n",
       "    <tr>\n",
       "      <th>480</th>\n",
       "      <td>160</td>\n",
       "      <td>03ec647221434cdad0abf4907706e949</td>\n",
       "      <td>37.326730</td>\n",
       "      <td>-121.889273</td>\n",
       "      <td>Almaden Crossing</td>\n",
       "      <td>2</td>\n",
       "      <td>Coffee &amp; Tea, Lounges, Delis</td>\n",
       "      <td>5.0</td>\n",
       "      <td>75.895164</td>\n",
       "    </tr>\n",
       "    <tr>\n",
       "      <th>910</th>\n",
       "      <td>303</td>\n",
       "      <td>6d41d45711456aef7f31b60c4f9d2fa1</td>\n",
       "      <td>37.780265</td>\n",
       "      <td>-122.406644</td>\n",
       "      <td>Bini’s Kitchen</td>\n",
       "      <td>5</td>\n",
       "      <td>Himalayan/Nepalese</td>\n",
       "      <td>5.0</td>\n",
       "      <td>96.530427</td>\n",
       "    </tr>\n",
       "    <tr>\n",
       "      <th>473</th>\n",
       "      <td>157</td>\n",
       "      <td>a4d58de82f6475801e4bf6cf97ecd387</td>\n",
       "      <td>37.337122</td>\n",
       "      <td>-121.883215</td>\n",
       "      <td>Cowboy Pho</td>\n",
       "      <td>11</td>\n",
       "      <td>Vietnamese, Barbeque, Soup</td>\n",
       "      <td>5.0</td>\n",
       "      <td>139.347195</td>\n",
       "    </tr>\n",
       "    <tr>\n",
       "      <th>463</th>\n",
       "      <td>154</td>\n",
       "      <td>8ecedfe82a3e35413e8a45da10ace67b</td>\n",
       "      <td>37.827757</td>\n",
       "      <td>-122.256716</td>\n",
       "      <td>Aman Cafe</td>\n",
       "      <td>87</td>\n",
       "      <td>Malaysian, Coffee &amp; Tea, Cafes</td>\n",
       "      <td>5.0</td>\n",
       "      <td>25.353186</td>\n",
       "    </tr>\n",
       "    <tr>\n",
       "      <th>458</th>\n",
       "      <td>152</td>\n",
       "      <td>3367402e41d84a3c70c5056e5312bb24</td>\n",
       "      <td>37.729279</td>\n",
       "      <td>-122.392896</td>\n",
       "      <td>Bloomstock</td>\n",
       "      <td>45</td>\n",
       "      <td>Coffee &amp; Tea, Waffles, Cafes</td>\n",
       "      <td>5.0</td>\n",
       "      <td>133.347626</td>\n",
       "    </tr>\n",
       "  </tbody>\n",
       "</table>\n",
       "</div>"
      ],
      "text/plain": [
       "      Station_No                        Station_ID   Bike_Lat   Bike_Long  \\\n",
       "489          163  e69e4dce53bdbe1ffe17185ee72fdcae  37.858868 -122.291209   \n",
       "406          135  4a2e731c87e9a1e07ad0f5c8a91efd4b  37.866418 -122.253799   \n",
       "1321         440  7201ad6fe2a1e03ff9ea5749d84c354d  37.803030 -122.270496   \n",
       "490          163  e69e4dce53bdbe1ffe17185ee72fdcae  37.858868 -122.291209   \n",
       "1315         438  b8644a87f64a3672609640fee7a2adc2  37.725372 -122.393954   \n",
       "480          160  03ec647221434cdad0abf4907706e949  37.326730 -121.889273   \n",
       "910          303  6d41d45711456aef7f31b60c4f9d2fa1  37.780265 -122.406644   \n",
       "473          157  a4d58de82f6475801e4bf6cf97ecd387  37.337122 -121.883215   \n",
       "463          154  8ecedfe82a3e35413e8a45da10ace67b  37.827757 -122.256716   \n",
       "458          152  3367402e41d84a3c70c5056e5312bb24  37.729279 -122.392896   \n",
       "\n",
       "                   name  review_count  \\\n",
       "489             Tarocco            54   \n",
       "406       Pizzeria 1868             1   \n",
       "1321      Pierre Pierre             4   \n",
       "490   Cafe Buenos Aires             4   \n",
       "1315          ChiliCali            25   \n",
       "480    Almaden Crossing             2   \n",
       "910      Bini’s Kitchen             5   \n",
       "473          Cowboy Pho            11   \n",
       "463           Aman Cafe            87   \n",
       "458          Bloomstock            45   \n",
       "\n",
       "                                             categories  rating    distance  \n",
       "489   Mediterranean, Gluten-Free, Venues & Event Spaces     5.0   27.210341  \n",
       "406                                               Pizza     5.0  228.298703  \n",
       "1321                                       Cajun/Creole     5.0   22.369493  \n",
       "490         Empanadas, Coffee & Tea, Breakfast & Brunch     5.0  112.315716  \n",
       "1315           Pop-Up Restaurants, Caterers, Indonesian     5.0  139.585572  \n",
       "480                        Coffee & Tea, Lounges, Delis     5.0   75.895164  \n",
       "910                                  Himalayan/Nepalese     5.0   96.530427  \n",
       "473                          Vietnamese, Barbeque, Soup     5.0  139.347195  \n",
       "463                      Malaysian, Coffee & Tea, Cafes     5.0   25.353186  \n",
       "458                        Coffee & Tea, Waffles, Cafes     5.0  133.347626  "
      ]
     },
     "execution_count": 43,
     "metadata": {},
     "output_type": "execute_result"
    }
   ],
   "source": [
    "top_10_resto.head(10)"
   ]
  },
  {
   "cell_type": "markdown",
   "metadata": {},
   "source": [
    "### Data Audit"
   ]
  },
  {
   "cell_type": "code",
   "execution_count": 21,
   "metadata": {},
   "outputs": [
    {
     "name": "stdout",
     "output_type": "stream",
     "text": [
      "Number of null ratings: 0\n"
     ]
    }
   ],
   "source": [
    "null_values = df_yelp['rating'].isnull()\n",
    "\n",
    "print(f\"Number of null ratings: {null_values.sum()}\")"
   ]
  },
  {
   "cell_type": "code",
   "execution_count": 22,
   "metadata": {},
   "outputs": [],
   "source": [
    "df_bikes.rename(columns={'location': 'City'}, inplace=True)"
   ]
  },
  {
   "cell_type": "code",
   "execution_count": 23,
   "metadata": {},
   "outputs": [
    {
     "data": {
      "text/html": [
       "<div>\n",
       "<style scoped>\n",
       "    .dataframe tbody tr th:only-of-type {\n",
       "        vertical-align: middle;\n",
       "    }\n",
       "\n",
       "    .dataframe tbody tr th {\n",
       "        vertical-align: top;\n",
       "    }\n",
       "\n",
       "    .dataframe thead th {\n",
       "        text-align: right;\n",
       "    }\n",
       "</style>\n",
       "<table border=\"1\" class=\"dataframe\">\n",
       "  <thead>\n",
       "    <tr style=\"text-align: right;\">\n",
       "      <th></th>\n",
       "      <th>Station_No</th>\n",
       "      <th>Station_ID</th>\n",
       "      <th>City</th>\n",
       "      <th>Bike_Lat</th>\n",
       "      <th>Bike_Lon</th>\n",
       "      <th>Free_Bikes</th>\n",
       "      <th>Empty_Slots</th>\n",
       "      <th>Total_Bikes</th>\n",
       "    </tr>\n",
       "  </thead>\n",
       "  <tbody>\n",
       "    <tr>\n",
       "      <th>0</th>\n",
       "      <td>0</td>\n",
       "      <td>d0e8f4f1834b7b33a3faf8882f567ab8</td>\n",
       "      <td>San Francisco Bay Area, CA</td>\n",
       "      <td>37.849735</td>\n",
       "      <td>-122.270582</td>\n",
       "      <td>1</td>\n",
       "      <td>14</td>\n",
       "      <td>15</td>\n",
       "    </tr>\n",
       "    <tr>\n",
       "      <th>1</th>\n",
       "      <td>1</td>\n",
       "      <td>983514094dd808b1604da2dcfc2d09af</td>\n",
       "      <td>San Francisco Bay Area, CA</td>\n",
       "      <td>37.336188</td>\n",
       "      <td>-121.889277</td>\n",
       "      <td>6</td>\n",
       "      <td>5</td>\n",
       "      <td>11</td>\n",
       "    </tr>\n",
       "    <tr>\n",
       "      <th>2</th>\n",
       "      <td>2</td>\n",
       "      <td>da17603652106fda93da4e255a5b0a22</td>\n",
       "      <td>San Francisco Bay Area, CA</td>\n",
       "      <td>37.322125</td>\n",
       "      <td>-121.881090</td>\n",
       "      <td>16</td>\n",
       "      <td>7</td>\n",
       "      <td>23</td>\n",
       "    </tr>\n",
       "    <tr>\n",
       "      <th>3</th>\n",
       "      <td>3</td>\n",
       "      <td>7a21c92b3b4cd2f7759107b4fdebf869</td>\n",
       "      <td>San Francisco Bay Area, CA</td>\n",
       "      <td>37.323678</td>\n",
       "      <td>-121.874119</td>\n",
       "      <td>7</td>\n",
       "      <td>7</td>\n",
       "      <td>14</td>\n",
       "    </tr>\n",
       "    <tr>\n",
       "      <th>4</th>\n",
       "      <td>4</td>\n",
       "      <td>ce34d38fb230a23c1ced12d1e16df294</td>\n",
       "      <td>San Francisco Bay Area, CA</td>\n",
       "      <td>37.325998</td>\n",
       "      <td>-121.877120</td>\n",
       "      <td>4</td>\n",
       "      <td>23</td>\n",
       "      <td>27</td>\n",
       "    </tr>\n",
       "  </tbody>\n",
       "</table>\n",
       "</div>"
      ],
      "text/plain": [
       "   Station_No                        Station_ID                        City  \\\n",
       "0           0  d0e8f4f1834b7b33a3faf8882f567ab8  San Francisco Bay Area, CA   \n",
       "1           1  983514094dd808b1604da2dcfc2d09af  San Francisco Bay Area, CA   \n",
       "2           2  da17603652106fda93da4e255a5b0a22  San Francisco Bay Area, CA   \n",
       "3           3  7a21c92b3b4cd2f7759107b4fdebf869  San Francisco Bay Area, CA   \n",
       "4           4  ce34d38fb230a23c1ced12d1e16df294  San Francisco Bay Area, CA   \n",
       "\n",
       "    Bike_Lat    Bike_Lon  Free_Bikes  Empty_Slots  Total_Bikes  \n",
       "0  37.849735 -122.270582           1           14           15  \n",
       "1  37.336188 -121.889277           6            5           11  \n",
       "2  37.322125 -121.881090          16            7           23  \n",
       "3  37.323678 -121.874119           7            7           14  \n",
       "4  37.325998 -121.877120           4           23           27  "
      ]
     },
     "execution_count": 23,
     "metadata": {},
     "output_type": "execute_result"
    }
   ],
   "source": [
    "df_bikes.head()"
   ]
  },
  {
   "cell_type": "code",
   "execution_count": 3,
   "metadata": {},
   "outputs": [],
   "source": [
    "df_yelp = pd.read_csv('..\\data\\df_yelp.csv')"
   ]
  },
  {
   "cell_type": "markdown",
   "metadata": {},
   "source": [
    "### Describe function on the numerical columns:"
   ]
  },
  {
   "cell_type": "markdown",
   "metadata": {},
   "source": [
    "df_yelp['review_count'].describe()"
   ]
  },
  {
   "cell_type": "code",
   "execution_count": 6,
   "metadata": {},
   "outputs": [
    {
     "data": {
      "text/plain": [
       "count    1494.000000\n",
       "mean        4.317269\n",
       "std         0.321807\n",
       "min         3.000000\n",
       "25%         4.000000\n",
       "50%         4.500000\n",
       "75%         4.500000\n",
       "max         5.000000\n",
       "Name: rating, dtype: float64"
      ]
     },
     "execution_count": 6,
     "metadata": {},
     "output_type": "execute_result"
    }
   ],
   "source": [
    "df_yelp['rating'].describe()"
   ]
  },
  {
   "cell_type": "code",
   "execution_count": 7,
   "metadata": {},
   "outputs": [
    {
     "data": {
      "text/plain": [
       "count    1494.000000\n",
       "mean      440.492811\n",
       "std       267.348585\n",
       "min         8.098200\n",
       "25%       225.239767\n",
       "50%       406.597981\n",
       "75%       623.936574\n",
       "max      1375.693927\n",
       "Name: distance, dtype: float64"
      ]
     },
     "execution_count": 7,
     "metadata": {},
     "output_type": "execute_result"
    }
   ],
   "source": [
    "df_yelp['distance'].describe()"
   ]
  },
  {
   "cell_type": "markdown",
   "metadata": {},
   "source": [
    "#### Check for erroneous ratings in Yelp table"
   ]
  },
  {
   "cell_type": "code",
   "execution_count": 17,
   "metadata": {},
   "outputs": [
    {
     "name": "stdout",
     "output_type": "stream",
     "text": [
      "these ratings are above 5: Empty DataFrame\n",
      "Columns: [Station_ID, Bike_Lat, Bike_Long, name, review_count, categories, rating, distance]\n",
      "Index: []\n",
      "these ratings are below 0: Empty DataFrame\n",
      "Columns: [Station_ID, Bike_Lat, Bike_Long, name, review_count, categories, rating, distance]\n",
      "Index: []\n"
     ]
    }
   ],
   "source": [
    "# Specify the threshold\n",
    "threshold_rating = 5.0\n",
    "below_zero_rating = 0\n",
    "\n",
    "# .loc to filter rows based on the condition\n",
    "AboveFive_df = df_yelp.loc[df_yelp['rating'] > threshold_rating]\n",
    "BelowZero_df = df_yelp.loc[df_yelp['rating'] < below_zero_rating]\n",
    "\n",
    "# Filtered dataframe\n",
    "print(f\"these ratings are above 5: {AboveFive_df}\")\n",
    "print(f\"these ratings are below 0: {BelowZero_df}\")"
   ]
  },
  {
   "cell_type": "code",
   "execution_count": null,
   "metadata": {},
   "outputs": [],
   "source": []
  }
 ],
 "metadata": {
  "kernelspec": {
   "display_name": "the_one",
   "language": "python",
   "name": "the_one"
  },
  "language_info": {
   "codemirror_mode": {
    "name": "ipython",
    "version": 3
   },
   "file_extension": ".py",
   "mimetype": "text/x-python",
   "name": "python",
   "nbconvert_exporter": "python",
   "pygments_lexer": "ipython3",
   "version": "3.9.18"
  }
 },
 "nbformat": 4,
 "nbformat_minor": 4
}
