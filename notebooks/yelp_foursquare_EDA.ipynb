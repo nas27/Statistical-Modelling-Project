{
 "cells": [
  {
   "cell_type": "code",
   "execution_count": 2,
   "metadata": {},
   "outputs": [],
   "source": [
    "import pandas as pd\n",
    "import os #env variables\n",
    "import requests #call the APIs\n",
    "import json\n",
    "from IPython.display import JSON"
   ]
  },
  {
   "cell_type": "markdown",
   "metadata": {},
   "source": [
    "# Foursquare"
   ]
  },
  {
   "cell_type": "markdown",
   "metadata": {},
   "source": [
    "Send a request to Foursquare with a small radius (1000m) for all the bike stations in your city of choice. "
   ]
  },
  {
   "cell_type": "code",
   "execution_count": 3,
   "metadata": {},
   "outputs": [],
   "source": [
    "FOURSQUARE_KEY = os.getenv('FOURSQUARE_API_KEY')"
   ]
  },
  {
   "cell_type": "code",
   "execution_count": 9,
   "metadata": {},
   "outputs": [],
   "source": [
    "city_row = df_bikes.iloc[0]\n",
    "#first row"
   ]
  },
  {
   "cell_type": "code",
   "execution_count": 10,
   "metadata": {},
   "outputs": [
    {
     "name": "stdout",
     "output_type": "stream",
     "text": [
      "Bike_Id        d0e8f4f1834b7b33a3faf8882f567ab8\n",
      "City                 San Francisco Bay Area, CA\n",
      "Bike_Lat                              37.849735\n",
      "Bike_Lon                            -122.270582\n",
      "Free_Bikes                                    6\n",
      "Empty_Slots                                   9\n",
      "Total_Bikes                                  15\n",
      "Name: 0, dtype: object\n"
     ]
    }
   ],
   "source": [
    "print(city_row)"
   ]
  },
  {
   "cell_type": "code",
   "execution_count": 12,
   "metadata": {},
   "outputs": [
    {
     "data": {
      "text/plain": [
       "37.849735"
      ]
     },
     "execution_count": 12,
     "metadata": {},
     "output_type": "execute_result"
    }
   ],
   "source": [
    "city_row['Bike_Lat']"
   ]
  },
  {
   "cell_type": "code",
   "execution_count": 6,
   "metadata": {},
   "outputs": [],
   "source": [
    "#CSV file containing the latitudes and longitudes\n",
    "file_path = r\"..\\data\\df_bikes.csv\"\n",
    "df_bikes = pd.read_csv(file_path)\n",
    "\n",
    "#Fsq data foreach lat/long\n",
    "foursquare_data = []\n",
    "for _, row in df_bikes.iterrows():\n",
    "    foursquare_data.extend(getDetails(row[\"Bike_Id\"],row[\"Bike_Lat\"], row[\"Bike_Lon\"]))"
   ]
  },
  {
   "cell_type": "code",
   "execution_count": null,
   "metadata": {},
   "outputs": [],
   "source": [
    "def getDetails(id,lat,long):\n",
    "    url = \"https://api.foursquare.com/v3/places/search\"\n",
    "    params = {\n",
    "        #\"query\": \"convenience stores\",\n",
    "        \"query\": \"bars\",\n",
    "        #Later with a loop could pull fsq data for EACH bike station\n",
    "        \"ll\": f\"{lat},{long}\",  # Using latitude and longitude from the CityBikes df\n",
    "        #\"open_now\": \"true\", #not needed\n",
    "        \"radius\": \"1000\",\n",
    "        \"sort\": \"DISTANCE\",\n",
    "        'limit': 3\n",
    "    }\n",
    "\n",
    "    headers = {\n",
    "        \"Accept\": \"application/json\",\n",
    "        \"Authorization\": FOURSQUARE_KEY\n",
    "    }\n",
    "\n",
    "    # Make the API request\n",
    "    response = requests.get(url, params=params, headers=headers)\n",
    "\n",
    "    # Parse the JSON response\n",
    "    data = response.json().get(\"results\", [])\n",
    "\n",
    "    # Extracting relevant data\n",
    "    poi_data = []\n",
    "    for result in data:\n",
    "        name = result['name']\n",
    "        #category = result['categories'][0]['plural_name']\n",
    "        distance = result['distance']\n",
    "        #address = result['location']['address']\n",
    "        postcode = result['location']['postcode']\n",
    "        #fsq_latitude = result['geocodes']['main']['latitude']\n",
    "        #fsq longitude = result['geocodes']['main']['longitude']\n",
    "        poi_data.append([id, lat, long, name, distance, postcode])\n",
    "    \n",
    "    \n",
    "    return poi_data"
   ]
  },
  {
   "cell_type": "code",
   "execution_count": null,
   "metadata": {},
   "outputs": [],
   "source": [
    "df_fsq = pd.DataFrame(foursquare_data, columns=[\"Bike_Id\", \"Bike_Lat\", \"Bike_Long\", \"name\", \"distance\", \"postcode\"])\n",
    "\n",
    "# Display or save/export the dataframe as needed\n",
    "#print(df_fsq)\n",
    "df_fsq.to_csv('..\\data\\df_fsq.csv', index=False)\n"
   ]
  },
  {
   "cell_type": "markdown",
   "metadata": {},
   "source": [
    "Parse through the response to get the POI (such as restaurants, bars, etc) details you want (ratings, name, location, etc)"
   ]
  },
  {
   "cell_type": "code",
   "execution_count": 32,
   "metadata": {},
   "outputs": [],
   "source": [
    "# Extracting relevant data\n",
    "poi_data = []\n",
    "for result in fsq_response['results']:\n",
    "    #fsq_id = result['fsq_id'] #dont think i need this\n",
    "    name = result['name']\n",
    "    category = result['categories'][0]['plural_name']\n",
    "    closed_bucket = result['closed_bucket']\n",
    "    distance = result['distance']\n",
    "    #address = result['location']['address']\n",
    "    postcode = result['location']['postcode']\n",
    "    latitude = result['geocodes']['main']['latitude']\n",
    "    longitude = result['geocodes']['main']['longitude']\n",
    "    region = result['location']['region']\n",
    "    \n",
    "    \n",
    "    # Append data to the dict\n",
    "    poi_data.append({\n",
    "        #'fsq_id': fsq_id,\n",
    "        'name': name,\n",
    "        'category': category,\n",
    "        'closed_bucket': closed_bucket,\n",
    "        'distance': distance,\n",
    "        #'address': address,\n",
    "        'postcode': postcode,\n",
    "        'latitude':latitude,\n",
    "        'longitude':longitude,\n",
    "        'region': region\n",
    "    })"
   ]
  },
  {
   "cell_type": "code",
   "execution_count": 35,
   "metadata": {},
   "outputs": [],
   "source": [
    "# Create a DataFrame from the list of dictionaries\n",
    "df_foursquare = pd.DataFrame(poi_data)"
   ]
  },
  {
   "cell_type": "code",
   "execution_count": null,
   "metadata": {},
   "outputs": [],
   "source": [
    "df_foursquare['region'] = \"San Francisco Bay Area, CA\""
   ]
  },
  {
   "cell_type": "code",
   "execution_count": null,
   "metadata": {},
   "outputs": [],
   "source": [
    "df_foursquare.head()"
   ]
  },
  {
   "cell_type": "markdown",
   "metadata": {},
   "source": [
    "Put your parsed results into a DataFrame"
   ]
  },
  {
   "cell_type": "code",
   "execution_count": 38,
   "metadata": {},
   "outputs": [],
   "source": [
    "df_foursquare.to_csv('..\\data\\df_foursquare.csv', index=False)"
   ]
  },
  {
   "cell_type": "code",
   "execution_count": 39,
   "metadata": {},
   "outputs": [
    {
     "data": {
      "text/plain": [
       "(1, 8)"
      ]
     },
     "execution_count": 39,
     "metadata": {},
     "output_type": "execute_result"
    }
   ],
   "source": [
    "df_foursquare.shape"
   ]
  },
  {
   "cell_type": "code",
   "execution_count": 41,
   "metadata": {},
   "outputs": [
    {
     "data": {
      "text/plain": [
       "Index(['name', 'category', 'closed_bucket', 'distance', 'postcode', 'latitude',\n",
       "       'longitude', 'region'],\n",
       "      dtype='object')"
      ]
     },
     "execution_count": 41,
     "metadata": {},
     "output_type": "execute_result"
    }
   ],
   "source": [
    "df_foursquare.columns"
   ]
  },
  {
   "cell_type": "code",
   "execution_count": 42,
   "metadata": {},
   "outputs": [
    {
     "data": {
      "text/plain": [
       "name              object\n",
       "category          object\n",
       "closed_bucket     object\n",
       "distance           int64\n",
       "postcode          object\n",
       "latitude         float64\n",
       "longitude        float64\n",
       "region            object\n",
       "dtype: object"
      ]
     },
     "execution_count": 42,
     "metadata": {},
     "output_type": "execute_result"
    }
   ],
   "source": [
    "df_foursquare.dtypes"
   ]
  },
  {
   "cell_type": "markdown",
   "metadata": {},
   "source": [
    "# Yelp"
   ]
  },
  {
   "cell_type": "markdown",
   "metadata": {},
   "source": [
    "Send a request to Yelp with a small radius (1000m) for all the bike stations in your city of choice. "
   ]
  },
  {
   "cell_type": "markdown",
   "metadata": {},
   "source": [
    "Parse through the response to get the POI (such as restaurants, bars, etc) details you want (ratings, name, location, etc)"
   ]
  },
  {
   "cell_type": "code",
   "execution_count": 43,
   "metadata": {},
   "outputs": [],
   "source": []
  },
  {
   "cell_type": "code",
   "execution_count": 4,
   "metadata": {
    "scrolled": true
   },
   "outputs": [
    {
     "name": "stdout",
     "output_type": "stream",
     "text": [
      "Failed to get data. Status code: 429, Error: {\"error\": {\"code\": \"ACCESS_LIMIT_REACHED\", \"description\": \"You've reached the access limit for this client. See instructions for requesting a higher access limit at https://docs.developer.yelp.com/docs/fusion-rate-limiting\"}}\n"
     ]
    },
    {
     "data": {
      "application/json": {
       "error": {
        "code": "ACCESS_LIMIT_REACHED",
        "description": "You've reached the access limit for this client. See instructions for requesting a higher access limit at https://docs.developer.yelp.com/docs/fusion-rate-limiting"
       }
      },
      "text/plain": [
       "<IPython.core.display.JSON object>"
      ]
     },
     "execution_count": 4,
     "metadata": {
      "application/json": {
       "expanded": false,
       "root": "root"
      }
     },
     "output_type": "execute_result"
    }
   ],
   "source": [
    "#Old working code\n",
    "YELP_API_KEY = os.getenv('YELP_API_KEY')\n",
    "YELP_CLIENT_ID = os.getenv('YELP_CLIENT_ID')\n",
    "\n",
    "yelp_url = \"https://api.yelp.com/v3/businesses/search\"\n",
    "\n",
    "headers = {\n",
    "    \"Authorization\": f\"Bearer {YELP_API_KEY}\",\n",
    "}\n",
    "\n",
    "params = {\n",
    "    \"term\": \"restaurant\",\n",
    "    \"location\": \"San Francisco Bay Area\",\n",
    "    \"radius\": 1000,\n",
    "    \"limit\": 3,\n",
    "    #\"sort_by\": \"distance\", need to test this once ACCESS_LIMIT_RESTORED\n",
    "    \"client_id\": YELP_CLIENT_ID,\n",
    "}\n",
    "\n",
    "yelp_response = requests.get(yelp_url, headers=headers, params=params)\n",
    "\n",
    "if yelp_response.status_code == 200:\n",
    "    #print(yelp_response.json())\n",
    "    print(\"success status code 200\")\n",
    "else:\n",
    "    print(f\"Failed to get data. Status code: {yelp_response.status_code}, Error: {yelp_response.text}\")\n",
    "\n",
    "\n",
    "yelp_response = yelp_response.json()\n",
    "JSON(yelp_response)"
   ]
  },
  {
   "cell_type": "code",
   "execution_count": null,
   "metadata": {},
   "outputs": [],
   "source": [
    "#Using Lat long from EACH bike station"
   ]
  },
  {
   "cell_type": "code",
   "execution_count": 29,
   "metadata": {},
   "outputs": [],
   "source": [
    "# Yelp data for each latitude and longitude pertaining to bikes\n",
    "def getYelpDetails(id, lat, long):\n",
    "    yelp_url = \"https://api.yelp.com/v3/businesses/search\"\n",
    "    \n",
    "    params = {\n",
    "    \"term\": \"restaurant\",\n",
    "    #\"location\": \"San Francisco Bay Area\",\n",
    "    \"radius\": 1000,\n",
    "    \"limit\": 3,\n",
    "    \"client_id\": YELP_CLIENT_ID,\n",
    "}\n",
    "\n",
    "        \n",
    "    url = f\"{yelp_url}?latitude={lat}&longitude={long}\"\n",
    "    \n",
    "    response = requests.get(url, params=params, headers=headers)\n",
    "    #print(response.json())\n",
    "    pois = response.json().get(\"businesses\", [])\n",
    "    \n",
    "    extracted_data = []\n",
    "    \n",
    "    for poi in pois:\n",
    "        name = poi[\"name\"]\n",
    "        review_count = poi[\"review_count\"]\n",
    "        categories = ', '.join([category[\"title\"] for category in poi[\"categories\"]])\n",
    "        rating = poi[\"rating\"]\n",
    "        display_address = ', '.join(poi[\"location\"][\"display_address\"])\n",
    "        distance = poi[\"distance\"]\n",
    "\n",
    "        extracted_data.append([id,lat, long, name, review_count, categories, rating, display_address, distance])\n",
    "    \n",
    "    return extracted_data\n",
    "\n",
    "# Read the Bike CSV file with the latitudes and longitudes\n",
    "file_path = r\"..\\data\\df_bikes.csv\"\n",
    "df_yelp = pd.read_csv(file_path)\n",
    "\n",
    "# Yelp data for each set of latitude and longitude\n",
    "all_yelps = []\n",
    "for _, row in df_yelp.iterrows():  \n",
    "    all_yelps.extend(getYelpDetails(row[\"Bike_Id\"], row[\"Bike_Lat\"], row[\"Bike_Lon\"]))"
   ]
  },
  {
   "cell_type": "code",
   "execution_count": 31,
   "metadata": {},
   "outputs": [],
   "source": [
    "df_all_yelp = pd.DataFrame(all_yelps, columns=[\"Bike_Id\", \"Bike_Lat\", \"Bike_Long\", \"name\", \"review_count\", \"categories\", \"rating\", \"display_address\", \"distance\"])\n",
    "\n",
    "# Display or save/export the dataframe as needed\n",
    "#print(df_fsq)\n",
    "df_all_yelp.to_csv('..\\data\\df_all_yelp.csv', index=False)\n"
   ]
  },
  {
   "cell_type": "code",
   "execution_count": null,
   "metadata": {},
   "outputs": [],
   "source": []
  },
  {
   "cell_type": "code",
   "execution_count": 86,
   "metadata": {},
   "outputs": [],
   "source": [
    "#testing 1 id\n",
    "#print(response['businesses'][0]['id'])\n",
    "#print(yelp_response['businesses'][0]['categories'][0]['alias'])"
   ]
  },
  {
   "cell_type": "code",
   "execution_count": 50,
   "metadata": {},
   "outputs": [],
   "source": [
    "\n",
    "# Extracting relevant data\n",
    "yelp_poi_data = []\n",
    "\n",
    "\n",
    "for i in yelp_response['businesses']:\n",
    "    city = i['location']['city']\n",
    "    state = i['location']['state']\n",
    "    name = i['name']\n",
    "    review_count = i['review_count']\n",
    "    rating = i['rating']\n",
    "    latitude = i['coordinates']['latitude']\n",
    "    longitude = i['coordinates']['longitude']\n",
    "    alias = i['categories'][0]['alias']\n",
    "      \n",
    "   \n",
    "      # Add more fields as needed\n",
    "    \n",
    "    # Append data and assign keys to the values\n",
    "    yelp_poi_data.append({\n",
    "        'city': city,\n",
    "        'state': state,\n",
    "        'name': name,\n",
    "        'review_count': review_count,\n",
    "        'rating': rating,\n",
    "        'latitude': latitude,\n",
    "        'longitude': longitude,\n",
    "        'category': alias\n",
    "        \n",
    " \n",
    "    })\n"
   ]
  },
  {
   "cell_type": "markdown",
   "metadata": {},
   "source": [
    "Put your parsed results into a DataFrame"
   ]
  },
  {
   "cell_type": "code",
   "execution_count": 51,
   "metadata": {},
   "outputs": [],
   "source": [
    "df_yelp = pd.DataFrame(yelp_poi_data)"
   ]
  },
  {
   "cell_type": "code",
   "execution_count": 52,
   "metadata": {},
   "outputs": [],
   "source": []
  },
  {
   "cell_type": "code",
   "execution_count": 53,
   "metadata": {},
   "outputs": [
    {
     "data": {
      "text/html": [
       "<div>\n",
       "<style scoped>\n",
       "    .dataframe tbody tr th:only-of-type {\n",
       "        vertical-align: middle;\n",
       "    }\n",
       "\n",
       "    .dataframe tbody tr th {\n",
       "        vertical-align: top;\n",
       "    }\n",
       "\n",
       "    .dataframe thead th {\n",
       "        text-align: right;\n",
       "    }\n",
       "</style>\n",
       "<table border=\"1\" class=\"dataframe\">\n",
       "  <thead>\n",
       "    <tr style=\"text-align: right;\">\n",
       "      <th></th>\n",
       "      <th>city</th>\n",
       "      <th>state</th>\n",
       "      <th>name</th>\n",
       "      <th>review_count</th>\n",
       "      <th>rating</th>\n",
       "      <th>latitude</th>\n",
       "      <th>longitude</th>\n",
       "      <th>category</th>\n",
       "    </tr>\n",
       "  </thead>\n",
       "  <tbody>\n",
       "    <tr>\n",
       "      <th>0</th>\n",
       "      <td>San Francisco Bay Area, CA</td>\n",
       "      <td>CA</td>\n",
       "      <td>Cafe Noir</td>\n",
       "      <td>11</td>\n",
       "      <td>5.0</td>\n",
       "      <td>37.798756</td>\n",
       "      <td>-122.208274</td>\n",
       "      <td>burgers</td>\n",
       "    </tr>\n",
       "    <tr>\n",
       "      <th>1</th>\n",
       "      <td>San Francisco Bay Area, CA</td>\n",
       "      <td>CA</td>\n",
       "      <td>Wawa Thai Food</td>\n",
       "      <td>243</td>\n",
       "      <td>4.5</td>\n",
       "      <td>37.797169</td>\n",
       "      <td>-122.204842</td>\n",
       "      <td>thai</td>\n",
       "    </tr>\n",
       "    <tr>\n",
       "      <th>2</th>\n",
       "      <td>San Francisco Bay Area, CA</td>\n",
       "      <td>CA</td>\n",
       "      <td>Bombera</td>\n",
       "      <td>278</td>\n",
       "      <td>4.0</td>\n",
       "      <td>37.799530</td>\n",
       "      <td>-122.215200</td>\n",
       "      <td>mexican</td>\n",
       "    </tr>\n",
       "    <tr>\n",
       "      <th>3</th>\n",
       "      <td>San Francisco Bay Area, CA</td>\n",
       "      <td>CA</td>\n",
       "      <td>The Saint Sandwich Shop</td>\n",
       "      <td>239</td>\n",
       "      <td>4.5</td>\n",
       "      <td>37.797250</td>\n",
       "      <td>-122.204370</td>\n",
       "      <td>sandwiches</td>\n",
       "    </tr>\n",
       "    <tr>\n",
       "      <th>4</th>\n",
       "      <td>San Francisco Bay Area, CA</td>\n",
       "      <td>CA</td>\n",
       "      <td>Phnom Penh House Restaurant</td>\n",
       "      <td>506</td>\n",
       "      <td>4.5</td>\n",
       "      <td>37.791010</td>\n",
       "      <td>-122.197760</td>\n",
       "      <td>cambodian</td>\n",
       "    </tr>\n",
       "  </tbody>\n",
       "</table>\n",
       "</div>"
      ],
      "text/plain": [
       "                         city state                         name  \\\n",
       "0  San Francisco Bay Area, CA    CA                    Cafe Noir   \n",
       "1  San Francisco Bay Area, CA    CA               Wawa Thai Food   \n",
       "2  San Francisco Bay Area, CA    CA                      Bombera   \n",
       "3  San Francisco Bay Area, CA    CA      The Saint Sandwich Shop   \n",
       "4  San Francisco Bay Area, CA    CA  Phnom Penh House Restaurant   \n",
       "\n",
       "   review_count  rating   latitude   longitude    category  \n",
       "0            11     5.0  37.798756 -122.208274     burgers  \n",
       "1           243     4.5  37.797169 -122.204842        thai  \n",
       "2           278     4.0  37.799530 -122.215200     mexican  \n",
       "3           239     4.5  37.797250 -122.204370  sandwiches  \n",
       "4           506     4.5  37.791010 -122.197760   cambodian  "
      ]
     },
     "execution_count": 53,
     "metadata": {},
     "output_type": "execute_result"
    }
   ],
   "source": [
    "#del df_yelp['state']\n",
    "df_yelp.head()"
   ]
  },
  {
   "cell_type": "code",
   "execution_count": null,
   "metadata": {},
   "outputs": [],
   "source": []
  },
  {
   "cell_type": "code",
   "execution_count": 54,
   "metadata": {},
   "outputs": [],
   "source": [
    "df_yelp.to_csv('..\\data\\df_yelp.csv', index=False) #Export"
   ]
  },
  {
   "cell_type": "code",
   "execution_count": 74,
   "metadata": {},
   "outputs": [
    {
     "data": {
      "text/plain": [
       "Index(['city', 'state', 'name', 'review_count', 'rating', 'latitude',\n",
       "       'longitude', 'category'],\n",
       "      dtype='object')"
      ]
     },
     "execution_count": 74,
     "metadata": {},
     "output_type": "execute_result"
    }
   ],
   "source": [
    "df_yelp.columns"
   ]
  },
  {
   "cell_type": "code",
   "execution_count": 75,
   "metadata": {},
   "outputs": [
    {
     "data": {
      "text/plain": [
       "city             object\n",
       "state            object\n",
       "name             object\n",
       "review_count      int64\n",
       "rating          float64\n",
       "latitude        float64\n",
       "longitude       float64\n",
       "category         object\n",
       "dtype: object"
      ]
     },
     "execution_count": 75,
     "metadata": {},
     "output_type": "execute_result"
    }
   ],
   "source": [
    "df_yelp.dtypes"
   ]
  },
  {
   "cell_type": "markdown",
   "metadata": {},
   "source": [
    "# Comparing Results"
   ]
  },
  {
   "cell_type": "markdown",
   "metadata": {},
   "source": [
    "Which API provided you with more complete data? Provide an explanation. "
   ]
  },
  {
   "cell_type": "markdown",
   "metadata": {},
   "source": [
    "They both were pretty comparable. Seems like foursquare focuses more on location data and yelp has a more complete picture of the establishment and how it appeals to the masses. However, yelp also has some location info and establishment data relative to one another which is useful."
   ]
  },
  {
   "cell_type": "markdown",
   "metadata": {},
   "source": [
    "Get the top 10 restaurants according to their rating"
   ]
  },
  {
   "cell_type": "code",
   "execution_count": 64,
   "metadata": {},
   "outputs": [],
   "source": [
    "top_10_resto = df_yelp.sort_values(by='rating', ascending=False)"
   ]
  },
  {
   "cell_type": "code",
   "execution_count": 56,
   "metadata": {},
   "outputs": [
    {
     "data": {
      "text/html": [
       "<div>\n",
       "<style scoped>\n",
       "    .dataframe tbody tr th:only-of-type {\n",
       "        vertical-align: middle;\n",
       "    }\n",
       "\n",
       "    .dataframe tbody tr th {\n",
       "        vertical-align: top;\n",
       "    }\n",
       "\n",
       "    .dataframe thead th {\n",
       "        text-align: right;\n",
       "    }\n",
       "</style>\n",
       "<table border=\"1\" class=\"dataframe\">\n",
       "  <thead>\n",
       "    <tr style=\"text-align: right;\">\n",
       "      <th></th>\n",
       "      <th>city</th>\n",
       "      <th>state</th>\n",
       "      <th>name</th>\n",
       "      <th>review_count</th>\n",
       "      <th>rating</th>\n",
       "      <th>latitude</th>\n",
       "      <th>longitude</th>\n",
       "      <th>category</th>\n",
       "    </tr>\n",
       "  </thead>\n",
       "  <tbody>\n",
       "    <tr>\n",
       "      <th>0</th>\n",
       "      <td>San Francisco Bay Area, CA</td>\n",
       "      <td>CA</td>\n",
       "      <td>Cafe Noir</td>\n",
       "      <td>11</td>\n",
       "      <td>5.0</td>\n",
       "      <td>37.798756</td>\n",
       "      <td>-122.208274</td>\n",
       "      <td>burgers</td>\n",
       "    </tr>\n",
       "    <tr>\n",
       "      <th>18</th>\n",
       "      <td>San Francisco Bay Area, CA</td>\n",
       "      <td>CA</td>\n",
       "      <td>Maria’s Mexican Food</td>\n",
       "      <td>4</td>\n",
       "      <td>5.0</td>\n",
       "      <td>37.790938</td>\n",
       "      <td>-122.205074</td>\n",
       "      <td>tacos</td>\n",
       "    </tr>\n",
       "    <tr>\n",
       "      <th>3</th>\n",
       "      <td>San Francisco Bay Area, CA</td>\n",
       "      <td>CA</td>\n",
       "      <td>The Saint Sandwich Shop</td>\n",
       "      <td>239</td>\n",
       "      <td>4.5</td>\n",
       "      <td>37.797250</td>\n",
       "      <td>-122.204370</td>\n",
       "      <td>sandwiches</td>\n",
       "    </tr>\n",
       "    <tr>\n",
       "      <th>4</th>\n",
       "      <td>San Francisco Bay Area, CA</td>\n",
       "      <td>CA</td>\n",
       "      <td>Phnom Penh House Restaurant</td>\n",
       "      <td>506</td>\n",
       "      <td>4.5</td>\n",
       "      <td>37.791010</td>\n",
       "      <td>-122.197760</td>\n",
       "      <td>cambodian</td>\n",
       "    </tr>\n",
       "    <tr>\n",
       "      <th>5</th>\n",
       "      <td>San Francisco Bay Area, CA</td>\n",
       "      <td>CA</td>\n",
       "      <td>Jo's Modern Thai</td>\n",
       "      <td>334</td>\n",
       "      <td>4.5</td>\n",
       "      <td>37.791680</td>\n",
       "      <td>-122.199110</td>\n",
       "      <td>thai</td>\n",
       "    </tr>\n",
       "    <tr>\n",
       "      <th>6</th>\n",
       "      <td>San Francisco Bay Area, CA</td>\n",
       "      <td>CA</td>\n",
       "      <td>Boriqua Kitchen</td>\n",
       "      <td>128</td>\n",
       "      <td>4.5</td>\n",
       "      <td>37.804137</td>\n",
       "      <td>-122.207035</td>\n",
       "      <td>foodtrucks</td>\n",
       "    </tr>\n",
       "    <tr>\n",
       "      <th>1</th>\n",
       "      <td>San Francisco Bay Area, CA</td>\n",
       "      <td>CA</td>\n",
       "      <td>Wawa Thai Food</td>\n",
       "      <td>243</td>\n",
       "      <td>4.5</td>\n",
       "      <td>37.797169</td>\n",
       "      <td>-122.204842</td>\n",
       "      <td>thai</td>\n",
       "    </tr>\n",
       "    <tr>\n",
       "      <th>2</th>\n",
       "      <td>San Francisco Bay Area, CA</td>\n",
       "      <td>CA</td>\n",
       "      <td>Bombera</td>\n",
       "      <td>278</td>\n",
       "      <td>4.0</td>\n",
       "      <td>37.799530</td>\n",
       "      <td>-122.215200</td>\n",
       "      <td>mexican</td>\n",
       "    </tr>\n",
       "    <tr>\n",
       "      <th>7</th>\n",
       "      <td>San Francisco Bay Area, CA</td>\n",
       "      <td>CA</td>\n",
       "      <td>Sequoia Diner</td>\n",
       "      <td>704</td>\n",
       "      <td>4.0</td>\n",
       "      <td>37.791851</td>\n",
       "      <td>-122.199130</td>\n",
       "      <td>diners</td>\n",
       "    </tr>\n",
       "    <tr>\n",
       "      <th>8</th>\n",
       "      <td>San Francisco Bay Area, CA</td>\n",
       "      <td>CA</td>\n",
       "      <td>Grand Bakery</td>\n",
       "      <td>21</td>\n",
       "      <td>4.0</td>\n",
       "      <td>37.796780</td>\n",
       "      <td>-122.204500</td>\n",
       "      <td>bakeries</td>\n",
       "    </tr>\n",
       "  </tbody>\n",
       "</table>\n",
       "</div>"
      ],
      "text/plain": [
       "                          city state                         name  \\\n",
       "0   San Francisco Bay Area, CA    CA                    Cafe Noir   \n",
       "18  San Francisco Bay Area, CA    CA         Maria’s Mexican Food   \n",
       "3   San Francisco Bay Area, CA    CA      The Saint Sandwich Shop   \n",
       "4   San Francisco Bay Area, CA    CA  Phnom Penh House Restaurant   \n",
       "5   San Francisco Bay Area, CA    CA             Jo's Modern Thai   \n",
       "6   San Francisco Bay Area, CA    CA              Boriqua Kitchen   \n",
       "1   San Francisco Bay Area, CA    CA               Wawa Thai Food   \n",
       "2   San Francisco Bay Area, CA    CA                      Bombera   \n",
       "7   San Francisco Bay Area, CA    CA                Sequoia Diner   \n",
       "8   San Francisco Bay Area, CA    CA                 Grand Bakery   \n",
       "\n",
       "    review_count  rating   latitude   longitude    category  \n",
       "0             11     5.0  37.798756 -122.208274     burgers  \n",
       "18             4     5.0  37.790938 -122.205074       tacos  \n",
       "3            239     4.5  37.797250 -122.204370  sandwiches  \n",
       "4            506     4.5  37.791010 -122.197760   cambodian  \n",
       "5            334     4.5  37.791680 -122.199110        thai  \n",
       "6            128     4.5  37.804137 -122.207035  foodtrucks  \n",
       "1            243     4.5  37.797169 -122.204842        thai  \n",
       "2            278     4.0  37.799530 -122.215200     mexican  \n",
       "7            704     4.0  37.791851 -122.199130      diners  \n",
       "8             21     4.0  37.796780 -122.204500    bakeries  "
      ]
     },
     "execution_count": 56,
     "metadata": {},
     "output_type": "execute_result"
    }
   ],
   "source": [
    "top_10_resto.head(10)"
   ]
  },
  {
   "cell_type": "markdown",
   "metadata": {},
   "source": [
    "### Data Audit"
   ]
  },
  {
   "cell_type": "code",
   "execution_count": 81,
   "metadata": {},
   "outputs": [
    {
     "name": "stdout",
     "output_type": "stream",
     "text": [
      "Number of null ratings: 0\n"
     ]
    }
   ],
   "source": [
    "null_values = df_yelp['rating'].isnull()\n",
    "\n",
    "print(f\"Number of null ratings: {null_values.sum()}\")"
   ]
  },
  {
   "cell_type": "markdown",
   "metadata": {},
   "source": [
    "#### Data Clean city/state column"
   ]
  },
  {
   "cell_type": "code",
   "execution_count": 65,
   "metadata": {},
   "outputs": [],
   "source": [
    "#df_yelp['city'] = df_yelp['city'] + df_yelp['state']"
   ]
  },
  {
   "cell_type": "code",
   "execution_count": 61,
   "metadata": {},
   "outputs": [],
   "source": [
    "df_yelp.rename(columns={'city': 'location'}, inplace=True)"
   ]
  },
  {
   "cell_type": "code",
   "execution_count": 62,
   "metadata": {},
   "outputs": [],
   "source": [
    "#df_yelp.drop(columns=['state'], inplace=True)"
   ]
  },
  {
   "cell_type": "code",
   "execution_count": 66,
   "metadata": {},
   "outputs": [
    {
     "data": {
      "text/html": [
       "<div>\n",
       "<style scoped>\n",
       "    .dataframe tbody tr th:only-of-type {\n",
       "        vertical-align: middle;\n",
       "    }\n",
       "\n",
       "    .dataframe tbody tr th {\n",
       "        vertical-align: top;\n",
       "    }\n",
       "\n",
       "    .dataframe thead th {\n",
       "        text-align: right;\n",
       "    }\n",
       "</style>\n",
       "<table border=\"1\" class=\"dataframe\">\n",
       "  <thead>\n",
       "    <tr style=\"text-align: right;\">\n",
       "      <th></th>\n",
       "      <th>location</th>\n",
       "      <th>name</th>\n",
       "      <th>review_count</th>\n",
       "      <th>rating</th>\n",
       "      <th>latitude</th>\n",
       "      <th>longitude</th>\n",
       "      <th>category</th>\n",
       "    </tr>\n",
       "  </thead>\n",
       "  <tbody>\n",
       "    <tr>\n",
       "      <th>0</th>\n",
       "      <td>San Francisco Bay Area, CACA</td>\n",
       "      <td>Cafe Noir</td>\n",
       "      <td>11</td>\n",
       "      <td>5.0</td>\n",
       "      <td>37.798756</td>\n",
       "      <td>-122.208274</td>\n",
       "      <td>burgers</td>\n",
       "    </tr>\n",
       "    <tr>\n",
       "      <th>1</th>\n",
       "      <td>San Francisco Bay Area, CACA</td>\n",
       "      <td>Wawa Thai Food</td>\n",
       "      <td>243</td>\n",
       "      <td>4.5</td>\n",
       "      <td>37.797169</td>\n",
       "      <td>-122.204842</td>\n",
       "      <td>thai</td>\n",
       "    </tr>\n",
       "    <tr>\n",
       "      <th>2</th>\n",
       "      <td>San Francisco Bay Area, CACA</td>\n",
       "      <td>Bombera</td>\n",
       "      <td>278</td>\n",
       "      <td>4.0</td>\n",
       "      <td>37.799530</td>\n",
       "      <td>-122.215200</td>\n",
       "      <td>mexican</td>\n",
       "    </tr>\n",
       "    <tr>\n",
       "      <th>3</th>\n",
       "      <td>San Francisco Bay Area, CACA</td>\n",
       "      <td>The Saint Sandwich Shop</td>\n",
       "      <td>239</td>\n",
       "      <td>4.5</td>\n",
       "      <td>37.797250</td>\n",
       "      <td>-122.204370</td>\n",
       "      <td>sandwiches</td>\n",
       "    </tr>\n",
       "    <tr>\n",
       "      <th>4</th>\n",
       "      <td>San Francisco Bay Area, CACA</td>\n",
       "      <td>Phnom Penh House Restaurant</td>\n",
       "      <td>506</td>\n",
       "      <td>4.5</td>\n",
       "      <td>37.791010</td>\n",
       "      <td>-122.197760</td>\n",
       "      <td>cambodian</td>\n",
       "    </tr>\n",
       "  </tbody>\n",
       "</table>\n",
       "</div>"
      ],
      "text/plain": [
       "                       location                         name  review_count  \\\n",
       "0  San Francisco Bay Area, CACA                    Cafe Noir            11   \n",
       "1  San Francisco Bay Area, CACA               Wawa Thai Food           243   \n",
       "2  San Francisco Bay Area, CACA                      Bombera           278   \n",
       "3  San Francisco Bay Area, CACA      The Saint Sandwich Shop           239   \n",
       "4  San Francisco Bay Area, CACA  Phnom Penh House Restaurant           506   \n",
       "\n",
       "   rating   latitude   longitude    category  \n",
       "0     5.0  37.798756 -122.208274     burgers  \n",
       "1     4.5  37.797169 -122.204842        thai  \n",
       "2     4.0  37.799530 -122.215200     mexican  \n",
       "3     4.5  37.797250 -122.204370  sandwiches  \n",
       "4     4.5  37.791010 -122.197760   cambodian  "
      ]
     },
     "execution_count": 66,
     "metadata": {},
     "output_type": "execute_result"
    }
   ],
   "source": [
    "df_yelp.head()"
   ]
  },
  {
   "cell_type": "code",
   "execution_count": null,
   "metadata": {},
   "outputs": [],
   "source": []
  },
  {
   "cell_type": "markdown",
   "metadata": {},
   "source": [
    "Import the city_bikes df"
   ]
  },
  {
   "cell_type": "code",
   "execution_count": 4,
   "metadata": {},
   "outputs": [],
   "source": [
    "csv_file_path = '..\\data\\df_bikes.csv'\n",
    "\n",
    "# Read the CSV file into a DataFrame\n",
    "df_bikes = pd.read_csv(csv_file_path)"
   ]
  },
  {
   "cell_type": "code",
   "execution_count": 68,
   "metadata": {},
   "outputs": [],
   "source": [
    "df_bikes.rename(columns={'location': 'City'}, inplace=True)"
   ]
  },
  {
   "cell_type": "code",
   "execution_count": null,
   "metadata": {},
   "outputs": [],
   "source": []
  },
  {
   "cell_type": "code",
   "execution_count": 69,
   "metadata": {},
   "outputs": [
    {
     "data": {
      "text/html": [
       "<div>\n",
       "<style scoped>\n",
       "    .dataframe tbody tr th:only-of-type {\n",
       "        vertical-align: middle;\n",
       "    }\n",
       "\n",
       "    .dataframe tbody tr th {\n",
       "        vertical-align: top;\n",
       "    }\n",
       "\n",
       "    .dataframe thead th {\n",
       "        text-align: right;\n",
       "    }\n",
       "</style>\n",
       "<table border=\"1\" class=\"dataframe\">\n",
       "  <thead>\n",
       "    <tr style=\"text-align: right;\">\n",
       "      <th></th>\n",
       "      <th>City</th>\n",
       "      <th>Latitude</th>\n",
       "      <th>Longitude</th>\n",
       "      <th>Free_Bikes</th>\n",
       "      <th>Empty_Slots</th>\n",
       "      <th>Total_Bikes</th>\n",
       "    </tr>\n",
       "  </thead>\n",
       "  <tbody>\n",
       "    <tr>\n",
       "      <th>0</th>\n",
       "      <td>San Francisco Bay Area, CA</td>\n",
       "      <td>37.849735</td>\n",
       "      <td>-122.270582</td>\n",
       "      <td>5</td>\n",
       "      <td>10</td>\n",
       "      <td>15</td>\n",
       "    </tr>\n",
       "    <tr>\n",
       "      <th>1</th>\n",
       "      <td>San Francisco Bay Area, CA</td>\n",
       "      <td>37.336188</td>\n",
       "      <td>-121.889277</td>\n",
       "      <td>11</td>\n",
       "      <td>0</td>\n",
       "      <td>11</td>\n",
       "    </tr>\n",
       "    <tr>\n",
       "      <th>2</th>\n",
       "      <td>San Francisco Bay Area, CA</td>\n",
       "      <td>37.322125</td>\n",
       "      <td>-121.881090</td>\n",
       "      <td>15</td>\n",
       "      <td>7</td>\n",
       "      <td>22</td>\n",
       "    </tr>\n",
       "    <tr>\n",
       "      <th>3</th>\n",
       "      <td>San Francisco Bay Area, CA</td>\n",
       "      <td>37.323678</td>\n",
       "      <td>-121.874119</td>\n",
       "      <td>12</td>\n",
       "      <td>3</td>\n",
       "      <td>15</td>\n",
       "    </tr>\n",
       "    <tr>\n",
       "      <th>4</th>\n",
       "      <td>San Francisco Bay Area, CA</td>\n",
       "      <td>37.325998</td>\n",
       "      <td>-121.877120</td>\n",
       "      <td>13</td>\n",
       "      <td>14</td>\n",
       "      <td>27</td>\n",
       "    </tr>\n",
       "  </tbody>\n",
       "</table>\n",
       "</div>"
      ],
      "text/plain": [
       "                         City   Latitude   Longitude  Free_Bikes  Empty_Slots  \\\n",
       "0  San Francisco Bay Area, CA  37.849735 -122.270582           5           10   \n",
       "1  San Francisco Bay Area, CA  37.336188 -121.889277          11            0   \n",
       "2  San Francisco Bay Area, CA  37.322125 -121.881090          15            7   \n",
       "3  San Francisco Bay Area, CA  37.323678 -121.874119          12            3   \n",
       "4  San Francisco Bay Area, CA  37.325998 -121.877120          13           14   \n",
       "\n",
       "   Total_Bikes  \n",
       "0           15  \n",
       "1           11  \n",
       "2           22  \n",
       "3           15  \n",
       "4           27  "
      ]
     },
     "execution_count": 69,
     "metadata": {},
     "output_type": "execute_result"
    }
   ],
   "source": [
    "df_bikes.head()"
   ]
  },
  {
   "cell_type": "code",
   "execution_count": null,
   "metadata": {},
   "outputs": [],
   "source": []
  },
  {
   "cell_type": "markdown",
   "metadata": {},
   "source": [
    "Union the 3 dataframes for ease and speed as I don't have time to sort out and clean all the dataframes:"
   ]
  },
  {
   "cell_type": "markdown",
   "metadata": {},
   "source": [
    "### EDIT: Below concatanation produced insufficient results (NaN) values - Please see joining_data Notebook for revised Merge Function"
   ]
  },
  {
   "cell_type": "code",
   "execution_count": 25,
   "metadata": {},
   "outputs": [],
   "source": [
    "#bikes_fsq_yelp_union = pd.concat([df_bikes, df_foursquare, df_yelp], ignore_index=True) #ignore_index=True new df has new index."
   ]
  },
  {
   "cell_type": "code",
   "execution_count": 60,
   "metadata": {},
   "outputs": [],
   "source": [
    "#bikes_fsq_yelp_union = pd.merge(df_bikes, df_foursquare, how='outer', on='name')\n",
    "\n",
    "# Merging DataFrames failed\n",
    "#merged_df = pd.merge(df_bikes, df_foursquare, left_on=['Latitude', 'Longitude'], right_on=['latitude', 'longitude'], how='inner')\n"
   ]
  },
  {
   "cell_type": "code",
   "execution_count": 62,
   "metadata": {},
   "outputs": [],
   "source": [
    "#adding 3rd api failed\n",
    "#merged_df = pd.merge(merged_df, df_yelp, left_on=['Latitude', 'Longitude'], right_on=['latitude', 'longitude'], how='inner')"
   ]
  },
  {
   "cell_type": "code",
   "execution_count": 71,
   "metadata": {},
   "outputs": [],
   "source": [
    "#combined_df = pd.concat([df_bikes, df_foursquare, df_yelp], ignore_index=True)"
   ]
  },
  {
   "cell_type": "code",
   "execution_count": 72,
   "metadata": {},
   "outputs": [
    {
     "data": {
      "text/html": [
       "<div>\n",
       "<style scoped>\n",
       "    .dataframe tbody tr th:only-of-type {\n",
       "        vertical-align: middle;\n",
       "    }\n",
       "\n",
       "    .dataframe tbody tr th {\n",
       "        vertical-align: top;\n",
       "    }\n",
       "\n",
       "    .dataframe thead th {\n",
       "        text-align: right;\n",
       "    }\n",
       "</style>\n",
       "<table border=\"1\" class=\"dataframe\">\n",
       "  <thead>\n",
       "    <tr style=\"text-align: right;\">\n",
       "      <th></th>\n",
       "      <th>City</th>\n",
       "      <th>Latitude</th>\n",
       "      <th>Longitude</th>\n",
       "      <th>Free_Bikes</th>\n",
       "      <th>Empty_Slots</th>\n",
       "      <th>Total_Bikes</th>\n",
       "      <th>name</th>\n",
       "      <th>category</th>\n",
       "      <th>closed_bucket</th>\n",
       "      <th>distance</th>\n",
       "      <th>postcode</th>\n",
       "      <th>latitude</th>\n",
       "      <th>longitude</th>\n",
       "      <th>region</th>\n",
       "      <th>location</th>\n",
       "      <th>review_count</th>\n",
       "      <th>rating</th>\n",
       "    </tr>\n",
       "  </thead>\n",
       "  <tbody>\n",
       "    <tr>\n",
       "      <th>570</th>\n",
       "      <td>NaN</td>\n",
       "      <td>NaN</td>\n",
       "      <td>NaN</td>\n",
       "      <td>NaN</td>\n",
       "      <td>NaN</td>\n",
       "      <td>NaN</td>\n",
       "      <td>Taqueria Ole Ole!</td>\n",
       "      <td>mexican</td>\n",
       "      <td>NaN</td>\n",
       "      <td>NaN</td>\n",
       "      <td>NaN</td>\n",
       "      <td>37.800653</td>\n",
       "      <td>-122.215375</td>\n",
       "      <td>NaN</td>\n",
       "      <td>San Francisco Bay Area, CACA</td>\n",
       "      <td>10.0</td>\n",
       "      <td>3.5</td>\n",
       "    </tr>\n",
       "    <tr>\n",
       "      <th>571</th>\n",
       "      <td>NaN</td>\n",
       "      <td>NaN</td>\n",
       "      <td>NaN</td>\n",
       "      <td>NaN</td>\n",
       "      <td>NaN</td>\n",
       "      <td>NaN</td>\n",
       "      <td>World Ground Cafe</td>\n",
       "      <td>coffee</td>\n",
       "      <td>NaN</td>\n",
       "      <td>NaN</td>\n",
       "      <td>NaN</td>\n",
       "      <td>37.792170</td>\n",
       "      <td>-122.198810</td>\n",
       "      <td>NaN</td>\n",
       "      <td>San Francisco Bay Area, CACA</td>\n",
       "      <td>281.0</td>\n",
       "      <td>3.5</td>\n",
       "    </tr>\n",
       "    <tr>\n",
       "      <th>572</th>\n",
       "      <td>NaN</td>\n",
       "      <td>NaN</td>\n",
       "      <td>NaN</td>\n",
       "      <td>NaN</td>\n",
       "      <td>NaN</td>\n",
       "      <td>NaN</td>\n",
       "      <td>Wingstop</td>\n",
       "      <td>chicken_wings</td>\n",
       "      <td>NaN</td>\n",
       "      <td>NaN</td>\n",
       "      <td>NaN</td>\n",
       "      <td>37.790437</td>\n",
       "      <td>-122.197862</td>\n",
       "      <td>NaN</td>\n",
       "      <td>San Francisco Bay Area, CACA</td>\n",
       "      <td>74.0</td>\n",
       "      <td>2.0</td>\n",
       "    </tr>\n",
       "    <tr>\n",
       "      <th>573</th>\n",
       "      <td>NaN</td>\n",
       "      <td>NaN</td>\n",
       "      <td>NaN</td>\n",
       "      <td>NaN</td>\n",
       "      <td>NaN</td>\n",
       "      <td>NaN</td>\n",
       "      <td>Maria’s Mexican Food</td>\n",
       "      <td>tacos</td>\n",
       "      <td>NaN</td>\n",
       "      <td>NaN</td>\n",
       "      <td>NaN</td>\n",
       "      <td>37.790938</td>\n",
       "      <td>-122.205074</td>\n",
       "      <td>NaN</td>\n",
       "      <td>San Francisco Bay Area, CACA</td>\n",
       "      <td>4.0</td>\n",
       "      <td>5.0</td>\n",
       "    </tr>\n",
       "    <tr>\n",
       "      <th>574</th>\n",
       "      <td>NaN</td>\n",
       "      <td>NaN</td>\n",
       "      <td>NaN</td>\n",
       "      <td>NaN</td>\n",
       "      <td>NaN</td>\n",
       "      <td>NaN</td>\n",
       "      <td>Domino's Pizza</td>\n",
       "      <td>pizza</td>\n",
       "      <td>NaN</td>\n",
       "      <td>NaN</td>\n",
       "      <td>NaN</td>\n",
       "      <td>37.792391</td>\n",
       "      <td>-122.199662</td>\n",
       "      <td>NaN</td>\n",
       "      <td>San Francisco Bay Area, CACA</td>\n",
       "      <td>152.0</td>\n",
       "      <td>1.5</td>\n",
       "    </tr>\n",
       "  </tbody>\n",
       "</table>\n",
       "</div>"
      ],
      "text/plain": [
       "    City  Latitude  Longitude  Free_Bikes  Empty_Slots  Total_Bikes  \\\n",
       "570  NaN       NaN        NaN         NaN          NaN          NaN   \n",
       "571  NaN       NaN        NaN         NaN          NaN          NaN   \n",
       "572  NaN       NaN        NaN         NaN          NaN          NaN   \n",
       "573  NaN       NaN        NaN         NaN          NaN          NaN   \n",
       "574  NaN       NaN        NaN         NaN          NaN          NaN   \n",
       "\n",
       "                     name       category closed_bucket  distance postcode  \\\n",
       "570     Taqueria Ole Ole!        mexican           NaN       NaN      NaN   \n",
       "571     World Ground Cafe         coffee           NaN       NaN      NaN   \n",
       "572              Wingstop  chicken_wings           NaN       NaN      NaN   \n",
       "573  Maria’s Mexican Food          tacos           NaN       NaN      NaN   \n",
       "574        Domino's Pizza          pizza           NaN       NaN      NaN   \n",
       "\n",
       "      latitude   longitude region                      location  review_count  \\\n",
       "570  37.800653 -122.215375    NaN  San Francisco Bay Area, CACA          10.0   \n",
       "571  37.792170 -122.198810    NaN  San Francisco Bay Area, CACA         281.0   \n",
       "572  37.790437 -122.197862    NaN  San Francisco Bay Area, CACA          74.0   \n",
       "573  37.790938 -122.205074    NaN  San Francisco Bay Area, CACA           4.0   \n",
       "574  37.792391 -122.199662    NaN  San Francisco Bay Area, CACA         152.0   \n",
       "\n",
       "     rating  \n",
       "570     3.5  \n",
       "571     3.5  \n",
       "572     2.0  \n",
       "573     5.0  \n",
       "574     1.5  "
      ]
     },
     "execution_count": 72,
     "metadata": {},
     "output_type": "execute_result"
    }
   ],
   "source": [
    "#combined_df.tail()"
   ]
  },
  {
   "cell_type": "code",
   "execution_count": 111,
   "metadata": {},
   "outputs": [],
   "source": [
    "# Clean up the lat and lon column\n",
    "# Remove brackets and commas from the 'Latitude' column\n",
    "#combined_df['latitude'] = combined_df['latitude'].str.replace(r'[,\\(\\)]', '', regex=True)\n",
    "\n",
    "# Convert the column to numeric\n",
    "#combined_df['latitudeNew'] = combined_df['latitude'].str[1:-2]\n",
    "#combined_df['latitudeNew'] = combined_df['latitude'].apply(lambda x: x.strip('()'))"
   ]
  },
  {
   "cell_type": "markdown",
   "metadata": {},
   "source": [
    "Export the dataframe so that it can be accessed in the joining_data notebook"
   ]
  },
  {
   "cell_type": "code",
   "execution_count": 73,
   "metadata": {},
   "outputs": [],
   "source": [
    "combined_df.to_csv('..\\data\\combined_apis.csv', index=False)"
   ]
  },
  {
   "cell_type": "code",
   "execution_count": 98,
   "metadata": {},
   "outputs": [
    {
     "data": {
      "text/plain": [
       "location          object\n",
       "Latitude         float64\n",
       "Longitude        float64\n",
       "Free_Bikes       float64\n",
       "Empty_Slots      float64\n",
       "Total_Bikes      float64\n",
       "name              object\n",
       "category          object\n",
       "closed_bucket     object\n",
       "distance         float64\n",
       "postcode          object\n",
       "latitude         float64\n",
       "longitude        float64\n",
       "region            object\n",
       "city              object\n",
       "state             object\n",
       "review_count     float64\n",
       "rating           float64\n",
       "dtype: object"
      ]
     },
     "execution_count": 98,
     "metadata": {},
     "output_type": "execute_result"
    }
   ],
   "source": [
    "combined_df.dtypes"
   ]
  },
  {
   "cell_type": "code",
   "execution_count": null,
   "metadata": {},
   "outputs": [],
   "source": []
  },
  {
   "cell_type": "code",
   "execution_count": null,
   "metadata": {},
   "outputs": [],
   "source": []
  }
 ],
 "metadata": {
  "kernelspec": {
   "display_name": "Python 3 (ipykernel)",
   "language": "python",
   "name": "python3"
  },
  "language_info": {
   "codemirror_mode": {
    "name": "ipython",
    "version": 3
   },
   "file_extension": ".py",
   "mimetype": "text/x-python",
   "name": "python",
   "nbconvert_exporter": "python",
   "pygments_lexer": "ipython3",
   "version": "3.9.18"
  }
 },
 "nbformat": 4,
 "nbformat_minor": 4
}
