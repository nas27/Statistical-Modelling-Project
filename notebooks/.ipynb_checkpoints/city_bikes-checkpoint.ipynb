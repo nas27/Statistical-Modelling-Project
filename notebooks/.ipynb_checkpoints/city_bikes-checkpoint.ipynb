{
 "cells": [
  {
   "cell_type": "markdown",
   "metadata": {},
   "source": [
    "# CityBikes"
   ]
  },
  {
   "cell_type": "markdown",
   "metadata": {},
   "source": [
    "Send a request to CityBikes for the city of your choice. "
   ]
  },
  {
   "cell_type": "markdown",
   "metadata": {},
   "source": [
    "I submitted this URL via postman:"
   ]
  },
  {
   "cell_type": "markdown",
   "metadata": {},
   "source": [
    "In order to find the below I used the URL via browser to play around with the JSON with browser filtering."
   ]
  },
  {
   "cell_type": "code",
   "execution_count": 1,
   "metadata": {},
   "outputs": [],
   "source": [
    "import requests\n",
    "import pandas as pd\n",
    "import json"
   ]
  },
  {
   "cell_type": "code",
   "execution_count": 2,
   "metadata": {},
   "outputs": [
    {
     "name": "stdout",
     "output_type": "stream",
     "text": [
      "<Response [200]>\n"
     ]
    }
   ],
   "source": [
    "#chicago network url\n",
    "url = \"http://api.citybik.es/v2/networks/bay-wheels\"\n",
    "\n",
    "response = requests.get(url)\n",
    "#validate successful response code\n",
    "print(response)"
   ]
  },
  {
   "cell_type": "code",
   "execution_count": 3,
   "metadata": {},
   "outputs": [
    {
     "name": "stdout",
     "output_type": "stream",
     "text": [
      "city:\n",
      " San Francisco Bay Area, CA, country: US, id:d0e8f4f1834b7b33a3faf8882f567ab8 station details in json: \n",
      "{'empty_slots': 4, 'extra': {'ebikes': 0, 'has_ebikes': True, 'last_updated': 1703284567, 'payment': ['key', 'creditcard'], 'payment-terminal': True, 'rental_uris': {'android': 'https://sfo.lft.to/lastmile_qr_scan', 'ios': 'https://sfo.lft.to/lastmile_qr_scan'}, 'renting': 1, 'returning': 1, 'slots': 15, 'uid': 'fd89514c-f878-4cd5-8113-8e5beead44de'}, 'free_bikes': 11, 'id': 'd0e8f4f1834b7b33a3faf8882f567ab8', 'latitude': 37.849735, 'longitude': -122.270582, 'name': 'Harmon St at Adeline St', 'timestamp': '2023-12-22T22:37:29.977000Z'}\n"
     ]
    }
   ],
   "source": [
    "#Testing out what a JSON response, and traversing data points in the response\n",
    "response_json = json.loads(response.text)\n",
    "country = response_json['network']['location']['country']\n",
    "city = response_json['network']['location']['city']\n",
    "station  = response_json['network']['stations'][0]\n",
    "uid  = response_json['network']['stations'][0]['id']\n",
    "print(f\"city:\\n {city}, country: {country}, id:{uid} station details in json: \\n{station}\")"
   ]
  },
  {
   "cell_type": "code",
   "execution_count": 4,
   "metadata": {},
   "outputs": [],
   "source": [
    "# Assuming 'response_json' is your JSON data\n",
    "stations = response_json.get(\"network\", {}).get(\"stations\", [])\n",
    "\n",
    "for station in stations:\n",
    "    # station's properties\n",
    "    station_name = station.get(\"name\", \"N/A\")\n",
    "    station_lat = station.get(\"latitude\",0.00)\n",
    "    station_lon = station.get(\"longitude\",0.00)\n",
    "    station_id = station.get(\"id\")\n",
    "    station_num_bike = station.get(\"free_bikes\",\"N/A\")\n",
    "    station_slots = station.get(\"empty_slots\")\n",
    "    total_bikes = station_num_bike + station_slots\n",
    "    \n",
    "    # Add more attributes as needed\n",
    "    #Print all stations to view output:\n",
    "    #print(f\"Station Name: {station_name}, Lat: {station_lat}, Lon:{station_lon}, number of bikes: {station_num_bike}, empty slots: {station_slots}, tot bikes: {total_bikes}, id:{station_id}\")\n"
   ]
  },
  {
   "cell_type": "markdown",
   "metadata": {},
   "source": [
    "Parse through the response to get the details you want for the bike stations in that city (latitude, longitude, number of bikes). "
   ]
  },
  {
   "cell_type": "code",
   "execution_count": 7,
   "metadata": {},
   "outputs": [
    {
     "name": "stdout",
     "output_type": "stream",
     "text": [
      "City: San Francisco Bay Area, CA \n",
      "Latitude: 37.7141454 \n",
      "Longitude: -122.25 \n",
      "Bikes: 11\n",
      "ID:d0e8f4f1834b7b33a3faf8882f567ab8\n"
     ]
    }
   ],
   "source": [
    "### The below returns one result\n",
    "\n",
    "#attempt to return results on if the server returns success\n",
    "if response.status_code == 200:\n",
    "    data = response.json()\n",
    "    #If the key \"network\" is present, it returns its value; otherwise, it returns an empty dictionary {}.\n",
    "    location = data.get(\"network\", {}).get(\"location\", {})\n",
    "    #stations = data.get(\"network\", {}).get(\"stations\", {})   \n",
    "    city = location.get(\"city\")\n",
    "    latitude = location.get(\"latitude\")\n",
    "    longitude = location.get(\"longitude\")\n",
    "    uid = data.get(\"network\", {}).get(\"stations\", [{}])[0].get(\"id\", None)\n",
    "    #bikes = stations.get(\"free_bikes\")\n",
    "    bikes = data.get(\"network\", {}).get(\"stations\", [{}])[0].get(\"free_bikes\", None)\n",
    "    \n",
    "    # Print values\n",
    "    print(f\"City: {city} \\nLatitude: {latitude} \\nLongitude: {longitude} \\nBikes: {bikes}\\nID:{uid}\")\n",
    "else:\n",
    "    print(f\"Error web response code: {response.status_code}\")\n"
   ]
  },
  {
   "cell_type": "code",
   "execution_count": 8,
   "metadata": {},
   "outputs": [],
   "source": [
    "# Return ALL Results\n",
    "if response.status_code == 200:\n",
    "    data = response.json()\n",
    "    \n",
    "    # Check if \"network\" and \"stations\" keys are present in the response\n",
    "    network_data = data.get(\"network\", {})\n",
    "    stations_list = network_data.get(\"stations\", [])\n",
    "    #empty list to plug into the DF\n",
    "    stations_info = []\n",
    "    \n",
    "    # Loop through stations and extract fields\n",
    "    for station in stations_list:\n",
    "        location = network_data.get(\"location\", {})\n",
    "        city = location.get(\"city\")\n",
    "        uid = station.get(\"id\", None)\n",
    "        latitude = station.get(\"latitude\")\n",
    "        #noticed the lat/long was all the same so it was grabbing the network's latlong not the stations\n",
    "        #longitude = location.get(\"longitude\")\n",
    "        longitude = station.get(\"longitude\")\n",
    "        bikes = station.get(\"free_bikes\", None)\n",
    "        empty_slots = station.get(\"empty_slots\")\n",
    "        total_bikes = bikes + empty_slots\n",
    "\n",
    "        # Append information to the list\n",
    "        stations_info.append({\"City\": city, \"Latitude\": latitude, \"Longitude\": longitude, \"Free_Bikes\": bikes, \"Empty_Slots\": empty_slots, \"Total_Bikes\": total_bikes, \"Id\": uid})\n",
    "\n",
    "    # Create a DataFrame from dictionary\n",
    "        # Print values for each station\n",
    "        #print(f\"City: {city} \\nLatitude: {latitude} \\nLongitude: {longitude} \\nBikes: {bikes}\\n---\")\n",
    "else:\n",
    "    print(f\"Error Response Code: {response.status_code}\")"
   ]
  },
  {
   "cell_type": "markdown",
   "metadata": {},
   "source": [
    "Put your parsed results into a DataFrame."
   ]
  },
  {
   "cell_type": "code",
   "execution_count": 43,
   "metadata": {},
   "outputs": [],
   "source": [
    "df_bikes = pd.DataFrame(stations_info)"
   ]
  },
  {
   "cell_type": "code",
   "execution_count": 47,
   "metadata": {},
   "outputs": [],
   "source": [
    "#Need to differentiate lat/lon of bikes vs POI\n",
    "df_bikes.rename(columns={'Id': 'Bike_Id'}, inplace=True)"
   ]
  },
  {
   "cell_type": "code",
   "execution_count": 45,
   "metadata": {},
   "outputs": [
    {
     "data": {
      "text/html": [
       "<div>\n",
       "<style scoped>\n",
       "    .dataframe tbody tr th:only-of-type {\n",
       "        vertical-align: middle;\n",
       "    }\n",
       "\n",
       "    .dataframe tbody tr th {\n",
       "        vertical-align: top;\n",
       "    }\n",
       "\n",
       "    .dataframe thead th {\n",
       "        text-align: right;\n",
       "    }\n",
       "</style>\n",
       "<table border=\"1\" class=\"dataframe\">\n",
       "  <thead>\n",
       "    <tr style=\"text-align: right;\">\n",
       "      <th></th>\n",
       "      <th>City</th>\n",
       "      <th>Bike_Lat</th>\n",
       "      <th>Bike_Lon</th>\n",
       "      <th>Free_Bikes</th>\n",
       "      <th>Empty_Slots</th>\n",
       "      <th>Total_Bikes</th>\n",
       "      <th>Id</th>\n",
       "    </tr>\n",
       "  </thead>\n",
       "  <tbody>\n",
       "    <tr>\n",
       "      <th>0</th>\n",
       "      <td>San Francisco Bay Area, CA</td>\n",
       "      <td>37.849735</td>\n",
       "      <td>-122.270582</td>\n",
       "      <td>6</td>\n",
       "      <td>9</td>\n",
       "      <td>15</td>\n",
       "      <td>d0e8f4f1834b7b33a3faf8882f567ab8</td>\n",
       "    </tr>\n",
       "    <tr>\n",
       "      <th>1</th>\n",
       "      <td>San Francisco Bay Area, CA</td>\n",
       "      <td>37.336188</td>\n",
       "      <td>-121.889277</td>\n",
       "      <td>11</td>\n",
       "      <td>0</td>\n",
       "      <td>11</td>\n",
       "      <td>983514094dd808b1604da2dcfc2d09af</td>\n",
       "    </tr>\n",
       "    <tr>\n",
       "      <th>2</th>\n",
       "      <td>San Francisco Bay Area, CA</td>\n",
       "      <td>37.322125</td>\n",
       "      <td>-121.881090</td>\n",
       "      <td>14</td>\n",
       "      <td>7</td>\n",
       "      <td>21</td>\n",
       "      <td>da17603652106fda93da4e255a5b0a22</td>\n",
       "    </tr>\n",
       "    <tr>\n",
       "      <th>3</th>\n",
       "      <td>San Francisco Bay Area, CA</td>\n",
       "      <td>37.323678</td>\n",
       "      <td>-121.874119</td>\n",
       "      <td>11</td>\n",
       "      <td>4</td>\n",
       "      <td>15</td>\n",
       "      <td>7a21c92b3b4cd2f7759107b4fdebf869</td>\n",
       "    </tr>\n",
       "    <tr>\n",
       "      <th>4</th>\n",
       "      <td>San Francisco Bay Area, CA</td>\n",
       "      <td>37.325998</td>\n",
       "      <td>-121.877120</td>\n",
       "      <td>8</td>\n",
       "      <td>19</td>\n",
       "      <td>27</td>\n",
       "      <td>ce34d38fb230a23c1ced12d1e16df294</td>\n",
       "    </tr>\n",
       "  </tbody>\n",
       "</table>\n",
       "</div>"
      ],
      "text/plain": [
       "                         City   Bike_Lat    Bike_Lon  Free_Bikes  Empty_Slots  \\\n",
       "0  San Francisco Bay Area, CA  37.849735 -122.270582           6            9   \n",
       "1  San Francisco Bay Area, CA  37.336188 -121.889277          11            0   \n",
       "2  San Francisco Bay Area, CA  37.322125 -121.881090          14            7   \n",
       "3  San Francisco Bay Area, CA  37.323678 -121.874119          11            4   \n",
       "4  San Francisco Bay Area, CA  37.325998 -121.877120           8           19   \n",
       "\n",
       "   Total_Bikes                                Id  \n",
       "0           15  d0e8f4f1834b7b33a3faf8882f567ab8  \n",
       "1           11  983514094dd808b1604da2dcfc2d09af  \n",
       "2           21  da17603652106fda93da4e255a5b0a22  \n",
       "3           15  7a21c92b3b4cd2f7759107b4fdebf869  \n",
       "4           27  ce34d38fb230a23c1ced12d1e16df294  "
      ]
     },
     "execution_count": 45,
     "metadata": {},
     "output_type": "execute_result"
    }
   ],
   "source": [
    "df_bikes.head()"
   ]
  },
  {
   "cell_type": "code",
   "execution_count": 16,
   "metadata": {},
   "outputs": [],
   "source": [
    "#save dataframe as csv export to save on API calls\n",
    "#https://pandas.pydata.org/docs/reference/api/pandas.DataFrame.to_csv.html"
   ]
  },
  {
   "cell_type": "code",
   "execution_count": 54,
   "metadata": {},
   "outputs": [],
   "source": [
    "#export the dataframe to be accessed in a different notebook\n",
    "df_bikes.to_csv('..\\data\\df_bikes.csv', index=False)"
   ]
  },
  {
   "cell_type": "code",
   "execution_count": 50,
   "metadata": {},
   "outputs": [
    {
     "data": {
      "text/plain": [
       "Index(['City', 'Bike_Lat', 'Bike_Lon', 'Free_Bikes', 'Empty_Slots',\n",
       "       'Total_Bikes', 'Bike_Id'],\n",
       "      dtype='object')"
      ]
     },
     "execution_count": 50,
     "metadata": {},
     "output_type": "execute_result"
    }
   ],
   "source": [
    "df_bikes.columns"
   ]
  },
  {
   "cell_type": "code",
   "execution_count": 51,
   "metadata": {},
   "outputs": [
    {
     "data": {
      "text/html": [
       "<div>\n",
       "<style scoped>\n",
       "    .dataframe tbody tr th:only-of-type {\n",
       "        vertical-align: middle;\n",
       "    }\n",
       "\n",
       "    .dataframe tbody tr th {\n",
       "        vertical-align: top;\n",
       "    }\n",
       "\n",
       "    .dataframe thead th {\n",
       "        text-align: right;\n",
       "    }\n",
       "</style>\n",
       "<table border=\"1\" class=\"dataframe\">\n",
       "  <thead>\n",
       "    <tr style=\"text-align: right;\">\n",
       "      <th></th>\n",
       "      <th>Bike_Id</th>\n",
       "      <th>City</th>\n",
       "      <th>Bike_Lat</th>\n",
       "      <th>Bike_Lon</th>\n",
       "      <th>Free_Bikes</th>\n",
       "      <th>Empty_Slots</th>\n",
       "      <th>Total_Bikes</th>\n",
       "    </tr>\n",
       "  </thead>\n",
       "  <tbody>\n",
       "    <tr>\n",
       "      <th>0</th>\n",
       "      <td>d0e8f4f1834b7b33a3faf8882f567ab8</td>\n",
       "      <td>San Francisco Bay Area, CA</td>\n",
       "      <td>37.849735</td>\n",
       "      <td>-122.270582</td>\n",
       "      <td>6</td>\n",
       "      <td>9</td>\n",
       "      <td>15</td>\n",
       "    </tr>\n",
       "    <tr>\n",
       "      <th>1</th>\n",
       "      <td>983514094dd808b1604da2dcfc2d09af</td>\n",
       "      <td>San Francisco Bay Area, CA</td>\n",
       "      <td>37.336188</td>\n",
       "      <td>-121.889277</td>\n",
       "      <td>11</td>\n",
       "      <td>0</td>\n",
       "      <td>11</td>\n",
       "    </tr>\n",
       "    <tr>\n",
       "      <th>2</th>\n",
       "      <td>da17603652106fda93da4e255a5b0a22</td>\n",
       "      <td>San Francisco Bay Area, CA</td>\n",
       "      <td>37.322125</td>\n",
       "      <td>-121.881090</td>\n",
       "      <td>14</td>\n",
       "      <td>7</td>\n",
       "      <td>21</td>\n",
       "    </tr>\n",
       "    <tr>\n",
       "      <th>3</th>\n",
       "      <td>7a21c92b3b4cd2f7759107b4fdebf869</td>\n",
       "      <td>San Francisco Bay Area, CA</td>\n",
       "      <td>37.323678</td>\n",
       "      <td>-121.874119</td>\n",
       "      <td>11</td>\n",
       "      <td>4</td>\n",
       "      <td>15</td>\n",
       "    </tr>\n",
       "    <tr>\n",
       "      <th>4</th>\n",
       "      <td>ce34d38fb230a23c1ced12d1e16df294</td>\n",
       "      <td>San Francisco Bay Area, CA</td>\n",
       "      <td>37.325998</td>\n",
       "      <td>-121.877120</td>\n",
       "      <td>8</td>\n",
       "      <td>19</td>\n",
       "      <td>27</td>\n",
       "    </tr>\n",
       "  </tbody>\n",
       "</table>\n",
       "</div>"
      ],
      "text/plain": [
       "                            Bike_Id                        City   Bike_Lat  \\\n",
       "0  d0e8f4f1834b7b33a3faf8882f567ab8  San Francisco Bay Area, CA  37.849735   \n",
       "1  983514094dd808b1604da2dcfc2d09af  San Francisco Bay Area, CA  37.336188   \n",
       "2  da17603652106fda93da4e255a5b0a22  San Francisco Bay Area, CA  37.322125   \n",
       "3  7a21c92b3b4cd2f7759107b4fdebf869  San Francisco Bay Area, CA  37.323678   \n",
       "4  ce34d38fb230a23c1ced12d1e16df294  San Francisco Bay Area, CA  37.325998   \n",
       "\n",
       "     Bike_Lon  Free_Bikes  Empty_Slots  Total_Bikes  \n",
       "0 -122.270582           6            9           15  \n",
       "1 -121.889277          11            0           11  \n",
       "2 -121.881090          14            7           21  \n",
       "3 -121.874119          11            4           15  \n",
       "4 -121.877120           8           19           27  "
      ]
     },
     "execution_count": 51,
     "metadata": {},
     "output_type": "execute_result"
    }
   ],
   "source": [
    "# New column order\n",
    "column_order = ['Bike_Id', 'City', 'Bike_Lat','Bike_Lon', 'Free_Bikes', 'Empty_Slots','Total_Bikes']\n",
    "\n",
    "# Reorder columns\n",
    "df_bikes = df_bikes[column_order]\n",
    "\n",
    "# View Modified DataFrame\n",
    "df_bikes.head()"
   ]
  },
  {
   "cell_type": "code",
   "execution_count": 53,
   "metadata": {},
   "outputs": [
    {
     "name": "stdout",
     "output_type": "stream",
     "text": [
      "0      32\n",
      "1      32\n",
      "2      32\n",
      "3      32\n",
      "4      32\n",
      "       ..\n",
      "549    32\n",
      "550    32\n",
      "551    32\n",
      "552    32\n",
      "553    32\n",
      "Name: Bike_Id, Length: 554, dtype: int64\n"
     ]
    }
   ],
   "source": [
    "#32 character unique Bike Station ID\n",
    "print(df_bikes['Bike_Id'].str.len())"
   ]
  },
  {
   "cell_type": "code",
   "execution_count": 11,
   "metadata": {},
   "outputs": [],
   "source": []
  },
  {
   "cell_type": "code",
   "execution_count": null,
   "metadata": {},
   "outputs": [],
   "source": []
  },
  {
   "cell_type": "markdown",
   "metadata": {},
   "source": []
  }
 ],
 "metadata": {
  "kernelspec": {
   "display_name": "Python 3 (ipykernel)",
   "language": "python",
   "name": "python3"
  },
  "language_info": {
   "codemirror_mode": {
    "name": "ipython",
    "version": 3
   },
   "file_extension": ".py",
   "mimetype": "text/x-python",
   "name": "python",
   "nbconvert_exporter": "python",
   "pygments_lexer": "ipython3",
   "version": "3.9.18"
  }
 },
 "nbformat": 4,
 "nbformat_minor": 4
}
