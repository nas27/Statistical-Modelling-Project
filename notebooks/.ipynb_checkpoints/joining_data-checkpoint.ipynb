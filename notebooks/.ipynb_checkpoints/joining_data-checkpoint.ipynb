{
 "cells": [
  {
   "cell_type": "markdown",
   "metadata": {},
   "source": [
    "Join the data from Part 1 with the data from Part 2 to create a new dataframe."
   ]
  },
  {
   "cell_type": "markdown",
   "metadata": {},
   "source": [
    "I started by revisiting the initial dataframes and thinking more critically about their structure and keys.\n",
    "I went back and added additional columns that may help to unify the tables."
   ]
  },
  {
   "cell_type": "markdown",
   "metadata": {},
   "source": [
    "step1: export citybikes df \\\n",
    "step2: import citybikes into yelp/foursquare notebook\\\n",
    "step3: concat the 3 dataframes to merge them like a union\\\n",
    "if more time, treat them like data in sql and think critically about what data to include from each df and strategically build out a super dataframe "
   ]
  },
  {
   "cell_type": "markdown",
   "metadata": {},
   "source": [
    "#### Import the new dataframe"
   ]
  },
  {
   "cell_type": "code",
   "execution_count": 1,
   "metadata": {},
   "outputs": [],
   "source": [
    "import pandas as pd\n",
    "import seaborn as sns\n",
    "import matplotlib.pyplot as plt\n",
    "%matplotlib inline"
   ]
  },
  {
   "cell_type": "code",
   "execution_count": 9,
   "metadata": {},
   "outputs": [],
   "source": [
    "csv_file_path_combine = '..\\data\\combined_apis.csv'\n",
    "#csv_file_path_bikes = '..\\data\\df_bikes.csv'\n",
    "#csv_file_path_yelp = '..\\data\\df_yelp.csv'\n",
    "#csv_file_path_fsq = '..\\data\\df_foursquare.csv'\n",
    "\n",
    "# Read the CSV file into a DataFrame\n",
    "api_data_all = pd.read_csv(csv_file_path_combine)\n",
    "#df_bikes = pd.read_csv(csv_file_path_bikes)\n",
    "#df_yelp = pd.read_csv(csv_file_path_yelp)\n",
    "#df_foursquare = pd.read_csv(csv_file_path_fsq)"
   ]
  },
  {
   "cell_type": "code",
   "execution_count": 11,
   "metadata": {},
   "outputs": [
    {
     "data": {
      "text/html": [
       "<div>\n",
       "<style scoped>\n",
       "    .dataframe tbody tr th:only-of-type {\n",
       "        vertical-align: middle;\n",
       "    }\n",
       "\n",
       "    .dataframe tbody tr th {\n",
       "        vertical-align: top;\n",
       "    }\n",
       "\n",
       "    .dataframe thead th {\n",
       "        text-align: right;\n",
       "    }\n",
       "</style>\n",
       "<table border=\"1\" class=\"dataframe\">\n",
       "  <thead>\n",
       "    <tr style=\"text-align: right;\">\n",
       "      <th></th>\n",
       "      <th>City</th>\n",
       "      <th>Latitude</th>\n",
       "      <th>Longitude</th>\n",
       "      <th>Bikes</th>\n",
       "      <th>name</th>\n",
       "      <th>closed_bucket</th>\n",
       "      <th>distance</th>\n",
       "      <th>address</th>\n",
       "      <th>postcode</th>\n",
       "      <th>latitude</th>\n",
       "      <th>longitude</th>\n",
       "      <th>region</th>\n",
       "      <th>city</th>\n",
       "      <th>state</th>\n",
       "      <th>review_count</th>\n",
       "      <th>rating</th>\n",
       "      <th>type</th>\n",
       "    </tr>\n",
       "  </thead>\n",
       "  <tbody>\n",
       "    <tr>\n",
       "      <th>577</th>\n",
       "      <td>NaN</td>\n",
       "      <td>NaN</td>\n",
       "      <td>NaN</td>\n",
       "      <td>NaN</td>\n",
       "      <td>('Taqueria Ole Ole!',)</td>\n",
       "      <td>NaN</td>\n",
       "      <td>NaN</td>\n",
       "      <td>NaN</td>\n",
       "      <td>NaN</td>\n",
       "      <td>(37.8006529,)</td>\n",
       "      <td>(-122.215375,)</td>\n",
       "      <td>NaN</td>\n",
       "      <td>('Oakland',)</td>\n",
       "      <td>('CA',)</td>\n",
       "      <td>(10,)</td>\n",
       "      <td>(3.5,)</td>\n",
       "      <td>mexican</td>\n",
       "    </tr>\n",
       "    <tr>\n",
       "      <th>578</th>\n",
       "      <td>NaN</td>\n",
       "      <td>NaN</td>\n",
       "      <td>NaN</td>\n",
       "      <td>NaN</td>\n",
       "      <td>('Wingstop',)</td>\n",
       "      <td>NaN</td>\n",
       "      <td>NaN</td>\n",
       "      <td>NaN</td>\n",
       "      <td>NaN</td>\n",
       "      <td>(37.79043660473472,)</td>\n",
       "      <td>(-122.19786208250048,)</td>\n",
       "      <td>NaN</td>\n",
       "      <td>('Oakland',)</td>\n",
       "      <td>('CA',)</td>\n",
       "      <td>(74,)</td>\n",
       "      <td>(2.0,)</td>\n",
       "      <td>chicken_wings</td>\n",
       "    </tr>\n",
       "    <tr>\n",
       "      <th>579</th>\n",
       "      <td>NaN</td>\n",
       "      <td>NaN</td>\n",
       "      <td>NaN</td>\n",
       "      <td>NaN</td>\n",
       "      <td>('World Ground Cafe',)</td>\n",
       "      <td>NaN</td>\n",
       "      <td>NaN</td>\n",
       "      <td>NaN</td>\n",
       "      <td>NaN</td>\n",
       "      <td>(37.79217,)</td>\n",
       "      <td>(-122.19881,)</td>\n",
       "      <td>NaN</td>\n",
       "      <td>('Oakland',)</td>\n",
       "      <td>('CA',)</td>\n",
       "      <td>(281,)</td>\n",
       "      <td>(3.5,)</td>\n",
       "      <td>coffee</td>\n",
       "    </tr>\n",
       "    <tr>\n",
       "      <th>580</th>\n",
       "      <td>NaN</td>\n",
       "      <td>NaN</td>\n",
       "      <td>NaN</td>\n",
       "      <td>NaN</td>\n",
       "      <td>('Maria’s Mexican Food',)</td>\n",
       "      <td>NaN</td>\n",
       "      <td>NaN</td>\n",
       "      <td>NaN</td>\n",
       "      <td>NaN</td>\n",
       "      <td>(37.790938,)</td>\n",
       "      <td>(-122.205074,)</td>\n",
       "      <td>NaN</td>\n",
       "      <td>('Oakland',)</td>\n",
       "      <td>('CA',)</td>\n",
       "      <td>(4,)</td>\n",
       "      <td>(5.0,)</td>\n",
       "      <td>tacos</td>\n",
       "    </tr>\n",
       "    <tr>\n",
       "      <th>581</th>\n",
       "      <td>NaN</td>\n",
       "      <td>NaN</td>\n",
       "      <td>NaN</td>\n",
       "      <td>NaN</td>\n",
       "      <td>(\"Domino's Pizza\",)</td>\n",
       "      <td>NaN</td>\n",
       "      <td>NaN</td>\n",
       "      <td>NaN</td>\n",
       "      <td>NaN</td>\n",
       "      <td>(37.79239111935187,)</td>\n",
       "      <td>(-122.19966241522567,)</td>\n",
       "      <td>NaN</td>\n",
       "      <td>('Oakland',)</td>\n",
       "      <td>('CA',)</td>\n",
       "      <td>(152,)</td>\n",
       "      <td>(1.5,)</td>\n",
       "      <td>pizza</td>\n",
       "    </tr>\n",
       "  </tbody>\n",
       "</table>\n",
       "</div>"
      ],
      "text/plain": [
       "    City  Latitude  Longitude  Bikes                       name closed_bucket  \\\n",
       "577  NaN       NaN        NaN    NaN     ('Taqueria Ole Ole!',)           NaN   \n",
       "578  NaN       NaN        NaN    NaN              ('Wingstop',)           NaN   \n",
       "579  NaN       NaN        NaN    NaN     ('World Ground Cafe',)           NaN   \n",
       "580  NaN       NaN        NaN    NaN  ('Maria’s Mexican Food',)           NaN   \n",
       "581  NaN       NaN        NaN    NaN        (\"Domino's Pizza\",)           NaN   \n",
       "\n",
       "     distance address  postcode              latitude               longitude  \\\n",
       "577       NaN     NaN       NaN         (37.8006529,)          (-122.215375,)   \n",
       "578       NaN     NaN       NaN  (37.79043660473472,)  (-122.19786208250048,)   \n",
       "579       NaN     NaN       NaN           (37.79217,)           (-122.19881,)   \n",
       "580       NaN     NaN       NaN          (37.790938,)          (-122.205074,)   \n",
       "581       NaN     NaN       NaN  (37.79239111935187,)  (-122.19966241522567,)   \n",
       "\n",
       "    region          city    state review_count  rating           type  \n",
       "577    NaN  ('Oakland',)  ('CA',)        (10,)  (3.5,)        mexican  \n",
       "578    NaN  ('Oakland',)  ('CA',)        (74,)  (2.0,)  chicken_wings  \n",
       "579    NaN  ('Oakland',)  ('CA',)       (281,)  (3.5,)         coffee  \n",
       "580    NaN  ('Oakland',)  ('CA',)         (4,)  (5.0,)          tacos  \n",
       "581    NaN  ('Oakland',)  ('CA',)       (152,)  (1.5,)          pizza  "
      ]
     },
     "execution_count": 11,
     "metadata": {},
     "output_type": "execute_result"
    }
   ],
   "source": [
    "api_data_all.tail()\n",
    "#df_yelp.head()\n",
    "#df_foursquare.head()"
   ]
  },
  {
   "cell_type": "code",
   "execution_count": 5,
   "metadata": {},
   "outputs": [
    {
     "data": {
      "text/html": [
       "<div>\n",
       "<style scoped>\n",
       "    .dataframe tbody tr th:only-of-type {\n",
       "        vertical-align: middle;\n",
       "    }\n",
       "\n",
       "    .dataframe tbody tr th {\n",
       "        vertical-align: top;\n",
       "    }\n",
       "\n",
       "    .dataframe thead th {\n",
       "        text-align: right;\n",
       "    }\n",
       "</style>\n",
       "<table border=\"1\" class=\"dataframe\">\n",
       "  <thead>\n",
       "    <tr style=\"text-align: right;\">\n",
       "      <th></th>\n",
       "      <th>City</th>\n",
       "      <th>Latitude</th>\n",
       "      <th>Longitude</th>\n",
       "      <th>Bikes</th>\n",
       "    </tr>\n",
       "  </thead>\n",
       "  <tbody>\n",
       "    <tr>\n",
       "      <th>0</th>\n",
       "      <td>San Francisco Bay Area, CA</td>\n",
       "      <td>37.849735</td>\n",
       "      <td>-122.270582</td>\n",
       "      <td>6</td>\n",
       "    </tr>\n",
       "    <tr>\n",
       "      <th>1</th>\n",
       "      <td>San Francisco Bay Area, CA</td>\n",
       "      <td>37.336188</td>\n",
       "      <td>-121.889277</td>\n",
       "      <td>10</td>\n",
       "    </tr>\n",
       "    <tr>\n",
       "      <th>2</th>\n",
       "      <td>San Francisco Bay Area, CA</td>\n",
       "      <td>37.322125</td>\n",
       "      <td>-121.881090</td>\n",
       "      <td>15</td>\n",
       "    </tr>\n",
       "    <tr>\n",
       "      <th>3</th>\n",
       "      <td>San Francisco Bay Area, CA</td>\n",
       "      <td>37.323678</td>\n",
       "      <td>-121.874119</td>\n",
       "      <td>13</td>\n",
       "    </tr>\n",
       "    <tr>\n",
       "      <th>4</th>\n",
       "      <td>San Francisco Bay Area, CA</td>\n",
       "      <td>37.325998</td>\n",
       "      <td>-121.877120</td>\n",
       "      <td>15</td>\n",
       "    </tr>\n",
       "  </tbody>\n",
       "</table>\n",
       "</div>"
      ],
      "text/plain": [
       "                         City   Latitude   Longitude  Bikes\n",
       "0  San Francisco Bay Area, CA  37.849735 -122.270582      6\n",
       "1  San Francisco Bay Area, CA  37.336188 -121.889277     10\n",
       "2  San Francisco Bay Area, CA  37.322125 -121.881090     15\n",
       "3  San Francisco Bay Area, CA  37.323678 -121.874119     13\n",
       "4  San Francisco Bay Area, CA  37.325998 -121.877120     15"
      ]
     },
     "execution_count": 5,
     "metadata": {},
     "output_type": "execute_result"
    }
   ],
   "source": [
    "df_bikes.head()"
   ]
  },
  {
   "cell_type": "markdown",
   "metadata": {},
   "source": [
    "Provide a visualization that you used as part of your EDA process. Explain the initial pattern or relationship you discoved through this visualization. "
   ]
  },
  {
   "cell_type": "code",
   "execution_count": 6,
   "metadata": {},
   "outputs": [
    {
     "name": "stdout",
     "output_type": "stream",
     "text": [
      "Requirement already satisfied: pandas in c:\\users\\nasta\\anaconda3\\envs\\the_one\\lib\\site-packages (2.1.3)\n",
      "Requirement already satisfied: seaborn in c:\\users\\nasta\\anaconda3\\envs\\the_one\\lib\\site-packages (0.13.0)\n",
      "Requirement already satisfied: matplotlib in c:\\users\\nasta\\anaconda3\\envs\\the_one\\lib\\site-packages (3.8.2)\n",
      "Requirement already satisfied: numpy<2,>=1.22.4 in c:\\users\\nasta\\anaconda3\\envs\\the_one\\lib\\site-packages (from pandas) (1.22.4)\n",
      "Requirement already satisfied: python-dateutil>=2.8.2 in c:\\users\\nasta\\anaconda3\\envs\\the_one\\lib\\site-packages (from pandas) (2.8.2)\n",
      "Requirement already satisfied: pytz>=2020.1 in c:\\users\\nasta\\anaconda3\\envs\\the_one\\lib\\site-packages (from pandas) (2023.3.post1)\n",
      "Requirement already satisfied: tzdata>=2022.1 in c:\\users\\nasta\\anaconda3\\envs\\the_one\\lib\\site-packages (from pandas) (2023.3)\n",
      "Requirement already satisfied: contourpy>=1.0.1 in c:\\users\\nasta\\anaconda3\\envs\\the_one\\lib\\site-packages (from matplotlib) (1.2.0)\n",
      "Requirement already satisfied: cycler>=0.10 in c:\\users\\nasta\\anaconda3\\envs\\the_one\\lib\\site-packages (from matplotlib) (0.12.1)\n",
      "Requirement already satisfied: fonttools>=4.22.0 in c:\\users\\nasta\\anaconda3\\envs\\the_one\\lib\\site-packages (from matplotlib) (4.45.1)\n",
      "Requirement already satisfied: kiwisolver>=1.3.1 in c:\\users\\nasta\\anaconda3\\envs\\the_one\\lib\\site-packages (from matplotlib) (1.4.5)\n",
      "Requirement already satisfied: packaging>=20.0 in c:\\users\\nasta\\anaconda3\\envs\\the_one\\lib\\site-packages (from matplotlib) (23.1)\n",
      "Requirement already satisfied: pillow>=8 in c:\\users\\nasta\\anaconda3\\envs\\the_one\\lib\\site-packages (from matplotlib) (10.1.0)\n",
      "Requirement already satisfied: pyparsing>=2.3.1 in c:\\users\\nasta\\anaconda3\\envs\\the_one\\lib\\site-packages (from matplotlib) (3.1.1)\n",
      "Requirement already satisfied: importlib-resources>=3.2.0 in c:\\users\\nasta\\anaconda3\\envs\\the_one\\lib\\site-packages (from matplotlib) (6.1.1)\n",
      "Requirement already satisfied: zipp>=3.1.0 in c:\\users\\nasta\\anaconda3\\envs\\the_one\\lib\\site-packages (from importlib-resources>=3.2.0->matplotlib) (3.11.0)\n",
      "Requirement already satisfied: six>=1.5 in c:\\users\\nasta\\anaconda3\\envs\\the_one\\lib\\site-packages (from python-dateutil>=2.8.2->pandas) (1.16.0)\n",
      "Note: you may need to restart the kernel to use updated packages.\n"
     ]
    }
   ],
   "source": [
    "#pip install pandas seaborn matplotlib"
   ]
  },
  {
   "cell_type": "code",
   "execution_count": 7,
   "metadata": {},
   "outputs": [
    {
     "data": {
      "image/png": "[encoded data removed]",
      "text/plain": [
       "<Figure size 1000x600 with 2 Axes>"
      ]
     },
     "metadata": {},
     "output_type": "display_data"
    }
   ],
   "source": [
    "# Scatterplot\n",
    "plt.figure(figsize=(10, 6))\n",
    "plt.scatter(df_bikes['Longitude'], df_bikes['Latitude'], c=df_bikes['Bikes'], cmap='viridis', s=df_bikes['Bikes']*10, alpha=0.8)\n",
    "\n",
    "# Add colorbar\n",
    "cbar = plt.colorbar()\n",
    "cbar.set_label('Number of Bikes')\n",
    "\n",
    "# Set labels and title\n",
    "plt.xlabel('Longitude')\n",
    "plt.ylabel('Latitude')\n",
    "plt.title('Scatterplot of Bikes by Location')\n",
    "\n",
    "# Show the plot\n",
    "plt.show()"
   ]
  },
  {
   "cell_type": "code",
   "execution_count": null,
   "metadata": {},
   "outputs": [],
   "source": []
  },
  {
   "cell_type": "code",
   "execution_count": null,
   "metadata": {},
   "outputs": [],
   "source": []
  },
  {
   "cell_type": "markdown",
   "metadata": {},
   "source": [
    "# Database"
   ]
  },
  {
   "cell_type": "markdown",
   "metadata": {},
   "source": [
    "Put all your results in an SQLite3 database (remember, SQLite stores its databases as files in your local machine - make sure to create your database in your project's data/ directory!)"
   ]
  },
  {
   "cell_type": "code",
   "execution_count": 49,
   "metadata": {},
   "outputs": [
    {
     "name": "stdout",
     "output_type": "stream",
     "text": [
      "api_data.db, <sqlite3.Connection object at 0x000001E66AB20B70>\n",
      "[('Las Palmas Super Burritos and Heros', 'Unsure', 33, '3221 Adeline St', 94703, 37.850052, -122.270523, 'San Francisco Bay Area, CA'), ('Washingtown', 'LikelyOpen', 56, '3215 Adeline St', 94703, 37.850193, -122.270387, 'San Francisco Bay Area, CA'), ('Vault Cafe', 'LikelyOpen', 66, '3250 Adeline St', 94703, 37.849484, -122.271567, 'San Francisco Bay Area, CA'), (\"Domino's Pizza\", 'VeryLikelyOpen', 113, '3264 Adeline St', 94703, 37.849278, -122.271698, 'San Francisco Bay Area, CA'), ('Rasa Caffe', 'LikelyOpen', 141, '3140 Martin Luther King Jr Way', 94703, 37.850958, -122.271077, 'San Francisco Bay Area, CA'), ('44 Restaurant, Bar & Lounge', 'Unsure', 147, '3290 Adeline St', 94703, 37.848877, -122.271819, 'San Francisco Bay Area, CA'), ('Sweet Adeline Bakeshop', 'Unsure', 275, '3350 Adeline St', 94703, 37.847533, -122.272315, 'San Francisco Bay Area, CA'), ('Subway', 'VeryLikelyOpen', 409, '6341 Shattuck Ave', 94609, 37.849356, -122.265888, 'San Francisco Bay Area, CA'), ('Nomad Cafe', 'LikelyOpen', 425, '6500 Shattuck Ave', 94609, 37.850483, -122.265666, 'San Francisco Bay Area, CA'), ('Berkeley Flea Market', 'VeryLikelyOpen', 435, '1937 Ashby Ave', 94703, 37.8546, -122.270426, 'San Francisco Bay Area, CA')]\n"
     ]
    }
   ],
   "source": [
    "import sqlite3\n",
    "\n",
    "# This will store data for the 3 apis that i am working with (yelp, citybikes, foursquare)\n",
    "database_name = 'api_data.db'\n",
    "#need to specify an absolute path, as it created this in the notebook directory and i moved it manually\n",
    "#database_path = rf\"f..\\data\\{database_name}\"\n",
    "\n",
    "# Connect to the SQLite database (this will create the database if it doesn't exist)\n",
    "conn = sqlite3.connect(database_name)\n",
    "print(f\"{database_name}, {conn}\")\n",
    "\n",
    "# Create a cursor object\n",
    "cursor = conn.cursor()\n",
    "\n",
    "df_bikes.to_sql('bike_data', conn, index=False, if_exists='replace')  \n",
    "df_foursquare.to_sql('foursquare_data', conn, index=False, if_exists='replace')  \n",
    "df_yelp.to_sql('yelp_data', conn, index=False, if_exists='replace')  \n",
    "#api_data_all.to_sql('combined_apis.csv', conn, index=False, if_exists='replace')  \n",
    "\n",
    "# Execute a query, for example, to get the list of tables\n",
    "cursor.execute(\"SELECT name FROM sqlite_master WHERE type='table';\")\n",
    "cursor.execute(\"SELECT * FROM bike_data LIMIT 10;\")\n",
    "cursor.execute(\"SELECT * FROM yelp_data LIMIT 10;\")\n",
    "cursor.execute(\"SELECT * FROM foursquare_data LIMIT 10;\")\n",
    "\n",
    "\n",
    "# Fetch all the results\n",
    "fetchedData = cursor.fetchall()\n",
    "\n",
    "# Print the list of tables\n",
    "print(fetchedData)\n",
    "\n",
    "\n",
    "# Close the connection\n",
    "conn.close()"
   ]
  },
  {
   "cell_type": "code",
   "execution_count": null,
   "metadata": {},
   "outputs": [],
   "source": []
  },
  {
   "cell_type": "markdown",
   "metadata": {},
   "source": [
    "#### Look at the data before and after the join to validate your data."
   ]
  },
  {
   "cell_type": "markdown",
   "metadata": {},
   "source": [
    "I was unable to union because the tables column are not compatible. Also I could not perform a SQL join as there is no common key that matches all tables. Database would require more finnagling before this would work."
   ]
  },
  {
   "cell_type": "code",
   "execution_count": null,
   "metadata": {},
   "outputs": [],
   "source": []
  }
 ],
 "metadata": {
  "kernelspec": {
   "display_name": "Python 3 (ipykernel)",
   "language": "python",
   "name": "python3"
  },
  "language_info": {
   "codemirror_mode": {
    "name": "ipython",
    "version": 3
   },
   "file_extension": ".py",
   "mimetype": "text/x-python",
   "name": "python",
   "nbconvert_exporter": "python",
   "pygments_lexer": "ipython3",
   "version": "3.9.18"
  }
 },
 "nbformat": 4,
 "nbformat_minor": 4
}
