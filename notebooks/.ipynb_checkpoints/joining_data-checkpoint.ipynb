{
 "cells": [
  {
   "cell_type": "markdown",
   "metadata": {},
   "source": [
    "Join the data from Part 1 with the data from Part 2 to create a new dataframe."
   ]
  },
  {
   "cell_type": "markdown",
   "metadata": {},
   "source": [
    "I started by revisiting the initial dataframes and thinking more critically about their structure and keys.\n",
    "I went back and added additional columns that may help to unify the tables."
   ]
  },
  {
   "cell_type": "markdown",
   "metadata": {},
   "source": [
    "Approach: Use Merge function to essentially 'join' the dataframes with a common column, in this case, columns (lat/long)"
   ]
  },
  {
   "cell_type": "markdown",
   "metadata": {},
   "source": [
    "#### Import the new dataframe"
   ]
  },
  {
   "cell_type": "code",
   "execution_count": 2,
   "metadata": {},
   "outputs": [],
   "source": [
    "import pandas as pd\n",
    "import seaborn as sns\n",
    "import matplotlib.pyplot as plt\n",
    "%matplotlib inline"
   ]
  },
  {
   "cell_type": "code",
   "execution_count": 4,
   "metadata": {},
   "outputs": [],
   "source": [
    "#csv_file_path_combine = '..\\data\\combined_apis.csv'\n",
    "#csv_file_path_bikes = '..\\data\\df_bikes.csv'\n",
    "#will change this once i fix df_all_yelp\n",
    "#csv_file_path_yelp = '..\\data\\df_all_yelp.csv'\n",
    "csv_file_path_yelp = '..\\data\\df_yelp.csv'\n",
    "#csv_file_path_fsq = '..\\data\\df_fsq.csv'\n",
    "\n",
    "# Read the CSV file into a DataFrame\n",
    "#api_data_all = pd.read_csv(csv_file_path_combine)\n",
    "#df_bikes = pd.read_csv(csv_file_path_bikes)\n",
    "df_yelp = pd.read_csv(csv_file_path_yelp)\n",
    "#df_foursquare = pd.read_csv(csv_file_path_fsq)"
   ]
  },
  {
   "cell_type": "code",
   "execution_count": 6,
   "metadata": {},
   "outputs": [
    {
     "data": {
      "text/html": [
       "<div>\n",
       "<style scoped>\n",
       "    .dataframe tbody tr th:only-of-type {\n",
       "        vertical-align: middle;\n",
       "    }\n",
       "\n",
       "    .dataframe tbody tr th {\n",
       "        vertical-align: top;\n",
       "    }\n",
       "\n",
       "    .dataframe thead th {\n",
       "        text-align: right;\n",
       "    }\n",
       "</style>\n",
       "<table border=\"1\" class=\"dataframe\">\n",
       "  <thead>\n",
       "    <tr style=\"text-align: right;\">\n",
       "      <th></th>\n",
       "      <th>city</th>\n",
       "      <th>state</th>\n",
       "      <th>name</th>\n",
       "      <th>review_count</th>\n",
       "      <th>rating</th>\n",
       "      <th>latitude</th>\n",
       "      <th>longitude</th>\n",
       "      <th>category</th>\n",
       "    </tr>\n",
       "  </thead>\n",
       "  <tbody>\n",
       "    <tr>\n",
       "      <th>0</th>\n",
       "      <td>San Francisco Bay Area, CA</td>\n",
       "      <td>CA</td>\n",
       "      <td>Cafe Noir</td>\n",
       "      <td>11</td>\n",
       "      <td>5.0</td>\n",
       "      <td>37.798756</td>\n",
       "      <td>-122.208274</td>\n",
       "      <td>burgers</td>\n",
       "    </tr>\n",
       "    <tr>\n",
       "      <th>1</th>\n",
       "      <td>San Francisco Bay Area, CA</td>\n",
       "      <td>CA</td>\n",
       "      <td>Wawa Thai Food</td>\n",
       "      <td>243</td>\n",
       "      <td>4.5</td>\n",
       "      <td>37.797169</td>\n",
       "      <td>-122.204842</td>\n",
       "      <td>thai</td>\n",
       "    </tr>\n",
       "    <tr>\n",
       "      <th>2</th>\n",
       "      <td>San Francisco Bay Area, CA</td>\n",
       "      <td>CA</td>\n",
       "      <td>Bombera</td>\n",
       "      <td>278</td>\n",
       "      <td>4.0</td>\n",
       "      <td>37.799530</td>\n",
       "      <td>-122.215200</td>\n",
       "      <td>mexican</td>\n",
       "    </tr>\n",
       "    <tr>\n",
       "      <th>3</th>\n",
       "      <td>San Francisco Bay Area, CA</td>\n",
       "      <td>CA</td>\n",
       "      <td>The Saint Sandwich Shop</td>\n",
       "      <td>239</td>\n",
       "      <td>4.5</td>\n",
       "      <td>37.797250</td>\n",
       "      <td>-122.204370</td>\n",
       "      <td>sandwiches</td>\n",
       "    </tr>\n",
       "    <tr>\n",
       "      <th>4</th>\n",
       "      <td>San Francisco Bay Area, CA</td>\n",
       "      <td>CA</td>\n",
       "      <td>Phnom Penh House Restaurant</td>\n",
       "      <td>506</td>\n",
       "      <td>4.5</td>\n",
       "      <td>37.791010</td>\n",
       "      <td>-122.197760</td>\n",
       "      <td>cambodian</td>\n",
       "    </tr>\n",
       "  </tbody>\n",
       "</table>\n",
       "</div>"
      ],
      "text/plain": [
       "                         city state                         name  \\\n",
       "0  San Francisco Bay Area, CA    CA                    Cafe Noir   \n",
       "1  San Francisco Bay Area, CA    CA               Wawa Thai Food   \n",
       "2  San Francisco Bay Area, CA    CA                      Bombera   \n",
       "3  San Francisco Bay Area, CA    CA      The Saint Sandwich Shop   \n",
       "4  San Francisco Bay Area, CA    CA  Phnom Penh House Restaurant   \n",
       "\n",
       "   review_count  rating   latitude   longitude    category  \n",
       "0            11     5.0  37.798756 -122.208274     burgers  \n",
       "1           243     4.5  37.797169 -122.204842        thai  \n",
       "2           278     4.0  37.799530 -122.215200     mexican  \n",
       "3           239     4.5  37.797250 -122.204370  sandwiches  \n",
       "4           506     4.5  37.791010 -122.197760   cambodian  "
      ]
     },
     "execution_count": 6,
     "metadata": {},
     "output_type": "execute_result"
    }
   ],
   "source": [
    "#api_data_all.tail()\n",
    "df_yelp.head()\n",
    "#df_bikes.head()\n",
    "#df_foursquare.tail()"
   ]
  },
  {
   "cell_type": "code",
   "execution_count": 13,
   "metadata": {},
   "outputs": [],
   "source": [
    "#issue with my col nameing\n",
    "df_foursquare.rename(columns={'Bike_Long': 'Bike_Lon'}, inplace=True)"
   ]
  },
  {
   "cell_type": "code",
   "execution_count": 21,
   "metadata": {},
   "outputs": [],
   "source": [
    "#Join bikes with 4Sq data based on common bike id which should encapsulate the lat/long, left as i want to ensure I retain details from the bike station with matches pulled from 4s\n",
    "bikes_foursquare = df_bikes.merge(df_foursquare, how='left', left_on=\"Bike_Id\", right_on=\"Bike_Id\")"
   ]
  },
  {
   "cell_type": "code",
   "execution_count": 22,
   "metadata": {},
   "outputs": [
    {
     "data": {
      "text/html": [
       "<div>\n",
       "<style scoped>\n",
       "    .dataframe tbody tr th:only-of-type {\n",
       "        vertical-align: middle;\n",
       "    }\n",
       "\n",
       "    .dataframe tbody tr th {\n",
       "        vertical-align: top;\n",
       "    }\n",
       "\n",
       "    .dataframe thead th {\n",
       "        text-align: right;\n",
       "    }\n",
       "</style>\n",
       "<table border=\"1\" class=\"dataframe\">\n",
       "  <thead>\n",
       "    <tr style=\"text-align: right;\">\n",
       "      <th></th>\n",
       "      <th>Bike_Id</th>\n",
       "      <th>City</th>\n",
       "      <th>Bike_Lat_x</th>\n",
       "      <th>Bike_Lon_x</th>\n",
       "      <th>Free_Bikes</th>\n",
       "      <th>Empty_Slots</th>\n",
       "      <th>Total_Bikes</th>\n",
       "      <th>Bike_Lat_y</th>\n",
       "      <th>Bike_Lon_y</th>\n",
       "      <th>name</th>\n",
       "      <th>distance</th>\n",
       "      <th>postcode</th>\n",
       "    </tr>\n",
       "  </thead>\n",
       "  <tbody>\n",
       "    <tr>\n",
       "      <th>1657</th>\n",
       "      <td>9b0277ca0bdb11f026046354302f18f8</td>\n",
       "      <td>San Francisco Bay Area, CA</td>\n",
       "      <td>37.763443</td>\n",
       "      <td>-122.483554</td>\n",
       "      <td>0</td>\n",
       "      <td>19</td>\n",
       "      <td>19</td>\n",
       "      <td>37.763443</td>\n",
       "      <td>-122.483554</td>\n",
       "      <td>Fiery Hot Pot and Grill</td>\n",
       "      <td>51</td>\n",
       "      <td>94122</td>\n",
       "    </tr>\n",
       "    <tr>\n",
       "      <th>1658</th>\n",
       "      <td>9b0277ca0bdb11f026046354302f18f8</td>\n",
       "      <td>San Francisco Bay Area, CA</td>\n",
       "      <td>37.763443</td>\n",
       "      <td>-122.483554</td>\n",
       "      <td>0</td>\n",
       "      <td>19</td>\n",
       "      <td>19</td>\n",
       "      <td>37.763443</td>\n",
       "      <td>-122.483554</td>\n",
       "      <td>SJ Crawfish</td>\n",
       "      <td>59</td>\n",
       "      <td>94122</td>\n",
       "    </tr>\n",
       "    <tr>\n",
       "      <th>1659</th>\n",
       "      <td>71b5470b524f2f696ab84351d0e7364e</td>\n",
       "      <td>San Francisco Bay Area, CA</td>\n",
       "      <td>37.781361</td>\n",
       "      <td>-122.418530</td>\n",
       "      <td>1</td>\n",
       "      <td>30</td>\n",
       "      <td>31</td>\n",
       "      <td>37.781361</td>\n",
       "      <td>-122.418530</td>\n",
       "      <td>Outta Sight Pizza</td>\n",
       "      <td>137</td>\n",
       "      <td>94102</td>\n",
       "    </tr>\n",
       "    <tr>\n",
       "      <th>1660</th>\n",
       "      <td>71b5470b524f2f696ab84351d0e7364e</td>\n",
       "      <td>San Francisco Bay Area, CA</td>\n",
       "      <td>37.781361</td>\n",
       "      <td>-122.418530</td>\n",
       "      <td>1</td>\n",
       "      <td>30</td>\n",
       "      <td>31</td>\n",
       "      <td>37.781361</td>\n",
       "      <td>-122.418530</td>\n",
       "      <td>Philz Coffee</td>\n",
       "      <td>143</td>\n",
       "      <td>94102</td>\n",
       "    </tr>\n",
       "    <tr>\n",
       "      <th>1661</th>\n",
       "      <td>71b5470b524f2f696ab84351d0e7364e</td>\n",
       "      <td>San Francisco Bay Area, CA</td>\n",
       "      <td>37.781361</td>\n",
       "      <td>-122.418530</td>\n",
       "      <td>1</td>\n",
       "      <td>30</td>\n",
       "      <td>31</td>\n",
       "      <td>37.781361</td>\n",
       "      <td>-122.418530</td>\n",
       "      <td>Emperor Norton's Boozeland</td>\n",
       "      <td>152</td>\n",
       "      <td>94102</td>\n",
       "    </tr>\n",
       "  </tbody>\n",
       "</table>\n",
       "</div>"
      ],
      "text/plain": [
       "                               Bike_Id                        City  \\\n",
       "1657  9b0277ca0bdb11f026046354302f18f8  San Francisco Bay Area, CA   \n",
       "1658  9b0277ca0bdb11f026046354302f18f8  San Francisco Bay Area, CA   \n",
       "1659  71b5470b524f2f696ab84351d0e7364e  San Francisco Bay Area, CA   \n",
       "1660  71b5470b524f2f696ab84351d0e7364e  San Francisco Bay Area, CA   \n",
       "1661  71b5470b524f2f696ab84351d0e7364e  San Francisco Bay Area, CA   \n",
       "\n",
       "      Bike_Lat_x  Bike_Lon_x  Free_Bikes  Empty_Slots  Total_Bikes  \\\n",
       "1657   37.763443 -122.483554           0           19           19   \n",
       "1658   37.763443 -122.483554           0           19           19   \n",
       "1659   37.781361 -122.418530           1           30           31   \n",
       "1660   37.781361 -122.418530           1           30           31   \n",
       "1661   37.781361 -122.418530           1           30           31   \n",
       "\n",
       "      Bike_Lat_y  Bike_Lon_y                        name  distance  postcode  \n",
       "1657   37.763443 -122.483554     Fiery Hot Pot and Grill        51     94122  \n",
       "1658   37.763443 -122.483554                 SJ Crawfish        59     94122  \n",
       "1659   37.781361 -122.418530           Outta Sight Pizza       137     94102  \n",
       "1660   37.781361 -122.418530                Philz Coffee       143     94102  \n",
       "1661   37.781361 -122.418530  Emperor Norton's Boozeland       152     94102  "
      ]
     },
     "execution_count": 22,
     "metadata": {},
     "output_type": "execute_result"
    }
   ],
   "source": [
    "bikes_foursquare.tail()"
   ]
  },
  {
   "cell_type": "code",
   "execution_count": 26,
   "metadata": {},
   "outputs": [],
   "source": [
    "# Merge the newly created bikes_foursquare dataframe with yelp\n",
    "# suffixes to differentiate the redundant data from merge (possibly delete later)\n",
    "bikes_foursquare_yelp = bikes_foursquare.merge(df_yelp, how=\"left\", left_on=\"Bike_Id\", right_on=\"Bike_Id\", suffixes=('_fsq', '_yelp'))"
   ]
  },
  {
   "cell_type": "code",
   "execution_count": 25,
   "metadata": {},
   "outputs": [],
   "source": [
    "bikes_foursquare_yelp.to_csv('..\\data\\df_all_data.csv', index=False)"
   ]
  },
  {
   "cell_type": "code",
   "execution_count": 27,
   "metadata": {},
   "outputs": [
    {
     "data": {
      "text/html": [
       "<div>\n",
       "<style scoped>\n",
       "    .dataframe tbody tr th:only-of-type {\n",
       "        vertical-align: middle;\n",
       "    }\n",
       "\n",
       "    .dataframe tbody tr th {\n",
       "        vertical-align: top;\n",
       "    }\n",
       "\n",
       "    .dataframe thead th {\n",
       "        text-align: right;\n",
       "    }\n",
       "</style>\n",
       "<table border=\"1\" class=\"dataframe\">\n",
       "  <thead>\n",
       "    <tr style=\"text-align: right;\">\n",
       "      <th></th>\n",
       "      <th>Bike_Id</th>\n",
       "      <th>City</th>\n",
       "      <th>Bike_Lat_x</th>\n",
       "      <th>Bike_Lon_x</th>\n",
       "      <th>Free_Bikes</th>\n",
       "      <th>Empty_Slots</th>\n",
       "      <th>Total_Bikes</th>\n",
       "      <th>Bike_Lat_y</th>\n",
       "      <th>Bike_Lon_y</th>\n",
       "      <th>name_fsq</th>\n",
       "      <th>distance_fsq</th>\n",
       "      <th>postcode</th>\n",
       "      <th>Bike_Lat</th>\n",
       "      <th>Bike_Long</th>\n",
       "      <th>name_yelp</th>\n",
       "      <th>review_count</th>\n",
       "      <th>categories</th>\n",
       "      <th>rating</th>\n",
       "      <th>display_address</th>\n",
       "      <th>distance_yelp</th>\n",
       "    </tr>\n",
       "  </thead>\n",
       "  <tbody>\n",
       "    <tr>\n",
       "      <th>0</th>\n",
       "      <td>d0e8f4f1834b7b33a3faf8882f567ab8</td>\n",
       "      <td>San Francisco Bay Area, CA</td>\n",
       "      <td>37.849735</td>\n",
       "      <td>-122.270582</td>\n",
       "      <td>6</td>\n",
       "      <td>9</td>\n",
       "      <td>15</td>\n",
       "      <td>37.849735</td>\n",
       "      <td>-122.270582</td>\n",
       "      <td>El Tiny Cafe</td>\n",
       "      <td>26</td>\n",
       "      <td>94703</td>\n",
       "      <td>37.849735</td>\n",
       "      <td>-122.270582</td>\n",
       "      <td>Shewhat</td>\n",
       "      <td>243.0</td>\n",
       "      <td>Ethiopian, Eritrean</td>\n",
       "      <td>5.0</td>\n",
       "      <td>6101 Shattuck Ave, Oakland, CA 94609</td>\n",
       "      <td>541.695667</td>\n",
       "    </tr>\n",
       "    <tr>\n",
       "      <th>1</th>\n",
       "      <td>d0e8f4f1834b7b33a3faf8882f567ab8</td>\n",
       "      <td>San Francisco Bay Area, CA</td>\n",
       "      <td>37.849735</td>\n",
       "      <td>-122.270582</td>\n",
       "      <td>6</td>\n",
       "      <td>9</td>\n",
       "      <td>15</td>\n",
       "      <td>37.849735</td>\n",
       "      <td>-122.270582</td>\n",
       "      <td>El Tiny Cafe</td>\n",
       "      <td>26</td>\n",
       "      <td>94703</td>\n",
       "      <td>37.849735</td>\n",
       "      <td>-122.270582</td>\n",
       "      <td>Creekwood</td>\n",
       "      <td>458.0</td>\n",
       "      <td>Italian, New American</td>\n",
       "      <td>4.5</td>\n",
       "      <td>3121 Sacramento St, Berkeley, CA 94702</td>\n",
       "      <td>684.391900</td>\n",
       "    </tr>\n",
       "    <tr>\n",
       "      <th>2</th>\n",
       "      <td>d0e8f4f1834b7b33a3faf8882f567ab8</td>\n",
       "      <td>San Francisco Bay Area, CA</td>\n",
       "      <td>37.849735</td>\n",
       "      <td>-122.270582</td>\n",
       "      <td>6</td>\n",
       "      <td>9</td>\n",
       "      <td>15</td>\n",
       "      <td>37.849735</td>\n",
       "      <td>-122.270582</td>\n",
       "      <td>El Tiny Cafe</td>\n",
       "      <td>26</td>\n",
       "      <td>94703</td>\n",
       "      <td>37.849735</td>\n",
       "      <td>-122.270582</td>\n",
       "      <td>The Fat Fish</td>\n",
       "      <td>190.0</td>\n",
       "      <td>Fish &amp; Chips</td>\n",
       "      <td>4.0</td>\n",
       "      <td>3221 Adeline St, Berkeley, CA 94703</td>\n",
       "      <td>29.930556</td>\n",
       "    </tr>\n",
       "    <tr>\n",
       "      <th>3</th>\n",
       "      <td>d0e8f4f1834b7b33a3faf8882f567ab8</td>\n",
       "      <td>San Francisco Bay Area, CA</td>\n",
       "      <td>37.849735</td>\n",
       "      <td>-122.270582</td>\n",
       "      <td>6</td>\n",
       "      <td>9</td>\n",
       "      <td>15</td>\n",
       "      <td>37.849735</td>\n",
       "      <td>-122.270582</td>\n",
       "      <td>Las Palmas Super Burritos and Heros</td>\n",
       "      <td>33</td>\n",
       "      <td>94703</td>\n",
       "      <td>37.849735</td>\n",
       "      <td>-122.270582</td>\n",
       "      <td>Shewhat</td>\n",
       "      <td>243.0</td>\n",
       "      <td>Ethiopian, Eritrean</td>\n",
       "      <td>5.0</td>\n",
       "      <td>6101 Shattuck Ave, Oakland, CA 94609</td>\n",
       "      <td>541.695667</td>\n",
       "    </tr>\n",
       "    <tr>\n",
       "      <th>4</th>\n",
       "      <td>d0e8f4f1834b7b33a3faf8882f567ab8</td>\n",
       "      <td>San Francisco Bay Area, CA</td>\n",
       "      <td>37.849735</td>\n",
       "      <td>-122.270582</td>\n",
       "      <td>6</td>\n",
       "      <td>9</td>\n",
       "      <td>15</td>\n",
       "      <td>37.849735</td>\n",
       "      <td>-122.270582</td>\n",
       "      <td>Las Palmas Super Burritos and Heros</td>\n",
       "      <td>33</td>\n",
       "      <td>94703</td>\n",
       "      <td>37.849735</td>\n",
       "      <td>-122.270582</td>\n",
       "      <td>Creekwood</td>\n",
       "      <td>458.0</td>\n",
       "      <td>Italian, New American</td>\n",
       "      <td>4.5</td>\n",
       "      <td>3121 Sacramento St, Berkeley, CA 94702</td>\n",
       "      <td>684.391900</td>\n",
       "    </tr>\n",
       "  </tbody>\n",
       "</table>\n",
       "</div>"
      ],
      "text/plain": [
       "                            Bike_Id                        City  Bike_Lat_x  \\\n",
       "0  d0e8f4f1834b7b33a3faf8882f567ab8  San Francisco Bay Area, CA   37.849735   \n",
       "1  d0e8f4f1834b7b33a3faf8882f567ab8  San Francisco Bay Area, CA   37.849735   \n",
       "2  d0e8f4f1834b7b33a3faf8882f567ab8  San Francisco Bay Area, CA   37.849735   \n",
       "3  d0e8f4f1834b7b33a3faf8882f567ab8  San Francisco Bay Area, CA   37.849735   \n",
       "4  d0e8f4f1834b7b33a3faf8882f567ab8  San Francisco Bay Area, CA   37.849735   \n",
       "\n",
       "   Bike_Lon_x  Free_Bikes  Empty_Slots  Total_Bikes  Bike_Lat_y  Bike_Lon_y  \\\n",
       "0 -122.270582           6            9           15   37.849735 -122.270582   \n",
       "1 -122.270582           6            9           15   37.849735 -122.270582   \n",
       "2 -122.270582           6            9           15   37.849735 -122.270582   \n",
       "3 -122.270582           6            9           15   37.849735 -122.270582   \n",
       "4 -122.270582           6            9           15   37.849735 -122.270582   \n",
       "\n",
       "                              name_fsq  distance_fsq  postcode   Bike_Lat  \\\n",
       "0                         El Tiny Cafe            26     94703  37.849735   \n",
       "1                         El Tiny Cafe            26     94703  37.849735   \n",
       "2                         El Tiny Cafe            26     94703  37.849735   \n",
       "3  Las Palmas Super Burritos and Heros            33     94703  37.849735   \n",
       "4  Las Palmas Super Burritos and Heros            33     94703  37.849735   \n",
       "\n",
       "    Bike_Long     name_yelp  review_count             categories  rating  \\\n",
       "0 -122.270582       Shewhat         243.0    Ethiopian, Eritrean     5.0   \n",
       "1 -122.270582     Creekwood         458.0  Italian, New American     4.5   \n",
       "2 -122.270582  The Fat Fish         190.0           Fish & Chips     4.0   \n",
       "3 -122.270582       Shewhat         243.0    Ethiopian, Eritrean     5.0   \n",
       "4 -122.270582     Creekwood         458.0  Italian, New American     4.5   \n",
       "\n",
       "                          display_address  distance_yelp  \n",
       "0    6101 Shattuck Ave, Oakland, CA 94609     541.695667  \n",
       "1  3121 Sacramento St, Berkeley, CA 94702     684.391900  \n",
       "2     3221 Adeline St, Berkeley, CA 94703      29.930556  \n",
       "3    6101 Shattuck Ave, Oakland, CA 94609     541.695667  \n",
       "4  3121 Sacramento St, Berkeley, CA 94702     684.391900  "
      ]
     },
     "execution_count": 27,
     "metadata": {},
     "output_type": "execute_result"
    }
   ],
   "source": [
    "bikes_foursquare_yelp.head()"
   ]
  },
  {
   "cell_type": "markdown",
   "metadata": {},
   "source": [
    "### EDA Datavisualization"
   ]
  },
  {
   "cell_type": "markdown",
   "metadata": {},
   "source": [
    "Provide a visualization that you used as part of your EDA process. Explain the initial pattern or relationship you discoved through this visualization. "
   ]
  },
  {
   "cell_type": "code",
   "execution_count": 26,
   "metadata": {},
   "outputs": [],
   "source": [
    "#pip install pandas seaborn matplotlib"
   ]
  },
  {
   "cell_type": "code",
   "execution_count": 9,
   "metadata": {},
   "outputs": [
    {
     "data": {
      "text/plain": [
       "([0, 1, 2, 3, 4, 5, 6, 7, 8, 9, 10, 11, 12, 13],\n",
       " [Text(0, 0, 'burgers'),\n",
       "  Text(1, 0, 'thai'),\n",
       "  Text(2, 0, 'mexican'),\n",
       "  Text(3, 0, 'sandwiches'),\n",
       "  Text(4, 0, 'cambodian'),\n",
       "  Text(5, 0, 'foodtrucks'),\n",
       "  Text(6, 0, 'diners'),\n",
       "  Text(7, 0, 'bakeries'),\n",
       "  Text(8, 0, 'chinese'),\n",
       "  Text(9, 0, 'breakfast_brunch'),\n",
       "  Text(10, 0, 'coffee'),\n",
       "  Text(11, 0, 'chicken_wings'),\n",
       "  Text(12, 0, 'tacos'),\n",
       "  Text(13, 0, 'pizza')])"
      ]
     },
     "execution_count": 9,
     "metadata": {},
     "output_type": "execute_result"
    },
    {
     "data": {
      "image/png": "[encoded data removed]",
      "text/plain": [
       "<Figure size 640x480 with 1 Axes>"
      ]
     },
     "metadata": {},
     "output_type": "display_data"
    }
   ],
   "source": [
    "sns.scatterplot(x=\"category\",y=\"review_count\", data=df_yelp)\n",
    "# Labels for x,y and chart title\n",
    "plt.xlabel('Category of Food')\n",
    "plt.ylabel('Number of Reviews')\n",
    "plt.title('Scatterplot of Food Categories and Reviews')\n",
    "# Fix overlapping labels\n",
    "plt.xticks(rotation=35, ha='right')  # Rotate labels by 35 degrees"
   ]
  },
  {
   "cell_type": "code",
   "execution_count": 16,
   "metadata": {},
   "outputs": [],
   "source": [
    "grouped_df = df_yelp.groupby('category')['review_count'].sum().reset_index()\n"
   ]
  },
  {
   "cell_type": "code",
   "execution_count": 17,
   "metadata": {},
   "outputs": [
    {
     "data": {
      "text/plain": [
       "([0, 1, 2, 3, 4, 5, 6, 7, 8, 9, 10, 11, 12, 13],\n",
       " [Text(0, 0, 'chinese'),\n",
       "  Text(1, 0, 'diners'),\n",
       "  Text(2, 0, 'thai'),\n",
       "  Text(3, 0, 'cambodian'),\n",
       "  Text(4, 0, 'mexican'),\n",
       "  Text(5, 0, 'sandwiches'),\n",
       "  Text(6, 0, 'coffee'),\n",
       "  Text(7, 0, 'breakfast_brunch'),\n",
       "  Text(8, 0, 'pizza'),\n",
       "  Text(9, 0, 'foodtrucks'),\n",
       "  Text(10, 0, 'chicken_wings'),\n",
       "  Text(11, 0, 'bakeries'),\n",
       "  Text(12, 0, 'burgers'),\n",
       "  Text(13, 0, 'tacos')])"
      ]
     },
     "execution_count": 17,
     "metadata": {},
     "output_type": "execute_result"
    },
    {
     "data": {
      "image/png": "[encoded data removed]",
      "text/plain": [
       "<Figure size 640x480 with 1 Axes>"
      ]
     },
     "metadata": {},
     "output_type": "display_data"
    }
   ],
   "source": [
    "barplot = sns.barplot(x=\"category\",y=\"review_count\",hue=\"category\",legend=False,data=grouped_df,order=grouped_df.sort_values('review_count',ascending = False).category, palette=\"deep\")\n",
    "#edgecolor 1 for lighter, 0 for darker\n",
    "plt.xlabel('Food Categories')\n",
    "plt.ylabel('Number of Reviews')\n",
    "plt.title('Bar Chart of Food Categories and # Reviews')\n",
    "# Fix overlapping labels\n",
    "plt.xticks(rotation=45, ha='right')  # Rotate labels by 45 degrees"
   ]
  },
  {
   "cell_type": "markdown",
   "metadata": {},
   "source": [
    "#### EDA/Scatterplot Explaination"
   ]
  },
  {
   "cell_type": "markdown",
   "metadata": {},
   "source": [
    "Based on the above data visualization I can see that certain categories of food with a strong winner (diners) have the most reviews. This could mean that people feel compelled to review this type of establishment good or bad, or perhaps they have a promotion where they have some incentive to leave a yelp review and thus we know the promo is effective."
   ]
  },
  {
   "cell_type": "markdown",
   "metadata": {},
   "source": [
    "# Database"
   ]
  },
  {
   "cell_type": "markdown",
   "metadata": {},
   "source": [
    "Put all your results in an SQLite3 database (remember, SQLite stores its databases as files in your local machine - make sure to create your database in your project's data/ directory!)"
   ]
  },
  {
   "cell_type": "code",
   "execution_count": 3,
   "metadata": {},
   "outputs": [
    {
     "name": "stdout",
     "output_type": "stream",
     "text": [
      "api_data.db, <sqlite3.Connection object at 0x000001F79E80EA80>\n"
     ]
    },
    {
     "ename": "NameError",
     "evalue": "name 'df_bikes' is not defined",
     "output_type": "error",
     "traceback": [
      "\u001b[1;31m---------------------------------------------------------------------------\u001b[0m",
      "\u001b[1;31mNameError\u001b[0m                                 Traceback (most recent call last)",
      "Cell \u001b[1;32mIn[3], line 15\u001b[0m\n\u001b[0;32m     12\u001b[0m \u001b[38;5;66;03m# Create a cursor object\u001b[39;00m\n\u001b[0;32m     13\u001b[0m cursor \u001b[38;5;241m=\u001b[39m conn\u001b[38;5;241m.\u001b[39mcursor()\n\u001b[1;32m---> 15\u001b[0m \u001b[43mdf_bikes\u001b[49m\u001b[38;5;241m.\u001b[39mto_sql(\u001b[38;5;124m'\u001b[39m\u001b[38;5;124mbike_data\u001b[39m\u001b[38;5;124m'\u001b[39m, conn, index\u001b[38;5;241m=\u001b[39m\u001b[38;5;28;01mFalse\u001b[39;00m, if_exists\u001b[38;5;241m=\u001b[39m\u001b[38;5;124m'\u001b[39m\u001b[38;5;124mreplace\u001b[39m\u001b[38;5;124m'\u001b[39m)  \n\u001b[0;32m     16\u001b[0m df_foursquare\u001b[38;5;241m.\u001b[39mto_sql(\u001b[38;5;124m'\u001b[39m\u001b[38;5;124mfoursquare_data\u001b[39m\u001b[38;5;124m'\u001b[39m, conn, index\u001b[38;5;241m=\u001b[39m\u001b[38;5;28;01mFalse\u001b[39;00m, if_exists\u001b[38;5;241m=\u001b[39m\u001b[38;5;124m'\u001b[39m\u001b[38;5;124mreplace\u001b[39m\u001b[38;5;124m'\u001b[39m)  \n\u001b[0;32m     17\u001b[0m df_yelp\u001b[38;5;241m.\u001b[39mto_sql(\u001b[38;5;124m'\u001b[39m\u001b[38;5;124myelp_data\u001b[39m\u001b[38;5;124m'\u001b[39m, conn, index\u001b[38;5;241m=\u001b[39m\u001b[38;5;28;01mFalse\u001b[39;00m, if_exists\u001b[38;5;241m=\u001b[39m\u001b[38;5;124m'\u001b[39m\u001b[38;5;124mreplace\u001b[39m\u001b[38;5;124m'\u001b[39m)  \n",
      "\u001b[1;31mNameError\u001b[0m: name 'df_bikes' is not defined"
     ]
    }
   ],
   "source": [
    "import sqlite3\n",
    "\n",
    "# This will store data for the 3 apis that i am working with (yelp, citybikes, foursquare)\n",
    "database_name = 'api_data.db'\n",
    "#need to specify an absolute path, as it created this in the notebook directory and i moved it manually\n",
    "#database_path = rf\"f..\\data\\{database_name}\"\n",
    "\n",
    "# Connect to the SQLite database (this will create the database if it doesn't exist)\n",
    "conn = sqlite3.connect(database_name)\n",
    "print(f\"{database_name}, {conn}\")\n",
    "\n",
    "# Create a cursor object\n",
    "cursor = conn.cursor()\n",
    "\n",
    "df_bikes.to_sql('bike_data', conn, index=False, if_exists='replace')  \n",
    "df_foursquare.to_sql('foursquare_data', conn, index=False, if_exists='replace')  \n",
    "df_yelp.to_sql('yelp_data', conn, index=False, if_exists='replace')  \n",
    "#api_data_all.to_sql('combined_apis.csv', conn, index=False, if_exists='replace')  \n",
    "\n",
    "# Execute a query, for example, to get the list of tables\n",
    "#cursor.execute(\"SELECT name FROM sqlite_master WHERE type='table';\")\n",
    "#cursor.execute(\"SELECT * FROM bike_data LIMIT 10;\")\n",
    "#cursor.execute(\"SELECT * FROM yelp_data LIMIT 10;\")\n",
    "#cursor.execute(\"SELECT * FROM foursquare_data LIMIT 10;\")\n",
    "# Assuming bike_data and yelp_data have a common_column\n",
    "query = \"\"\"\n",
    "    SELECT *\n",
    "    FROM bike_data\n",
    "    INNER JOIN yelp_data ON bike_data.City = yelp_data.city\n",
    "    LIMIT 10;\n",
    "\"\"\"\n",
    "\n",
    "# Execute the query\n",
    "cursor.execute(query)\n",
    "\n",
    "# Fetch all the results\n",
    "fetchedData = cursor.fetchall()\n",
    "\n",
    "#### Look at the data before and after the join to validate your data.\n",
    "\n",
    "# Display the results\n",
    "for row in fetchedData:\n",
    "    print(row)\n",
    "\n",
    "\n",
    "# Print the list of tables\n",
    "#print(fetchedData)\n",
    "\n",
    "\n",
    "# Close the connection\n",
    "conn.close()"
   ]
  },
  {
   "cell_type": "code",
   "execution_count": null,
   "metadata": {},
   "outputs": [],
   "source": []
  }
 ],
 "metadata": {
  "kernelspec": {
   "display_name": "Python 3 (ipykernel)",
   "language": "python",
   "name": "python3"
  },
  "language_info": {
   "codemirror_mode": {
    "name": "ipython",
    "version": 3
   },
   "file_extension": ".py",
   "mimetype": "text/x-python",
   "name": "python",
   "nbconvert_exporter": "python",
   "pygments_lexer": "ipython3",
   "version": "3.9.18"
  }
 },
 "nbformat": 4,
 "nbformat_minor": 4
}
