{
 "cells": [
  {
   "cell_type": "code",
   "execution_count": 6,
   "metadata": {},
   "outputs": [],
   "source": [
    "import pandas as pd\n",
    "import os #env variables\n",
    "import requests #call the APIs\n",
    "import json\n",
    "from IPython.display import JSON"
   ]
  },
  {
   "cell_type": "markdown",
   "metadata": {},
   "source": [
    "# Foursquare"
   ]
  },
  {
   "cell_type": "markdown",
   "metadata": {},
   "source": [
    "Send a request to Foursquare with a small radius (1000m) for all the bike stations in your city of choice. "
   ]
  },
  {
   "cell_type": "code",
   "execution_count": 5,
   "metadata": {},
   "outputs": [],
   "source": [
    "FOURSQUARE_KEY = os.getenv('FOURSQUARE_API_KEY')"
   ]
  },
  {
   "cell_type": "code",
   "execution_count": 7,
   "metadata": {},
   "outputs": [
    {
     "ename": "NameError",
     "evalue": "name 'df_bikes' is not defined",
     "output_type": "error",
     "traceback": [
      "\u001b[1;31m---------------------------------------------------------------------------\u001b[0m",
      "\u001b[1;31mNameError\u001b[0m                                 Traceback (most recent call last)",
      "Cell \u001b[1;32mIn[7], line 1\u001b[0m\n\u001b[1;32m----> 1\u001b[0m city_row \u001b[38;5;241m=\u001b[39m \u001b[43mdf_bikes\u001b[49m\u001b[38;5;241m.\u001b[39miloc[\u001b[38;5;241m0\u001b[39m]\n",
      "\u001b[1;31mNameError\u001b[0m: name 'df_bikes' is not defined"
     ]
    }
   ],
   "source": [
    "city_row = df_bikes.iloc[0]\n",
    "#first row"
   ]
  },
  {
   "cell_type": "code",
   "execution_count": 8,
   "metadata": {},
   "outputs": [],
   "source": [
    "\n",
    "def getDetails():\n",
    "    url = \"https://api.foursquare.com/v3/places/search\"\n",
    "    \n",
    "\n",
    "    params = {\n",
    "        #\"query\": \"convenience stores\",\n",
    "        \"query\": \"bars\",\n",
    "        #\"ll\": \"37.849735,-122.270582\", #lat long of San Fran from citybikes exercise\n",
    "        #Later with a loop could pull fsq data for EACH bike station\n",
    "        \"ll\": f\"{city_row['Latitude']},{city_row['Longitude']}\",  # Using latitude and longitude from the CityBikes df\n",
    "        #\"open_now\": \"true\", #not needed\n",
    "        \"radius\": \"1000\",\n",
    "        \"sort\": \"DISTANCE\",\n",
    "        'limit': 1\n",
    "    }\n",
    "\n",
    "    headers = {\n",
    "        \"Accept\": \"application/json\",\n",
    "        \"Authorization\": FOURSQUARE_KEY  # Make sure FOURSQUARE_KEY is defined\n",
    "    }\n",
    "\n",
    "    \n",
    "    # Make the API request\n",
    "    response = requests.get(url, params=params, headers=headers)\n",
    "  \n",
    "\n",
    "    # Parse the JSON response\n",
    "    data = response.json()\n",
    "\n",
    "    # You might want to return specific information from the response based on your needs\n",
    "    return data"
   ]
  },
  {
   "cell_type": "code",
   "execution_count": 20,
   "metadata": {},
   "outputs": [],
   "source": [
    "# Call the function to get the response\n",
    "\n",
    "fsq_response = getDetails()"
   ]
  },
  {
   "cell_type": "code",
   "execution_count": 21,
   "metadata": {},
   "outputs": [
    {
     "data": {
      "application/json": {
       "context": {
        "geo_bounds": {
         "circle": {
          "center": {
           "latitude": 37.849735,
           "longitude": -122.270582
          },
          "radius": 1000
         }
        }
       },
       "results": [
        {
         "categories": [
          {
           "icon": {
            "prefix": "https://ss3.4sqi.net/img/categories_v2/food/coffeeshop_",
            "suffix": ".png"
           },
           "id": 13035,
           "name": "Coffee Shop",
           "plural_name": "Coffee Shops",
           "short_name": "Coffee Shop"
          },
          {
           "icon": {
            "prefix": "https://ss3.4sqi.net/img/categories_v2/food/cafe_",
            "suffix": ".png"
           },
           "id": 13034,
           "name": "Café",
           "plural_name": "Cafés",
           "short_name": "Café"
          },
          {
           "icon": {
            "prefix": "https://ss3.4sqi.net/img/categories_v2/food/default_",
            "suffix": ".png"
           },
           "id": 13000,
           "name": "Dining and Drinking",
           "plural_name": "Dining and Drinking",
           "short_name": "Dining and Drinking"
          }
         ],
         "chains": [],
         "closed_bucket": "LikelyOpen",
         "distance": 26,
         "fsq_id": "62080e87b64e6c1839cef49b",
         "geocodes": {
          "drop_off": {
           "latitude": 37.850115,
           "longitude": -122.270692
          },
          "main": {
           "latitude": 37.850052,
           "longitude": -122.270523
          },
          "roof": {
           "latitude": 37.850052,
           "longitude": -122.270523
          }
         },
         "link": "/v3/places/62080e87b64e6c1839cef49b",
         "location": {
          "address": "3219 Adeline St",
          "census_block": "060014239011019",
          "country": "US",
          "cross_street": "Harmon",
          "dma": "San Francisco-Oakland-San Jose",
          "formatted_address": "3219 Adeline St (Harmon), Berkeley, CA 94703",
          "locality": "Berkeley",
          "postcode": "94703",
          "region": "CA"
         },
         "name": "El Tiny Cafe",
         "related_places": {},
         "timezone": "America/Los_Angeles"
        }
       ]
      },
      "text/plain": [
       "<IPython.core.display.JSON object>"
      ]
     },
     "execution_count": 21,
     "metadata": {
      "application/json": {
       "expanded": false,
       "root": "root"
      }
     },
     "output_type": "execute_result"
    }
   ],
   "source": [
    "JSON(fsq_response)"
   ]
  },
  {
   "cell_type": "markdown",
   "metadata": {},
   "source": [
    "Parse through the response to get the POI (such as restaurants, bars, etc) details you want (ratings, name, location, etc)"
   ]
  },
  {
   "cell_type": "code",
   "execution_count": 9,
   "metadata": {},
   "outputs": [
    {
     "ename": "NameError",
     "evalue": "name 'fsq_response' is not defined",
     "output_type": "error",
     "traceback": [
      "\u001b[1;31m---------------------------------------------------------------------------\u001b[0m",
      "\u001b[1;31mNameError\u001b[0m                                 Traceback (most recent call last)",
      "Cell \u001b[1;32mIn[9], line 3\u001b[0m\n\u001b[0;32m      1\u001b[0m \u001b[38;5;66;03m# Extracting relevant data\u001b[39;00m\n\u001b[0;32m      2\u001b[0m poi_data \u001b[38;5;241m=\u001b[39m []\n\u001b[1;32m----> 3\u001b[0m \u001b[38;5;28;01mfor\u001b[39;00m result \u001b[38;5;129;01min\u001b[39;00m \u001b[43mfsq_response\u001b[49m[\u001b[38;5;124m'\u001b[39m\u001b[38;5;124mresults\u001b[39m\u001b[38;5;124m'\u001b[39m]:\n\u001b[0;32m      4\u001b[0m     \u001b[38;5;66;03m#fsq_id = result['fsq_id'] #dont think i need this\u001b[39;00m\n\u001b[0;32m      5\u001b[0m     name \u001b[38;5;241m=\u001b[39m result[\u001b[38;5;124m'\u001b[39m\u001b[38;5;124mname\u001b[39m\u001b[38;5;124m'\u001b[39m]\n\u001b[0;32m      6\u001b[0m     category \u001b[38;5;241m=\u001b[39m result[\u001b[38;5;124m'\u001b[39m\u001b[38;5;124mcategories\u001b[39m\u001b[38;5;124m'\u001b[39m][\u001b[38;5;241m0\u001b[39m][\u001b[38;5;124m'\u001b[39m\u001b[38;5;124mplural_name\u001b[39m\u001b[38;5;124m'\u001b[39m]\n",
      "\u001b[1;31mNameError\u001b[0m: name 'fsq_response' is not defined"
     ]
    }
   ],
   "source": [
    "# Extracting relevant data\n",
    "poi_data = []\n",
    "for result in fsq_response['results']:\n",
    "    #fsq_id = result['fsq_id'] #dont think i need this\n",
    "    name = result['name']\n",
    "    category = result['categories'][0]['plural_name']\n",
    "    closed_bucket = result['closed_bucket']\n",
    "    distance = result['distance']\n",
    "    #address = result['location']['address']\n",
    "    postcode = result['location']['postcode']\n",
    "    latitude = result['geocodes']['main']['latitude']\n",
    "    longitude = result['geocodes']['main']['longitude']\n",
    "    region = result['location']['region']\n",
    "    \n",
    "    \n",
    "    # Append data to the dict\n",
    "    poi_data.append({\n",
    "        #'fsq_id': fsq_id,\n",
    "        'name': name,\n",
    "        'category': category,\n",
    "        'closed_bucket': closed_bucket,\n",
    "        'distance': distance,\n",
    "        #'address': address,\n",
    "        'postcode': postcode,\n",
    "        'latitude':latitude,\n",
    "        'longitude':longitude,\n",
    "        'region': region\n",
    "    })"
   ]
  },
  {
   "cell_type": "code",
   "execution_count": 10,
   "metadata": {},
   "outputs": [],
   "source": [
    "# Create a DataFrame from the list of dictionaries\n",
    "df_foursquare = pd.DataFrame(poi_data)\n"
   ]
  },
  {
   "cell_type": "code",
   "execution_count": 11,
   "metadata": {},
   "outputs": [],
   "source": [
    "df_foursquare['region'] = \"San Francisco Bay Area, CA\""
   ]
  },
  {
   "cell_type": "code",
   "execution_count": 12,
   "metadata": {},
   "outputs": [
    {
     "data": {
      "text/html": [
       "<div>\n",
       "<style scoped>\n",
       "    .dataframe tbody tr th:only-of-type {\n",
       "        vertical-align: middle;\n",
       "    }\n",
       "\n",
       "    .dataframe tbody tr th {\n",
       "        vertical-align: top;\n",
       "    }\n",
       "\n",
       "    .dataframe thead th {\n",
       "        text-align: right;\n",
       "    }\n",
       "</style>\n",
       "<table border=\"1\" class=\"dataframe\">\n",
       "  <thead>\n",
       "    <tr style=\"text-align: right;\">\n",
       "      <th></th>\n",
       "      <th>region</th>\n",
       "    </tr>\n",
       "  </thead>\n",
       "  <tbody>\n",
       "  </tbody>\n",
       "</table>\n",
       "</div>"
      ],
      "text/plain": [
       "Empty DataFrame\n",
       "Columns: [region]\n",
       "Index: []"
      ]
     },
     "execution_count": 12,
     "metadata": {},
     "output_type": "execute_result"
    }
   ],
   "source": [
    "df_foursquare.head()"
   ]
  },
  {
   "cell_type": "markdown",
   "metadata": {},
   "source": [
    "Put your parsed results into a DataFrame"
   ]
  },
  {
   "cell_type": "code",
   "execution_count": 13,
   "metadata": {},
   "outputs": [],
   "source": [
    "df_foursquare.to_csv('..\\data\\df_foursquare.csv', index=False)"
   ]
  },
  {
   "cell_type": "code",
   "execution_count": 14,
   "metadata": {},
   "outputs": [
    {
     "data": {
      "text/plain": [
       "(0, 1)"
      ]
     },
     "execution_count": 14,
     "metadata": {},
     "output_type": "execute_result"
    }
   ],
   "source": [
    "df_foursquare.shape"
   ]
  },
  {
   "cell_type": "code",
   "execution_count": 77,
   "metadata": {},
   "outputs": [
    {
     "data": {
      "text/plain": [
       "Index(['name', 'category', 'closed_bucket', 'distance', 'postcode', 'latitude',\n",
       "       'longitude', 'region'],\n",
       "      dtype='object')"
      ]
     },
     "execution_count": 77,
     "metadata": {},
     "output_type": "execute_result"
    }
   ],
   "source": [
    "df_foursquare.columns"
   ]
  },
  {
   "cell_type": "code",
   "execution_count": 51,
   "metadata": {},
   "outputs": [
    {
     "data": {
      "text/plain": [
       "name              object\n",
       "category          object\n",
       "closed_bucket     object\n",
       "distance           int64\n",
       "postcode          object\n",
       "latitude         float64\n",
       "longitude        float64\n",
       "region            object\n",
       "dtype: object"
      ]
     },
     "execution_count": 51,
     "metadata": {},
     "output_type": "execute_result"
    }
   ],
   "source": [
    "df_foursquare.dtypes"
   ]
  },
  {
   "cell_type": "markdown",
   "metadata": {},
   "source": [
    "# Yelp"
   ]
  },
  {
   "cell_type": "markdown",
   "metadata": {},
   "source": [
    "Send a request to Yelp with a small radius (1000m) for all the bike stations in your city of choice. "
   ]
  },
  {
   "cell_type": "markdown",
   "metadata": {},
   "source": [
    "Parse through the response to get the POI (such as restaurants, bars, etc) details you want (ratings, name, location, etc)"
   ]
  },
  {
   "cell_type": "code",
   "execution_count": 60,
   "metadata": {},
   "outputs": [],
   "source": [
    "YELP_API_KEY = os.getenv('YELP_API_KEY')"
   ]
  },
  {
   "cell_type": "code",
   "execution_count": 61,
   "metadata": {
    "scrolled": true
   },
   "outputs": [
    {
     "name": "stdout",
     "output_type": "stream",
     "text": [
      "success status code 200\n"
     ]
    }
   ],
   "source": [
    "YELP_CLIENT_ID = os.getenv('YELP_CLIENT_ID')\n",
    "yelp_url = \"https://api.yelp.com/v3/businesses/search\"\n",
    "\n",
    "headers = {\n",
    "    \"Authorization\": f\"Bearer {YELP_API_KEY}\",\n",
    "}\n",
    "\n",
    "params = {\n",
    "    \"term\": \"restaurant\",\n",
    "    \"location\": \"San Francisco Bay Area\",\n",
    "    \"radius\": 1000,\n",
    "   # \"limit\": 10,\n",
    "    \"client_id\": YELP_CLIENT_ID,\n",
    "}\n",
    "\n",
    "yelp_response = requests.get(yelp_url, headers=headers, params=params)\n",
    "\n",
    "if yelp_response.status_code == 200:\n",
    "    #print(yelp_response.json())\n",
    "    print(\"success status code 200\")\n",
    "else:\n",
    "    print(f\"Failed to get data. Status code: {yelp_response.status_code}, Error: {yelp_response.text}\")\n"
   ]
  },
  {
   "cell_type": "code",
   "execution_count": 63,
   "metadata": {},
   "outputs": [],
   "source": [
    "yelp_response = yelp_response.json()"
   ]
  },
  {
   "cell_type": "code",
   "execution_count": 64,
   "metadata": {
    "scrolled": true
   },
   "outputs": [
    {
     "data": {
      "application/json": {
       "businesses": [
        {
         "alias": "wawa-thai-food-oakland",
         "categories": [
          {
           "alias": "thai",
           "title": "Thai"
          }
         ],
         "coordinates": {
          "latitude": 37.7971694,
          "longitude": -122.2048419
         },
         "display_phone": "(510) 479-3465",
         "distance": 189.7900020291072,
         "id": "CVaa6r_xMJTBUoTk3whjhw",
         "image_url": "https://s3-media1.fl.yelpcdn.com/bphoto/A-tITOetrDh54cLn2vbFwA/o.jpg",
         "is_closed": false,
         "location": {
          "address1": "3009 Macarthur Blvd",
          "address2": null,
          "address3": "",
          "city": "Oakland",
          "country": "US",
          "display_address": [
           "3009 Macarthur Blvd",
           "Oakland, CA 94602"
          ],
          "state": "CA",
          "zip_code": "94602"
         },
         "name": "Wawa Thai Food",
         "phone": "+15104793465",
         "price": "$$",
         "rating": 4.5,
         "review_count": 243,
         "transactions": [
          "pickup",
          "delivery"
         ],
         "url": "https://www.yelp.com/biz/wawa-thai-food-oakland?adjust_creative=3tCkQZtuSUfDUi7IC68EDw&utm_campaign=yelp_api_v3&utm_medium=api_v3_business_search&utm_source=3tCkQZtuSUfDUi7IC68EDw"
        },
        {
         "alias": "bombera-oakland",
         "categories": [
          {
           "alias": "mexican",
           "title": "Mexican"
          }
         ],
         "coordinates": {
          "latitude": 37.79953,
          "longitude": -122.2152
         },
         "display_phone": "",
         "distance": 783.3795948383115,
         "id": "T6O31-zPkeIOxYW1plsjJg",
         "image_url": "https://s3-media2.fl.yelpcdn.com/bphoto/fxf7I3Nuwu8mYRPkOaKyCA/o.jpg",
         "is_closed": false,
         "location": {
          "address1": "3459 Champion St",
          "address2": "",
          "address3": null,
          "city": "Oakland",
          "country": "US",
          "display_address": [
           "3459 Champion St",
           "Oakland, CA 94602"
          ],
          "state": "CA",
          "zip_code": "94602"
         },
         "name": "Bombera",
         "phone": "",
         "price": "$$$",
         "rating": 4,
         "review_count": 278,
         "transactions": [],
         "url": "https://www.yelp.com/biz/bombera-oakland?adjust_creative=3tCkQZtuSUfDUi7IC68EDw&utm_campaign=yelp_api_v3&utm_medium=api_v3_business_search&utm_source=3tCkQZtuSUfDUi7IC68EDw"
        },
        {
         "alias": "the-saint-sandwich-shop-oakland",
         "categories": [
          {
           "alias": "sandwiches",
           "title": "Sandwiches"
          },
          {
           "alias": "delis",
           "title": "Delis"
          }
         ],
         "coordinates": {
          "latitude": 37.79725,
          "longitude": -122.20437
         },
         "display_phone": "(510) 479-3554",
         "distance": 199.58163430892108,
         "id": "h9z3IG42q79zB3jOXDx7Ig",
         "image_url": "https://s3-media3.fl.yelpcdn.com/bphoto/7RSx0bCwoCo82mt6JRR1Tg/o.jpg",
         "is_closed": false,
         "location": {
          "address1": "3016 Macarthur Blvd",
          "address2": null,
          "address3": "",
          "city": "Oakland",
          "country": "US",
          "display_address": [
           "3016 Macarthur Blvd",
           "Oakland, CA 94602"
          ],
          "state": "CA",
          "zip_code": "94602"
         },
         "name": "The Saint Sandwich Shop",
         "phone": "+15104793554",
         "price": "$$",
         "rating": 4.5,
         "review_count": 239,
         "transactions": [],
         "url": "https://www.yelp.com/biz/the-saint-sandwich-shop-oakland?adjust_creative=3tCkQZtuSUfDUi7IC68EDw&utm_campaign=yelp_api_v3&utm_medium=api_v3_business_search&utm_source=3tCkQZtuSUfDUi7IC68EDw"
        },
        {
         "alias": "cafe-noir-oakland-3",
         "categories": [
          {
           "alias": "burgers",
           "title": "Burgers"
          },
          {
           "alias": "chicken_wings",
           "title": "Chicken Wings"
          },
          {
           "alias": "tradamerican",
           "title": "American"
          }
         ],
         "coordinates": {
          "latitude": 37.798756,
          "longitude": -122.208274
         },
         "display_phone": "(341) 218-6051",
         "distance": 173.9717830586372,
         "id": "DIFzd1fZ-g_uh528U05dCA",
         "image_url": "https://s3-media2.fl.yelpcdn.com/bphoto/JZ6_rgJVkXKqLXCo4d8zDw/o.jpg",
         "is_closed": false,
         "location": {
          "address1": "2818 MacArthur Blvd",
          "address2": null,
          "address3": "",
          "city": "Oakland",
          "country": "US",
          "display_address": [
           "2818 MacArthur Blvd",
           "Oakland, CA 94602"
          ],
          "state": "CA",
          "zip_code": "94602"
         },
         "name": "Cafe Noir",
         "phone": "+13412186051",
         "rating": 5,
         "review_count": 11,
         "transactions": [
          "pickup",
          "delivery"
         ],
         "url": "https://www.yelp.com/biz/cafe-noir-oakland-3?adjust_creative=3tCkQZtuSUfDUi7IC68EDw&utm_campaign=yelp_api_v3&utm_medium=api_v3_business_search&utm_source=3tCkQZtuSUfDUi7IC68EDw"
        },
        {
         "alias": "phnom-penh-house-restaurant-oakland",
         "categories": [
          {
           "alias": "cambodian",
           "title": "Cambodian"
          },
          {
           "alias": "asianfusion",
           "title": "Asian Fusion"
          }
         ],
         "coordinates": {
          "latitude": 37.79101,
          "longitude": -122.19776
         },
         "display_phone": "(510) 482-8989",
         "distance": 1105.9683312401637,
         "id": "4OxVP36-7swWplPiRDZ-7A",
         "image_url": "https://s3-media1.fl.yelpcdn.com/bphoto/6tVquSNYmj8EGUsoy_-9qQ/o.jpg",
         "is_closed": false,
         "location": {
          "address1": "3912 MacArthur Blvd",
          "address2": "",
          "address3": "",
          "city": "Oakland",
          "country": "US",
          "display_address": [
           "3912 MacArthur Blvd",
           "Oakland, CA 94619"
          ],
          "state": "CA",
          "zip_code": "94619"
         },
         "name": "Phnom Penh House Restaurant",
         "phone": "+15104828989",
         "price": "$$",
         "rating": 4.5,
         "review_count": 506,
         "transactions": [
          "pickup"
         ],
         "url": "https://www.yelp.com/biz/phnom-penh-house-restaurant-oakland?adjust_creative=3tCkQZtuSUfDUi7IC68EDw&utm_campaign=yelp_api_v3&utm_medium=api_v3_business_search&utm_source=3tCkQZtuSUfDUi7IC68EDw"
        },
        {
         "alias": "jos-modern-thai-oakland",
         "categories": [
          {
           "alias": "thai",
           "title": "Thai"
          },
          {
           "alias": "cocktailbars",
           "title": "Cocktail Bars"
          },
          {
           "alias": "noodles",
           "title": "Noodles"
          }
         ],
         "coordinates": {
          "latitude": 37.79168,
          "longitude": -122.19911
         },
         "display_phone": "(510) 479-3167",
         "distance": 970.1549472302829,
         "id": "pGFE0KUcDqMp_Fll3iXL4Q",
         "image_url": "https://s3-media4.fl.yelpcdn.com/bphoto/1_Vy8MvxmPriBQC0RkYeGA/o.jpg",
         "is_closed": false,
         "location": {
          "address1": "3725 Macarthur Blvd",
          "address2": "",
          "address3": "",
          "city": "Oakland",
          "country": "US",
          "display_address": [
           "3725 Macarthur Blvd",
           "Oakland, CA 94619"
          ],
          "state": "CA",
          "zip_code": "94619"
         },
         "name": "Jo's Modern Thai",
         "phone": "+15104793167",
         "price": "$$",
         "rating": 4.5,
         "review_count": 334,
         "transactions": [],
         "url": "https://www.yelp.com/biz/jos-modern-thai-oakland?adjust_creative=3tCkQZtuSUfDUi7IC68EDw&utm_campaign=yelp_api_v3&utm_medium=api_v3_business_search&utm_source=3tCkQZtuSUfDUi7IC68EDw"
        },
        {
         "alias": "boriqua-kitchen-oakland",
         "categories": [
          {
           "alias": "foodtrucks",
           "title": "Food Trucks"
          },
          {
           "alias": "puertorican",
           "title": "Puerto Rican"
          }
         ],
         "coordinates": {
          "latitude": 37.80413712394768,
          "longitude": -122.20703466163918
         },
         "display_phone": "(510) 375-3942",
         "distance": 658.5572337966281,
         "id": "7SXttSYEIhNxjdQoBShk-g",
         "image_url": "https://s3-media1.fl.yelpcdn.com/bphoto/z4pmOeYnEW30iuZgPCXEdQ/o.jpg",
         "is_closed": false,
         "location": {
          "address1": "",
          "address2": null,
          "address3": "",
          "city": "Oakland",
          "country": "US",
          "display_address": [
           "Oakland, CA 94602"
          ],
          "state": "CA",
          "zip_code": "94602"
         },
         "name": "Boriqua Kitchen",
         "phone": "+15103753942",
         "rating": 4.5,
         "review_count": 128,
         "transactions": [],
         "url": "https://www.yelp.com/biz/boriqua-kitchen-oakland?adjust_creative=3tCkQZtuSUfDUi7IC68EDw&utm_campaign=yelp_api_v3&utm_medium=api_v3_business_search&utm_source=3tCkQZtuSUfDUi7IC68EDw"
        },
        {
         "alias": "sequoia-diner-oakland",
         "categories": [
          {
           "alias": "diners",
           "title": "Diners"
          },
          {
           "alias": "breakfast_brunch",
           "title": "Breakfast & Brunch"
          }
         ],
         "coordinates": {
          "latitude": 37.7918505998372,
          "longitude": -122.199130414605
         },
         "display_phone": "(510) 482-3719",
         "distance": 956.1638446069961,
         "id": "KJ28nBEGh_foiK3V8jukqw",
         "image_url": "https://s3-media4.fl.yelpcdn.com/bphoto/79iTe4y2oj3NXZzk0L_4MA/o.jpg",
         "is_closed": false,
         "location": {
          "address1": "3719 MacArthur Blvd",
          "address2": "",
          "address3": "",
          "city": "Oakland",
          "country": "US",
          "display_address": [
           "3719 MacArthur Blvd",
           "Oakland, CA 94619"
          ],
          "state": "CA",
          "zip_code": "94619"
         },
         "name": "Sequoia Diner",
         "phone": "+15104823719",
         "price": "$$",
         "rating": 4,
         "review_count": 704,
         "transactions": [
          "delivery"
         ],
         "url": "https://www.yelp.com/biz/sequoia-diner-oakland?adjust_creative=3tCkQZtuSUfDUi7IC68EDw&utm_campaign=yelp_api_v3&utm_medium=api_v3_business_search&utm_source=3tCkQZtuSUfDUi7IC68EDw"
        },
        {
         "alias": "grand-bakery-oakland",
         "categories": [
          {
           "alias": "bakeries",
           "title": "Bakeries"
          },
          {
           "alias": "kosher",
           "title": "Kosher"
          }
         ],
         "coordinates": {
          "latitude": 37.79678,
          "longitude": -122.2045
         },
         "display_phone": "(510) 465-1110",
         "distance": 227.96297887018974,
         "id": "T1XObTZdPpDGJtEswmm09Q",
         "image_url": "https://s3-media3.fl.yelpcdn.com/bphoto/8pux5TdyoxnOGBB4X_CmMw/o.jpg",
         "is_closed": false,
         "location": {
          "address1": "3033 MacArthur Blvd",
          "address2": "",
          "address3": null,
          "city": "Oakland",
          "country": "US",
          "display_address": [
           "3033 MacArthur Blvd",
           "Oakland, CA 94602"
          ],
          "state": "CA",
          "zip_code": "94602"
         },
         "name": "Grand Bakery",
         "phone": "+15104651110",
         "rating": 4,
         "review_count": 21,
         "transactions": [
          "delivery"
         ],
         "url": "https://www.yelp.com/biz/grand-bakery-oakland?adjust_creative=3tCkQZtuSUfDUi7IC68EDw&utm_campaign=yelp_api_v3&utm_medium=api_v3_business_search&utm_source=3tCkQZtuSUfDUi7IC68EDw"
        },
        {
         "alias": "king-kong-bbq-restaurant-oakland",
         "categories": [
          {
           "alias": "chinese",
           "title": "Chinese"
          },
          {
           "alias": "bbq",
           "title": "Barbeque"
          },
          {
           "alias": "seafood",
           "title": "Seafood"
          }
         ],
         "coordinates": {
          "latitude": 37.79394,
          "longitude": -122.20113
         },
         "display_phone": "(510) 530-6288",
         "distance": 665.1988831655432,
         "id": "GnsQfRh4lMQ2OgOJGO-fdA",
         "image_url": "https://s3-media3.fl.yelpcdn.com/bphoto/OTyWT3Heu5yickWNizPhjQ/o.jpg",
         "is_closed": false,
         "location": {
          "address1": "3421 MacArthur Blvd",
          "address2": "",
          "address3": "",
          "city": "Oakland",
          "country": "US",
          "display_address": [
           "3421 MacArthur Blvd",
           "Oakland, CA 94602"
          ],
          "state": "CA",
          "zip_code": "94602"
         },
         "name": "King Kong BBQ Restaurant",
         "phone": "+15105306288",
         "price": "$",
         "rating": 3.5,
         "review_count": 346,
         "transactions": [
          "pickup",
          "delivery"
         ],
         "url": "https://www.yelp.com/biz/king-kong-bbq-restaurant-oakland?adjust_creative=3tCkQZtuSUfDUi7IC68EDw&utm_campaign=yelp_api_v3&utm_medium=api_v3_business_search&utm_source=3tCkQZtuSUfDUi7IC68EDw"
        },
        {
         "alias": "kaspers-hot-dogs-oakland",
         "categories": [
          {
           "alias": "sandwiches",
           "title": "Sandwiches"
          },
          {
           "alias": "hotdog",
           "title": "Hot Dogs"
          }
         ],
         "coordinates": {
          "latitude": 37.7989845275879,
          "longitude": -122.211578369141
         },
         "display_phone": "(510) 530-2308",
         "distance": 468.815051071401,
         "id": "eFYp8k_60NFCbBu8ww1eZg",
         "image_url": "https://s3-media4.fl.yelpcdn.com/bphoto/qUL2Y4Xyu59FYxwb8huoBQ/o.jpg",
         "is_closed": false,
         "location": {
          "address1": "2551 MacArthur Blvd",
          "address2": "",
          "address3": "",
          "city": "Oakland",
          "country": "US",
          "display_address": [
           "2551 MacArthur Blvd",
           "Oakland, CA 94602"
          ],
          "state": "CA",
          "zip_code": "94602"
         },
         "name": "Kasper's Hot Dogs",
         "phone": "+15105302308",
         "price": "$",
         "rating": 4,
         "review_count": 73,
         "transactions": [
          "pickup"
         ],
         "url": "https://www.yelp.com/biz/kaspers-hot-dogs-oakland?adjust_creative=3tCkQZtuSUfDUi7IC68EDw&utm_campaign=yelp_api_v3&utm_medium=api_v3_business_search&utm_source=3tCkQZtuSUfDUi7IC68EDw"
        },
        {
         "alias": "jade-palace-oakland",
         "categories": [
          {
           "alias": "chinese",
           "title": "Chinese"
          }
         ],
         "coordinates": {
          "latitude": 37.7991963991434,
          "longitude": -122.21218917293992
         },
         "display_phone": "(510) 531-2424",
         "distance": 517.9801497160662,
         "id": "RHCXDh6-_BnMUwIbThRzDA",
         "image_url": "https://s3-media4.fl.yelpcdn.com/bphoto/Y4k65AAQYzLBBB9lGzHDGQ/o.jpg",
         "is_closed": false,
         "location": {
          "address1": "2531 MacArthur Blvd",
          "address2": "",
          "address3": "",
          "city": "Oakland",
          "country": "US",
          "display_address": [
           "2531 MacArthur Blvd",
           "Oakland, CA 94602"
          ],
          "state": "CA",
          "zip_code": "94602"
         },
         "name": "Jade Palace",
         "phone": "+15105312424",
         "price": "$$",
         "rating": 3,
         "review_count": 245,
         "transactions": [
          "pickup",
          "delivery"
         ],
         "url": "https://www.yelp.com/biz/jade-palace-oakland?adjust_creative=3tCkQZtuSUfDUi7IC68EDw&utm_campaign=yelp_api_v3&utm_medium=api_v3_business_search&utm_source=3tCkQZtuSUfDUi7IC68EDw"
        },
        {
         "alias": "taco-bell-oakland-7",
         "categories": [
          {
           "alias": "mexican",
           "title": "Mexican"
          },
          {
           "alias": "hotdogs",
           "title": "Fast Food"
          }
         ],
         "coordinates": {
          "latitude": 37.793743,
          "longitude": -122.201142
         },
         "display_phone": "(510) 842-0374",
         "distance": 682.8588420482176,
         "id": "FKilJDqrFvXO7EecPW9YRw",
         "image_url": "https://s3-media1.fl.yelpcdn.com/bphoto/efZgZKf-3nrgVmT4c86yNA/o.jpg",
         "is_closed": false,
         "location": {
          "address1": "3535 35th Avenue",
          "address2": null,
          "address3": "",
          "city": "Oakland",
          "country": "US",
          "display_address": [
           "3535 35th Avenue",
           "Oakland, CA 94619"
          ],
          "state": "CA",
          "zip_code": "94619"
         },
         "name": "Taco Bell",
         "phone": "+15108420374",
         "price": "$",
         "rating": 2,
         "review_count": 120,
         "transactions": [
          "pickup",
          "delivery"
         ],
         "url": "https://www.yelp.com/biz/taco-bell-oakland-7?adjust_creative=3tCkQZtuSUfDUi7IC68EDw&utm_campaign=yelp_api_v3&utm_medium=api_v3_business_search&utm_source=3tCkQZtuSUfDUi7IC68EDw"
        },
        {
         "alias": "cafe-of-the-bay-oakland",
         "categories": [
          {
           "alias": "breakfast_brunch",
           "title": "Breakfast & Brunch"
          },
          {
           "alias": "tradamerican",
           "title": "American"
          }
         ],
         "coordinates": {
          "latitude": 37.7903617155944,
          "longitude": -122.197740160303
         },
         "display_phone": "(510) 482-2713",
         "distance": 1161.0941459062226,
         "id": "jSyTP-1P5I8P5eJtOhDv9Q",
         "image_url": "https://s3-media2.fl.yelpcdn.com/bphoto/UFLK7oKQSua_LxU7CTm5kw/o.jpg",
         "is_closed": false,
         "location": {
          "address1": "4011 MacArthur Blvd",
          "address2": "",
          "address3": "",
          "city": "Oakland",
          "country": "US",
          "display_address": [
           "4011 MacArthur Blvd",
           "Oakland, CA 94619"
          ],
          "state": "CA",
          "zip_code": "94619"
         },
         "name": "Cafe of the Bay",
         "phone": "+15104822713",
         "price": "$",
         "rating": 3,
         "review_count": 172,
         "transactions": [
          "pickup",
          "delivery"
         ],
         "url": "https://www.yelp.com/biz/cafe-of-the-bay-oakland?adjust_creative=3tCkQZtuSUfDUi7IC68EDw&utm_campaign=yelp_api_v3&utm_medium=api_v3_business_search&utm_source=3tCkQZtuSUfDUi7IC68EDw"
        },
        {
         "alias": "taqueria-ole-ole-oakland",
         "categories": [
          {
           "alias": "mexican",
           "title": "Mexican"
          }
         ],
         "coordinates": {
          "latitude": 37.8006529,
          "longitude": -122.215375
         },
         "display_phone": "",
         "distance": 831.4148766983553,
         "id": "y0uTzjfyPLH0gjBDtVEChg",
         "image_url": "https://s3-media3.fl.yelpcdn.com/bphoto/nu21M5t8No01T7P7gT_2xg/o.jpg",
         "is_closed": false,
         "location": {
          "address1": "2216 Macarthur Blvd",
          "address2": "",
          "address3": "",
          "city": "Oakland",
          "country": "US",
          "display_address": [
           "2216 Macarthur Blvd",
           "Oakland, CA 94602"
          ],
          "state": "CA",
          "zip_code": "94602"
         },
         "name": "Taqueria Ole Ole!",
         "phone": "",
         "price": "$",
         "rating": 3.5,
         "review_count": 10,
         "transactions": [],
         "url": "https://www.yelp.com/biz/taqueria-ole-ole-oakland?adjust_creative=3tCkQZtuSUfDUi7IC68EDw&utm_campaign=yelp_api_v3&utm_medium=api_v3_business_search&utm_source=3tCkQZtuSUfDUi7IC68EDw"
        },
        {
         "alias": "wingstop-oakland-4",
         "categories": [
          {
           "alias": "chicken_wings",
           "title": "Chicken Wings"
          }
         ],
         "coordinates": {
          "latitude": 37.79043660473472,
          "longitude": -122.19786208250048
         },
         "display_phone": "(510) 500-3861",
         "distance": 1147.7807622666005,
         "id": "XjV9F1TFTnVedungL2QsHA",
         "image_url": "https://s3-media2.fl.yelpcdn.com/bphoto/6T6KQppLmpiED4L93UN_UQ/o.jpg",
         "is_closed": false,
         "location": {
          "address1": "4005 Macarthur Blvd",
          "address2": "",
          "address3": null,
          "city": "Oakland",
          "country": "US",
          "display_address": [
           "4005 Macarthur Blvd",
           "Oakland, CA 94619"
          ],
          "state": "CA",
          "zip_code": "94619"
         },
         "name": "Wingstop",
         "phone": "+15105003861",
         "rating": 2,
         "review_count": 74,
         "transactions": [],
         "url": "https://www.yelp.com/biz/wingstop-oakland-4?adjust_creative=3tCkQZtuSUfDUi7IC68EDw&utm_campaign=yelp_api_v3&utm_medium=api_v3_business_search&utm_source=3tCkQZtuSUfDUi7IC68EDw"
        },
        {
         "alias": "world-ground-cafe-oakland-2",
         "categories": [
          {
           "alias": "coffee",
           "title": "Coffee & Tea"
          }
         ],
         "coordinates": {
          "latitude": 37.79217,
          "longitude": -122.19881
         },
         "display_phone": "(510) 482-2933",
         "distance": 947.896444799857,
         "id": "ArSQMQIVkSyudE4og8l4hg",
         "image_url": "https://s3-media1.fl.yelpcdn.com/bphoto/MBRLNfmWFOYAO1BaiEmo0Q/o.jpg",
         "is_closed": false,
         "location": {
          "address1": "3726 MacArthur Blvd",
          "address2": "",
          "address3": "",
          "city": "Oakland",
          "country": "US",
          "display_address": [
           "3726 MacArthur Blvd",
           "Oakland, CA 94619"
          ],
          "state": "CA",
          "zip_code": "94619"
         },
         "name": "World Ground Cafe",
         "phone": "+15104822933",
         "price": "$",
         "rating": 3.5,
         "review_count": 281,
         "transactions": [
          "pickup"
         ],
         "url": "https://www.yelp.com/biz/world-ground-cafe-oakland-2?adjust_creative=3tCkQZtuSUfDUi7IC68EDw&utm_campaign=yelp_api_v3&utm_medium=api_v3_business_search&utm_source=3tCkQZtuSUfDUi7IC68EDw"
        },
        {
         "alias": "fountain-garden-seafood-restaurant-oakland",
         "categories": [
          {
           "alias": "chinese",
           "title": "Chinese"
          },
          {
           "alias": "seafood",
           "title": "Seafood"
          }
         ],
         "coordinates": {
          "latitude": 37.7914276123047,
          "longitude": -122.198127746582
         },
         "display_phone": "(510) 531-2658",
         "distance": 1046.6757186562,
         "id": "7ZGKu-WdKR2Gz2aqa0Lb7Q",
         "image_url": "https://s3-media3.fl.yelpcdn.com/bphoto/-wbxNvrrep5bAVubpQWpAw/o.jpg",
         "is_closed": false,
         "location": {
          "address1": "3836 MacArthur Blvd",
          "address2": "",
          "address3": "",
          "city": "Oakland",
          "country": "US",
          "display_address": [
           "3836 MacArthur Blvd",
           "Oakland, CA 94619"
          ],
          "state": "CA",
          "zip_code": "94619"
         },
         "name": "Fountain Garden Seafood Restaurant",
         "phone": "+15105312658",
         "price": "$$",
         "rating": 3.5,
         "review_count": 214,
         "transactions": [
          "pickup",
          "delivery"
         ],
         "url": "https://www.yelp.com/biz/fountain-garden-seafood-restaurant-oakland?adjust_creative=3tCkQZtuSUfDUi7IC68EDw&utm_campaign=yelp_api_v3&utm_medium=api_v3_business_search&utm_source=3tCkQZtuSUfDUi7IC68EDw"
        },
        {
         "alias": "maria-s-mexican-food-oakland",
         "categories": [
          {
           "alias": "tacos",
           "title": "Tacos"
          }
         ],
         "coordinates": {
          "latitude": 37.790938,
          "longitude": -122.205074
         },
         "display_phone": "",
         "distance": 819.5660341246615,
         "id": "azxwliahH0ayVJ6xgQdHcw",
         "image_url": "https://s3-media3.fl.yelpcdn.com/bphoto/R-IENdUq2kd3fC8ZKKFtMA/o.jpg",
         "is_closed": false,
         "location": {
          "address1": "3130 35th Ave",
          "address2": "",
          "address3": null,
          "city": "Oakland",
          "country": "US",
          "display_address": [
           "3130 35th Ave",
           "Oakland, CA 94619"
          ],
          "state": "CA",
          "zip_code": "94619"
         },
         "name": "Maria’s Mexican Food",
         "phone": "",
         "rating": 5,
         "review_count": 4,
         "transactions": [],
         "url": "https://www.yelp.com/biz/maria-s-mexican-food-oakland?adjust_creative=3tCkQZtuSUfDUi7IC68EDw&utm_campaign=yelp_api_v3&utm_medium=api_v3_business_search&utm_source=3tCkQZtuSUfDUi7IC68EDw"
        },
        {
         "alias": "dominos-pizza-oakland-4",
         "categories": [
          {
           "alias": "pizza",
           "title": "Pizza"
          },
          {
           "alias": "chicken_wings",
           "title": "Chicken Wings"
          },
          {
           "alias": "sandwiches",
           "title": "Sandwiches"
          }
         ],
         "coordinates": {
          "latitude": 37.79239111935187,
          "longitude": -122.19966241522567
         },
         "display_phone": "(510) 530-6601",
         "distance": 880.2422117244042,
         "id": "o_urE2goc_FNNvhZuoomFg",
         "image_url": "https://s3-media2.fl.yelpcdn.com/bphoto/qvIhV9AU7mckcDZY598ZTw/o.jpg",
         "is_closed": false,
         "location": {
          "address1": "3639 MacArthur Blvd",
          "address2": "",
          "address3": "",
          "city": "Oakland",
          "country": "US",
          "display_address": [
           "3639 MacArthur Blvd",
           "Oakland, CA 94619"
          ],
          "state": "CA",
          "zip_code": "94619"
         },
         "name": "Domino's Pizza",
         "phone": "+15105306601",
         "price": "$",
         "rating": 1.5,
         "review_count": 152,
         "transactions": [
          "pickup"
         ],
         "url": "https://www.yelp.com/biz/dominos-pizza-oakland-4?adjust_creative=3tCkQZtuSUfDUi7IC68EDw&utm_campaign=yelp_api_v3&utm_medium=api_v3_business_search&utm_source=3tCkQZtuSUfDUi7IC68EDw"
        }
       ],
       "region": {
        "center": {
         "latitude": 37.79823445843866,
         "longitude": -122.2064208984375
        }
       },
       "total": 23
      },
      "text/plain": [
       "<IPython.core.display.JSON object>"
      ]
     },
     "execution_count": 64,
     "metadata": {
      "application/json": {
       "expanded": false,
       "root": "root"
      }
     },
     "output_type": "execute_result"
    }
   ],
   "source": [
    "JSON(yelp_response)\n"
   ]
  },
  {
   "cell_type": "code",
   "execution_count": 86,
   "metadata": {},
   "outputs": [],
   "source": [
    "#testing 1 id\n",
    "#print(response['businesses'][0]['id'])\n",
    "#print(yelp_response['businesses'][0]['categories'][0]['alias'])"
   ]
  },
  {
   "cell_type": "code",
   "execution_count": 65,
   "metadata": {},
   "outputs": [],
   "source": [
    "\n",
    "# Extracting relevant data\n",
    "yelp_poi_data = []\n",
    "\n",
    "\n",
    "for i in yelp_response['businesses']:\n",
    "    city = i['location']['city']\n",
    "    state = i['location']['state']\n",
    "    name = i['name']\n",
    "    review_count = i['review_count']\n",
    "    rating = i['rating']\n",
    "    latitude = i['coordinates']['latitude']\n",
    "    longitude = i['coordinates']['longitude']\n",
    "    alias = i['categories'][0]['alias']\n",
    "      \n",
    "   \n",
    "      # Add more fields as needed\n",
    "    \n",
    "    # Append data and assign keys to the values\n",
    "    yelp_poi_data.append({\n",
    "        'city': city,\n",
    "        'state': state,\n",
    "        'name': name,\n",
    "        'review_count': review_count,\n",
    "        'rating': rating,\n",
    "        'latitude': latitude,\n",
    "        'longitude': longitude,\n",
    "        'category': alias\n",
    "        \n",
    " \n",
    "    })\n",
    "#print(yelp_poi_data)   "
   ]
  },
  {
   "cell_type": "markdown",
   "metadata": {},
   "source": [
    "Put your parsed results into a DataFrame"
   ]
  },
  {
   "cell_type": "code",
   "execution_count": 66,
   "metadata": {},
   "outputs": [],
   "source": [
    "df_yelp = pd.DataFrame(yelp_poi_data)"
   ]
  },
  {
   "cell_type": "code",
   "execution_count": 1,
   "metadata": {},
   "outputs": [
    {
     "ename": "NameError",
     "evalue": "name 'df_yelp' is not defined",
     "output_type": "error",
     "traceback": [
      "\u001b[1;31m---------------------------------------------------------------------------\u001b[0m",
      "\u001b[1;31mNameError\u001b[0m                                 Traceback (most recent call last)",
      "Cell \u001b[1;32mIn[1], line 1\u001b[0m\n\u001b[1;32m----> 1\u001b[0m \u001b[43mdf_yelp\u001b[49m[\u001b[38;5;124m'\u001b[39m\u001b[38;5;124mcity\u001b[39m\u001b[38;5;124m'\u001b[39m] \u001b[38;5;241m=\u001b[39m \u001b[38;5;124m\"\u001b[39m\u001b[38;5;124mSan Francisco Bay Area, CA\u001b[39m\u001b[38;5;124m\"\u001b[39m\n",
      "\u001b[1;31mNameError\u001b[0m: name 'df_yelp' is not defined"
     ]
    }
   ],
   "source": [
    "df_yelp['city'] = \"San Francisco Bay Area, CA\""
   ]
  },
  {
   "cell_type": "code",
   "execution_count": 67,
   "metadata": {},
   "outputs": [
    {
     "data": {
      "text/html": [
       "<div>\n",
       "<style scoped>\n",
       "    .dataframe tbody tr th:only-of-type {\n",
       "        vertical-align: middle;\n",
       "    }\n",
       "\n",
       "    .dataframe tbody tr th {\n",
       "        vertical-align: top;\n",
       "    }\n",
       "\n",
       "    .dataframe thead th {\n",
       "        text-align: right;\n",
       "    }\n",
       "</style>\n",
       "<table border=\"1\" class=\"dataframe\">\n",
       "  <thead>\n",
       "    <tr style=\"text-align: right;\">\n",
       "      <th></th>\n",
       "      <th>city</th>\n",
       "      <th>state</th>\n",
       "      <th>name</th>\n",
       "      <th>review_count</th>\n",
       "      <th>rating</th>\n",
       "      <th>latitude</th>\n",
       "      <th>longitude</th>\n",
       "      <th>category</th>\n",
       "    </tr>\n",
       "  </thead>\n",
       "  <tbody>\n",
       "    <tr>\n",
       "      <th>0</th>\n",
       "      <td>Oakland</td>\n",
       "      <td>CA</td>\n",
       "      <td>Wawa Thai Food</td>\n",
       "      <td>243</td>\n",
       "      <td>4.5</td>\n",
       "      <td>37.797169</td>\n",
       "      <td>-122.204842</td>\n",
       "      <td>thai</td>\n",
       "    </tr>\n",
       "    <tr>\n",
       "      <th>1</th>\n",
       "      <td>Oakland</td>\n",
       "      <td>CA</td>\n",
       "      <td>Bombera</td>\n",
       "      <td>278</td>\n",
       "      <td>4.0</td>\n",
       "      <td>37.799530</td>\n",
       "      <td>-122.215200</td>\n",
       "      <td>mexican</td>\n",
       "    </tr>\n",
       "    <tr>\n",
       "      <th>2</th>\n",
       "      <td>Oakland</td>\n",
       "      <td>CA</td>\n",
       "      <td>The Saint Sandwich Shop</td>\n",
       "      <td>239</td>\n",
       "      <td>4.5</td>\n",
       "      <td>37.797250</td>\n",
       "      <td>-122.204370</td>\n",
       "      <td>sandwiches</td>\n",
       "    </tr>\n",
       "    <tr>\n",
       "      <th>3</th>\n",
       "      <td>Oakland</td>\n",
       "      <td>CA</td>\n",
       "      <td>Cafe Noir</td>\n",
       "      <td>11</td>\n",
       "      <td>5.0</td>\n",
       "      <td>37.798756</td>\n",
       "      <td>-122.208274</td>\n",
       "      <td>burgers</td>\n",
       "    </tr>\n",
       "    <tr>\n",
       "      <th>4</th>\n",
       "      <td>Oakland</td>\n",
       "      <td>CA</td>\n",
       "      <td>Phnom Penh House Restaurant</td>\n",
       "      <td>506</td>\n",
       "      <td>4.5</td>\n",
       "      <td>37.791010</td>\n",
       "      <td>-122.197760</td>\n",
       "      <td>cambodian</td>\n",
       "    </tr>\n",
       "  </tbody>\n",
       "</table>\n",
       "</div>"
      ],
      "text/plain": [
       "      city state                         name  review_count  rating  \\\n",
       "0  Oakland    CA               Wawa Thai Food           243     4.5   \n",
       "1  Oakland    CA                      Bombera           278     4.0   \n",
       "2  Oakland    CA      The Saint Sandwich Shop           239     4.5   \n",
       "3  Oakland    CA                    Cafe Noir            11     5.0   \n",
       "4  Oakland    CA  Phnom Penh House Restaurant           506     4.5   \n",
       "\n",
       "    latitude   longitude    category  \n",
       "0  37.797169 -122.204842        thai  \n",
       "1  37.799530 -122.215200     mexican  \n",
       "2  37.797250 -122.204370  sandwiches  \n",
       "3  37.798756 -122.208274     burgers  \n",
       "4  37.791010 -122.197760   cambodian  "
      ]
     },
     "execution_count": 67,
     "metadata": {},
     "output_type": "execute_result"
    }
   ],
   "source": [
    "#del df_yelp['state']\n",
    "df_yelp.head()"
   ]
  },
  {
   "cell_type": "code",
   "execution_count": null,
   "metadata": {},
   "outputs": [],
   "source": []
  },
  {
   "cell_type": "code",
   "execution_count": 73,
   "metadata": {},
   "outputs": [],
   "source": [
    "df_yelp.to_csv('..\\data\\df_yelp.csv', index=False) #Export"
   ]
  },
  {
   "cell_type": "code",
   "execution_count": 74,
   "metadata": {},
   "outputs": [
    {
     "data": {
      "text/plain": [
       "Index(['city', 'state', 'name', 'review_count', 'rating', 'latitude',\n",
       "       'longitude', 'category'],\n",
       "      dtype='object')"
      ]
     },
     "execution_count": 74,
     "metadata": {},
     "output_type": "execute_result"
    }
   ],
   "source": [
    "df_yelp.columns"
   ]
  },
  {
   "cell_type": "code",
   "execution_count": 75,
   "metadata": {},
   "outputs": [
    {
     "data": {
      "text/plain": [
       "city             object\n",
       "state            object\n",
       "name             object\n",
       "review_count      int64\n",
       "rating          float64\n",
       "latitude        float64\n",
       "longitude       float64\n",
       "category         object\n",
       "dtype: object"
      ]
     },
     "execution_count": 75,
     "metadata": {},
     "output_type": "execute_result"
    }
   ],
   "source": [
    "df_yelp.dtypes"
   ]
  },
  {
   "cell_type": "markdown",
   "metadata": {},
   "source": [
    "# Comparing Results"
   ]
  },
  {
   "cell_type": "markdown",
   "metadata": {},
   "source": [
    "Which API provided you with more complete data? Provide an explanation. "
   ]
  },
  {
   "cell_type": "markdown",
   "metadata": {},
   "source": [
    "They both were pretty comparable. Seems like foursquare focuses more on location data and yelp has a more complete picture of the establishment and how it appeals to the masses. However, yelp also has some location info and establishment data relative to one another which is useful."
   ]
  },
  {
   "cell_type": "markdown",
   "metadata": {},
   "source": [
    "Get the top 10 restaurants according to their rating"
   ]
  },
  {
   "cell_type": "code",
   "execution_count": 76,
   "metadata": {},
   "outputs": [],
   "source": [
    "top_10_resto = df_yelp.sort_values(by='rating', ascending=False)"
   ]
  },
  {
   "cell_type": "code",
   "execution_count": 77,
   "metadata": {},
   "outputs": [
    {
     "data": {
      "text/html": [
       "<div>\n",
       "<style scoped>\n",
       "    .dataframe tbody tr th:only-of-type {\n",
       "        vertical-align: middle;\n",
       "    }\n",
       "\n",
       "    .dataframe tbody tr th {\n",
       "        vertical-align: top;\n",
       "    }\n",
       "\n",
       "    .dataframe thead th {\n",
       "        text-align: right;\n",
       "    }\n",
       "</style>\n",
       "<table border=\"1\" class=\"dataframe\">\n",
       "  <thead>\n",
       "    <tr style=\"text-align: right;\">\n",
       "      <th></th>\n",
       "      <th>city</th>\n",
       "      <th>state</th>\n",
       "      <th>name</th>\n",
       "      <th>review_count</th>\n",
       "      <th>rating</th>\n",
       "      <th>latitude</th>\n",
       "      <th>longitude</th>\n",
       "      <th>category</th>\n",
       "    </tr>\n",
       "  </thead>\n",
       "  <tbody>\n",
       "    <tr>\n",
       "      <th>3</th>\n",
       "      <td>Oakland</td>\n",
       "      <td>CA</td>\n",
       "      <td>Cafe Noir</td>\n",
       "      <td>11</td>\n",
       "      <td>5.0</td>\n",
       "      <td>37.798756</td>\n",
       "      <td>-122.208274</td>\n",
       "      <td>burgers</td>\n",
       "    </tr>\n",
       "    <tr>\n",
       "      <th>18</th>\n",
       "      <td>Oakland</td>\n",
       "      <td>CA</td>\n",
       "      <td>Maria’s Mexican Food</td>\n",
       "      <td>4</td>\n",
       "      <td>5.0</td>\n",
       "      <td>37.790938</td>\n",
       "      <td>-122.205074</td>\n",
       "      <td>tacos</td>\n",
       "    </tr>\n",
       "    <tr>\n",
       "      <th>0</th>\n",
       "      <td>Oakland</td>\n",
       "      <td>CA</td>\n",
       "      <td>Wawa Thai Food</td>\n",
       "      <td>243</td>\n",
       "      <td>4.5</td>\n",
       "      <td>37.797169</td>\n",
       "      <td>-122.204842</td>\n",
       "      <td>thai</td>\n",
       "    </tr>\n",
       "    <tr>\n",
       "      <th>2</th>\n",
       "      <td>Oakland</td>\n",
       "      <td>CA</td>\n",
       "      <td>The Saint Sandwich Shop</td>\n",
       "      <td>239</td>\n",
       "      <td>4.5</td>\n",
       "      <td>37.797250</td>\n",
       "      <td>-122.204370</td>\n",
       "      <td>sandwiches</td>\n",
       "    </tr>\n",
       "    <tr>\n",
       "      <th>4</th>\n",
       "      <td>Oakland</td>\n",
       "      <td>CA</td>\n",
       "      <td>Phnom Penh House Restaurant</td>\n",
       "      <td>506</td>\n",
       "      <td>4.5</td>\n",
       "      <td>37.791010</td>\n",
       "      <td>-122.197760</td>\n",
       "      <td>cambodian</td>\n",
       "    </tr>\n",
       "    <tr>\n",
       "      <th>5</th>\n",
       "      <td>Oakland</td>\n",
       "      <td>CA</td>\n",
       "      <td>Jo's Modern Thai</td>\n",
       "      <td>334</td>\n",
       "      <td>4.5</td>\n",
       "      <td>37.791680</td>\n",
       "      <td>-122.199110</td>\n",
       "      <td>thai</td>\n",
       "    </tr>\n",
       "    <tr>\n",
       "      <th>6</th>\n",
       "      <td>Oakland</td>\n",
       "      <td>CA</td>\n",
       "      <td>Boriqua Kitchen</td>\n",
       "      <td>128</td>\n",
       "      <td>4.5</td>\n",
       "      <td>37.804137</td>\n",
       "      <td>-122.207035</td>\n",
       "      <td>foodtrucks</td>\n",
       "    </tr>\n",
       "    <tr>\n",
       "      <th>1</th>\n",
       "      <td>Oakland</td>\n",
       "      <td>CA</td>\n",
       "      <td>Bombera</td>\n",
       "      <td>278</td>\n",
       "      <td>4.0</td>\n",
       "      <td>37.799530</td>\n",
       "      <td>-122.215200</td>\n",
       "      <td>mexican</td>\n",
       "    </tr>\n",
       "    <tr>\n",
       "      <th>10</th>\n",
       "      <td>Oakland</td>\n",
       "      <td>CA</td>\n",
       "      <td>Kasper's Hot Dogs</td>\n",
       "      <td>73</td>\n",
       "      <td>4.0</td>\n",
       "      <td>37.798985</td>\n",
       "      <td>-122.211578</td>\n",
       "      <td>sandwiches</td>\n",
       "    </tr>\n",
       "    <tr>\n",
       "      <th>8</th>\n",
       "      <td>Oakland</td>\n",
       "      <td>CA</td>\n",
       "      <td>Grand Bakery</td>\n",
       "      <td>21</td>\n",
       "      <td>4.0</td>\n",
       "      <td>37.796780</td>\n",
       "      <td>-122.204500</td>\n",
       "      <td>bakeries</td>\n",
       "    </tr>\n",
       "  </tbody>\n",
       "</table>\n",
       "</div>"
      ],
      "text/plain": [
       "       city state                         name  review_count  rating  \\\n",
       "3   Oakland    CA                    Cafe Noir            11     5.0   \n",
       "18  Oakland    CA         Maria’s Mexican Food             4     5.0   \n",
       "0   Oakland    CA               Wawa Thai Food           243     4.5   \n",
       "2   Oakland    CA      The Saint Sandwich Shop           239     4.5   \n",
       "4   Oakland    CA  Phnom Penh House Restaurant           506     4.5   \n",
       "5   Oakland    CA             Jo's Modern Thai           334     4.5   \n",
       "6   Oakland    CA              Boriqua Kitchen           128     4.5   \n",
       "1   Oakland    CA                      Bombera           278     4.0   \n",
       "10  Oakland    CA            Kasper's Hot Dogs            73     4.0   \n",
       "8   Oakland    CA                 Grand Bakery            21     4.0   \n",
       "\n",
       "     latitude   longitude    category  \n",
       "3   37.798756 -122.208274     burgers  \n",
       "18  37.790938 -122.205074       tacos  \n",
       "0   37.797169 -122.204842        thai  \n",
       "2   37.797250 -122.204370  sandwiches  \n",
       "4   37.791010 -122.197760   cambodian  \n",
       "5   37.791680 -122.199110        thai  \n",
       "6   37.804137 -122.207035  foodtrucks  \n",
       "1   37.799530 -122.215200     mexican  \n",
       "10  37.798985 -122.211578  sandwiches  \n",
       "8   37.796780 -122.204500    bakeries  "
      ]
     },
     "execution_count": 77,
     "metadata": {},
     "output_type": "execute_result"
    }
   ],
   "source": [
    "top_10_resto.head(10)"
   ]
  },
  {
   "cell_type": "markdown",
   "metadata": {},
   "source": [
    "#### Data Clean city/state column"
   ]
  },
  {
   "cell_type": "code",
   "execution_count": 34,
   "metadata": {},
   "outputs": [],
   "source": [
    "df_yelp['city'] = df_yelp['city'] + df_yelp['state']"
   ]
  },
  {
   "cell_type": "code",
   "execution_count": 43,
   "metadata": {},
   "outputs": [],
   "source": [
    "df_yelp.rename(columns={'city': 'location'}, inplace=True)"
   ]
  },
  {
   "cell_type": "code",
   "execution_count": 44,
   "metadata": {},
   "outputs": [],
   "source": [
    "df_yelp.drop(columns=['state'], inplace=True)"
   ]
  },
  {
   "cell_type": "code",
   "execution_count": 86,
   "metadata": {},
   "outputs": [
    {
     "data": {
      "text/html": [
       "<div>\n",
       "<style scoped>\n",
       "    .dataframe tbody tr th:only-of-type {\n",
       "        vertical-align: middle;\n",
       "    }\n",
       "\n",
       "    .dataframe tbody tr th {\n",
       "        vertical-align: top;\n",
       "    }\n",
       "\n",
       "    .dataframe thead th {\n",
       "        text-align: right;\n",
       "    }\n",
       "</style>\n",
       "<table border=\"1\" class=\"dataframe\">\n",
       "  <thead>\n",
       "    <tr style=\"text-align: right;\">\n",
       "      <th></th>\n",
       "      <th>city</th>\n",
       "      <th>state</th>\n",
       "      <th>name</th>\n",
       "      <th>review_count</th>\n",
       "      <th>rating</th>\n",
       "      <th>latitude</th>\n",
       "      <th>longitude</th>\n",
       "      <th>category</th>\n",
       "    </tr>\n",
       "  </thead>\n",
       "  <tbody>\n",
       "    <tr>\n",
       "      <th>15</th>\n",
       "      <td>Oakland</td>\n",
       "      <td>CA</td>\n",
       "      <td>Wingstop</td>\n",
       "      <td>74</td>\n",
       "      <td>2.0</td>\n",
       "      <td>37.790437</td>\n",
       "      <td>-122.197862</td>\n",
       "      <td>chicken_wings</td>\n",
       "    </tr>\n",
       "    <tr>\n",
       "      <th>16</th>\n",
       "      <td>Oakland</td>\n",
       "      <td>CA</td>\n",
       "      <td>World Ground Cafe</td>\n",
       "      <td>281</td>\n",
       "      <td>3.5</td>\n",
       "      <td>37.792170</td>\n",
       "      <td>-122.198810</td>\n",
       "      <td>coffee</td>\n",
       "    </tr>\n",
       "    <tr>\n",
       "      <th>17</th>\n",
       "      <td>Oakland</td>\n",
       "      <td>CA</td>\n",
       "      <td>Fountain Garden Seafood Restaurant</td>\n",
       "      <td>214</td>\n",
       "      <td>3.5</td>\n",
       "      <td>37.791428</td>\n",
       "      <td>-122.198128</td>\n",
       "      <td>chinese</td>\n",
       "    </tr>\n",
       "    <tr>\n",
       "      <th>18</th>\n",
       "      <td>Oakland</td>\n",
       "      <td>CA</td>\n",
       "      <td>Maria’s Mexican Food</td>\n",
       "      <td>4</td>\n",
       "      <td>5.0</td>\n",
       "      <td>37.790938</td>\n",
       "      <td>-122.205074</td>\n",
       "      <td>tacos</td>\n",
       "    </tr>\n",
       "    <tr>\n",
       "      <th>19</th>\n",
       "      <td>Oakland</td>\n",
       "      <td>CA</td>\n",
       "      <td>Domino's Pizza</td>\n",
       "      <td>152</td>\n",
       "      <td>1.5</td>\n",
       "      <td>37.792391</td>\n",
       "      <td>-122.199662</td>\n",
       "      <td>pizza</td>\n",
       "    </tr>\n",
       "  </tbody>\n",
       "</table>\n",
       "</div>"
      ],
      "text/plain": [
       "       city state                                name  review_count  rating  \\\n",
       "15  Oakland    CA                            Wingstop            74     2.0   \n",
       "16  Oakland    CA                   World Ground Cafe           281     3.5   \n",
       "17  Oakland    CA  Fountain Garden Seafood Restaurant           214     3.5   \n",
       "18  Oakland    CA                Maria’s Mexican Food             4     5.0   \n",
       "19  Oakland    CA                      Domino's Pizza           152     1.5   \n",
       "\n",
       "     latitude   longitude       category  \n",
       "15  37.790437 -122.197862  chicken_wings  \n",
       "16  37.792170 -122.198810         coffee  \n",
       "17  37.791428 -122.198128        chinese  \n",
       "18  37.790938 -122.205074          tacos  \n",
       "19  37.792391 -122.199662          pizza  "
      ]
     },
     "execution_count": 86,
     "metadata": {},
     "output_type": "execute_result"
    }
   ],
   "source": [
    "df_yelp.tail()"
   ]
  },
  {
   "cell_type": "code",
   "execution_count": null,
   "metadata": {},
   "outputs": [],
   "source": []
  },
  {
   "cell_type": "markdown",
   "metadata": {},
   "source": [
    "Import the city_bikes df"
   ]
  },
  {
   "cell_type": "code",
   "execution_count": 39,
   "metadata": {},
   "outputs": [],
   "source": [
    "csv_file_path = '..\\data\\df_bikes.csv'\n",
    "\n",
    "# Read the CSV file into a DataFrame\n",
    "df_bikes = pd.read_csv(csv_file_path)\n"
   ]
  },
  {
   "cell_type": "code",
   "execution_count": 40,
   "metadata": {},
   "outputs": [],
   "source": [
    "df_bikes.rename(columns={'City': 'location'}, inplace=True)"
   ]
  },
  {
   "cell_type": "code",
   "execution_count": null,
   "metadata": {},
   "outputs": [],
   "source": []
  },
  {
   "cell_type": "code",
   "execution_count": 41,
   "metadata": {},
   "outputs": [
    {
     "data": {
      "text/html": [
       "<div>\n",
       "<style scoped>\n",
       "    .dataframe tbody tr th:only-of-type {\n",
       "        vertical-align: middle;\n",
       "    }\n",
       "\n",
       "    .dataframe tbody tr th {\n",
       "        vertical-align: top;\n",
       "    }\n",
       "\n",
       "    .dataframe thead th {\n",
       "        text-align: right;\n",
       "    }\n",
       "</style>\n",
       "<table border=\"1\" class=\"dataframe\">\n",
       "  <thead>\n",
       "    <tr style=\"text-align: right;\">\n",
       "      <th></th>\n",
       "      <th>location</th>\n",
       "      <th>Latitude</th>\n",
       "      <th>Longitude</th>\n",
       "      <th>Free_Bikes</th>\n",
       "      <th>Empty_Slots</th>\n",
       "      <th>Total_Bikes</th>\n",
       "    </tr>\n",
       "  </thead>\n",
       "  <tbody>\n",
       "    <tr>\n",
       "      <th>0</th>\n",
       "      <td>San Francisco Bay Area, CA</td>\n",
       "      <td>37.849735</td>\n",
       "      <td>-122.270582</td>\n",
       "      <td>6</td>\n",
       "      <td>9</td>\n",
       "      <td>15</td>\n",
       "    </tr>\n",
       "    <tr>\n",
       "      <th>1</th>\n",
       "      <td>San Francisco Bay Area, CA</td>\n",
       "      <td>37.336188</td>\n",
       "      <td>-121.889277</td>\n",
       "      <td>11</td>\n",
       "      <td>0</td>\n",
       "      <td>11</td>\n",
       "    </tr>\n",
       "    <tr>\n",
       "      <th>2</th>\n",
       "      <td>San Francisco Bay Area, CA</td>\n",
       "      <td>37.322125</td>\n",
       "      <td>-121.881090</td>\n",
       "      <td>16</td>\n",
       "      <td>6</td>\n",
       "      <td>22</td>\n",
       "    </tr>\n",
       "    <tr>\n",
       "      <th>3</th>\n",
       "      <td>San Francisco Bay Area, CA</td>\n",
       "      <td>37.323678</td>\n",
       "      <td>-121.874119</td>\n",
       "      <td>11</td>\n",
       "      <td>4</td>\n",
       "      <td>15</td>\n",
       "    </tr>\n",
       "    <tr>\n",
       "      <th>4</th>\n",
       "      <td>San Francisco Bay Area, CA</td>\n",
       "      <td>37.325998</td>\n",
       "      <td>-121.877120</td>\n",
       "      <td>14</td>\n",
       "      <td>13</td>\n",
       "      <td>27</td>\n",
       "    </tr>\n",
       "  </tbody>\n",
       "</table>\n",
       "</div>"
      ],
      "text/plain": [
       "                     location   Latitude   Longitude  Free_Bikes  Empty_Slots  \\\n",
       "0  San Francisco Bay Area, CA  37.849735 -122.270582           6            9   \n",
       "1  San Francisco Bay Area, CA  37.336188 -121.889277          11            0   \n",
       "2  San Francisco Bay Area, CA  37.322125 -121.881090          16            6   \n",
       "3  San Francisco Bay Area, CA  37.323678 -121.874119          11            4   \n",
       "4  San Francisco Bay Area, CA  37.325998 -121.877120          14           13   \n",
       "\n",
       "   Total_Bikes  \n",
       "0           15  \n",
       "1           11  \n",
       "2           22  \n",
       "3           15  \n",
       "4           27  "
      ]
     },
     "execution_count": 41,
     "metadata": {},
     "output_type": "execute_result"
    }
   ],
   "source": [
    "df_bikes.head()"
   ]
  },
  {
   "cell_type": "code",
   "execution_count": null,
   "metadata": {},
   "outputs": [],
   "source": []
  },
  {
   "cell_type": "markdown",
   "metadata": {},
   "source": [
    "Union the 3 dataframes for ease and speed as I don't have time to sort out and clean all the dataframes:"
   ]
  },
  {
   "cell_type": "code",
   "execution_count": 25,
   "metadata": {},
   "outputs": [],
   "source": [
    "#bikes_fsq_yelp_union = pd.concat([df_bikes, df_foursquare, df_yelp], ignore_index=True) #ignore_index=True new df has new index."
   ]
  },
  {
   "cell_type": "code",
   "execution_count": 60,
   "metadata": {},
   "outputs": [],
   "source": [
    "#bikes_fsq_yelp_union = pd.merge(df_bikes, df_foursquare, how='outer', on='name')\n",
    "\n",
    "# Merging DataFrames failed\n",
    "#merged_df = pd.merge(df_bikes, df_foursquare, left_on=['Latitude', 'Longitude'], right_on=['latitude', 'longitude'], how='inner')\n"
   ]
  },
  {
   "cell_type": "code",
   "execution_count": 62,
   "metadata": {},
   "outputs": [],
   "source": [
    "#adding 3rd api failed\n",
    "#merged_df = pd.merge(merged_df, df_yelp, left_on=['Latitude', 'Longitude'], right_on=['latitude', 'longitude'], how='inner')"
   ]
  },
  {
   "cell_type": "code",
   "execution_count": 87,
   "metadata": {},
   "outputs": [],
   "source": [
    "combined_df = pd.concat([df_bikes, df_foursquare, df_yelp], ignore_index=True)"
   ]
  },
  {
   "cell_type": "code",
   "execution_count": 93,
   "metadata": {},
   "outputs": [
    {
     "data": {
      "text/html": [
       "<div>\n",
       "<style scoped>\n",
       "    .dataframe tbody tr th:only-of-type {\n",
       "        vertical-align: middle;\n",
       "    }\n",
       "\n",
       "    .dataframe tbody tr th {\n",
       "        vertical-align: top;\n",
       "    }\n",
       "\n",
       "    .dataframe thead th {\n",
       "        text-align: right;\n",
       "    }\n",
       "</style>\n",
       "<table border=\"1\" class=\"dataframe\">\n",
       "  <thead>\n",
       "    <tr style=\"text-align: right;\">\n",
       "      <th></th>\n",
       "      <th>location</th>\n",
       "      <th>Latitude</th>\n",
       "      <th>Longitude</th>\n",
       "      <th>Free_Bikes</th>\n",
       "      <th>Empty_Slots</th>\n",
       "      <th>Total_Bikes</th>\n",
       "      <th>name</th>\n",
       "      <th>category</th>\n",
       "      <th>closed_bucket</th>\n",
       "      <th>distance</th>\n",
       "      <th>postcode</th>\n",
       "      <th>latitude</th>\n",
       "      <th>longitude</th>\n",
       "      <th>region</th>\n",
       "      <th>city</th>\n",
       "      <th>state</th>\n",
       "      <th>review_count</th>\n",
       "      <th>rating</th>\n",
       "    </tr>\n",
       "  </thead>\n",
       "  <tbody>\n",
       "    <tr>\n",
       "      <th>569</th>\n",
       "      <td>NaN</td>\n",
       "      <td>NaN</td>\n",
       "      <td>NaN</td>\n",
       "      <td>NaN</td>\n",
       "      <td>NaN</td>\n",
       "      <td>NaN</td>\n",
       "      <td>Wingstop</td>\n",
       "      <td>chicken_wings</td>\n",
       "      <td>NaN</td>\n",
       "      <td>NaN</td>\n",
       "      <td>NaN</td>\n",
       "      <td>37.790437</td>\n",
       "      <td>-122.197862</td>\n",
       "      <td>NaN</td>\n",
       "      <td>Oakland</td>\n",
       "      <td>CA</td>\n",
       "      <td>74.0</td>\n",
       "      <td>2.0</td>\n",
       "    </tr>\n",
       "    <tr>\n",
       "      <th>570</th>\n",
       "      <td>NaN</td>\n",
       "      <td>NaN</td>\n",
       "      <td>NaN</td>\n",
       "      <td>NaN</td>\n",
       "      <td>NaN</td>\n",
       "      <td>NaN</td>\n",
       "      <td>World Ground Cafe</td>\n",
       "      <td>coffee</td>\n",
       "      <td>NaN</td>\n",
       "      <td>NaN</td>\n",
       "      <td>NaN</td>\n",
       "      <td>37.792170</td>\n",
       "      <td>-122.198810</td>\n",
       "      <td>NaN</td>\n",
       "      <td>Oakland</td>\n",
       "      <td>CA</td>\n",
       "      <td>281.0</td>\n",
       "      <td>3.5</td>\n",
       "    </tr>\n",
       "    <tr>\n",
       "      <th>571</th>\n",
       "      <td>NaN</td>\n",
       "      <td>NaN</td>\n",
       "      <td>NaN</td>\n",
       "      <td>NaN</td>\n",
       "      <td>NaN</td>\n",
       "      <td>NaN</td>\n",
       "      <td>Fountain Garden Seafood Restaurant</td>\n",
       "      <td>chinese</td>\n",
       "      <td>NaN</td>\n",
       "      <td>NaN</td>\n",
       "      <td>NaN</td>\n",
       "      <td>37.791428</td>\n",
       "      <td>-122.198128</td>\n",
       "      <td>NaN</td>\n",
       "      <td>Oakland</td>\n",
       "      <td>CA</td>\n",
       "      <td>214.0</td>\n",
       "      <td>3.5</td>\n",
       "    </tr>\n",
       "    <tr>\n",
       "      <th>572</th>\n",
       "      <td>NaN</td>\n",
       "      <td>NaN</td>\n",
       "      <td>NaN</td>\n",
       "      <td>NaN</td>\n",
       "      <td>NaN</td>\n",
       "      <td>NaN</td>\n",
       "      <td>Maria’s Mexican Food</td>\n",
       "      <td>tacos</td>\n",
       "      <td>NaN</td>\n",
       "      <td>NaN</td>\n",
       "      <td>NaN</td>\n",
       "      <td>37.790938</td>\n",
       "      <td>-122.205074</td>\n",
       "      <td>NaN</td>\n",
       "      <td>Oakland</td>\n",
       "      <td>CA</td>\n",
       "      <td>4.0</td>\n",
       "      <td>5.0</td>\n",
       "    </tr>\n",
       "    <tr>\n",
       "      <th>573</th>\n",
       "      <td>NaN</td>\n",
       "      <td>NaN</td>\n",
       "      <td>NaN</td>\n",
       "      <td>NaN</td>\n",
       "      <td>NaN</td>\n",
       "      <td>NaN</td>\n",
       "      <td>Domino's Pizza</td>\n",
       "      <td>pizza</td>\n",
       "      <td>NaN</td>\n",
       "      <td>NaN</td>\n",
       "      <td>NaN</td>\n",
       "      <td>37.792391</td>\n",
       "      <td>-122.199662</td>\n",
       "      <td>NaN</td>\n",
       "      <td>Oakland</td>\n",
       "      <td>CA</td>\n",
       "      <td>152.0</td>\n",
       "      <td>1.5</td>\n",
       "    </tr>\n",
       "  </tbody>\n",
       "</table>\n",
       "</div>"
      ],
      "text/plain": [
       "    location  Latitude  Longitude  Free_Bikes  Empty_Slots  Total_Bikes  \\\n",
       "569      NaN       NaN        NaN         NaN          NaN          NaN   \n",
       "570      NaN       NaN        NaN         NaN          NaN          NaN   \n",
       "571      NaN       NaN        NaN         NaN          NaN          NaN   \n",
       "572      NaN       NaN        NaN         NaN          NaN          NaN   \n",
       "573      NaN       NaN        NaN         NaN          NaN          NaN   \n",
       "\n",
       "                                   name       category closed_bucket  \\\n",
       "569                            Wingstop  chicken_wings           NaN   \n",
       "570                   World Ground Cafe         coffee           NaN   \n",
       "571  Fountain Garden Seafood Restaurant        chinese           NaN   \n",
       "572                Maria’s Mexican Food          tacos           NaN   \n",
       "573                      Domino's Pizza          pizza           NaN   \n",
       "\n",
       "     distance postcode   latitude   longitude region     city state  \\\n",
       "569       NaN      NaN  37.790437 -122.197862    NaN  Oakland    CA   \n",
       "570       NaN      NaN  37.792170 -122.198810    NaN  Oakland    CA   \n",
       "571       NaN      NaN  37.791428 -122.198128    NaN  Oakland    CA   \n",
       "572       NaN      NaN  37.790938 -122.205074    NaN  Oakland    CA   \n",
       "573       NaN      NaN  37.792391 -122.199662    NaN  Oakland    CA   \n",
       "\n",
       "     review_count  rating  \n",
       "569          74.0     2.0  \n",
       "570         281.0     3.5  \n",
       "571         214.0     3.5  \n",
       "572           4.0     5.0  \n",
       "573         152.0     1.5  "
      ]
     },
     "execution_count": 93,
     "metadata": {},
     "output_type": "execute_result"
    }
   ],
   "source": [
    "combined_df.tail()"
   ]
  },
  {
   "cell_type": "code",
   "execution_count": 111,
   "metadata": {},
   "outputs": [],
   "source": [
    "# Clean up the lat and lon column\n",
    "# Remove brackets and commas from the 'Latitude' column\n",
    "#combined_df['latitude'] = combined_df['latitude'].str.replace(r'[,\\(\\)]', '', regex=True)\n",
    "\n",
    "# Convert the column to numeric\n",
    "#combined_df['latitudeNew'] = combined_df['latitude'].str[1:-2]\n",
    "#combined_df['latitudeNew'] = combined_df['latitude'].apply(lambda x: x.strip('()'))"
   ]
  },
  {
   "cell_type": "markdown",
   "metadata": {},
   "source": [
    "Export the dataframe so that it can be accessed in the joining_data notebook"
   ]
  },
  {
   "cell_type": "code",
   "execution_count": 96,
   "metadata": {},
   "outputs": [],
   "source": [
    "combined_df.to_csv('..\\data\\combined_apis.csv', index=False)"
   ]
  },
  {
   "cell_type": "code",
   "execution_count": 98,
   "metadata": {},
   "outputs": [
    {
     "data": {
      "text/plain": [
       "location          object\n",
       "Latitude         float64\n",
       "Longitude        float64\n",
       "Free_Bikes       float64\n",
       "Empty_Slots      float64\n",
       "Total_Bikes      float64\n",
       "name              object\n",
       "category          object\n",
       "closed_bucket     object\n",
       "distance         float64\n",
       "postcode          object\n",
       "latitude         float64\n",
       "longitude        float64\n",
       "region            object\n",
       "city              object\n",
       "state             object\n",
       "review_count     float64\n",
       "rating           float64\n",
       "dtype: object"
      ]
     },
     "execution_count": 98,
     "metadata": {},
     "output_type": "execute_result"
    }
   ],
   "source": [
    "combined_df.dtypes"
   ]
  },
  {
   "cell_type": "code",
   "execution_count": null,
   "metadata": {},
   "outputs": [],
   "source": []
  },
  {
   "cell_type": "code",
   "execution_count": null,
   "metadata": {},
   "outputs": [],
   "source": []
  }
 ],
 "metadata": {
  "kernelspec": {
   "display_name": "Python 3 (ipykernel)",
   "language": "python",
   "name": "python3"
  },
  "language_info": {
   "codemirror_mode": {
    "name": "ipython",
    "version": 3
   },
   "file_extension": ".py",
   "mimetype": "text/x-python",
   "name": "python",
   "nbconvert_exporter": "python",
   "pygments_lexer": "ipython3",
   "version": "3.9.18"
  }
 },
 "nbformat": 4,
 "nbformat_minor": 4
}
