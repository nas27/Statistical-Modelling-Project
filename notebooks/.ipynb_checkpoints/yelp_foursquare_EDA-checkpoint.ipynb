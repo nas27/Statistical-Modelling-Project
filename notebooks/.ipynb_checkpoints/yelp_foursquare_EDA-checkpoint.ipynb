{
 "cells": [
  {
   "cell_type": "code",
   "execution_count": 19,
   "metadata": {},
   "outputs": [],
   "source": [
    "import pandas as pd\n",
    "import os #env variables\n",
    "import requests #call the APIs\n",
    "import json\n",
    "from IPython.display import JSON"
   ]
  },
  {
   "cell_type": "markdown",
   "metadata": {},
   "source": [
    "# Foursquare"
   ]
  },
  {
   "cell_type": "markdown",
   "metadata": {},
   "source": [
    "Send a request to Foursquare with a small radius (1000m) for all the bike stations in your city of choice. "
   ]
  },
  {
   "cell_type": "code",
   "execution_count": 20,
   "metadata": {},
   "outputs": [],
   "source": [
    "FOURSQUARE_KEY = os.getenv('FOURSQUARE_API_KEY')"
   ]
  },
  {
   "cell_type": "code",
   "execution_count": 21,
   "metadata": {},
   "outputs": [],
   "source": [
    "csv_file_path = '..\\data\\df_bikes.csv'\n",
    "\n",
    "# Read the CSV file into a DataFrame\n",
    "df_bikes = pd.read_csv(csv_file_path)"
   ]
  },
  {
   "cell_type": "code",
   "execution_count": 22,
   "metadata": {},
   "outputs": [
    {
     "data": {
      "text/html": [
       "<div>\n",
       "<style scoped>\n",
       "    .dataframe tbody tr th:only-of-type {\n",
       "        vertical-align: middle;\n",
       "    }\n",
       "\n",
       "    .dataframe tbody tr th {\n",
       "        vertical-align: top;\n",
       "    }\n",
       "\n",
       "    .dataframe thead th {\n",
       "        text-align: right;\n",
       "    }\n",
       "</style>\n",
       "<table border=\"1\" class=\"dataframe\">\n",
       "  <thead>\n",
       "    <tr style=\"text-align: right;\">\n",
       "      <th></th>\n",
       "      <th>Station_No</th>\n",
       "      <th>Station_ID</th>\n",
       "      <th>City</th>\n",
       "      <th>Bike_Lat</th>\n",
       "      <th>Bike_Lon</th>\n",
       "      <th>Free_Bikes</th>\n",
       "      <th>Empty_Slots</th>\n",
       "      <th>Total_Bikes</th>\n",
       "    </tr>\n",
       "  </thead>\n",
       "  <tbody>\n",
       "    <tr>\n",
       "      <th>0</th>\n",
       "      <td>0</td>\n",
       "      <td>d0e8f4f1834b7b33a3faf8882f567ab8</td>\n",
       "      <td>San Francisco Bay Area, CA</td>\n",
       "      <td>37.849735</td>\n",
       "      <td>-122.270582</td>\n",
       "      <td>1</td>\n",
       "      <td>14</td>\n",
       "      <td>15</td>\n",
       "    </tr>\n",
       "    <tr>\n",
       "      <th>1</th>\n",
       "      <td>1</td>\n",
       "      <td>983514094dd808b1604da2dcfc2d09af</td>\n",
       "      <td>San Francisco Bay Area, CA</td>\n",
       "      <td>37.336188</td>\n",
       "      <td>-121.889277</td>\n",
       "      <td>6</td>\n",
       "      <td>5</td>\n",
       "      <td>11</td>\n",
       "    </tr>\n",
       "    <tr>\n",
       "      <th>2</th>\n",
       "      <td>2</td>\n",
       "      <td>da17603652106fda93da4e255a5b0a22</td>\n",
       "      <td>San Francisco Bay Area, CA</td>\n",
       "      <td>37.322125</td>\n",
       "      <td>-121.881090</td>\n",
       "      <td>16</td>\n",
       "      <td>7</td>\n",
       "      <td>23</td>\n",
       "    </tr>\n",
       "    <tr>\n",
       "      <th>3</th>\n",
       "      <td>3</td>\n",
       "      <td>7a21c92b3b4cd2f7759107b4fdebf869</td>\n",
       "      <td>San Francisco Bay Area, CA</td>\n",
       "      <td>37.323678</td>\n",
       "      <td>-121.874119</td>\n",
       "      <td>7</td>\n",
       "      <td>7</td>\n",
       "      <td>14</td>\n",
       "    </tr>\n",
       "    <tr>\n",
       "      <th>4</th>\n",
       "      <td>4</td>\n",
       "      <td>ce34d38fb230a23c1ced12d1e16df294</td>\n",
       "      <td>San Francisco Bay Area, CA</td>\n",
       "      <td>37.325998</td>\n",
       "      <td>-121.877120</td>\n",
       "      <td>4</td>\n",
       "      <td>23</td>\n",
       "      <td>27</td>\n",
       "    </tr>\n",
       "  </tbody>\n",
       "</table>\n",
       "</div>"
      ],
      "text/plain": [
       "   Station_No                        Station_ID                        City  \\\n",
       "0           0  d0e8f4f1834b7b33a3faf8882f567ab8  San Francisco Bay Area, CA   \n",
       "1           1  983514094dd808b1604da2dcfc2d09af  San Francisco Bay Area, CA   \n",
       "2           2  da17603652106fda93da4e255a5b0a22  San Francisco Bay Area, CA   \n",
       "3           3  7a21c92b3b4cd2f7759107b4fdebf869  San Francisco Bay Area, CA   \n",
       "4           4  ce34d38fb230a23c1ced12d1e16df294  San Francisco Bay Area, CA   \n",
       "\n",
       "    Bike_Lat    Bike_Lon  Free_Bikes  Empty_Slots  Total_Bikes  \n",
       "0  37.849735 -122.270582           1           14           15  \n",
       "1  37.336188 -121.889277           6            5           11  \n",
       "2  37.322125 -121.881090          16            7           23  \n",
       "3  37.323678 -121.874119           7            7           14  \n",
       "4  37.325998 -121.877120           4           23           27  "
      ]
     },
     "execution_count": 22,
     "metadata": {},
     "output_type": "execute_result"
    }
   ],
   "source": [
    "df_bikes.head()"
   ]
  },
  {
   "cell_type": "code",
   "execution_count": 17,
   "metadata": {},
   "outputs": [],
   "source": [
    "# This method accepts a station no/id from bike data\n",
    "def getDetails(no,id,lat,long):\n",
    "    url = \"https://api.foursquare.com/v3/places/search\"\n",
    "    params = {\n",
    "        \"query\": \"bars\",\n",
    "        \"ll\": f\"{lat},{long}\",  # Using latitude and longitude from the CityBikes df\n",
    "        \"radius\": \"1000\",\n",
    "        \"sort\": \"DISTANCE\",\n",
    "        #Grab 5 closest POIs per bike station\n",
    "        'limit': 5\n",
    "    }\n",
    "\n",
    "    headers = {\n",
    "        \"Accept\": \"application/json\",\n",
    "        \"Authorization\": FOURSQUARE_KEY\n",
    "    }\n",
    "\n",
    "    # API request\n",
    "    response = requests.get(url, params=params, headers=headers)\n",
    "    # Parse the JSON response\n",
    "    data = response.json().get(\"results\", [])\n",
    "    \n",
    "    # Extracting relevant data\n",
    "    poi_data = []\n",
    "    for result in data:\n",
    "        name = result['name']\n",
    "        distance = result['distance']\n",
    "        poi_data.append([no,id, lat, long, name, distance])\n",
    "    \n",
    "    \n",
    "    return poi_data"
   ]
  },
  {
   "cell_type": "code",
   "execution_count": 8,
   "metadata": {},
   "outputs": [],
   "source": [
    "#Get Fsq data foreach lat/long\n",
    "foursquare_data = []\n",
    "for _, row in df_bikes.iterrows():\n",
    "    foursquare_data.extend(getDetails(row[\"Station_No\"],row[\"Station_ID\"],row[\"Bike_Lat\"], row[\"Bike_Lon\"]))"
   ]
  },
  {
   "cell_type": "markdown",
   "metadata": {},
   "source": [
    "Parse through the response to get the POI (such as restaurants, bars, etc) details you want (ratings, name, location, etc)"
   ]
  },
  {
   "cell_type": "markdown",
   "metadata": {},
   "source": [
    "Put your parsed results into a DataFrame"
   ]
  },
  {
   "cell_type": "code",
   "execution_count": 12,
   "metadata": {},
   "outputs": [],
   "source": [
    "# Create a FSQ dataframe\n",
    "df_fsq = pd.DataFrame(foursquare_data, columns=[\"Station_No\",\"Station_ID\", \"Bike_Lat\", \"Bike_Lon\", \"name\", \"distance\"])"
   ]
  },
  {
   "cell_type": "code",
   "execution_count": 10,
   "metadata": {},
   "outputs": [],
   "source": [
    "# Display or save/export the dataframe as needed\n",
    "df_fsq.to_csv('..\\data\\df_fsq.csv', index=False)"
   ]
  },
  {
   "cell_type": "code",
   "execution_count": null,
   "metadata": {},
   "outputs": [],
   "source": [
    "df_fsq.head()"
   ]
  },
  {
   "cell_type": "markdown",
   "metadata": {},
   "source": [
    "# Yelp"
   ]
  },
  {
   "cell_type": "markdown",
   "metadata": {},
   "source": [
    "Send a request to Yelp with a small radius (1000m) for all the bike stations in your city of choice. "
   ]
  },
  {
   "cell_type": "markdown",
   "metadata": {},
   "source": [
    "Parse through the response to get the POI (such as restaurants, bars, etc) details you want (ratings, name, location, etc)"
   ]
  },
  {
   "cell_type": "code",
   "execution_count": 23,
   "metadata": {
    "scrolled": true
   },
   "outputs": [],
   "source": [
    "YELP_API_KEY = os.getenv('YELP_API_KEY')\n",
    "YELP_CLIENT_ID = os.getenv('YELP_CLIENT_ID')"
   ]
  },
  {
   "cell_type": "code",
   "execution_count": 25,
   "metadata": {},
   "outputs": [],
   "source": [
    "# Yelp data for each latitude and longitude pertaining to each bike station\n",
    "def getYelpDetails(no, id, lat, long):\n",
    "    yelp_url = \"https://api.yelp.com/v3/businesses/search\"\n",
    "\n",
    "    headers = {\n",
    "        \"Authorization\": f\"Bearer {YELP_API_KEY}\",\n",
    "    }\n",
    "\n",
    "    params = {\n",
    "        \"term\": \"restaurant\",\n",
    "        \"radius\": 1000,\n",
    "        #This limit is due to Free API tier -  HTTP 429 Too Many Requests\n",
    "        \"limit\": 3,\n",
    "        \"sort_by\": \"distance\"\n",
    "    }\n",
    "\n",
    "    url = yelp_url\n",
    "\n",
    "    # Add latitude and longitude to the params dictionary\n",
    "    params[\"latitude\"] = lat\n",
    "    params[\"longitude\"] = long\n",
    "\n",
    "    response = requests.get(url, params=params, headers=headers)\n",
    "\n",
    "    # Check the response status code\n",
    "    if response.status_code != 200:\n",
    "        print(f\"Warning: Yelp API request failed with status code {response.status_code}\")\n",
    "        return []\n",
    "\n",
    "    pois = response.json().get(\"businesses\", [])\n",
    "   \n",
    "    extracted_data = []\n",
    "\n",
    "    for poi in pois:\n",
    "        name = poi[\"name\"]\n",
    "        review_count = poi[\"review_count\"]\n",
    "        categories = ', '.join([category[\"title\"] for category in poi[\"categories\"]])\n",
    "        rating = poi[\"rating\"]\n",
    "        distance = poi[\"distance\"]\n",
    "\n",
    "        extracted_data.append([no, id, lat, long, name, review_count, categories, rating, distance])\n",
    "\n",
    "    return extracted_data "
   ]
  },
  {
   "cell_type": "code",
   "execution_count": null,
   "metadata": {},
   "outputs": [],
   "source": [
    "# Yelp data for each set of latitude and longitude\n",
    "yelp_data = []\n",
    "for _, row in df_bikes.iterrows():\n",
    "    yelp_data.extend(getYelpDetails(row[\"Station_No\"], row[\"Station_ID\"], row[\"Bike_Lat\"], row[\"Bike_Lon\"]))"
   ]
  },
  {
   "cell_type": "code",
   "execution_count": 37,
   "metadata": {},
   "outputs": [
    {
     "name": "stdout",
     "output_type": "stream",
     "text": [
      "[0, 'd0e8f4f1834b7b33a3faf8882f567ab8', 37.849735, -122.270582, 'The Fat Fish', 190, 'Fish & Chips', 4.0, 29.9305557971102]\n",
      "[0, 'd0e8f4f1834b7b33a3faf8882f567ab8', 37.849735, -122.270582, 'El Tiny Cafe', 57, 'Cafes', 5.0, 31.707767038858425]\n",
      "[0, 'd0e8f4f1834b7b33a3faf8882f567ab8', 37.849735, -122.270582, '808 deli and cafe', 0, 'Delis', 0.0, 79.03748686104271]\n",
      "[1, '983514094dd808b1604da2dcfc2d09af', 37.33618830029063, -121.8892765045166, 'Scratch Cookery', 495, 'Food Trucks, Chicken Shop', 4.5, 28.365905869786513]\n",
      "[1, '983514094dd808b1604da2dcfc2d09af', 37.33618830029063, -121.8892765045166, 'Goodtime Bar', 73, 'Wine Bars, Tapas/Small Plates, Seafood', 5.0, 33.119119462517794]\n",
      "[1, '983514094dd808b1604da2dcfc2d09af', 37.33618830029063, -121.8892765045166, 'CommonGrounds Workspace', 2, 'Shared Office Spaces, Venues & Event Spaces, Cafes', 3.5, 39.069892422608945]\n"
     ]
    }
   ],
   "source": [
    "# Spot check list\n",
    "for i in range(6):\n",
    "    print(yelp_data[i])"
   ]
  },
  {
   "cell_type": "markdown",
   "metadata": {},
   "source": [
    "Put your parsed results into a DataFrame"
   ]
  },
  {
   "cell_type": "code",
   "execution_count": 32,
   "metadata": {},
   "outputs": [],
   "source": [
    "df_yelp_test = pd.DataFrame(yelp_data, columns=[\"Station_No\",\"Station_ID\", \"Bike_Lat\", \"Bike_Long\", \"name\", \"review_count\", \"categories\", \"rating\",\"distance\"])\n",
    "#df_yelp = pd.DataFrame(yelp_data, columns=[\"Station_ID\", \"Bike_Lat\", \"Bike_Long\", \"name\",\"review_count\", \"categories\",\"rating\",\"distance\"])\n",
    "# Export the dataframe\n",
    "#df_yelp.to_csv('..\\data\\df_yelp.csv', index=False)"
   ]
  },
  {
   "cell_type": "code",
   "execution_count": 33,
   "metadata": {},
   "outputs": [
    {
     "data": {
      "text/html": [
       "<div>\n",
       "<style scoped>\n",
       "    .dataframe tbody tr th:only-of-type {\n",
       "        vertical-align: middle;\n",
       "    }\n",
       "\n",
       "    .dataframe tbody tr th {\n",
       "        vertical-align: top;\n",
       "    }\n",
       "\n",
       "    .dataframe thead th {\n",
       "        text-align: right;\n",
       "    }\n",
       "</style>\n",
       "<table border=\"1\" class=\"dataframe\">\n",
       "  <thead>\n",
       "    <tr style=\"text-align: right;\">\n",
       "      <th></th>\n",
       "      <th>Station_No</th>\n",
       "      <th>Station_ID</th>\n",
       "      <th>Bike_Lat</th>\n",
       "      <th>Bike_Long</th>\n",
       "      <th>name</th>\n",
       "      <th>review_count</th>\n",
       "      <th>categories</th>\n",
       "      <th>rating</th>\n",
       "      <th>distance</th>\n",
       "    </tr>\n",
       "  </thead>\n",
       "  <tbody>\n",
       "    <tr>\n",
       "      <th>0</th>\n",
       "      <td>0</td>\n",
       "      <td>d0e8f4f1834b7b33a3faf8882f567ab8</td>\n",
       "      <td>37.849735</td>\n",
       "      <td>-122.270582</td>\n",
       "      <td>The Fat Fish</td>\n",
       "      <td>190</td>\n",
       "      <td>Fish &amp; Chips</td>\n",
       "      <td>4.0</td>\n",
       "      <td>29.930556</td>\n",
       "    </tr>\n",
       "    <tr>\n",
       "      <th>1</th>\n",
       "      <td>0</td>\n",
       "      <td>d0e8f4f1834b7b33a3faf8882f567ab8</td>\n",
       "      <td>37.849735</td>\n",
       "      <td>-122.270582</td>\n",
       "      <td>El Tiny Cafe</td>\n",
       "      <td>57</td>\n",
       "      <td>Cafes</td>\n",
       "      <td>5.0</td>\n",
       "      <td>31.707767</td>\n",
       "    </tr>\n",
       "    <tr>\n",
       "      <th>2</th>\n",
       "      <td>0</td>\n",
       "      <td>d0e8f4f1834b7b33a3faf8882f567ab8</td>\n",
       "      <td>37.849735</td>\n",
       "      <td>-122.270582</td>\n",
       "      <td>808 deli and cafe</td>\n",
       "      <td>0</td>\n",
       "      <td>Delis</td>\n",
       "      <td>0.0</td>\n",
       "      <td>79.037487</td>\n",
       "    </tr>\n",
       "    <tr>\n",
       "      <th>3</th>\n",
       "      <td>1</td>\n",
       "      <td>983514094dd808b1604da2dcfc2d09af</td>\n",
       "      <td>37.336188</td>\n",
       "      <td>-121.889277</td>\n",
       "      <td>Scratch Cookery</td>\n",
       "      <td>495</td>\n",
       "      <td>Food Trucks, Chicken Shop</td>\n",
       "      <td>4.5</td>\n",
       "      <td>28.365906</td>\n",
       "    </tr>\n",
       "    <tr>\n",
       "      <th>4</th>\n",
       "      <td>1</td>\n",
       "      <td>983514094dd808b1604da2dcfc2d09af</td>\n",
       "      <td>37.336188</td>\n",
       "      <td>-121.889277</td>\n",
       "      <td>Goodtime Bar</td>\n",
       "      <td>73</td>\n",
       "      <td>Wine Bars, Tapas/Small Plates, Seafood</td>\n",
       "      <td>5.0</td>\n",
       "      <td>33.119119</td>\n",
       "    </tr>\n",
       "  </tbody>\n",
       "</table>\n",
       "</div>"
      ],
      "text/plain": [
       "   Station_No                        Station_ID   Bike_Lat   Bike_Long  \\\n",
       "0           0  d0e8f4f1834b7b33a3faf8882f567ab8  37.849735 -122.270582   \n",
       "1           0  d0e8f4f1834b7b33a3faf8882f567ab8  37.849735 -122.270582   \n",
       "2           0  d0e8f4f1834b7b33a3faf8882f567ab8  37.849735 -122.270582   \n",
       "3           1  983514094dd808b1604da2dcfc2d09af  37.336188 -121.889277   \n",
       "4           1  983514094dd808b1604da2dcfc2d09af  37.336188 -121.889277   \n",
       "\n",
       "                name  review_count                              categories  \\\n",
       "0       The Fat Fish           190                            Fish & Chips   \n",
       "1       El Tiny Cafe            57                                   Cafes   \n",
       "2  808 deli and cafe             0                                   Delis   \n",
       "3    Scratch Cookery           495               Food Trucks, Chicken Shop   \n",
       "4       Goodtime Bar            73  Wine Bars, Tapas/Small Plates, Seafood   \n",
       "\n",
       "   rating   distance  \n",
       "0     4.0  29.930556  \n",
       "1     5.0  31.707767  \n",
       "2     0.0  79.037487  \n",
       "3     4.5  28.365906  \n",
       "4     5.0  33.119119  "
      ]
     },
     "execution_count": 33,
     "metadata": {},
     "output_type": "execute_result"
    }
   ],
   "source": [
    "df_yelp_test.head()"
   ]
  },
  {
   "cell_type": "code",
   "execution_count": 21,
   "metadata": {},
   "outputs": [
    {
     "data": {
      "text/plain": [
       "Index(['Station_No', 'Station_ID', 'Bike_Lat', 'Bike_Long', 'name',\n",
       "       'review_count', 'categories', 'rating', 'display_address', 'distance'],\n",
       "      dtype='object')"
      ]
     },
     "execution_count": 21,
     "metadata": {},
     "output_type": "execute_result"
    }
   ],
   "source": [
    "df_yelp.columns"
   ]
  },
  {
   "cell_type": "code",
   "execution_count": 22,
   "metadata": {},
   "outputs": [
    {
     "data": {
      "text/plain": [
       "Station_No         object\n",
       "Station_ID         object\n",
       "Bike_Lat           object\n",
       "Bike_Long          object\n",
       "name               object\n",
       "review_count       object\n",
       "categories         object\n",
       "rating             object\n",
       "display_address    object\n",
       "distance           object\n",
       "dtype: object"
      ]
     },
     "execution_count": 22,
     "metadata": {},
     "output_type": "execute_result"
    }
   ],
   "source": [
    "df_yelp.dtypes"
   ]
  },
  {
   "cell_type": "markdown",
   "metadata": {},
   "source": [
    "# Comparing Results"
   ]
  },
  {
   "cell_type": "markdown",
   "metadata": {},
   "source": [
    "Which API provided you with more complete data? Provide an explanation. "
   ]
  },
  {
   "cell_type": "markdown",
   "metadata": {},
   "source": [
    "They both were comparable in the data they provided. Foursquare focuses more on location data and Yelp has a more details on the Points of Interest based on ratings/customer reviews. However, Yelp also has some location info and data relative to one another which is useful. Depending on the use case you could select either or both."
   ]
  },
  {
   "cell_type": "markdown",
   "metadata": {},
   "source": [
    "Get the top 10 restaurants according to their rating"
   ]
  },
  {
   "cell_type": "markdown",
   "metadata": {},
   "source": [
    "Using the Yelp API below as it has ratings provided:"
   ]
  },
  {
   "cell_type": "code",
   "execution_count": 19,
   "metadata": {},
   "outputs": [],
   "source": [
    "top_10_resto = df_yelp.sort_values(by='rating', ascending=False)"
   ]
  },
  {
   "cell_type": "code",
   "execution_count": 20,
   "metadata": {},
   "outputs": [
    {
     "data": {
      "text/html": [
       "<div>\n",
       "<style scoped>\n",
       "    .dataframe tbody tr th:only-of-type {\n",
       "        vertical-align: middle;\n",
       "    }\n",
       "\n",
       "    .dataframe tbody tr th {\n",
       "        vertical-align: top;\n",
       "    }\n",
       "\n",
       "    .dataframe thead th {\n",
       "        text-align: right;\n",
       "    }\n",
       "</style>\n",
       "<table border=\"1\" class=\"dataframe\">\n",
       "  <thead>\n",
       "    <tr style=\"text-align: right;\">\n",
       "      <th></th>\n",
       "      <th>Station_ID</th>\n",
       "      <th>Bike_Lat</th>\n",
       "      <th>Bike_Long</th>\n",
       "      <th>name</th>\n",
       "      <th>review_count</th>\n",
       "      <th>categories</th>\n",
       "      <th>rating</th>\n",
       "      <th>distance</th>\n",
       "    </tr>\n",
       "  </thead>\n",
       "  <tbody>\n",
       "    <tr>\n",
       "      <th>0</th>\n",
       "      <td>d0e8f4f1834b7b33a3faf8882f567ab8</td>\n",
       "      <td>37.849735</td>\n",
       "      <td>-122.270582</td>\n",
       "      <td>Shewhat</td>\n",
       "      <td>246</td>\n",
       "      <td>Ethiopian, Eritrean</td>\n",
       "      <td>5.0</td>\n",
       "      <td>541.695667</td>\n",
       "    </tr>\n",
       "    <tr>\n",
       "      <th>256</th>\n",
       "      <td>76b57950b5f2a4b0a4821e64bb700e24</td>\n",
       "      <td>37.842630</td>\n",
       "      <td>-122.267738</td>\n",
       "      <td>Jungdon Katsu</td>\n",
       "      <td>45</td>\n",
       "      <td>Japanese</td>\n",
       "      <td>5.0</td>\n",
       "      <td>834.940270</td>\n",
       "    </tr>\n",
       "    <tr>\n",
       "      <th>1305</th>\n",
       "      <td>30e0fcdd9de72e8344b6289760bb788b</td>\n",
       "      <td>37.750167</td>\n",
       "      <td>-122.386542</td>\n",
       "      <td>Dabao Singapore</td>\n",
       "      <td>82</td>\n",
       "      <td>Singaporean, Desserts, Caterers</td>\n",
       "      <td>5.0</td>\n",
       "      <td>162.497720</td>\n",
       "    </tr>\n",
       "    <tr>\n",
       "      <th>1129</th>\n",
       "      <td>b1ac1179990a85f48f10858c0c955f25</td>\n",
       "      <td>37.758700</td>\n",
       "      <td>-122.463774</td>\n",
       "      <td>Savor</td>\n",
       "      <td>198</td>\n",
       "      <td>Mediterranean, Vegetarian, Tapas/Small Plates</td>\n",
       "      <td>5.0</td>\n",
       "      <td>613.795006</td>\n",
       "    </tr>\n",
       "    <tr>\n",
       "      <th>393</th>\n",
       "      <td>36460a8c801bc83206f3810f859f9573</td>\n",
       "      <td>37.776513</td>\n",
       "      <td>-122.411306</td>\n",
       "      <td>Bay Of Burma</td>\n",
       "      <td>32</td>\n",
       "      <td>Burmese</td>\n",
       "      <td>5.0</td>\n",
       "      <td>176.409267</td>\n",
       "    </tr>\n",
       "    <tr>\n",
       "      <th>1315</th>\n",
       "      <td>b8644a87f64a3672609640fee7a2adc2</td>\n",
       "      <td>37.725372</td>\n",
       "      <td>-122.393954</td>\n",
       "      <td>ChiliCali</td>\n",
       "      <td>25</td>\n",
       "      <td>Pop-Up Restaurants, Caterers, Indonesian</td>\n",
       "      <td>5.0</td>\n",
       "      <td>139.585572</td>\n",
       "    </tr>\n",
       "    <tr>\n",
       "      <th>390</th>\n",
       "      <td>1d2910bd99e3e2abbe63546c231cfab8</td>\n",
       "      <td>37.774520</td>\n",
       "      <td>-122.409449</td>\n",
       "      <td>Bay Of Burma</td>\n",
       "      <td>32</td>\n",
       "      <td>Burmese</td>\n",
       "      <td>5.0</td>\n",
       "      <td>126.543825</td>\n",
       "    </tr>\n",
       "    <tr>\n",
       "      <th>243</th>\n",
       "      <td>1736d145e5ef5447a53cc9f100701ccc</td>\n",
       "      <td>37.844493</td>\n",
       "      <td>-122.261351</td>\n",
       "      <td>Shewhat</td>\n",
       "      <td>246</td>\n",
       "      <td>Ethiopian, Eritrean</td>\n",
       "      <td>5.0</td>\n",
       "      <td>457.146344</td>\n",
       "    </tr>\n",
       "    <tr>\n",
       "      <th>245</th>\n",
       "      <td>1736d145e5ef5447a53cc9f100701ccc</td>\n",
       "      <td>37.844493</td>\n",
       "      <td>-122.261351</td>\n",
       "      <td>Casa Borinqueña</td>\n",
       "      <td>68</td>\n",
       "      <td>Puerto Rican, Vegan</td>\n",
       "      <td>5.0</td>\n",
       "      <td>572.330893</td>\n",
       "    </tr>\n",
       "    <tr>\n",
       "      <th>1121</th>\n",
       "      <td>c5e47b7f70b288a5380083f24ea161fb</td>\n",
       "      <td>37.802688</td>\n",
       "      <td>-122.269146</td>\n",
       "      <td>Pierre Pierre</td>\n",
       "      <td>5</td>\n",
       "      <td>Cajun/Creole</td>\n",
       "      <td>5.0</td>\n",
       "      <td>146.415040</td>\n",
       "    </tr>\n",
       "  </tbody>\n",
       "</table>\n",
       "</div>"
      ],
      "text/plain": [
       "                            Station_ID   Bike_Lat   Bike_Long  \\\n",
       "0     d0e8f4f1834b7b33a3faf8882f567ab8  37.849735 -122.270582   \n",
       "256   76b57950b5f2a4b0a4821e64bb700e24  37.842630 -122.267738   \n",
       "1305  30e0fcdd9de72e8344b6289760bb788b  37.750167 -122.386542   \n",
       "1129  b1ac1179990a85f48f10858c0c955f25  37.758700 -122.463774   \n",
       "393   36460a8c801bc83206f3810f859f9573  37.776513 -122.411306   \n",
       "1315  b8644a87f64a3672609640fee7a2adc2  37.725372 -122.393954   \n",
       "390   1d2910bd99e3e2abbe63546c231cfab8  37.774520 -122.409449   \n",
       "243   1736d145e5ef5447a53cc9f100701ccc  37.844493 -122.261351   \n",
       "245   1736d145e5ef5447a53cc9f100701ccc  37.844493 -122.261351   \n",
       "1121  c5e47b7f70b288a5380083f24ea161fb  37.802688 -122.269146   \n",
       "\n",
       "                 name  review_count  \\\n",
       "0             Shewhat           246   \n",
       "256     Jungdon Katsu            45   \n",
       "1305  Dabao Singapore            82   \n",
       "1129            Savor           198   \n",
       "393      Bay Of Burma            32   \n",
       "1315        ChiliCali            25   \n",
       "390      Bay Of Burma            32   \n",
       "243           Shewhat           246   \n",
       "245   Casa Borinqueña            68   \n",
       "1121    Pierre Pierre             5   \n",
       "\n",
       "                                         categories  rating    distance  \n",
       "0                               Ethiopian, Eritrean     5.0  541.695667  \n",
       "256                                        Japanese     5.0  834.940270  \n",
       "1305                Singaporean, Desserts, Caterers     5.0  162.497720  \n",
       "1129  Mediterranean, Vegetarian, Tapas/Small Plates     5.0  613.795006  \n",
       "393                                         Burmese     5.0  176.409267  \n",
       "1315       Pop-Up Restaurants, Caterers, Indonesian     5.0  139.585572  \n",
       "390                                         Burmese     5.0  126.543825  \n",
       "243                             Ethiopian, Eritrean     5.0  457.146344  \n",
       "245                             Puerto Rican, Vegan     5.0  572.330893  \n",
       "1121                                   Cajun/Creole     5.0  146.415040  "
      ]
     },
     "execution_count": 20,
     "metadata": {},
     "output_type": "execute_result"
    }
   ],
   "source": [
    "top_10_resto.head(10)"
   ]
  },
  {
   "cell_type": "markdown",
   "metadata": {},
   "source": [
    "### Data Audit"
   ]
  },
  {
   "cell_type": "code",
   "execution_count": 21,
   "metadata": {},
   "outputs": [
    {
     "name": "stdout",
     "output_type": "stream",
     "text": [
      "Number of null ratings: 0\n"
     ]
    }
   ],
   "source": [
    "null_values = df_yelp['rating'].isnull()\n",
    "\n",
    "print(f\"Number of null ratings: {null_values.sum()}\")"
   ]
  },
  {
   "cell_type": "code",
   "execution_count": 22,
   "metadata": {},
   "outputs": [],
   "source": [
    "df_bikes.rename(columns={'location': 'City'}, inplace=True)"
   ]
  },
  {
   "cell_type": "code",
   "execution_count": 23,
   "metadata": {},
   "outputs": [
    {
     "data": {
      "text/html": [
       "<div>\n",
       "<style scoped>\n",
       "    .dataframe tbody tr th:only-of-type {\n",
       "        vertical-align: middle;\n",
       "    }\n",
       "\n",
       "    .dataframe tbody tr th {\n",
       "        vertical-align: top;\n",
       "    }\n",
       "\n",
       "    .dataframe thead th {\n",
       "        text-align: right;\n",
       "    }\n",
       "</style>\n",
       "<table border=\"1\" class=\"dataframe\">\n",
       "  <thead>\n",
       "    <tr style=\"text-align: right;\">\n",
       "      <th></th>\n",
       "      <th>Station_No</th>\n",
       "      <th>Station_ID</th>\n",
       "      <th>City</th>\n",
       "      <th>Bike_Lat</th>\n",
       "      <th>Bike_Lon</th>\n",
       "      <th>Free_Bikes</th>\n",
       "      <th>Empty_Slots</th>\n",
       "      <th>Total_Bikes</th>\n",
       "    </tr>\n",
       "  </thead>\n",
       "  <tbody>\n",
       "    <tr>\n",
       "      <th>0</th>\n",
       "      <td>0</td>\n",
       "      <td>d0e8f4f1834b7b33a3faf8882f567ab8</td>\n",
       "      <td>San Francisco Bay Area, CA</td>\n",
       "      <td>37.849735</td>\n",
       "      <td>-122.270582</td>\n",
       "      <td>1</td>\n",
       "      <td>14</td>\n",
       "      <td>15</td>\n",
       "    </tr>\n",
       "    <tr>\n",
       "      <th>1</th>\n",
       "      <td>1</td>\n",
       "      <td>983514094dd808b1604da2dcfc2d09af</td>\n",
       "      <td>San Francisco Bay Area, CA</td>\n",
       "      <td>37.336188</td>\n",
       "      <td>-121.889277</td>\n",
       "      <td>6</td>\n",
       "      <td>5</td>\n",
       "      <td>11</td>\n",
       "    </tr>\n",
       "    <tr>\n",
       "      <th>2</th>\n",
       "      <td>2</td>\n",
       "      <td>da17603652106fda93da4e255a5b0a22</td>\n",
       "      <td>San Francisco Bay Area, CA</td>\n",
       "      <td>37.322125</td>\n",
       "      <td>-121.881090</td>\n",
       "      <td>16</td>\n",
       "      <td>7</td>\n",
       "      <td>23</td>\n",
       "    </tr>\n",
       "    <tr>\n",
       "      <th>3</th>\n",
       "      <td>3</td>\n",
       "      <td>7a21c92b3b4cd2f7759107b4fdebf869</td>\n",
       "      <td>San Francisco Bay Area, CA</td>\n",
       "      <td>37.323678</td>\n",
       "      <td>-121.874119</td>\n",
       "      <td>7</td>\n",
       "      <td>7</td>\n",
       "      <td>14</td>\n",
       "    </tr>\n",
       "    <tr>\n",
       "      <th>4</th>\n",
       "      <td>4</td>\n",
       "      <td>ce34d38fb230a23c1ced12d1e16df294</td>\n",
       "      <td>San Francisco Bay Area, CA</td>\n",
       "      <td>37.325998</td>\n",
       "      <td>-121.877120</td>\n",
       "      <td>4</td>\n",
       "      <td>23</td>\n",
       "      <td>27</td>\n",
       "    </tr>\n",
       "  </tbody>\n",
       "</table>\n",
       "</div>"
      ],
      "text/plain": [
       "   Station_No                        Station_ID                        City  \\\n",
       "0           0  d0e8f4f1834b7b33a3faf8882f567ab8  San Francisco Bay Area, CA   \n",
       "1           1  983514094dd808b1604da2dcfc2d09af  San Francisco Bay Area, CA   \n",
       "2           2  da17603652106fda93da4e255a5b0a22  San Francisco Bay Area, CA   \n",
       "3           3  7a21c92b3b4cd2f7759107b4fdebf869  San Francisco Bay Area, CA   \n",
       "4           4  ce34d38fb230a23c1ced12d1e16df294  San Francisco Bay Area, CA   \n",
       "\n",
       "    Bike_Lat    Bike_Lon  Free_Bikes  Empty_Slots  Total_Bikes  \n",
       "0  37.849735 -122.270582           1           14           15  \n",
       "1  37.336188 -121.889277           6            5           11  \n",
       "2  37.322125 -121.881090          16            7           23  \n",
       "3  37.323678 -121.874119           7            7           14  \n",
       "4  37.325998 -121.877120           4           23           27  "
      ]
     },
     "execution_count": 23,
     "metadata": {},
     "output_type": "execute_result"
    }
   ],
   "source": [
    "df_bikes.head()"
   ]
  },
  {
   "cell_type": "code",
   "execution_count": 3,
   "metadata": {},
   "outputs": [],
   "source": [
    "df_yelp = pd.read_csv('..\\data\\df_yelp.csv')"
   ]
  },
  {
   "cell_type": "markdown",
   "metadata": {},
   "source": [
    "### Describe function on the numerical columns:"
   ]
  },
  {
   "cell_type": "markdown",
   "metadata": {},
   "source": [
    "df_yelp['review_count'].describe()"
   ]
  },
  {
   "cell_type": "code",
   "execution_count": 6,
   "metadata": {},
   "outputs": [
    {
     "data": {
      "text/plain": [
       "count    1494.000000\n",
       "mean        4.317269\n",
       "std         0.321807\n",
       "min         3.000000\n",
       "25%         4.000000\n",
       "50%         4.500000\n",
       "75%         4.500000\n",
       "max         5.000000\n",
       "Name: rating, dtype: float64"
      ]
     },
     "execution_count": 6,
     "metadata": {},
     "output_type": "execute_result"
    }
   ],
   "source": [
    "df_yelp['rating'].describe()"
   ]
  },
  {
   "cell_type": "code",
   "execution_count": 7,
   "metadata": {},
   "outputs": [
    {
     "data": {
      "text/plain": [
       "count    1494.000000\n",
       "mean      440.492811\n",
       "std       267.348585\n",
       "min         8.098200\n",
       "25%       225.239767\n",
       "50%       406.597981\n",
       "75%       623.936574\n",
       "max      1375.693927\n",
       "Name: distance, dtype: float64"
      ]
     },
     "execution_count": 7,
     "metadata": {},
     "output_type": "execute_result"
    }
   ],
   "source": [
    "df_yelp['distance'].describe()"
   ]
  },
  {
   "cell_type": "markdown",
   "metadata": {},
   "source": [
    "#### Check for erroneous ratings in Yelp table"
   ]
  },
  {
   "cell_type": "code",
   "execution_count": 17,
   "metadata": {},
   "outputs": [
    {
     "name": "stdout",
     "output_type": "stream",
     "text": [
      "these ratings are above 5: Empty DataFrame\n",
      "Columns: [Station_ID, Bike_Lat, Bike_Long, name, review_count, categories, rating, distance]\n",
      "Index: []\n",
      "these ratings are below 0: Empty DataFrame\n",
      "Columns: [Station_ID, Bike_Lat, Bike_Long, name, review_count, categories, rating, distance]\n",
      "Index: []\n"
     ]
    }
   ],
   "source": [
    "# Specify the threshold\n",
    "threshold_rating = 5.0\n",
    "below_zero_rating = 0\n",
    "\n",
    "# .loc to filter rows based on the condition\n",
    "AboveFive_df = df_yelp.loc[df_yelp['rating'] > threshold_rating]\n",
    "BelowZero_df = df_yelp.loc[df_yelp['rating'] < below_zero_rating]\n",
    "\n",
    "# Filtered dataframe\n",
    "print(f\"these ratings are above 5: {AboveFive_df}\")\n",
    "print(f\"these ratings are below 0: {BelowZero_df}\")"
   ]
  },
  {
   "cell_type": "code",
   "execution_count": null,
   "metadata": {},
   "outputs": [],
   "source": []
  }
 ],
 "metadata": {
  "kernelspec": {
   "display_name": "the_one",
   "language": "python",
   "name": "the_one"
  },
  "language_info": {
   "codemirror_mode": {
    "name": "ipython",
    "version": 3
   },
   "file_extension": ".py",
   "mimetype": "text/x-python",
   "name": "python",
   "nbconvert_exporter": "python",
   "pygments_lexer": "ipython3",
   "version": "3.9.18"
  }
 },
 "nbformat": 4,
 "nbformat_minor": 4
}
