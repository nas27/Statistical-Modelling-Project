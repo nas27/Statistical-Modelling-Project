{
 "cells": [
  {
   "cell_type": "code",
   "execution_count": 28,
   "metadata": {},
   "outputs": [],
   "source": [
    "import pandas as pd\n",
    "import os #env variables\n",
    "import requests #call the APIs\n",
    "import json"
   ]
  },
  {
   "cell_type": "markdown",
   "metadata": {},
   "source": [
    "# Foursquare"
   ]
  },
  {
   "cell_type": "markdown",
   "metadata": {},
   "source": [
    "Send a request to Foursquare with a small radius (1000m) for all the bike stations in your city of choice. "
   ]
  },
  {
   "cell_type": "code",
   "execution_count": 3,
   "metadata": {},
   "outputs": [],
   "source": [
    "FOURSQUARE_KEY = os.getenv('FOURSQUARE_API_KEY')"
   ]
  },
  {
   "cell_type": "code",
   "execution_count": 56,
   "metadata": {},
   "outputs": [],
   "source": [
    "def getDetails():\n",
    "    url = \"https://api.foursquare.com/v3/places/search\"\n",
    "    \n",
    "    params = {\n",
    "      \t\"query\": \"bike rental\",\n",
    "        #lat long of chicago in previous exercise\n",
    "      \t\"ll\": \"47.606,-122.349358\",\n",
    "      \t\"open_now\": \"true\",\n",
    "      \t\"radius\": \"1000\",\n",
    "        #\"category_id\": \"4e4c9077bd41f78e849722f9\",\n",
    "        \"categories\": 19002,\n",
    "      \t\"sort\":\"DISTANCE\",\n",
    "        'limit': 10 \n",
    "    }\n",
    "    \n",
    "    headers = {\n",
    "        \"Accept\": \"application/json\",\n",
    "        \"Authorization\": FOURSQUARE_KEY\n",
    "    }\n",
    "\n",
    "    response = requests.request(\"GET\", url, params=params, headers=headers)\n",
    "    return response\n",
    "#print(response.text)"
   ]
  },
  {
   "cell_type": "markdown",
   "metadata": {},
   "source": [
    "Parse through the response to get the POI (such as restaurants, bars, etc) details you want (ratings, name, location, etc)"
   ]
  },
  {
   "cell_type": "code",
   "execution_count": 61,
   "metadata": {},
   "outputs": [
    {
     "name": "stdout",
     "output_type": "stream",
     "text": [
      "                          Name  \\\n",
      "0  Washington Waterfront Trail   \n",
      "1          Seattle Great Wheel   \n",
      "2       Fisherman's Restaurant   \n",
      "3        Public Market Parking   \n",
      "4  Anthony's Bell Street Diner   \n",
      "5    Marriott Hotels & Resorts   \n",
      "6               Miners Landing   \n",
      "7    Old Stove Brewing Company   \n",
      "8                 Zig Zag Cafe   \n",
      "9                 The Crab Pot   \n",
      "\n",
      "                                          Categories  \\\n",
      "0                                     [Hiking Trail]   \n",
      "1                                   [Amusement Park]   \n",
      "2                          [Bar, Seafood Restaurant]   \n",
      "3                                          [Parking]   \n",
      "4  [Fish and Chips Shop, American Restaurant, Sea...   \n",
      "5                                            [Hotel]   \n",
      "6                           [Arts and Entertainment]   \n",
      "7                                          [Brewery]   \n",
      "8  [Cocktail Bar, American Restaurant, Mediterran...   \n",
      "9          [American Restaurant, Seafood Restaurant]   \n",
      "\n",
      "                                            Location  \n",
      "0  {'address': '2315 Alaskan Way', 'census_block'...  \n",
      "1  {'address': '1301 Alaskan Way', 'census_block'...  \n",
      "2  {'address': '1301 Alaskan Way', 'census_block'...  \n",
      "3  {'address': '1531 Western Ave', 'census_block'...  \n",
      "4  {'address': '2201 Alaskan Way', 'census_block'...  \n",
      "5  {'address': '2100 Alaskan Way', 'address_exten...  \n",
      "6  {'address': '1301 Alaskan Way', 'census_block'...  \n",
      "7  {'address': '1501 Western Ave', 'census_block'...  \n",
      "8  {'address': '1501 Western Ave', 'address_exten...  \n",
      "9  {'address': '1301 Alaskan Way', 'census_block'...  \n"
     ]
    }
   ],
   "source": [
    "# Parse the JSON string\n",
    "data = json.loads(response.text)\n",
    "\n",
    "#Create an empty list\n",
    "poi_data = []\n",
    "\n",
    "# Extracting key information\n",
    "\n",
    "for result in data['results']:\n",
    "    name = result['name']\n",
    "    categories = [category['name'] for category in result['categories']]\n",
    "    location = result['location']\n",
    "\n",
    "    # Append data to the list\n",
    "    poi_data.append({\n",
    "        'Name': name,\n",
    "        'Categories': categories,\n",
    "        'Location': location\n",
    "    })\n",
    "\n",
    "# Create a DataFrame from the list of dictionaries\n",
    "df = pd.DataFrame(poi_data)\n",
    "\n",
    "# Display the DataFrame\n",
    "print(df)\n"
   ]
  },
  {
   "cell_type": "markdown",
   "metadata": {},
   "source": [
    "Put your parsed results into a DataFrame"
   ]
  },
  {
   "cell_type": "markdown",
   "metadata": {},
   "source": [
    "# Yelp"
   ]
  },
  {
   "cell_type": "markdown",
   "metadata": {},
   "source": [
    "Send a request to Yelp with a small radius (1000m) for all the bike stations in your city of choice. "
   ]
  },
  {
   "cell_type": "code",
   "execution_count": null,
   "metadata": {},
   "outputs": [],
   "source": []
  },
  {
   "cell_type": "markdown",
   "metadata": {},
   "source": [
    "Parse through the response to get the POI (such as restaurants, bars, etc) details you want (ratings, name, location, etc)"
   ]
  },
  {
   "cell_type": "code",
   "execution_count": null,
   "metadata": {},
   "outputs": [],
   "source": []
  },
  {
   "cell_type": "markdown",
   "metadata": {},
   "source": [
    "Put your parsed results into a DataFrame"
   ]
  },
  {
   "cell_type": "markdown",
   "metadata": {},
   "source": []
  },
  {
   "cell_type": "markdown",
   "metadata": {},
   "source": [
    "# Comparing Results"
   ]
  },
  {
   "cell_type": "markdown",
   "metadata": {},
   "source": [
    "Which API provided you with more complete data? Provide an explanation. "
   ]
  },
  {
   "cell_type": "markdown",
   "metadata": {},
   "source": []
  },
  {
   "cell_type": "markdown",
   "metadata": {},
   "source": [
    "Get the top 10 restaurants according to their rating"
   ]
  },
  {
   "cell_type": "code",
   "execution_count": null,
   "metadata": {},
   "outputs": [],
   "source": []
  }
 ],
 "metadata": {
  "kernelspec": {
   "display_name": "Python 3 (ipykernel)",
   "language": "python",
   "name": "python3"
  },
  "language_info": {
   "codemirror_mode": {
    "name": "ipython",
    "version": 3
   },
   "file_extension": ".py",
   "mimetype": "text/x-python",
   "name": "python",
   "nbconvert_exporter": "python",
   "pygments_lexer": "ipython3",
   "version": "3.9.18"
  }
 },
 "nbformat": 4,
 "nbformat_minor": 4
}
