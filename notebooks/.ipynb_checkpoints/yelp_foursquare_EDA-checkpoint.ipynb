{
 "cells": [
  {
   "cell_type": "code",
   "execution_count": 16,
   "metadata": {},
   "outputs": [],
   "source": [
    "import pandas as pd\n",
    "import os #env variables\n",
    "import requests #call the APIs\n",
    "import json\n",
    "from IPython.display import JSON"
   ]
  },
  {
   "cell_type": "markdown",
   "metadata": {},
   "source": [
    "# Foursquare"
   ]
  },
  {
   "cell_type": "markdown",
   "metadata": {},
   "source": [
    "Send a request to Foursquare with a small radius (1000m) for all the bike stations in your city of choice. "
   ]
  },
  {
   "cell_type": "code",
   "execution_count": 26,
   "metadata": {},
   "outputs": [],
   "source": [
    "FOURSQUARE_KEY = os.getenv('FOURSQUARE_API_KEY')"
   ]
  },
  {
   "cell_type": "code",
   "execution_count": 64,
   "metadata": {},
   "outputs": [],
   "source": [
    "\n",
    "def getDetails():\n",
    "    url = \"https://api.foursquare.com/v3/places/search\"\n",
    "    #url = \"https://api.yelp.com/v3/categories\"\n",
    "    #url = \"https://api.yelp.com/v3/businesses/search?location=NYC&categories=bars&open_now=true$limit=40&offset=40\"\n",
    "\n",
    "    params = {\n",
    "        #\"query\": \"convenience stores\",\n",
    "        \"query\": \"bars\",\n",
    "        #\"categories\": \"13035\",\n",
    "        \"ll\": \"37.849735,-122.270582\", #lat long of San Fran from citybikes exercise\n",
    "        #\"open_now\": \"true\", #not needed\n",
    "        \"radius\": \"1000\",\n",
    "        \"sort\": \"DISTANCE\"\n",
    "        #'limit': 10\n",
    "    }\n",
    "\n",
    "    headers = {\n",
    "        \"Accept\": \"application/json\",\n",
    "        \"Authorization\": FOURSQUARE_KEY  # Make sure FOURSQUARE_KEY is defined\n",
    "    }\n",
    "\n",
    "    \n",
    "    # Make the API request\n",
    "    response = requests.get(url, params=params, headers=headers)\n",
    "  \n",
    "\n",
    "    # Parse the JSON response\n",
    "    data = response.json()\n",
    "\n",
    "    # You might want to return specific information from the response based on your needs\n",
    "    return data"
   ]
  },
  {
   "cell_type": "code",
   "execution_count": 65,
   "metadata": {},
   "outputs": [],
   "source": [
    "# Call the function to get the response\n",
    "\n",
    "fsq_response = getDetails()\n"
   ]
  },
  {
   "cell_type": "code",
   "execution_count": 66,
   "metadata": {},
   "outputs": [
    {
     "data": {
      "application/json": {
       "context": {
        "geo_bounds": {
         "circle": {
          "center": {
           "latitude": 37.849735,
           "longitude": -122.270582
          },
          "radius": 1000
         }
        }
       },
       "results": [
        {
         "categories": [
          {
           "icon": {
            "prefix": "https://ss3.4sqi.net/img/categories_v2/food/coffeeshop_",
            "suffix": ".png"
           },
           "id": 13035,
           "name": "Coffee Shop",
           "plural_name": "Coffee Shops",
           "short_name": "Coffee Shop"
          },
          {
           "icon": {
            "prefix": "https://ss3.4sqi.net/img/categories_v2/food/cafe_",
            "suffix": ".png"
           },
           "id": 13034,
           "name": "Café",
           "plural_name": "Cafés",
           "short_name": "Café"
          },
          {
           "icon": {
            "prefix": "https://ss3.4sqi.net/img/categories_v2/food/default_",
            "suffix": ".png"
           },
           "id": 13000,
           "name": "Dining and Drinking",
           "plural_name": "Dining and Drinking",
           "short_name": "Dining and Drinking"
          }
         ],
         "chains": [],
         "closed_bucket": "LikelyOpen",
         "distance": 26,
         "fsq_id": "62080e87b64e6c1839cef49b",
         "geocodes": {
          "drop_off": {
           "latitude": 37.850115,
           "longitude": -122.270692
          },
          "main": {
           "latitude": 37.850052,
           "longitude": -122.270523
          },
          "roof": {
           "latitude": 37.850052,
           "longitude": -122.270523
          }
         },
         "link": "/v3/places/62080e87b64e6c1839cef49b",
         "location": {
          "address": "3219 Adeline St",
          "census_block": "060014239011019",
          "country": "US",
          "cross_street": "Harmon",
          "dma": "San Francisco-Oakland-San Jose",
          "formatted_address": "3219 Adeline St (Harmon), Berkeley, CA 94703",
          "locality": "Berkeley",
          "postcode": "94703",
          "region": "CA"
         },
         "name": "El Tiny Cafe",
         "related_places": {},
         "timezone": "America/Los_Angeles"
        },
        {
         "categories": [
          {
           "icon": {
            "prefix": "https://ss3.4sqi.net/img/categories_v2/food/mexican_",
            "suffix": ".png"
           },
           "id": 13303,
           "name": "Mexican Restaurant",
           "plural_name": "Mexican Restaurants",
           "short_name": "Mexican"
          }
         ],
         "chains": [],
         "closed_bucket": "Unsure",
         "distance": 33,
         "fsq_id": "4b3fc82cf964a520a1ae25e3",
         "geocodes": {
          "main": {
           "latitude": 37.850052,
           "longitude": -122.270523
          },
          "roof": {
           "latitude": 37.850052,
           "longitude": -122.270523
          }
         },
         "link": "/v3/places/4b3fc82cf964a520a1ae25e3",
         "location": {
          "address": "3221 Adeline St",
          "census_block": "060014239011019",
          "country": "US",
          "cross_street": "Alactraz St.",
          "dma": "San Francisco-Oakland-San Jose",
          "formatted_address": "3221 Adeline St (Alactraz St.), Berkeley, CA 94703",
          "locality": "Berkeley",
          "postcode": "94703",
          "region": "CA"
         },
         "name": "Las Palmas Super Burritos and Heros",
         "related_places": {},
         "timezone": "America/Los_Angeles"
        },
        {
         "categories": [
          {
           "icon": {
            "prefix": "https://ss3.4sqi.net/img/categories_v2/food/fishandchips_",
            "suffix": ".png"
           },
           "id": 13051,
           "name": "Fish and Chips Shop",
           "plural_name": "Fish and Chips Shops",
           "short_name": "Fish and Chips Shop"
          },
          {
           "icon": {
            "prefix": "https://ss3.4sqi.net/img/categories_v2/food/fastfood_",
            "suffix": ".png"
           },
           "id": 13145,
           "name": "Fast Food Restaurant",
           "plural_name": "Fast Food Restaurants",
           "short_name": "Fast Food"
          },
          {
           "icon": {
            "prefix": "https://ss3.4sqi.net/img/categories_v2/food/mexican_",
            "suffix": ".png"
           },
           "id": 13303,
           "name": "Mexican Restaurant",
           "plural_name": "Mexican Restaurants",
           "short_name": "Mexican"
          }
         ],
         "chains": [],
         "closed_bucket": "LikelyOpen",
         "distance": 41,
         "fsq_id": "54619001498ed498c478ef40",
         "geocodes": {
          "drop_off": {
           "latitude": 37.850115,
           "longitude": -122.270692
          },
          "main": {
           "latitude": 37.850052,
           "longitude": -122.270523
          },
          "roof": {
           "latitude": 37.850052,
           "longitude": -122.270523
          }
         },
         "link": "/v3/places/54619001498ed498c478ef40",
         "location": {
          "address": "3221 Adeline St",
          "census_block": "060014239011019",
          "country": "US",
          "cross_street": "",
          "dma": "San Francisco-Oakland-San Jose",
          "formatted_address": "3221 Adeline St, Berkeley, CA 94703",
          "locality": "Berkeley",
          "postcode": "94703",
          "region": "CA"
         },
         "name": "The Fat Fish",
         "related_places": {},
         "timezone": "America/Los_Angeles"
        },
        {
         "categories": [
          {
           "icon": {
            "prefix": "https://ss3.4sqi.net/img/categories_v2/shops/laundry_",
            "suffix": ".png"
           },
           "id": 11068,
           "name": "Laundromat",
           "plural_name": "Laundromats",
           "short_name": "Laundromat"
          }
         ],
         "chains": [],
         "closed_bucket": "LikelyOpen",
         "distance": 56,
         "fsq_id": "4b6d98b1f964a520ee7e2ce3",
         "geocodes": {
          "main": {
           "latitude": 37.850193,
           "longitude": -122.270387
          },
          "roof": {
           "latitude": 37.850193,
           "longitude": -122.270387
          }
         },
         "link": "/v3/places/4b6d98b1f964a520ee7e2ce3",
         "location": {
          "address": "3215 Adeline St",
          "census_block": "060014239011019",
          "country": "US",
          "cross_street": "Fairview",
          "dma": "San Francisco-Oakland-San Jose",
          "formatted_address": "3215 Adeline St (Fairview), Berkeley, CA 94703",
          "locality": "Berkeley",
          "postcode": "94703",
          "region": "CA"
         },
         "name": "Washingtown",
         "related_places": {},
         "timezone": "America/Los_Angeles"
        },
        {
         "categories": [
          {
           "icon": {
            "prefix": "https://ss3.4sqi.net/img/categories_v2/food/default_",
            "suffix": ".png"
           },
           "id": 13068,
           "name": "American Restaurant",
           "plural_name": "American Restaurants",
           "short_name": "American"
          }
         ],
         "chains": [],
         "closed_bucket": "LikelyOpen",
         "distance": 66,
         "fsq_id": "4bcb7c1a511f95216599b1c7",
         "geocodes": {
          "main": {
           "latitude": 37.849484,
           "longitude": -122.271567
          },
          "roof": {
           "latitude": 37.849484,
           "longitude": -122.271567
          }
         },
         "link": "/v3/places/4bcb7c1a511f95216599b1c7",
         "location": {
          "address": "3250 Adeline St",
          "census_block": "060014240014000",
          "country": "US",
          "cross_street": "at Harmon St",
          "dma": "San Francisco-Oakland-San Jose",
          "formatted_address": "3250 Adeline St (at Harmon St), Berkeley, CA 94703",
          "locality": "Berkeley",
          "postcode": "94703",
          "region": "CA"
         },
         "name": "Vault Cafe",
         "related_places": {},
         "timezone": "America/Los_Angeles"
        },
        {
         "categories": [
          {
           "icon": {
            "prefix": "https://ss3.4sqi.net/img/categories_v2/food/ethiopian_",
            "suffix": ".png"
           },
           "id": 13143,
           "name": "Ethiopian Restaurant",
           "plural_name": "Ethiopian Restaurants",
           "short_name": "Ethiopian"
          },
          {
           "icon": {
            "prefix": "https://ss3.4sqi.net/img/categories_v2/food/vegetarian_",
            "suffix": ".png"
           },
           "id": 13377,
           "name": "Vegan and Vegetarian Restaurant",
           "plural_name": "Vegan and Vegetarian Restaurants",
           "short_name": "Vegan and Vegetarian Restaurant"
          }
         ],
         "chains": [],
         "closed_bucket": "Unsure",
         "distance": 87,
         "fsq_id": "57708baf498e779fa8e9a772",
         "geocodes": {
          "drop_off": {
           "latitude": 37.85019,
           "longitude": -122.271072
          },
          "main": {
           "latitude": 37.850286,
           "longitude": -122.271326
          },
          "roof": {
           "latitude": 37.850286,
           "longitude": -122.271326
          }
         },
         "link": "/v3/places/57708baf498e779fa8e9a772",
         "location": {
          "address": "3212 Adeline St",
          "census_block": "060014240013000",
          "country": "US",
          "cross_street": "",
          "dma": "San Francisco-Oakland-San Jose",
          "formatted_address": "3212 Adeline St, Berkeley, CA 94703",
          "locality": "Berkeley",
          "postcode": "94703",
          "region": "CA"
         },
         "name": "Lemat",
         "related_places": {},
         "timezone": "America/Los_Angeles"
        },
        {
         "categories": [
          {
           "icon": {
            "prefix": "https://ss3.4sqi.net/img/categories_v2/food/thai_",
            "suffix": ".png"
           },
           "id": 13352,
           "name": "Thai Restaurant",
           "plural_name": "Thai Restaurants",
           "short_name": "Thai"
          }
         ],
         "chains": [],
         "closed_bucket": "LikelyOpen",
         "distance": 110,
         "fsq_id": "537c10f9498e28987daffa55",
         "geocodes": {
          "drop_off": {
           "latitude": 37.849127,
           "longitude": -122.271473
          },
          "main": {
           "latitude": 37.849213,
           "longitude": -122.271695
          },
          "roof": {
           "latitude": 37.849213,
           "longitude": -122.271695
          }
         },
         "link": "/v3/places/537c10f9498e28987daffa55",
         "location": {
          "address": "3278 Adeline St",
          "census_block": "060014240014000",
          "country": "US",
          "cross_street": "",
          "dma": "San Francisco-Oakland-San Jose",
          "formatted_address": "3278 Adeline St, Berkeley, CA 94703",
          "locality": "Berkeley",
          "postcode": "94703",
          "region": "CA"
         },
         "name": "Giin Thai Canteen",
         "related_places": {},
         "timezone": "America/Los_Angeles"
        },
        {
         "categories": [
          {
           "icon": {
            "prefix": "https://ss3.4sqi.net/img/categories_v2/food/pizza_",
            "suffix": ".png"
           },
           "id": 13064,
           "name": "Pizzeria",
           "plural_name": "Pizzerias",
           "short_name": "Pizza"
          }
         ],
         "chains": [
          {
           "id": "ab4afc60-d68a-012e-5619-003048cad9da",
           "name": "Domino's Pizza"
          }
         ],
         "closed_bucket": "VeryLikelyOpen",
         "distance": 113,
         "fsq_id": "4b64bd80f964a52074cc2ae3",
         "geocodes": {
          "main": {
           "latitude": 37.849278,
           "longitude": -122.271698
          },
          "roof": {
           "latitude": 37.849278,
           "longitude": -122.271698
          }
         },
         "link": "/v3/places/4b64bd80f964a52074cc2ae3",
         "location": {
          "address": "3264 Adeline St",
          "census_block": "060014240014000",
          "country": "US",
          "cross_street": "",
          "dma": "San Francisco-Oakland-San Jose",
          "formatted_address": "3264 Adeline St, Berkeley, CA 94703",
          "locality": "Berkeley",
          "postcode": "94703",
          "region": "CA"
         },
         "name": "Domino's Pizza",
         "related_places": {},
         "timezone": "America/Los_Angeles"
        },
        {
         "categories": [
          {
           "icon": {
            "prefix": "https://ss3.4sqi.net/img/categories_v2/food/asian_",
            "suffix": ".png"
           },
           "id": 13102,
           "name": "Cantonese Restaurant",
           "plural_name": "Cantonese Restaurants",
           "short_name": "Cantonese"
          },
          {
           "icon": {
            "prefix": "https://ss3.4sqi.net/img/categories_v2/food/seafood_",
            "suffix": ".png"
           },
           "id": 13338,
           "name": "Seafood Restaurant",
           "plural_name": "Seafood Restaurants",
           "short_name": "Seafood"
          }
         ],
         "chains": [],
         "closed_bucket": "VeryLikelyOpen",
         "distance": 119,
         "fsq_id": "4c12e9a51b5cef3b9cd7edc4",
         "geocodes": {
          "main": {
           "latitude": 37.848638,
           "longitude": -122.270656
          },
          "roof": {
           "latitude": 37.848638,
           "longitude": -122.270656
          }
         },
         "link": "/v3/places/4c12e9a51b5cef3b9cd7edc4",
         "location": {
          "address": "1818 Alcatraz Ave",
          "census_block": "060014239011026",
          "country": "US",
          "cross_street": "",
          "dma": "San Francisco-Oakland-San Jose",
          "formatted_address": "1818 Alcatraz Ave, Berkeley, CA 94703",
          "locality": "Berkeley",
          "postcode": "94703",
          "region": "CA"
         },
         "name": "Chen's Garden",
         "related_places": {},
         "timezone": "America/Los_Angeles"
        },
        {
         "categories": [
          {
           "icon": {
            "prefix": "https://ss3.4sqi.net/img/categories_v2/food/cafe_",
            "suffix": ".png"
           },
           "id": 13034,
           "name": "Café",
           "plural_name": "Cafés",
           "short_name": "Café"
          },
          {
           "icon": {
            "prefix": "https://ss3.4sqi.net/img/categories_v2/food/coffeeshop_",
            "suffix": ".png"
           },
           "id": 13035,
           "name": "Coffee Shop",
           "plural_name": "Coffee Shops",
           "short_name": "Coffee Shop"
          },
          {
           "icon": {
            "prefix": "https://ss3.4sqi.net/img/categories_v2/food/default_",
            "suffix": ".png"
           },
           "id": 13065,
           "name": "Restaurant",
           "plural_name": "Restaurants",
           "short_name": "Restaurant"
          }
         ],
         "chains": [],
         "closed_bucket": "LikelyOpen",
         "distance": 141,
         "fsq_id": "52fe4532498e80c8d231d768",
         "geocodes": {
          "drop_off": {
           "latitude": 37.850999,
           "longitude": -122.270763
          },
          "main": {
           "latitude": 37.850958,
           "longitude": -122.271077
          },
          "roof": {
           "latitude": 37.850958,
           "longitude": -122.271077
          }
         },
         "link": "/v3/places/52fe4532498e80c8d231d768",
         "location": {
          "address": "3140 Martin Luther King Jr Way",
          "census_block": "060014240012007",
          "country": "US",
          "cross_street": "a block south of ashby bart",
          "dma": "San Francisco-Oakland-San Jose",
          "formatted_address": "3140 Martin Luther King Jr Way (a block south of ashby bart), Berkeley, CA 94703",
          "locality": "Berkeley",
          "postcode": "94703",
          "region": "CA"
         },
         "name": "Rasa Caffe",
         "related_places": {},
         "timezone": "America/Los_Angeles"
        }
       ]
      },
      "text/plain": [
       "<IPython.core.display.JSON object>"
      ]
     },
     "execution_count": 66,
     "metadata": {
      "application/json": {
       "expanded": false,
       "root": "root"
      }
     },
     "output_type": "execute_result"
    }
   ],
   "source": [
    "JSON(fsq_response)\n"
   ]
  },
  {
   "cell_type": "markdown",
   "metadata": {},
   "source": [
    "Parse through the response to get the POI (such as restaurants, bars, etc) details you want (ratings, name, location, etc)"
   ]
  },
  {
   "cell_type": "code",
   "execution_count": 71,
   "metadata": {},
   "outputs": [],
   "source": [
    "# Extracting relevant data\n",
    "poi_data = []\n",
    "for result in fsq_response['results']:\n",
    "    #fsq_id = result['fsq_id'] #dont think i need this\n",
    "    name = result['name']\n",
    "    category = result['categories'][0]['plural_name']\n",
    "    closed_bucket = result['closed_bucket']\n",
    "    distance = result['distance']\n",
    "    #address = result['location']['address']\n",
    "    postcode = result['location']['postcode']\n",
    "    latitude = result['geocodes']['main']['latitude']\n",
    "    longitude = result['geocodes']['main']['longitude']\n",
    "    region = result['location']['region']\n",
    "    \n",
    "    \n",
    "    # Append data to the dict\n",
    "    poi_data.append({\n",
    "        #'fsq_id': fsq_id,\n",
    "        'name': name,\n",
    "        'category': category,\n",
    "        'closed_bucket': closed_bucket,\n",
    "        'distance': distance,\n",
    "        #'address': address,\n",
    "        'postcode': postcode,\n",
    "        'latitude':latitude,\n",
    "        'longitude':longitude,\n",
    "        'region': region\n",
    "    })"
   ]
  },
  {
   "cell_type": "code",
   "execution_count": 72,
   "metadata": {},
   "outputs": [],
   "source": [
    "# Create a DataFrame from the list of dictionaries\n",
    "df_foursquare = pd.DataFrame(poi_data)\n"
   ]
  },
  {
   "cell_type": "code",
   "execution_count": 69,
   "metadata": {},
   "outputs": [],
   "source": [
    "df_foursquare['region'] = \"San Francisco Bay Area, CA\""
   ]
  },
  {
   "cell_type": "code",
   "execution_count": 73,
   "metadata": {},
   "outputs": [
    {
     "data": {
      "text/html": [
       "<div>\n",
       "<style scoped>\n",
       "    .dataframe tbody tr th:only-of-type {\n",
       "        vertical-align: middle;\n",
       "    }\n",
       "\n",
       "    .dataframe tbody tr th {\n",
       "        vertical-align: top;\n",
       "    }\n",
       "\n",
       "    .dataframe thead th {\n",
       "        text-align: right;\n",
       "    }\n",
       "</style>\n",
       "<table border=\"1\" class=\"dataframe\">\n",
       "  <thead>\n",
       "    <tr style=\"text-align: right;\">\n",
       "      <th></th>\n",
       "      <th>name</th>\n",
       "      <th>category</th>\n",
       "      <th>closed_bucket</th>\n",
       "      <th>distance</th>\n",
       "      <th>postcode</th>\n",
       "      <th>latitude</th>\n",
       "      <th>longitude</th>\n",
       "      <th>region</th>\n",
       "    </tr>\n",
       "  </thead>\n",
       "  <tbody>\n",
       "    <tr>\n",
       "      <th>0</th>\n",
       "      <td>El Tiny Cafe</td>\n",
       "      <td>Coffee Shops</td>\n",
       "      <td>LikelyOpen</td>\n",
       "      <td>26</td>\n",
       "      <td>94703</td>\n",
       "      <td>37.850052</td>\n",
       "      <td>-122.270523</td>\n",
       "      <td>CA</td>\n",
       "    </tr>\n",
       "    <tr>\n",
       "      <th>1</th>\n",
       "      <td>Las Palmas Super Burritos and Heros</td>\n",
       "      <td>Mexican Restaurants</td>\n",
       "      <td>Unsure</td>\n",
       "      <td>33</td>\n",
       "      <td>94703</td>\n",
       "      <td>37.850052</td>\n",
       "      <td>-122.270523</td>\n",
       "      <td>CA</td>\n",
       "    </tr>\n",
       "    <tr>\n",
       "      <th>2</th>\n",
       "      <td>The Fat Fish</td>\n",
       "      <td>Fish and Chips Shops</td>\n",
       "      <td>LikelyOpen</td>\n",
       "      <td>41</td>\n",
       "      <td>94703</td>\n",
       "      <td>37.850052</td>\n",
       "      <td>-122.270523</td>\n",
       "      <td>CA</td>\n",
       "    </tr>\n",
       "    <tr>\n",
       "      <th>3</th>\n",
       "      <td>Washingtown</td>\n",
       "      <td>Laundromats</td>\n",
       "      <td>LikelyOpen</td>\n",
       "      <td>56</td>\n",
       "      <td>94703</td>\n",
       "      <td>37.850193</td>\n",
       "      <td>-122.270387</td>\n",
       "      <td>CA</td>\n",
       "    </tr>\n",
       "    <tr>\n",
       "      <th>4</th>\n",
       "      <td>Vault Cafe</td>\n",
       "      <td>American Restaurants</td>\n",
       "      <td>LikelyOpen</td>\n",
       "      <td>66</td>\n",
       "      <td>94703</td>\n",
       "      <td>37.849484</td>\n",
       "      <td>-122.271567</td>\n",
       "      <td>CA</td>\n",
       "    </tr>\n",
       "  </tbody>\n",
       "</table>\n",
       "</div>"
      ],
      "text/plain": [
       "                                  name              category closed_bucket  \\\n",
       "0                         El Tiny Cafe          Coffee Shops    LikelyOpen   \n",
       "1  Las Palmas Super Burritos and Heros   Mexican Restaurants        Unsure   \n",
       "2                         The Fat Fish  Fish and Chips Shops    LikelyOpen   \n",
       "3                          Washingtown           Laundromats    LikelyOpen   \n",
       "4                           Vault Cafe  American Restaurants    LikelyOpen   \n",
       "\n",
       "   distance postcode   latitude   longitude region  \n",
       "0        26    94703  37.850052 -122.270523     CA  \n",
       "1        33    94703  37.850052 -122.270523     CA  \n",
       "2        41    94703  37.850052 -122.270523     CA  \n",
       "3        56    94703  37.850193 -122.270387     CA  \n",
       "4        66    94703  37.849484 -122.271567     CA  "
      ]
     },
     "execution_count": 73,
     "metadata": {},
     "output_type": "execute_result"
    }
   ],
   "source": [
    "df_foursquare.head()"
   ]
  },
  {
   "cell_type": "markdown",
   "metadata": {},
   "source": [
    "Put your parsed results into a DataFrame"
   ]
  },
  {
   "cell_type": "code",
   "execution_count": 75,
   "metadata": {},
   "outputs": [],
   "source": [
    "df_foursquare.to_csv('..\\data\\df_foursquare.csv', index=False)"
   ]
  },
  {
   "cell_type": "code",
   "execution_count": 76,
   "metadata": {},
   "outputs": [
    {
     "data": {
      "text/plain": [
       "(10, 8)"
      ]
     },
     "execution_count": 76,
     "metadata": {},
     "output_type": "execute_result"
    }
   ],
   "source": [
    "df_foursquare.shape"
   ]
  },
  {
   "cell_type": "code",
   "execution_count": 77,
   "metadata": {},
   "outputs": [
    {
     "data": {
      "text/plain": [
       "Index(['name', 'category', 'closed_bucket', 'distance', 'postcode', 'latitude',\n",
       "       'longitude', 'region'],\n",
       "      dtype='object')"
      ]
     },
     "execution_count": 77,
     "metadata": {},
     "output_type": "execute_result"
    }
   ],
   "source": [
    "df_foursquare.columns"
   ]
  },
  {
   "cell_type": "markdown",
   "metadata": {},
   "source": [
    "# Yelp"
   ]
  },
  {
   "cell_type": "markdown",
   "metadata": {},
   "source": [
    "Send a request to Yelp with a small radius (1000m) for all the bike stations in your city of choice. "
   ]
  },
  {
   "cell_type": "markdown",
   "metadata": {},
   "source": [
    "Parse through the response to get the POI (such as restaurants, bars, etc) details you want (ratings, name, location, etc)"
   ]
  },
  {
   "cell_type": "code",
   "execution_count": 79,
   "metadata": {},
   "outputs": [],
   "source": [
    "YELP_API_KEY = os.getenv('YELP_API_KEY')"
   ]
  },
  {
   "cell_type": "code",
   "execution_count": 83,
   "metadata": {
    "scrolled": true
   },
   "outputs": [
    {
     "name": "stdout",
     "output_type": "stream",
     "text": [
      "success status code 200\n"
     ]
    }
   ],
   "source": [
    "YELP_CLIENT_ID = os.getenv('YELP_CLIENT_ID')\n",
    "yelp_url = \"https://api.yelp.com/v3/businesses/search\"\n",
    "\n",
    "headers = {\n",
    "    \"Authorization\": f\"Bearer {YELP_API_KEY}\",\n",
    "}\n",
    "\n",
    "params = {\n",
    "    \"term\": \"restaurant\",\n",
    "    \"location\": \"San Francisco Bay Area\",\n",
    "    \"radius\": 1000,\n",
    "   # \"limit\": 10,\n",
    "    \"client_id\": YELP_CLIENT_ID,\n",
    "}\n",
    "\n",
    "yelp_response = requests.get(yelp_url, headers=headers, params=params)\n",
    "\n",
    "if yelp_response.status_code == 200:\n",
    "    #print(yelp_response.json())\n",
    "    print(\"success status code 200\")\n",
    "else:\n",
    "    print(f\"Failed to get data. Status code: {yelp_response.status_code}, Error: {yelp_response.text}\")\n"
   ]
  },
  {
   "cell_type": "code",
   "execution_count": 84,
   "metadata": {},
   "outputs": [],
   "source": [
    "yelp_response = yelp_response.json()"
   ]
  },
  {
   "cell_type": "code",
   "execution_count": 85,
   "metadata": {
    "scrolled": true
   },
   "outputs": [
    {
     "data": {
      "application/json": {
       "businesses": [
        {
         "alias": "wawa-thai-food-oakland",
         "categories": [
          {
           "alias": "thai",
           "title": "Thai"
          }
         ],
         "coordinates": {
          "latitude": 37.7971694,
          "longitude": -122.2048419
         },
         "display_phone": "(510) 479-3465",
         "distance": 189.7900020291072,
         "id": "CVaa6r_xMJTBUoTk3whjhw",
         "image_url": "https://s3-media1.fl.yelpcdn.com/bphoto/A-tITOetrDh54cLn2vbFwA/o.jpg",
         "is_closed": false,
         "location": {
          "address1": "3009 Macarthur Blvd",
          "address2": null,
          "address3": "",
          "city": "Oakland",
          "country": "US",
          "display_address": [
           "3009 Macarthur Blvd",
           "Oakland, CA 94602"
          ],
          "state": "CA",
          "zip_code": "94602"
         },
         "name": "Wawa Thai Food",
         "phone": "+15104793465",
         "price": "$$",
         "rating": 4.5,
         "review_count": 242,
         "transactions": [
          "pickup",
          "delivery"
         ],
         "url": "https://www.yelp.com/biz/wawa-thai-food-oakland?adjust_creative=3tCkQZtuSUfDUi7IC68EDw&utm_campaign=yelp_api_v3&utm_medium=api_v3_business_search&utm_source=3tCkQZtuSUfDUi7IC68EDw"
        },
        {
         "alias": "bombera-oakland",
         "categories": [
          {
           "alias": "mexican",
           "title": "Mexican"
          }
         ],
         "coordinates": {
          "latitude": 37.79953,
          "longitude": -122.2152
         },
         "display_phone": "",
         "distance": 783.3795948383115,
         "id": "T6O31-zPkeIOxYW1plsjJg",
         "image_url": "https://s3-media2.fl.yelpcdn.com/bphoto/fxf7I3Nuwu8mYRPkOaKyCA/o.jpg",
         "is_closed": false,
         "location": {
          "address1": "3459 Champion St",
          "address2": "",
          "address3": null,
          "city": "Oakland",
          "country": "US",
          "display_address": [
           "3459 Champion St",
           "Oakland, CA 94602"
          ],
          "state": "CA",
          "zip_code": "94602"
         },
         "name": "Bombera",
         "phone": "",
         "price": "$$$",
         "rating": 4,
         "review_count": 278,
         "transactions": [],
         "url": "https://www.yelp.com/biz/bombera-oakland?adjust_creative=3tCkQZtuSUfDUi7IC68EDw&utm_campaign=yelp_api_v3&utm_medium=api_v3_business_search&utm_source=3tCkQZtuSUfDUi7IC68EDw"
        },
        {
         "alias": "the-saint-sandwich-shop-oakland",
         "categories": [
          {
           "alias": "sandwiches",
           "title": "Sandwiches"
          },
          {
           "alias": "delis",
           "title": "Delis"
          }
         ],
         "coordinates": {
          "latitude": 37.79725,
          "longitude": -122.20437
         },
         "display_phone": "(510) 479-3554",
         "distance": 199.58163430892108,
         "id": "h9z3IG42q79zB3jOXDx7Ig",
         "image_url": "https://s3-media3.fl.yelpcdn.com/bphoto/7RSx0bCwoCo82mt6JRR1Tg/o.jpg",
         "is_closed": false,
         "location": {
          "address1": "3016 Macarthur Blvd",
          "address2": null,
          "address3": "",
          "city": "Oakland",
          "country": "US",
          "display_address": [
           "3016 Macarthur Blvd",
           "Oakland, CA 94602"
          ],
          "state": "CA",
          "zip_code": "94602"
         },
         "name": "The Saint Sandwich Shop",
         "phone": "+15104793554",
         "price": "$$",
         "rating": 4.5,
         "review_count": 239,
         "transactions": [],
         "url": "https://www.yelp.com/biz/the-saint-sandwich-shop-oakland?adjust_creative=3tCkQZtuSUfDUi7IC68EDw&utm_campaign=yelp_api_v3&utm_medium=api_v3_business_search&utm_source=3tCkQZtuSUfDUi7IC68EDw"
        },
        {
         "alias": "cafe-noir-oakland-3",
         "categories": [
          {
           "alias": "burgers",
           "title": "Burgers"
          },
          {
           "alias": "chicken_wings",
           "title": "Chicken Wings"
          },
          {
           "alias": "tradamerican",
           "title": "American"
          }
         ],
         "coordinates": {
          "latitude": 37.798756,
          "longitude": -122.208274
         },
         "display_phone": "(341) 218-6051",
         "distance": 173.9717830586372,
         "id": "DIFzd1fZ-g_uh528U05dCA",
         "image_url": "https://s3-media2.fl.yelpcdn.com/bphoto/JZ6_rgJVkXKqLXCo4d8zDw/o.jpg",
         "is_closed": false,
         "location": {
          "address1": "2818 MacArthur Blvd",
          "address2": null,
          "address3": "",
          "city": "Oakland",
          "country": "US",
          "display_address": [
           "2818 MacArthur Blvd",
           "Oakland, CA 94602"
          ],
          "state": "CA",
          "zip_code": "94602"
         },
         "name": "Cafe Noir",
         "phone": "+13412186051",
         "rating": 5,
         "review_count": 11,
         "transactions": [
          "delivery",
          "pickup"
         ],
         "url": "https://www.yelp.com/biz/cafe-noir-oakland-3?adjust_creative=3tCkQZtuSUfDUi7IC68EDw&utm_campaign=yelp_api_v3&utm_medium=api_v3_business_search&utm_source=3tCkQZtuSUfDUi7IC68EDw"
        },
        {
         "alias": "jos-modern-thai-oakland",
         "categories": [
          {
           "alias": "thai",
           "title": "Thai"
          },
          {
           "alias": "cocktailbars",
           "title": "Cocktail Bars"
          },
          {
           "alias": "noodles",
           "title": "Noodles"
          }
         ],
         "coordinates": {
          "latitude": 37.79168,
          "longitude": -122.19911
         },
         "display_phone": "(510) 479-3167",
         "distance": 970.1549472302829,
         "id": "pGFE0KUcDqMp_Fll3iXL4Q",
         "image_url": "https://s3-media4.fl.yelpcdn.com/bphoto/1_Vy8MvxmPriBQC0RkYeGA/o.jpg",
         "is_closed": false,
         "location": {
          "address1": "3725 Macarthur Blvd",
          "address2": "",
          "address3": "",
          "city": "Oakland",
          "country": "US",
          "display_address": [
           "3725 Macarthur Blvd",
           "Oakland, CA 94619"
          ],
          "state": "CA",
          "zip_code": "94619"
         },
         "name": "Jo's Modern Thai",
         "phone": "+15104793167",
         "price": "$$",
         "rating": 4.5,
         "review_count": 334,
         "transactions": [],
         "url": "https://www.yelp.com/biz/jos-modern-thai-oakland?adjust_creative=3tCkQZtuSUfDUi7IC68EDw&utm_campaign=yelp_api_v3&utm_medium=api_v3_business_search&utm_source=3tCkQZtuSUfDUi7IC68EDw"
        },
        {
         "alias": "boriqua-kitchen-oakland",
         "categories": [
          {
           "alias": "foodtrucks",
           "title": "Food Trucks"
          },
          {
           "alias": "puertorican",
           "title": "Puerto Rican"
          }
         ],
         "coordinates": {
          "latitude": 37.80413712394768,
          "longitude": -122.20703466163918
         },
         "display_phone": "(510) 375-3942",
         "distance": 658.5572337966281,
         "id": "7SXttSYEIhNxjdQoBShk-g",
         "image_url": "https://s3-media1.fl.yelpcdn.com/bphoto/z4pmOeYnEW30iuZgPCXEdQ/o.jpg",
         "is_closed": false,
         "location": {
          "address1": "",
          "address2": null,
          "address3": "",
          "city": "Oakland",
          "country": "US",
          "display_address": [
           "Oakland, CA 94602"
          ],
          "state": "CA",
          "zip_code": "94602"
         },
         "name": "Boriqua Kitchen",
         "phone": "+15103753942",
         "rating": 4.5,
         "review_count": 128,
         "transactions": [],
         "url": "https://www.yelp.com/biz/boriqua-kitchen-oakland?adjust_creative=3tCkQZtuSUfDUi7IC68EDw&utm_campaign=yelp_api_v3&utm_medium=api_v3_business_search&utm_source=3tCkQZtuSUfDUi7IC68EDw"
        },
        {
         "alias": "phnom-penh-house-restaurant-oakland",
         "categories": [
          {
           "alias": "cambodian",
           "title": "Cambodian"
          },
          {
           "alias": "asianfusion",
           "title": "Asian Fusion"
          }
         ],
         "coordinates": {
          "latitude": 37.79101,
          "longitude": -122.19776
         },
         "display_phone": "(510) 482-8989",
         "distance": 1105.9683312401637,
         "id": "4OxVP36-7swWplPiRDZ-7A",
         "image_url": "https://s3-media1.fl.yelpcdn.com/bphoto/6tVquSNYmj8EGUsoy_-9qQ/o.jpg",
         "is_closed": false,
         "location": {
          "address1": "3912 MacArthur Blvd",
          "address2": "",
          "address3": "",
          "city": "Oakland",
          "country": "US",
          "display_address": [
           "3912 MacArthur Blvd",
           "Oakland, CA 94619"
          ],
          "state": "CA",
          "zip_code": "94619"
         },
         "name": "Phnom Penh House Restaurant",
         "phone": "+15104828989",
         "price": "$$",
         "rating": 4.5,
         "review_count": 506,
         "transactions": [
          "delivery"
         ],
         "url": "https://www.yelp.com/biz/phnom-penh-house-restaurant-oakland?adjust_creative=3tCkQZtuSUfDUi7IC68EDw&utm_campaign=yelp_api_v3&utm_medium=api_v3_business_search&utm_source=3tCkQZtuSUfDUi7IC68EDw"
        },
        {
         "alias": "sequoia-diner-oakland",
         "categories": [
          {
           "alias": "diners",
           "title": "Diners"
          },
          {
           "alias": "breakfast_brunch",
           "title": "Breakfast & Brunch"
          }
         ],
         "coordinates": {
          "latitude": 37.7918505998372,
          "longitude": -122.199130414605
         },
         "display_phone": "(510) 482-3719",
         "distance": 956.1638446069961,
         "id": "KJ28nBEGh_foiK3V8jukqw",
         "image_url": "https://s3-media4.fl.yelpcdn.com/bphoto/79iTe4y2oj3NXZzk0L_4MA/o.jpg",
         "is_closed": false,
         "location": {
          "address1": "3719 MacArthur Blvd",
          "address2": "",
          "address3": "",
          "city": "Oakland",
          "country": "US",
          "display_address": [
           "3719 MacArthur Blvd",
           "Oakland, CA 94619"
          ],
          "state": "CA",
          "zip_code": "94619"
         },
         "name": "Sequoia Diner",
         "phone": "+15104823719",
         "price": "$$",
         "rating": 4,
         "review_count": 704,
         "transactions": [
          "delivery"
         ],
         "url": "https://www.yelp.com/biz/sequoia-diner-oakland?adjust_creative=3tCkQZtuSUfDUi7IC68EDw&utm_campaign=yelp_api_v3&utm_medium=api_v3_business_search&utm_source=3tCkQZtuSUfDUi7IC68EDw"
        },
        {
         "alias": "grand-bakery-oakland",
         "categories": [
          {
           "alias": "bakeries",
           "title": "Bakeries"
          },
          {
           "alias": "kosher",
           "title": "Kosher"
          }
         ],
         "coordinates": {
          "latitude": 37.79678,
          "longitude": -122.2045
         },
         "display_phone": "(510) 465-1110",
         "distance": 227.96297887018974,
         "id": "T1XObTZdPpDGJtEswmm09Q",
         "image_url": "https://s3-media3.fl.yelpcdn.com/bphoto/8pux5TdyoxnOGBB4X_CmMw/o.jpg",
         "is_closed": false,
         "location": {
          "address1": "3033 MacArthur Blvd",
          "address2": "",
          "address3": null,
          "city": "Oakland",
          "country": "US",
          "display_address": [
           "3033 MacArthur Blvd",
           "Oakland, CA 94602"
          ],
          "state": "CA",
          "zip_code": "94602"
         },
         "name": "Grand Bakery",
         "phone": "+15104651110",
         "rating": 4,
         "review_count": 21,
         "transactions": [
          "delivery"
         ],
         "url": "https://www.yelp.com/biz/grand-bakery-oakland?adjust_creative=3tCkQZtuSUfDUi7IC68EDw&utm_campaign=yelp_api_v3&utm_medium=api_v3_business_search&utm_source=3tCkQZtuSUfDUi7IC68EDw"
        },
        {
         "alias": "king-kong-bbq-restaurant-oakland",
         "categories": [
          {
           "alias": "chinese",
           "title": "Chinese"
          },
          {
           "alias": "bbq",
           "title": "Barbeque"
          },
          {
           "alias": "seafood",
           "title": "Seafood"
          }
         ],
         "coordinates": {
          "latitude": 37.79394,
          "longitude": -122.20113
         },
         "display_phone": "(510) 530-6288",
         "distance": 665.1988831655432,
         "id": "GnsQfRh4lMQ2OgOJGO-fdA",
         "image_url": "https://s3-media3.fl.yelpcdn.com/bphoto/OTyWT3Heu5yickWNizPhjQ/o.jpg",
         "is_closed": false,
         "location": {
          "address1": "3421 MacArthur Blvd",
          "address2": "",
          "address3": "",
          "city": "Oakland",
          "country": "US",
          "display_address": [
           "3421 MacArthur Blvd",
           "Oakland, CA 94602"
          ],
          "state": "CA",
          "zip_code": "94602"
         },
         "name": "King Kong BBQ Restaurant",
         "phone": "+15105306288",
         "price": "$",
         "rating": 3.5,
         "review_count": 346,
         "transactions": [
          "delivery",
          "pickup"
         ],
         "url": "https://www.yelp.com/biz/king-kong-bbq-restaurant-oakland?adjust_creative=3tCkQZtuSUfDUi7IC68EDw&utm_campaign=yelp_api_v3&utm_medium=api_v3_business_search&utm_source=3tCkQZtuSUfDUi7IC68EDw"
        },
        {
         "alias": "jade-palace-oakland",
         "categories": [
          {
           "alias": "chinese",
           "title": "Chinese"
          }
         ],
         "coordinates": {
          "latitude": 37.7991963991434,
          "longitude": -122.21218917293992
         },
         "display_phone": "(510) 531-2424",
         "distance": 517.9801497160662,
         "id": "RHCXDh6-_BnMUwIbThRzDA",
         "image_url": "https://s3-media4.fl.yelpcdn.com/bphoto/Y4k65AAQYzLBBB9lGzHDGQ/o.jpg",
         "is_closed": false,
         "location": {
          "address1": "2531 MacArthur Blvd",
          "address2": "",
          "address3": "",
          "city": "Oakland",
          "country": "US",
          "display_address": [
           "2531 MacArthur Blvd",
           "Oakland, CA 94602"
          ],
          "state": "CA",
          "zip_code": "94602"
         },
         "name": "Jade Palace",
         "phone": "+15105312424",
         "price": "$$",
         "rating": 3,
         "review_count": 245,
         "transactions": [
          "pickup",
          "delivery"
         ],
         "url": "https://www.yelp.com/biz/jade-palace-oakland?adjust_creative=3tCkQZtuSUfDUi7IC68EDw&utm_campaign=yelp_api_v3&utm_medium=api_v3_business_search&utm_source=3tCkQZtuSUfDUi7IC68EDw"
        },
        {
         "alias": "kaspers-hot-dogs-oakland",
         "categories": [
          {
           "alias": "sandwiches",
           "title": "Sandwiches"
          },
          {
           "alias": "hotdog",
           "title": "Hot Dogs"
          }
         ],
         "coordinates": {
          "latitude": 37.7989845275879,
          "longitude": -122.211578369141
         },
         "display_phone": "(510) 530-2308",
         "distance": 468.815051071401,
         "id": "eFYp8k_60NFCbBu8ww1eZg",
         "image_url": "https://s3-media4.fl.yelpcdn.com/bphoto/qUL2Y4Xyu59FYxwb8huoBQ/o.jpg",
         "is_closed": false,
         "location": {
          "address1": "2551 MacArthur Blvd",
          "address2": "",
          "address3": "",
          "city": "Oakland",
          "country": "US",
          "display_address": [
           "2551 MacArthur Blvd",
           "Oakland, CA 94602"
          ],
          "state": "CA",
          "zip_code": "94602"
         },
         "name": "Kasper's Hot Dogs",
         "phone": "+15105302308",
         "price": "$",
         "rating": 4,
         "review_count": 73,
         "transactions": [
          "delivery"
         ],
         "url": "https://www.yelp.com/biz/kaspers-hot-dogs-oakland?adjust_creative=3tCkQZtuSUfDUi7IC68EDw&utm_campaign=yelp_api_v3&utm_medium=api_v3_business_search&utm_source=3tCkQZtuSUfDUi7IC68EDw"
        },
        {
         "alias": "taco-bell-oakland-7",
         "categories": [
          {
           "alias": "mexican",
           "title": "Mexican"
          },
          {
           "alias": "hotdogs",
           "title": "Fast Food"
          }
         ],
         "coordinates": {
          "latitude": 37.793743,
          "longitude": -122.201142
         },
         "display_phone": "(510) 842-0374",
         "distance": 682.8588420482176,
         "id": "FKilJDqrFvXO7EecPW9YRw",
         "image_url": "https://s3-media1.fl.yelpcdn.com/bphoto/efZgZKf-3nrgVmT4c86yNA/o.jpg",
         "is_closed": false,
         "location": {
          "address1": "3535 35th Avenue",
          "address2": null,
          "address3": "",
          "city": "Oakland",
          "country": "US",
          "display_address": [
           "3535 35th Avenue",
           "Oakland, CA 94619"
          ],
          "state": "CA",
          "zip_code": "94619"
         },
         "name": "Taco Bell",
         "phone": "+15108420374",
         "price": "$",
         "rating": 2,
         "review_count": 120,
         "transactions": [
          "delivery",
          "pickup"
         ],
         "url": "https://www.yelp.com/biz/taco-bell-oakland-7?adjust_creative=3tCkQZtuSUfDUi7IC68EDw&utm_campaign=yelp_api_v3&utm_medium=api_v3_business_search&utm_source=3tCkQZtuSUfDUi7IC68EDw"
        },
        {
         "alias": "fountain-garden-seafood-restaurant-oakland",
         "categories": [
          {
           "alias": "chinese",
           "title": "Chinese"
          },
          {
           "alias": "seafood",
           "title": "Seafood"
          }
         ],
         "coordinates": {
          "latitude": 37.7914276123047,
          "longitude": -122.198127746582
         },
         "display_phone": "(510) 531-2658",
         "distance": 1046.6757186562,
         "id": "7ZGKu-WdKR2Gz2aqa0Lb7Q",
         "image_url": "https://s3-media3.fl.yelpcdn.com/bphoto/-wbxNvrrep5bAVubpQWpAw/o.jpg",
         "is_closed": false,
         "location": {
          "address1": "3836 MacArthur Blvd",
          "address2": "",
          "address3": "",
          "city": "Oakland",
          "country": "US",
          "display_address": [
           "3836 MacArthur Blvd",
           "Oakland, CA 94619"
          ],
          "state": "CA",
          "zip_code": "94619"
         },
         "name": "Fountain Garden Seafood Restaurant",
         "phone": "+15105312658",
         "price": "$$",
         "rating": 3.5,
         "review_count": 214,
         "transactions": [
          "delivery",
          "pickup"
         ],
         "url": "https://www.yelp.com/biz/fountain-garden-seafood-restaurant-oakland?adjust_creative=3tCkQZtuSUfDUi7IC68EDw&utm_campaign=yelp_api_v3&utm_medium=api_v3_business_search&utm_source=3tCkQZtuSUfDUi7IC68EDw"
        },
        {
         "alias": "cafe-of-the-bay-oakland",
         "categories": [
          {
           "alias": "breakfast_brunch",
           "title": "Breakfast & Brunch"
          },
          {
           "alias": "tradamerican",
           "title": "American"
          }
         ],
         "coordinates": {
          "latitude": 37.7903617155944,
          "longitude": -122.197740160303
         },
         "display_phone": "(510) 482-2713",
         "distance": 1161.0941459062226,
         "id": "jSyTP-1P5I8P5eJtOhDv9Q",
         "image_url": "https://s3-media2.fl.yelpcdn.com/bphoto/UFLK7oKQSua_LxU7CTm5kw/o.jpg",
         "is_closed": false,
         "location": {
          "address1": "4011 MacArthur Blvd",
          "address2": "",
          "address3": "",
          "city": "Oakland",
          "country": "US",
          "display_address": [
           "4011 MacArthur Blvd",
           "Oakland, CA 94619"
          ],
          "state": "CA",
          "zip_code": "94619"
         },
         "name": "Cafe of the Bay",
         "phone": "+15104822713",
         "price": "$",
         "rating": 3,
         "review_count": 172,
         "transactions": [
          "delivery",
          "pickup"
         ],
         "url": "https://www.yelp.com/biz/cafe-of-the-bay-oakland?adjust_creative=3tCkQZtuSUfDUi7IC68EDw&utm_campaign=yelp_api_v3&utm_medium=api_v3_business_search&utm_source=3tCkQZtuSUfDUi7IC68EDw"
        },
        {
         "alias": "taqueria-ole-ole-oakland",
         "categories": [
          {
           "alias": "mexican",
           "title": "Mexican"
          }
         ],
         "coordinates": {
          "latitude": 37.8006529,
          "longitude": -122.215375
         },
         "display_phone": "",
         "distance": 831.4148766983553,
         "id": "y0uTzjfyPLH0gjBDtVEChg",
         "image_url": "https://s3-media3.fl.yelpcdn.com/bphoto/nu21M5t8No01T7P7gT_2xg/o.jpg",
         "is_closed": false,
         "location": {
          "address1": "2216 Macarthur Blvd",
          "address2": "",
          "address3": "",
          "city": "Oakland",
          "country": "US",
          "display_address": [
           "2216 Macarthur Blvd",
           "Oakland, CA 94602"
          ],
          "state": "CA",
          "zip_code": "94602"
         },
         "name": "Taqueria Ole Ole!",
         "phone": "",
         "price": "$",
         "rating": 3.5,
         "review_count": 10,
         "transactions": [],
         "url": "https://www.yelp.com/biz/taqueria-ole-ole-oakland?adjust_creative=3tCkQZtuSUfDUi7IC68EDw&utm_campaign=yelp_api_v3&utm_medium=api_v3_business_search&utm_source=3tCkQZtuSUfDUi7IC68EDw"
        },
        {
         "alias": "wingstop-oakland-4",
         "categories": [
          {
           "alias": "chicken_wings",
           "title": "Chicken Wings"
          }
         ],
         "coordinates": {
          "latitude": 37.79043660473472,
          "longitude": -122.19786208250048
         },
         "display_phone": "(510) 500-3861",
         "distance": 1147.7807622666005,
         "id": "XjV9F1TFTnVedungL2QsHA",
         "image_url": "https://s3-media2.fl.yelpcdn.com/bphoto/6T6KQppLmpiED4L93UN_UQ/o.jpg",
         "is_closed": false,
         "location": {
          "address1": "4005 Macarthur Blvd",
          "address2": "",
          "address3": null,
          "city": "Oakland",
          "country": "US",
          "display_address": [
           "4005 Macarthur Blvd",
           "Oakland, CA 94619"
          ],
          "state": "CA",
          "zip_code": "94619"
         },
         "name": "Wingstop",
         "phone": "+15105003861",
         "rating": 2,
         "review_count": 74,
         "transactions": [],
         "url": "https://www.yelp.com/biz/wingstop-oakland-4?adjust_creative=3tCkQZtuSUfDUi7IC68EDw&utm_campaign=yelp_api_v3&utm_medium=api_v3_business_search&utm_source=3tCkQZtuSUfDUi7IC68EDw"
        },
        {
         "alias": "world-ground-cafe-oakland-2",
         "categories": [
          {
           "alias": "coffee",
           "title": "Coffee & Tea"
          }
         ],
         "coordinates": {
          "latitude": 37.79217,
          "longitude": -122.19881
         },
         "display_phone": "(510) 482-2933",
         "distance": 947.896444799857,
         "id": "ArSQMQIVkSyudE4og8l4hg",
         "image_url": "https://s3-media1.fl.yelpcdn.com/bphoto/MBRLNfmWFOYAO1BaiEmo0Q/o.jpg",
         "is_closed": false,
         "location": {
          "address1": "3726 MacArthur Blvd",
          "address2": "",
          "address3": "",
          "city": "Oakland",
          "country": "US",
          "display_address": [
           "3726 MacArthur Blvd",
           "Oakland, CA 94619"
          ],
          "state": "CA",
          "zip_code": "94619"
         },
         "name": "World Ground Cafe",
         "phone": "+15104822933",
         "price": "$",
         "rating": 3.5,
         "review_count": 281,
         "transactions": [
          "delivery"
         ],
         "url": "https://www.yelp.com/biz/world-ground-cafe-oakland-2?adjust_creative=3tCkQZtuSUfDUi7IC68EDw&utm_campaign=yelp_api_v3&utm_medium=api_v3_business_search&utm_source=3tCkQZtuSUfDUi7IC68EDw"
        },
        {
         "alias": "maria-s-mexican-food-oakland",
         "categories": [
          {
           "alias": "tacos",
           "title": "Tacos"
          }
         ],
         "coordinates": {
          "latitude": 37.790938,
          "longitude": -122.205074
         },
         "display_phone": "",
         "distance": 819.5660341246615,
         "id": "azxwliahH0ayVJ6xgQdHcw",
         "image_url": "https://s3-media3.fl.yelpcdn.com/bphoto/R-IENdUq2kd3fC8ZKKFtMA/o.jpg",
         "is_closed": false,
         "location": {
          "address1": "3130 35th Ave",
          "address2": "",
          "address3": null,
          "city": "Oakland",
          "country": "US",
          "display_address": [
           "3130 35th Ave",
           "Oakland, CA 94619"
          ],
          "state": "CA",
          "zip_code": "94619"
         },
         "name": "Maria’s Mexican Food",
         "phone": "",
         "rating": 5,
         "review_count": 4,
         "transactions": [],
         "url": "https://www.yelp.com/biz/maria-s-mexican-food-oakland?adjust_creative=3tCkQZtuSUfDUi7IC68EDw&utm_campaign=yelp_api_v3&utm_medium=api_v3_business_search&utm_source=3tCkQZtuSUfDUi7IC68EDw"
        },
        {
         "alias": "dominos-pizza-oakland-4",
         "categories": [
          {
           "alias": "pizza",
           "title": "Pizza"
          },
          {
           "alias": "chicken_wings",
           "title": "Chicken Wings"
          },
          {
           "alias": "sandwiches",
           "title": "Sandwiches"
          }
         ],
         "coordinates": {
          "latitude": 37.79239111935187,
          "longitude": -122.19966241522567
         },
         "display_phone": "(510) 530-6601",
         "distance": 880.2422117244042,
         "id": "o_urE2goc_FNNvhZuoomFg",
         "image_url": "https://s3-media2.fl.yelpcdn.com/bphoto/qvIhV9AU7mckcDZY598ZTw/o.jpg",
         "is_closed": false,
         "location": {
          "address1": "3639 MacArthur Blvd",
          "address2": "",
          "address3": "",
          "city": "Oakland",
          "country": "US",
          "display_address": [
           "3639 MacArthur Blvd",
           "Oakland, CA 94619"
          ],
          "state": "CA",
          "zip_code": "94619"
         },
         "name": "Domino's Pizza",
         "phone": "+15105306601",
         "price": "$",
         "rating": 1.5,
         "review_count": 152,
         "transactions": [],
         "url": "https://www.yelp.com/biz/dominos-pizza-oakland-4?adjust_creative=3tCkQZtuSUfDUi7IC68EDw&utm_campaign=yelp_api_v3&utm_medium=api_v3_business_search&utm_source=3tCkQZtuSUfDUi7IC68EDw"
        }
       ],
       "region": {
        "center": {
         "latitude": 37.79823445843866,
         "longitude": -122.2064208984375
        }
       },
       "total": 23
      },
      "text/plain": [
       "<IPython.core.display.JSON object>"
      ]
     },
     "execution_count": 85,
     "metadata": {
      "application/json": {
       "expanded": false,
       "root": "root"
      }
     },
     "output_type": "execute_result"
    }
   ],
   "source": [
    "JSON(yelp_response)\n"
   ]
  },
  {
   "cell_type": "code",
   "execution_count": 86,
   "metadata": {},
   "outputs": [],
   "source": [
    "#testing 1 id\n",
    "#print(response['businesses'][0]['id'])\n",
    "#print(yelp_response['businesses'][0]['categories'][0]['alias'])"
   ]
  },
  {
   "cell_type": "code",
   "execution_count": 17,
   "metadata": {},
   "outputs": [
    {
     "name": "stdout",
     "output_type": "stream",
     "text": [
      "[{'city': ('Oakland',), 'state': ('CA',), 'name': ('Wawa Thai Food',), 'review_count': (241,), 'rating': (4.5,), 'latitude': (37.7971694,), 'longitude': (-122.2048419,), 'type': 'thai'}, {'city': ('Oakland',), 'state': ('CA',), 'name': ('The Saint Sandwich Shop',), 'review_count': (239,), 'rating': (4.5,), 'latitude': (37.79725,), 'longitude': (-122.20437,), 'type': 'sandwiches'}, {'city': ('Oakland',), 'state': ('CA',), 'name': ('Bombera',), 'review_count': (278,), 'rating': (4.0,), 'latitude': (37.79953,), 'longitude': (-122.2152,), 'type': 'mexican'}, {'city': ('Oakland',), 'state': ('CA',), 'name': ('Cafe Noir',), 'review_count': (11,), 'rating': (5.0,), 'latitude': (37.798756,), 'longitude': (-122.208274,), 'type': 'burgers'}, {'city': ('Oakland',), 'state': ('CA',), 'name': ('Boriqua Kitchen',), 'review_count': (128,), 'rating': (4.5,), 'latitude': (37.80413712394768,), 'longitude': (-122.20703466163918,), 'type': 'foodtrucks'}, {'city': ('Oakland',), 'state': ('CA',), 'name': ('Sequoia Diner',), 'review_count': (704,), 'rating': (4.0,), 'latitude': (37.7918505998372,), 'longitude': (-122.199130414605,), 'type': 'diners'}, {'city': ('Oakland',), 'state': ('CA',), 'name': (\"Jo's Modern Thai\",), 'review_count': (334,), 'rating': (4.5,), 'latitude': (37.79168,), 'longitude': (-122.19911,), 'type': 'thai'}, {'city': ('Oakland',), 'state': ('CA',), 'name': ('Phnom Penh House Restaurant',), 'review_count': (506,), 'rating': (4.5,), 'latitude': (37.79101,), 'longitude': (-122.19776,), 'type': 'cambodian'}, {'city': ('Oakland',), 'state': ('CA',), 'name': ('Grand Bakery',), 'review_count': (21,), 'rating': (4.0,), 'latitude': (37.79678,), 'longitude': (-122.2045,), 'type': 'bakeries'}, {'city': ('Oakland',), 'state': ('CA',), 'name': ('King Kong BBQ Restaurant',), 'review_count': (346,), 'rating': (3.5,), 'latitude': (37.79394,), 'longitude': (-122.20113,), 'type': 'chinese'}, {'city': ('Oakland',), 'state': ('CA',), 'name': ('Jade Palace',), 'review_count': (245,), 'rating': (3.0,), 'latitude': (37.7991963991434,), 'longitude': (-122.21218917293992,), 'type': 'chinese'}, {'city': ('Oakland',), 'state': ('CA',), 'name': (\"Kasper's Hot Dogs\",), 'review_count': (73,), 'rating': (4.0,), 'latitude': (37.7989845275879,), 'longitude': (-122.211578369141,), 'type': 'sandwiches'}, {'city': ('Oakland',), 'state': ('CA',), 'name': ('Cafe of the Bay',), 'review_count': (172,), 'rating': (3.0,), 'latitude': (37.7903617155944,), 'longitude': (-122.197740160303,), 'type': 'breakfast_brunch'}, {'city': ('Oakland',), 'state': ('CA',), 'name': ('Taco Bell',), 'review_count': (120,), 'rating': (2.0,), 'latitude': (37.793743,), 'longitude': (-122.201142,), 'type': 'mexican'}, {'city': ('Oakland',), 'state': ('CA',), 'name': ('Fountain Garden Seafood Restaurant',), 'review_count': (214,), 'rating': (3.5,), 'latitude': (37.7914276123047,), 'longitude': (-122.198127746582,), 'type': 'chinese'}, {'city': ('Oakland',), 'state': ('CA',), 'name': ('Taqueria Ole Ole!',), 'review_count': (10,), 'rating': (3.5,), 'latitude': (37.8006529,), 'longitude': (-122.215375,), 'type': 'mexican'}, {'city': ('Oakland',), 'state': ('CA',), 'name': ('World Ground Cafe',), 'review_count': (281,), 'rating': (3.5,), 'latitude': (37.79217,), 'longitude': (-122.19881,), 'type': 'coffee'}, {'city': ('Oakland',), 'state': ('CA',), 'name': ('Wingstop',), 'review_count': (74,), 'rating': (2.0,), 'latitude': (37.79043660473472,), 'longitude': (-122.19786208250048,), 'type': 'chicken_wings'}, {'city': ('Oakland',), 'state': ('CA',), 'name': ('Maria’s Mexican Food',), 'review_count': (4,), 'rating': (5.0,), 'latitude': (37.790938,), 'longitude': (-122.205074,), 'type': 'tacos'}, {'city': ('Oakland',), 'state': ('CA',), 'name': (\"Domino's Pizza\",), 'review_count': (152,), 'rating': (1.5,), 'latitude': (37.79239111935187,), 'longitude': (-122.19966241522567,), 'type': 'pizza'}]\n"
     ]
    }
   ],
   "source": [
    "\n",
    "# Extracting relevant data\n",
    "yelp_poi_data = []\n",
    "\n",
    "\n",
    "for i in yelp_response['businesses']:\n",
    "    city = i['location']['city'],\n",
    "    state = i['location']['state'],\n",
    "    name = i['name'],\n",
    "    review_count = i['review_count'],\n",
    "    rating = i['rating'],\n",
    "    latitude = i['coordinates']['latitude'],\n",
    "    longitude = i['coordinates']['longitude'],\n",
    "    alias = i['categories'][0]['alias']\n",
    "      \n",
    "   \n",
    "      # Add more fields as needed\n",
    "    \n",
    "    # Append data and assign keys to the values\n",
    "    yelp_poi_data.append({\n",
    "        'city': city,\n",
    "        'state': state,\n",
    "        'name': name,\n",
    "        'review_count': review_count,\n",
    "        'rating': rating,\n",
    "        'latitude': latitude,\n",
    "        'longitude': longitude,\n",
    "        'type': alias\n",
    "        \n",
    " \n",
    "    })\n",
    "#print(yelp_poi_data)   "
   ]
  },
  {
   "cell_type": "markdown",
   "metadata": {},
   "source": [
    "Put your parsed results into a DataFrame"
   ]
  },
  {
   "cell_type": "code",
   "execution_count": 18,
   "metadata": {},
   "outputs": [
    {
     "data": {
      "text/html": [
       "<div>\n",
       "<style scoped>\n",
       "    .dataframe tbody tr th:only-of-type {\n",
       "        vertical-align: middle;\n",
       "    }\n",
       "\n",
       "    .dataframe tbody tr th {\n",
       "        vertical-align: top;\n",
       "    }\n",
       "\n",
       "    .dataframe thead th {\n",
       "        text-align: right;\n",
       "    }\n",
       "</style>\n",
       "<table border=\"1\" class=\"dataframe\">\n",
       "  <thead>\n",
       "    <tr style=\"text-align: right;\">\n",
       "      <th></th>\n",
       "      <th>city</th>\n",
       "      <th>state</th>\n",
       "      <th>name</th>\n",
       "      <th>review_count</th>\n",
       "      <th>rating</th>\n",
       "      <th>latitude</th>\n",
       "      <th>longitude</th>\n",
       "      <th>type</th>\n",
       "    </tr>\n",
       "  </thead>\n",
       "  <tbody>\n",
       "    <tr>\n",
       "      <th>0</th>\n",
       "      <td>(Oakland,)</td>\n",
       "      <td>(CA,)</td>\n",
       "      <td>(Wawa Thai Food,)</td>\n",
       "      <td>(241,)</td>\n",
       "      <td>(4.5,)</td>\n",
       "      <td>(37.7971694,)</td>\n",
       "      <td>(-122.2048419,)</td>\n",
       "      <td>thai</td>\n",
       "    </tr>\n",
       "    <tr>\n",
       "      <th>1</th>\n",
       "      <td>(Oakland,)</td>\n",
       "      <td>(CA,)</td>\n",
       "      <td>(The Saint Sandwich Shop,)</td>\n",
       "      <td>(239,)</td>\n",
       "      <td>(4.5,)</td>\n",
       "      <td>(37.79725,)</td>\n",
       "      <td>(-122.20437,)</td>\n",
       "      <td>sandwiches</td>\n",
       "    </tr>\n",
       "    <tr>\n",
       "      <th>2</th>\n",
       "      <td>(Oakland,)</td>\n",
       "      <td>(CA,)</td>\n",
       "      <td>(Bombera,)</td>\n",
       "      <td>(278,)</td>\n",
       "      <td>(4.0,)</td>\n",
       "      <td>(37.79953,)</td>\n",
       "      <td>(-122.2152,)</td>\n",
       "      <td>mexican</td>\n",
       "    </tr>\n",
       "    <tr>\n",
       "      <th>3</th>\n",
       "      <td>(Oakland,)</td>\n",
       "      <td>(CA,)</td>\n",
       "      <td>(Cafe Noir,)</td>\n",
       "      <td>(11,)</td>\n",
       "      <td>(5.0,)</td>\n",
       "      <td>(37.798756,)</td>\n",
       "      <td>(-122.208274,)</td>\n",
       "      <td>burgers</td>\n",
       "    </tr>\n",
       "    <tr>\n",
       "      <th>4</th>\n",
       "      <td>(Oakland,)</td>\n",
       "      <td>(CA,)</td>\n",
       "      <td>(Boriqua Kitchen,)</td>\n",
       "      <td>(128,)</td>\n",
       "      <td>(4.5,)</td>\n",
       "      <td>(37.80413712394768,)</td>\n",
       "      <td>(-122.20703466163918,)</td>\n",
       "      <td>foodtrucks</td>\n",
       "    </tr>\n",
       "  </tbody>\n",
       "</table>\n",
       "</div>"
      ],
      "text/plain": [
       "         city  state                        name review_count  rating  \\\n",
       "0  (Oakland,)  (CA,)           (Wawa Thai Food,)       (241,)  (4.5,)   \n",
       "1  (Oakland,)  (CA,)  (The Saint Sandwich Shop,)       (239,)  (4.5,)   \n",
       "2  (Oakland,)  (CA,)                  (Bombera,)       (278,)  (4.0,)   \n",
       "3  (Oakland,)  (CA,)                (Cafe Noir,)        (11,)  (5.0,)   \n",
       "4  (Oakland,)  (CA,)          (Boriqua Kitchen,)       (128,)  (4.5,)   \n",
       "\n",
       "               latitude               longitude        type  \n",
       "0         (37.7971694,)         (-122.2048419,)        thai  \n",
       "1           (37.79725,)           (-122.20437,)  sandwiches  \n",
       "2           (37.79953,)            (-122.2152,)     mexican  \n",
       "3          (37.798756,)          (-122.208274,)     burgers  \n",
       "4  (37.80413712394768,)  (-122.20703466163918,)  foodtrucks  "
      ]
     },
     "execution_count": 18,
     "metadata": {},
     "output_type": "execute_result"
    }
   ],
   "source": [
    "df_yelp = pd.DataFrame(yelp_poi_data)\n",
    "df_yelp.head()"
   ]
  },
  {
   "cell_type": "code",
   "execution_count": 129,
   "metadata": {},
   "outputs": [],
   "source": [
    "df_yelp.to_csv('.\\df_yelp.csv', index=False)"
   ]
  },
  {
   "cell_type": "code",
   "execution_count": 19,
   "metadata": {},
   "outputs": [
    {
     "data": {
      "text/plain": [
       "Index(['city', 'state', 'name', 'review_count', 'rating', 'latitude',\n",
       "       'longitude', 'type'],\n",
       "      dtype='object')"
      ]
     },
     "execution_count": 19,
     "metadata": {},
     "output_type": "execute_result"
    }
   ],
   "source": [
    "df_yelp.columns"
   ]
  },
  {
   "cell_type": "markdown",
   "metadata": {},
   "source": [
    "# Comparing Results"
   ]
  },
  {
   "cell_type": "markdown",
   "metadata": {},
   "source": [
    "Which API provided you with more complete data? Provide an explanation. "
   ]
  },
  {
   "cell_type": "markdown",
   "metadata": {},
   "source": [
    "They both were pretty comparable. Seems like foursquare focuses more on location data and yelp has a more complete picture of the establishment and how it appeals to the masses. However, yelp also has some location info and establishment data relative to one another which is useful."
   ]
  },
  {
   "cell_type": "markdown",
   "metadata": {},
   "source": [
    "Get the top 10 restaurants according to their rating"
   ]
  },
  {
   "cell_type": "code",
   "execution_count": 51,
   "metadata": {},
   "outputs": [],
   "source": [
    "top_10_resto = df_yelp.sort_values(by='rating', ascending=False)"
   ]
  },
  {
   "cell_type": "code",
   "execution_count": 52,
   "metadata": {},
   "outputs": [
    {
     "data": {
      "text/html": [
       "<div>\n",
       "<style scoped>\n",
       "    .dataframe tbody tr th:only-of-type {\n",
       "        vertical-align: middle;\n",
       "    }\n",
       "\n",
       "    .dataframe tbody tr th {\n",
       "        vertical-align: top;\n",
       "    }\n",
       "\n",
       "    .dataframe thead th {\n",
       "        text-align: right;\n",
       "    }\n",
       "</style>\n",
       "<table border=\"1\" class=\"dataframe\">\n",
       "  <thead>\n",
       "    <tr style=\"text-align: right;\">\n",
       "      <th></th>\n",
       "      <th>location</th>\n",
       "      <th>name</th>\n",
       "      <th>review_count</th>\n",
       "      <th>rating</th>\n",
       "      <th>latitude</th>\n",
       "      <th>longitude</th>\n",
       "      <th>type</th>\n",
       "    </tr>\n",
       "  </thead>\n",
       "  <tbody>\n",
       "    <tr>\n",
       "      <th>3</th>\n",
       "      <td>San Francisco Bay Area, CA</td>\n",
       "      <td>(Cafe Noir,)</td>\n",
       "      <td>(11,)</td>\n",
       "      <td>(5.0,)</td>\n",
       "      <td>(37.798756,)</td>\n",
       "      <td>(-122.208274,)</td>\n",
       "      <td>burgers</td>\n",
       "    </tr>\n",
       "    <tr>\n",
       "      <th>18</th>\n",
       "      <td>San Francisco Bay Area, CA</td>\n",
       "      <td>(Maria’s Mexican Food,)</td>\n",
       "      <td>(4,)</td>\n",
       "      <td>(5.0,)</td>\n",
       "      <td>(37.790938,)</td>\n",
       "      <td>(-122.205074,)</td>\n",
       "      <td>tacos</td>\n",
       "    </tr>\n",
       "    <tr>\n",
       "      <th>0</th>\n",
       "      <td>San Francisco Bay Area, CA</td>\n",
       "      <td>(Wawa Thai Food,)</td>\n",
       "      <td>(241,)</td>\n",
       "      <td>(4.5,)</td>\n",
       "      <td>(37.7971694,)</td>\n",
       "      <td>(-122.2048419,)</td>\n",
       "      <td>thai</td>\n",
       "    </tr>\n",
       "    <tr>\n",
       "      <th>4</th>\n",
       "      <td>San Francisco Bay Area, CA</td>\n",
       "      <td>(Boriqua Kitchen,)</td>\n",
       "      <td>(128,)</td>\n",
       "      <td>(4.5,)</td>\n",
       "      <td>(37.80413712394768,)</td>\n",
       "      <td>(-122.20703466163918,)</td>\n",
       "      <td>foodtrucks</td>\n",
       "    </tr>\n",
       "    <tr>\n",
       "      <th>6</th>\n",
       "      <td>San Francisco Bay Area, CA</td>\n",
       "      <td>(Jo's Modern Thai,)</td>\n",
       "      <td>(334,)</td>\n",
       "      <td>(4.5,)</td>\n",
       "      <td>(37.79168,)</td>\n",
       "      <td>(-122.19911,)</td>\n",
       "      <td>thai</td>\n",
       "    </tr>\n",
       "    <tr>\n",
       "      <th>7</th>\n",
       "      <td>San Francisco Bay Area, CA</td>\n",
       "      <td>(Phnom Penh House Restaurant,)</td>\n",
       "      <td>(506,)</td>\n",
       "      <td>(4.5,)</td>\n",
       "      <td>(37.79101,)</td>\n",
       "      <td>(-122.19776,)</td>\n",
       "      <td>cambodian</td>\n",
       "    </tr>\n",
       "    <tr>\n",
       "      <th>1</th>\n",
       "      <td>San Francisco Bay Area, CA</td>\n",
       "      <td>(The Saint Sandwich Shop,)</td>\n",
       "      <td>(239,)</td>\n",
       "      <td>(4.5,)</td>\n",
       "      <td>(37.79725,)</td>\n",
       "      <td>(-122.20437,)</td>\n",
       "      <td>sandwiches</td>\n",
       "    </tr>\n",
       "    <tr>\n",
       "      <th>2</th>\n",
       "      <td>San Francisco Bay Area, CA</td>\n",
       "      <td>(Bombera,)</td>\n",
       "      <td>(278,)</td>\n",
       "      <td>(4.0,)</td>\n",
       "      <td>(37.79953,)</td>\n",
       "      <td>(-122.2152,)</td>\n",
       "      <td>mexican</td>\n",
       "    </tr>\n",
       "    <tr>\n",
       "      <th>5</th>\n",
       "      <td>San Francisco Bay Area, CA</td>\n",
       "      <td>(Sequoia Diner,)</td>\n",
       "      <td>(704,)</td>\n",
       "      <td>(4.0,)</td>\n",
       "      <td>(37.7918505998372,)</td>\n",
       "      <td>(-122.199130414605,)</td>\n",
       "      <td>diners</td>\n",
       "    </tr>\n",
       "    <tr>\n",
       "      <th>8</th>\n",
       "      <td>San Francisco Bay Area, CA</td>\n",
       "      <td>(Grand Bakery,)</td>\n",
       "      <td>(21,)</td>\n",
       "      <td>(4.0,)</td>\n",
       "      <td>(37.79678,)</td>\n",
       "      <td>(-122.2045,)</td>\n",
       "      <td>bakeries</td>\n",
       "    </tr>\n",
       "  </tbody>\n",
       "</table>\n",
       "</div>"
      ],
      "text/plain": [
       "                      location                            name review_count  \\\n",
       "3   San Francisco Bay Area, CA                    (Cafe Noir,)        (11,)   \n",
       "18  San Francisco Bay Area, CA         (Maria’s Mexican Food,)         (4,)   \n",
       "0   San Francisco Bay Area, CA               (Wawa Thai Food,)       (241,)   \n",
       "4   San Francisco Bay Area, CA              (Boriqua Kitchen,)       (128,)   \n",
       "6   San Francisco Bay Area, CA             (Jo's Modern Thai,)       (334,)   \n",
       "7   San Francisco Bay Area, CA  (Phnom Penh House Restaurant,)       (506,)   \n",
       "1   San Francisco Bay Area, CA      (The Saint Sandwich Shop,)       (239,)   \n",
       "2   San Francisco Bay Area, CA                      (Bombera,)       (278,)   \n",
       "5   San Francisco Bay Area, CA                (Sequoia Diner,)       (704,)   \n",
       "8   San Francisco Bay Area, CA                 (Grand Bakery,)        (21,)   \n",
       "\n",
       "    rating              latitude               longitude        type  \n",
       "3   (5.0,)          (37.798756,)          (-122.208274,)     burgers  \n",
       "18  (5.0,)          (37.790938,)          (-122.205074,)       tacos  \n",
       "0   (4.5,)         (37.7971694,)         (-122.2048419,)        thai  \n",
       "4   (4.5,)  (37.80413712394768,)  (-122.20703466163918,)  foodtrucks  \n",
       "6   (4.5,)           (37.79168,)           (-122.19911,)        thai  \n",
       "7   (4.5,)           (37.79101,)           (-122.19776,)   cambodian  \n",
       "1   (4.5,)           (37.79725,)           (-122.20437,)  sandwiches  \n",
       "2   (4.0,)           (37.79953,)            (-122.2152,)     mexican  \n",
       "5   (4.0,)   (37.7918505998372,)    (-122.199130414605,)      diners  \n",
       "8   (4.0,)           (37.79678,)            (-122.2045,)    bakeries  "
      ]
     },
     "execution_count": 52,
     "metadata": {},
     "output_type": "execute_result"
    }
   ],
   "source": [
    "top_10_resto.head(10)"
   ]
  },
  {
   "cell_type": "markdown",
   "metadata": {},
   "source": [
    "#### Data Clean city/state column"
   ]
  },
  {
   "cell_type": "code",
   "execution_count": 34,
   "metadata": {},
   "outputs": [],
   "source": [
    "df_yelp['city'] = df_yelp['city'] + df_yelp['state']"
   ]
  },
  {
   "cell_type": "code",
   "execution_count": 38,
   "metadata": {},
   "outputs": [],
   "source": [
    "df_yelp.rename(columns={'city': 'location'}, inplace=True)"
   ]
  },
  {
   "cell_type": "code",
   "execution_count": 40,
   "metadata": {},
   "outputs": [],
   "source": [
    "df_yelp.drop(columns=['state'], inplace=True)"
   ]
  },
  {
   "cell_type": "code",
   "execution_count": 50,
   "metadata": {},
   "outputs": [
    {
     "data": {
      "text/html": [
       "<div>\n",
       "<style scoped>\n",
       "    .dataframe tbody tr th:only-of-type {\n",
       "        vertical-align: middle;\n",
       "    }\n",
       "\n",
       "    .dataframe tbody tr th {\n",
       "        vertical-align: top;\n",
       "    }\n",
       "\n",
       "    .dataframe thead th {\n",
       "        text-align: right;\n",
       "    }\n",
       "</style>\n",
       "<table border=\"1\" class=\"dataframe\">\n",
       "  <thead>\n",
       "    <tr style=\"text-align: right;\">\n",
       "      <th></th>\n",
       "      <th>location</th>\n",
       "      <th>name</th>\n",
       "      <th>review_count</th>\n",
       "      <th>rating</th>\n",
       "      <th>latitude</th>\n",
       "      <th>longitude</th>\n",
       "      <th>type</th>\n",
       "    </tr>\n",
       "  </thead>\n",
       "  <tbody>\n",
       "    <tr>\n",
       "      <th>15</th>\n",
       "      <td>San Francisco Bay Area, CA</td>\n",
       "      <td>(Taqueria Ole Ole!,)</td>\n",
       "      <td>(10,)</td>\n",
       "      <td>(3.5,)</td>\n",
       "      <td>(37.8006529,)</td>\n",
       "      <td>(-122.215375,)</td>\n",
       "      <td>mexican</td>\n",
       "    </tr>\n",
       "    <tr>\n",
       "      <th>16</th>\n",
       "      <td>San Francisco Bay Area, CA</td>\n",
       "      <td>(World Ground Cafe,)</td>\n",
       "      <td>(281,)</td>\n",
       "      <td>(3.5,)</td>\n",
       "      <td>(37.79217,)</td>\n",
       "      <td>(-122.19881,)</td>\n",
       "      <td>coffee</td>\n",
       "    </tr>\n",
       "    <tr>\n",
       "      <th>17</th>\n",
       "      <td>San Francisco Bay Area, CA</td>\n",
       "      <td>(Wingstop,)</td>\n",
       "      <td>(74,)</td>\n",
       "      <td>(2.0,)</td>\n",
       "      <td>(37.79043660473472,)</td>\n",
       "      <td>(-122.19786208250048,)</td>\n",
       "      <td>chicken_wings</td>\n",
       "    </tr>\n",
       "    <tr>\n",
       "      <th>18</th>\n",
       "      <td>San Francisco Bay Area, CA</td>\n",
       "      <td>(Maria’s Mexican Food,)</td>\n",
       "      <td>(4,)</td>\n",
       "      <td>(5.0,)</td>\n",
       "      <td>(37.790938,)</td>\n",
       "      <td>(-122.205074,)</td>\n",
       "      <td>tacos</td>\n",
       "    </tr>\n",
       "    <tr>\n",
       "      <th>19</th>\n",
       "      <td>San Francisco Bay Area, CA</td>\n",
       "      <td>(Domino's Pizza,)</td>\n",
       "      <td>(152,)</td>\n",
       "      <td>(1.5,)</td>\n",
       "      <td>(37.79239111935187,)</td>\n",
       "      <td>(-122.19966241522567,)</td>\n",
       "      <td>pizza</td>\n",
       "    </tr>\n",
       "  </tbody>\n",
       "</table>\n",
       "</div>"
      ],
      "text/plain": [
       "                      location                     name review_count  rating  \\\n",
       "15  San Francisco Bay Area, CA     (Taqueria Ole Ole!,)        (10,)  (3.5,)   \n",
       "16  San Francisco Bay Area, CA     (World Ground Cafe,)       (281,)  (3.5,)   \n",
       "17  San Francisco Bay Area, CA              (Wingstop,)        (74,)  (2.0,)   \n",
       "18  San Francisco Bay Area, CA  (Maria’s Mexican Food,)         (4,)  (5.0,)   \n",
       "19  San Francisco Bay Area, CA        (Domino's Pizza,)       (152,)  (1.5,)   \n",
       "\n",
       "                latitude               longitude           type  \n",
       "15         (37.8006529,)          (-122.215375,)        mexican  \n",
       "16           (37.79217,)           (-122.19881,)         coffee  \n",
       "17  (37.79043660473472,)  (-122.19786208250048,)  chicken_wings  \n",
       "18          (37.790938,)          (-122.205074,)          tacos  \n",
       "19  (37.79239111935187,)  (-122.19966241522567,)          pizza  "
      ]
     },
     "execution_count": 50,
     "metadata": {},
     "output_type": "execute_result"
    }
   ],
   "source": [
    "df_yelp.tail()"
   ]
  },
  {
   "cell_type": "code",
   "execution_count": 49,
   "metadata": {},
   "outputs": [],
   "source": [
    "#df_yelp['location'] = df_yelp['location'].str[:-5] # this somehow left me with empty brackets\n",
    "#below is an attempt to set the location to the same values as the bike api\n",
    "df_yelp['location'] = \"San Francisco Bay Area, CA\""
   ]
  },
  {
   "cell_type": "markdown",
   "metadata": {},
   "source": [
    "Import the city_bikes df"
   ]
  },
  {
   "cell_type": "code",
   "execution_count": 22,
   "metadata": {},
   "outputs": [],
   "source": [
    "csv_file_path = '..\\data\\df_bikes.csv'\n",
    "\n",
    "# Read the CSV file into a DataFrame\n",
    "df_bikes = pd.read_csv(csv_file_path)\n"
   ]
  },
  {
   "cell_type": "code",
   "execution_count": 43,
   "metadata": {},
   "outputs": [],
   "source": [
    "df_bikes.rename(columns={'City': 'location'}, inplace=True)"
   ]
  },
  {
   "cell_type": "code",
   "execution_count": 44,
   "metadata": {},
   "outputs": [
    {
     "data": {
      "text/html": [
       "<div>\n",
       "<style scoped>\n",
       "    .dataframe tbody tr th:only-of-type {\n",
       "        vertical-align: middle;\n",
       "    }\n",
       "\n",
       "    .dataframe tbody tr th {\n",
       "        vertical-align: top;\n",
       "    }\n",
       "\n",
       "    .dataframe thead th {\n",
       "        text-align: right;\n",
       "    }\n",
       "</style>\n",
       "<table border=\"1\" class=\"dataframe\">\n",
       "  <thead>\n",
       "    <tr style=\"text-align: right;\">\n",
       "      <th></th>\n",
       "      <th>location</th>\n",
       "      <th>Latitude</th>\n",
       "      <th>Longitude</th>\n",
       "      <th>Bikes</th>\n",
       "    </tr>\n",
       "  </thead>\n",
       "  <tbody>\n",
       "    <tr>\n",
       "      <th>0</th>\n",
       "      <td>San Francisco Bay Area, CA</td>\n",
       "      <td>37.849735</td>\n",
       "      <td>-122.270582</td>\n",
       "      <td>6</td>\n",
       "    </tr>\n",
       "    <tr>\n",
       "      <th>1</th>\n",
       "      <td>San Francisco Bay Area, CA</td>\n",
       "      <td>37.336188</td>\n",
       "      <td>-121.889277</td>\n",
       "      <td>10</td>\n",
       "    </tr>\n",
       "    <tr>\n",
       "      <th>2</th>\n",
       "      <td>San Francisco Bay Area, CA</td>\n",
       "      <td>37.322125</td>\n",
       "      <td>-121.881090</td>\n",
       "      <td>15</td>\n",
       "    </tr>\n",
       "    <tr>\n",
       "      <th>3</th>\n",
       "      <td>San Francisco Bay Area, CA</td>\n",
       "      <td>37.323678</td>\n",
       "      <td>-121.874119</td>\n",
       "      <td>13</td>\n",
       "    </tr>\n",
       "    <tr>\n",
       "      <th>4</th>\n",
       "      <td>San Francisco Bay Area, CA</td>\n",
       "      <td>37.325998</td>\n",
       "      <td>-121.877120</td>\n",
       "      <td>15</td>\n",
       "    </tr>\n",
       "  </tbody>\n",
       "</table>\n",
       "</div>"
      ],
      "text/plain": [
       "                     location   Latitude   Longitude  Bikes\n",
       "0  San Francisco Bay Area, CA  37.849735 -122.270582      6\n",
       "1  San Francisco Bay Area, CA  37.336188 -121.889277     10\n",
       "2  San Francisco Bay Area, CA  37.322125 -121.881090     15\n",
       "3  San Francisco Bay Area, CA  37.323678 -121.874119     13\n",
       "4  San Francisco Bay Area, CA  37.325998 -121.877120     15"
      ]
     },
     "execution_count": 44,
     "metadata": {},
     "output_type": "execute_result"
    }
   ],
   "source": [
    "df_bikes.head()"
   ]
  },
  {
   "cell_type": "code",
   "execution_count": null,
   "metadata": {},
   "outputs": [],
   "source": []
  },
  {
   "cell_type": "markdown",
   "metadata": {},
   "source": [
    "Union the 3 dataframes for ease and speed as I don't have time to sort out and clean all the dataframes:"
   ]
  },
  {
   "cell_type": "code",
   "execution_count": 25,
   "metadata": {},
   "outputs": [],
   "source": [
    "#bikes_fsq_yelp_union = pd.concat([df_bikes, df_foursquare, df_yelp], ignore_index=True) #ignore_index=True new df has new index."
   ]
  },
  {
   "cell_type": "code",
   "execution_count": 60,
   "metadata": {},
   "outputs": [],
   "source": [
    "#bikes_fsq_yelp_union = pd.merge(df_bikes, df_foursquare, how='outer', on='name')\n",
    "\n",
    "# Merging DataFrames failed\n",
    "#merged_df = pd.merge(df_bikes, df_foursquare, left_on=['Latitude', 'Longitude'], right_on=['latitude', 'longitude'], how='inner')\n"
   ]
  },
  {
   "cell_type": "code",
   "execution_count": 62,
   "metadata": {},
   "outputs": [],
   "source": [
    "#adding 3rd api failed\n",
    "#merged_df = pd.merge(merged_df, df_yelp, left_on=['Latitude', 'Longitude'], right_on=['latitude', 'longitude'], how='inner')"
   ]
  },
  {
   "cell_type": "code",
   "execution_count": 125,
   "metadata": {},
   "outputs": [],
   "source": [
    "combined_df = pd.concat([df_bikes, df_foursquare, df_yelp], ignore_index=True)"
   ]
  },
  {
   "cell_type": "code",
   "execution_count": 126,
   "metadata": {},
   "outputs": [
    {
     "data": {
      "text/html": [
       "<div>\n",
       "<style scoped>\n",
       "    .dataframe tbody tr th:only-of-type {\n",
       "        vertical-align: middle;\n",
       "    }\n",
       "\n",
       "    .dataframe tbody tr th {\n",
       "        vertical-align: top;\n",
       "    }\n",
       "\n",
       "    .dataframe thead th {\n",
       "        text-align: right;\n",
       "    }\n",
       "</style>\n",
       "<table border=\"1\" class=\"dataframe\">\n",
       "  <thead>\n",
       "    <tr style=\"text-align: right;\">\n",
       "      <th></th>\n",
       "      <th>location</th>\n",
       "      <th>Latitude</th>\n",
       "      <th>Longitude</th>\n",
       "      <th>Bikes</th>\n",
       "      <th>name</th>\n",
       "      <th>closed_bucket</th>\n",
       "      <th>distance</th>\n",
       "      <th>address</th>\n",
       "      <th>postcode</th>\n",
       "      <th>latitude</th>\n",
       "      <th>longitude</th>\n",
       "      <th>region</th>\n",
       "      <th>review_count</th>\n",
       "      <th>rating</th>\n",
       "      <th>type</th>\n",
       "    </tr>\n",
       "  </thead>\n",
       "  <tbody>\n",
       "    <tr>\n",
       "      <th>577</th>\n",
       "      <td>San Francisco Bay Area, CA</td>\n",
       "      <td>NaN</td>\n",
       "      <td>NaN</td>\n",
       "      <td>NaN</td>\n",
       "      <td>(Taqueria Ole Ole!,)</td>\n",
       "      <td>NaN</td>\n",
       "      <td>NaN</td>\n",
       "      <td>NaN</td>\n",
       "      <td>NaN</td>\n",
       "      <td>(37.8006529,)</td>\n",
       "      <td>(-122.215375,)</td>\n",
       "      <td>NaN</td>\n",
       "      <td>(10,)</td>\n",
       "      <td>(3.5,)</td>\n",
       "      <td>mexican</td>\n",
       "    </tr>\n",
       "    <tr>\n",
       "      <th>578</th>\n",
       "      <td>San Francisco Bay Area, CA</td>\n",
       "      <td>NaN</td>\n",
       "      <td>NaN</td>\n",
       "      <td>NaN</td>\n",
       "      <td>(World Ground Cafe,)</td>\n",
       "      <td>NaN</td>\n",
       "      <td>NaN</td>\n",
       "      <td>NaN</td>\n",
       "      <td>NaN</td>\n",
       "      <td>(37.79217,)</td>\n",
       "      <td>(-122.19881,)</td>\n",
       "      <td>NaN</td>\n",
       "      <td>(281,)</td>\n",
       "      <td>(3.5,)</td>\n",
       "      <td>coffee</td>\n",
       "    </tr>\n",
       "    <tr>\n",
       "      <th>579</th>\n",
       "      <td>San Francisco Bay Area, CA</td>\n",
       "      <td>NaN</td>\n",
       "      <td>NaN</td>\n",
       "      <td>NaN</td>\n",
       "      <td>(Wingstop,)</td>\n",
       "      <td>NaN</td>\n",
       "      <td>NaN</td>\n",
       "      <td>NaN</td>\n",
       "      <td>NaN</td>\n",
       "      <td>(37.79043660473472,)</td>\n",
       "      <td>(-122.19786208250048,)</td>\n",
       "      <td>NaN</td>\n",
       "      <td>(74,)</td>\n",
       "      <td>(2.0,)</td>\n",
       "      <td>chicken_wings</td>\n",
       "    </tr>\n",
       "    <tr>\n",
       "      <th>580</th>\n",
       "      <td>San Francisco Bay Area, CA</td>\n",
       "      <td>NaN</td>\n",
       "      <td>NaN</td>\n",
       "      <td>NaN</td>\n",
       "      <td>(Maria’s Mexican Food,)</td>\n",
       "      <td>NaN</td>\n",
       "      <td>NaN</td>\n",
       "      <td>NaN</td>\n",
       "      <td>NaN</td>\n",
       "      <td>(37.790938,)</td>\n",
       "      <td>(-122.205074,)</td>\n",
       "      <td>NaN</td>\n",
       "      <td>(4,)</td>\n",
       "      <td>(5.0,)</td>\n",
       "      <td>tacos</td>\n",
       "    </tr>\n",
       "    <tr>\n",
       "      <th>581</th>\n",
       "      <td>San Francisco Bay Area, CA</td>\n",
       "      <td>NaN</td>\n",
       "      <td>NaN</td>\n",
       "      <td>NaN</td>\n",
       "      <td>(Domino's Pizza,)</td>\n",
       "      <td>NaN</td>\n",
       "      <td>NaN</td>\n",
       "      <td>NaN</td>\n",
       "      <td>NaN</td>\n",
       "      <td>(37.79239111935187,)</td>\n",
       "      <td>(-122.19966241522567,)</td>\n",
       "      <td>NaN</td>\n",
       "      <td>(152,)</td>\n",
       "      <td>(1.5,)</td>\n",
       "      <td>pizza</td>\n",
       "    </tr>\n",
       "  </tbody>\n",
       "</table>\n",
       "</div>"
      ],
      "text/plain": [
       "                       location  Latitude  Longitude  Bikes  \\\n",
       "577  San Francisco Bay Area, CA       NaN        NaN    NaN   \n",
       "578  San Francisco Bay Area, CA       NaN        NaN    NaN   \n",
       "579  San Francisco Bay Area, CA       NaN        NaN    NaN   \n",
       "580  San Francisco Bay Area, CA       NaN        NaN    NaN   \n",
       "581  San Francisco Bay Area, CA       NaN        NaN    NaN   \n",
       "\n",
       "                        name closed_bucket  distance address postcode  \\\n",
       "577     (Taqueria Ole Ole!,)           NaN       NaN     NaN      NaN   \n",
       "578     (World Ground Cafe,)           NaN       NaN     NaN      NaN   \n",
       "579              (Wingstop,)           NaN       NaN     NaN      NaN   \n",
       "580  (Maria’s Mexican Food,)           NaN       NaN     NaN      NaN   \n",
       "581        (Domino's Pizza,)           NaN       NaN     NaN      NaN   \n",
       "\n",
       "                 latitude               longitude region review_count  rating  \\\n",
       "577         (37.8006529,)          (-122.215375,)    NaN        (10,)  (3.5,)   \n",
       "578           (37.79217,)           (-122.19881,)    NaN       (281,)  (3.5,)   \n",
       "579  (37.79043660473472,)  (-122.19786208250048,)    NaN        (74,)  (2.0,)   \n",
       "580          (37.790938,)          (-122.205074,)    NaN         (4,)  (5.0,)   \n",
       "581  (37.79239111935187,)  (-122.19966241522567,)    NaN       (152,)  (1.5,)   \n",
       "\n",
       "              type  \n",
       "577        mexican  \n",
       "578         coffee  \n",
       "579  chicken_wings  \n",
       "580          tacos  \n",
       "581          pizza  "
      ]
     },
     "execution_count": 126,
     "metadata": {},
     "output_type": "execute_result"
    }
   ],
   "source": [
    "combined_df.tail()"
   ]
  },
  {
   "cell_type": "code",
   "execution_count": 117,
   "metadata": {},
   "outputs": [
    {
     "data": {
      "text/html": [
       "<div>\n",
       "<style scoped>\n",
       "    .dataframe tbody tr th:only-of-type {\n",
       "        vertical-align: middle;\n",
       "    }\n",
       "\n",
       "    .dataframe tbody tr th {\n",
       "        vertical-align: top;\n",
       "    }\n",
       "\n",
       "    .dataframe thead th {\n",
       "        text-align: right;\n",
       "    }\n",
       "</style>\n",
       "<table border=\"1\" class=\"dataframe\">\n",
       "  <thead>\n",
       "    <tr style=\"text-align: right;\">\n",
       "      <th></th>\n",
       "      <th>location</th>\n",
       "      <th>Latitude</th>\n",
       "      <th>Longitude</th>\n",
       "      <th>Bikes</th>\n",
       "      <th>name</th>\n",
       "      <th>closed_bucket</th>\n",
       "      <th>distance</th>\n",
       "      <th>address</th>\n",
       "      <th>postcode</th>\n",
       "      <th>latitude</th>\n",
       "      <th>longitude</th>\n",
       "      <th>region</th>\n",
       "      <th>review_count</th>\n",
       "      <th>rating</th>\n",
       "      <th>type</th>\n",
       "    </tr>\n",
       "  </thead>\n",
       "  <tbody>\n",
       "    <tr>\n",
       "      <th>577</th>\n",
       "      <td>San Francisco Bay Area, CA</td>\n",
       "      <td>NaN</td>\n",
       "      <td>NaN</td>\n",
       "      <td>NaN</td>\n",
       "      <td>(Taqueria Ole Ole!,)</td>\n",
       "      <td>NaN</td>\n",
       "      <td>NaN</td>\n",
       "      <td>NaN</td>\n",
       "      <td>NaN</td>\n",
       "      <td>NaN</td>\n",
       "      <td>(-122.215375,)</td>\n",
       "      <td>NaN</td>\n",
       "      <td>(10,)</td>\n",
       "      <td>(3.5,)</td>\n",
       "      <td>mexican</td>\n",
       "    </tr>\n",
       "    <tr>\n",
       "      <th>578</th>\n",
       "      <td>San Francisco Bay Area, CA</td>\n",
       "      <td>NaN</td>\n",
       "      <td>NaN</td>\n",
       "      <td>NaN</td>\n",
       "      <td>(World Ground Cafe,)</td>\n",
       "      <td>NaN</td>\n",
       "      <td>NaN</td>\n",
       "      <td>NaN</td>\n",
       "      <td>NaN</td>\n",
       "      <td>NaN</td>\n",
       "      <td>(-122.19881,)</td>\n",
       "      <td>NaN</td>\n",
       "      <td>(281,)</td>\n",
       "      <td>(3.5,)</td>\n",
       "      <td>coffee</td>\n",
       "    </tr>\n",
       "    <tr>\n",
       "      <th>579</th>\n",
       "      <td>San Francisco Bay Area, CA</td>\n",
       "      <td>NaN</td>\n",
       "      <td>NaN</td>\n",
       "      <td>NaN</td>\n",
       "      <td>(Wingstop,)</td>\n",
       "      <td>NaN</td>\n",
       "      <td>NaN</td>\n",
       "      <td>NaN</td>\n",
       "      <td>NaN</td>\n",
       "      <td>NaN</td>\n",
       "      <td>(-122.19786208250048,)</td>\n",
       "      <td>NaN</td>\n",
       "      <td>(74,)</td>\n",
       "      <td>(2.0,)</td>\n",
       "      <td>chicken_wings</td>\n",
       "    </tr>\n",
       "    <tr>\n",
       "      <th>580</th>\n",
       "      <td>San Francisco Bay Area, CA</td>\n",
       "      <td>NaN</td>\n",
       "      <td>NaN</td>\n",
       "      <td>NaN</td>\n",
       "      <td>(Maria’s Mexican Food,)</td>\n",
       "      <td>NaN</td>\n",
       "      <td>NaN</td>\n",
       "      <td>NaN</td>\n",
       "      <td>NaN</td>\n",
       "      <td>NaN</td>\n",
       "      <td>(-122.205074,)</td>\n",
       "      <td>NaN</td>\n",
       "      <td>(4,)</td>\n",
       "      <td>(5.0,)</td>\n",
       "      <td>tacos</td>\n",
       "    </tr>\n",
       "    <tr>\n",
       "      <th>581</th>\n",
       "      <td>San Francisco Bay Area, CA</td>\n",
       "      <td>NaN</td>\n",
       "      <td>NaN</td>\n",
       "      <td>NaN</td>\n",
       "      <td>(Domino's Pizza,)</td>\n",
       "      <td>NaN</td>\n",
       "      <td>NaN</td>\n",
       "      <td>NaN</td>\n",
       "      <td>NaN</td>\n",
       "      <td>NaN</td>\n",
       "      <td>(-122.19966241522567,)</td>\n",
       "      <td>NaN</td>\n",
       "      <td>(152,)</td>\n",
       "      <td>(1.5,)</td>\n",
       "      <td>pizza</td>\n",
       "    </tr>\n",
       "  </tbody>\n",
       "</table>\n",
       "</div>"
      ],
      "text/plain": [
       "                       location  Latitude  Longitude  Bikes  \\\n",
       "577  San Francisco Bay Area, CA       NaN        NaN    NaN   \n",
       "578  San Francisco Bay Area, CA       NaN        NaN    NaN   \n",
       "579  San Francisco Bay Area, CA       NaN        NaN    NaN   \n",
       "580  San Francisco Bay Area, CA       NaN        NaN    NaN   \n",
       "581  San Francisco Bay Area, CA       NaN        NaN    NaN   \n",
       "\n",
       "                        name closed_bucket  distance address postcode  \\\n",
       "577     (Taqueria Ole Ole!,)           NaN       NaN     NaN      NaN   \n",
       "578     (World Ground Cafe,)           NaN       NaN     NaN      NaN   \n",
       "579              (Wingstop,)           NaN       NaN     NaN      NaN   \n",
       "580  (Maria’s Mexican Food,)           NaN       NaN     NaN      NaN   \n",
       "581        (Domino's Pizza,)           NaN       NaN     NaN      NaN   \n",
       "\n",
       "     latitude               longitude region review_count  rating  \\\n",
       "577       NaN          (-122.215375,)    NaN        (10,)  (3.5,)   \n",
       "578       NaN           (-122.19881,)    NaN       (281,)  (3.5,)   \n",
       "579       NaN  (-122.19786208250048,)    NaN        (74,)  (2.0,)   \n",
       "580       NaN          (-122.205074,)    NaN         (4,)  (5.0,)   \n",
       "581       NaN  (-122.19966241522567,)    NaN       (152,)  (1.5,)   \n",
       "\n",
       "              type  \n",
       "577        mexican  \n",
       "578         coffee  \n",
       "579  chicken_wings  \n",
       "580          tacos  \n",
       "581          pizza  "
      ]
     },
     "execution_count": 117,
     "metadata": {},
     "output_type": "execute_result"
    }
   ],
   "source": [
    "combined_df.tail()"
   ]
  },
  {
   "cell_type": "code",
   "execution_count": 111,
   "metadata": {},
   "outputs": [],
   "source": [
    "# Clean up the lat and lon column\n",
    "# Remove brackets and commas from the 'Latitude' column\n",
    "#combined_df['latitude'] = combined_df['latitude'].str.replace(r'[,\\(\\)]', '', regex=True)\n",
    "\n",
    "# Convert the column to numeric\n",
    "#combined_df['latitudeNew'] = combined_df['latitude'].str[1:-2]\n",
    "#combined_df['latitudeNew'] = combined_df['latitude'].apply(lambda x: x.strip('()'))"
   ]
  },
  {
   "cell_type": "markdown",
   "metadata": {},
   "source": [
    "Export the dataframe so that it can be accessed in the joining_data notebook"
   ]
  },
  {
   "cell_type": "code",
   "execution_count": 69,
   "metadata": {},
   "outputs": [],
   "source": [
    "combined_df.to_csv('combined_apis.csv', index=False)"
   ]
  },
  {
   "cell_type": "code",
   "execution_count": 124,
   "metadata": {},
   "outputs": [
    {
     "data": {
      "text/plain": [
       "location          object\n",
       "Latitude         float64\n",
       "Longitude        float64\n",
       "Bikes            float64\n",
       "name              object\n",
       "closed_bucket     object\n",
       "distance         float64\n",
       "address           object\n",
       "postcode          object\n",
       "latitude         float64\n",
       "longitude         object\n",
       "region            object\n",
       "review_count      object\n",
       "rating            object\n",
       "type              object\n",
       "dtype: object"
      ]
     },
     "execution_count": 124,
     "metadata": {},
     "output_type": "execute_result"
    }
   ],
   "source": [
    "# Having serious issues cleaning up the latitude and longitude when they are 'object' types\n",
    "combined_df.dtypes"
   ]
  },
  {
   "cell_type": "code",
   "execution_count": null,
   "metadata": {},
   "outputs": [],
   "source": []
  },
  {
   "cell_type": "code",
   "execution_count": null,
   "metadata": {},
   "outputs": [],
   "source": []
  }
 ],
 "metadata": {
  "kernelspec": {
   "display_name": "Python 3 (ipykernel)",
   "language": "python",
   "name": "python3"
  },
  "language_info": {
   "codemirror_mode": {
    "name": "ipython",
    "version": 3
   },
   "file_extension": ".py",
   "mimetype": "text/x-python",
   "name": "python",
   "nbconvert_exporter": "python",
   "pygments_lexer": "ipython3",
   "version": "3.9.18"
  }
 },
 "nbformat": 4,
 "nbformat_minor": 4
}
