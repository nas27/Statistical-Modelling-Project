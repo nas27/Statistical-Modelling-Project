{
 "cells": [
  {
   "cell_type": "code",
   "execution_count": 5,
   "metadata": {},
   "outputs": [],
   "source": [
    "#pip install statsmodels"
   ]
  },
  {
   "cell_type": "code",
   "execution_count": 7,
   "metadata": {},
   "outputs": [],
   "source": [
    "# import numpy\n",
    "import numpy as np\n",
    "import pandas as pd\n",
    "import statsmodels.api as sm\n",
    "# import linear_model and datasets from sklearn\n",
    "from sklearn import linear_model, datasets"
   ]
  },
  {
   "cell_type": "markdown",
   "metadata": {},
   "source": [
    "Build a regression model."
   ]
  },
  {
   "cell_type": "markdown",
   "metadata": {},
   "source": [
    "The following model hopes to make sense of 2 data points. The aim is to uncover a correlation between a dependant and independant variable."
   ]
  },
  {
   "cell_type": "code",
   "execution_count": 8,
   "metadata": {},
   "outputs": [],
   "source": [
    "#Grab our data in order to figure out what are variables are:\n",
    "csv_file_path_combine = '..\\data\\combined_apis.csv'\n",
    "csv_file_path_bikes = '..\\data\\df_bikes.csv'\n",
    "csv_file_path_yelp = '..\\data\\df_yelp.csv'\n",
    "csv_file_path_fsq = '..\\data\\df_foursquare.csv'\n",
    "\n",
    "# Read the CSV file into a DataFrame\n",
    "api_data_all = pd.read_csv(csv_file_path_combine)\n",
    "df_bikes = pd.read_csv(csv_file_path_bikes)\n",
    "df_yelp = pd.read_csv(csv_file_path_yelp)\n",
    "df_foursquare = pd.read_csv(csv_file_path_fsq)"
   ]
  },
  {
   "cell_type": "code",
   "execution_count": 16,
   "metadata": {},
   "outputs": [
    {
     "data": {
      "text/html": [
       "<div>\n",
       "<style scoped>\n",
       "    .dataframe tbody tr th:only-of-type {\n",
       "        vertical-align: middle;\n",
       "    }\n",
       "\n",
       "    .dataframe tbody tr th {\n",
       "        vertical-align: top;\n",
       "    }\n",
       "\n",
       "    .dataframe thead th {\n",
       "        text-align: right;\n",
       "    }\n",
       "</style>\n",
       "<table border=\"1\" class=\"dataframe\">\n",
       "  <thead>\n",
       "    <tr style=\"text-align: right;\">\n",
       "      <th></th>\n",
       "      <th>city</th>\n",
       "      <th>state</th>\n",
       "      <th>name</th>\n",
       "      <th>review_count</th>\n",
       "      <th>rating</th>\n",
       "      <th>latitude</th>\n",
       "      <th>longitude</th>\n",
       "      <th>category</th>\n",
       "    </tr>\n",
       "  </thead>\n",
       "  <tbody>\n",
       "    <tr>\n",
       "      <th>0</th>\n",
       "      <td>Oakland</td>\n",
       "      <td>CA</td>\n",
       "      <td>Wawa Thai Food</td>\n",
       "      <td>243</td>\n",
       "      <td>4.5</td>\n",
       "      <td>37.797169</td>\n",
       "      <td>-122.204842</td>\n",
       "      <td>thai</td>\n",
       "    </tr>\n",
       "    <tr>\n",
       "      <th>1</th>\n",
       "      <td>Oakland</td>\n",
       "      <td>CA</td>\n",
       "      <td>Bombera</td>\n",
       "      <td>278</td>\n",
       "      <td>4.0</td>\n",
       "      <td>37.799530</td>\n",
       "      <td>-122.215200</td>\n",
       "      <td>mexican</td>\n",
       "    </tr>\n",
       "    <tr>\n",
       "      <th>2</th>\n",
       "      <td>Oakland</td>\n",
       "      <td>CA</td>\n",
       "      <td>The Saint Sandwich Shop</td>\n",
       "      <td>239</td>\n",
       "      <td>4.5</td>\n",
       "      <td>37.797250</td>\n",
       "      <td>-122.204370</td>\n",
       "      <td>sandwiches</td>\n",
       "    </tr>\n",
       "    <tr>\n",
       "      <th>3</th>\n",
       "      <td>Oakland</td>\n",
       "      <td>CA</td>\n",
       "      <td>Cafe Noir</td>\n",
       "      <td>11</td>\n",
       "      <td>5.0</td>\n",
       "      <td>37.798756</td>\n",
       "      <td>-122.208274</td>\n",
       "      <td>burgers</td>\n",
       "    </tr>\n",
       "    <tr>\n",
       "      <th>4</th>\n",
       "      <td>Oakland</td>\n",
       "      <td>CA</td>\n",
       "      <td>Phnom Penh House Restaurant</td>\n",
       "      <td>506</td>\n",
       "      <td>4.5</td>\n",
       "      <td>37.791010</td>\n",
       "      <td>-122.197760</td>\n",
       "      <td>cambodian</td>\n",
       "    </tr>\n",
       "  </tbody>\n",
       "</table>\n",
       "</div>"
      ],
      "text/plain": [
       "      city state                         name  review_count  rating  \\\n",
       "0  Oakland    CA               Wawa Thai Food           243     4.5   \n",
       "1  Oakland    CA                      Bombera           278     4.0   \n",
       "2  Oakland    CA      The Saint Sandwich Shop           239     4.5   \n",
       "3  Oakland    CA                    Cafe Noir            11     5.0   \n",
       "4  Oakland    CA  Phnom Penh House Restaurant           506     4.5   \n",
       "\n",
       "    latitude   longitude    category  \n",
       "0  37.797169 -122.204842        thai  \n",
       "1  37.799530 -122.215200     mexican  \n",
       "2  37.797250 -122.204370  sandwiches  \n",
       "3  37.798756 -122.208274     burgers  \n",
       "4  37.791010 -122.197760   cambodian  "
      ]
     },
     "execution_count": 16,
     "metadata": {},
     "output_type": "execute_result"
    }
   ],
   "source": [
    "#df_bikes.tail()\n",
    "df_yelp.head()\n",
    "#df_foursquare.head()"
   ]
  },
  {
   "cell_type": "code",
   "execution_count": 17,
   "metadata": {},
   "outputs": [],
   "source": [
    "X = sm.add_constant(df_yelp[['review_count']])\n",
    "y = df_yelp['rating']\n",
    "\n",
    "model = sm.OLS(y, X).fit()"
   ]
  },
  {
   "cell_type": "code",
   "execution_count": 18,
   "metadata": {},
   "outputs": [
    {
     "name": "stdout",
     "output_type": "stream",
     "text": [
      "                            OLS Regression Results                            \n",
      "==============================================================================\n",
      "Dep. Variable:                 rating   R-squared:                       0.013\n",
      "Model:                            OLS   Adj. R-squared:                 -0.042\n",
      "Method:                 Least Squares   F-statistic:                    0.2325\n",
      "Date:                Mon, 11 Dec 2023   Prob (F-statistic):              0.636\n",
      "Time:                        22:44:45   Log-Likelihood:                -27.578\n",
      "No. Observations:                  20   AIC:                             59.16\n",
      "Df Residuals:                      18   BIC:                             61.15\n",
      "Df Model:                           1                                         \n",
      "Covariance Type:            nonrobust                                         \n",
      "================================================================================\n",
      "                   coef    std err          t      P>|t|      [0.025      0.975]\n",
      "--------------------------------------------------------------------------------\n",
      "const            3.5683      0.355     10.055      0.000       2.823       4.314\n",
      "review_count     0.0006      0.001      0.482      0.636      -0.002       0.003\n",
      "==============================================================================\n",
      "Omnibus:                        2.008   Durbin-Watson:                   1.449\n",
      "Prob(Omnibus):                  0.366   Jarque-Bera (JB):                1.441\n",
      "Skew:                          -0.644   Prob(JB):                        0.487\n",
      "Kurtosis:                       2.734   Cond. No.                         423.\n",
      "==============================================================================\n",
      "\n",
      "Notes:\n",
      "[1] Standard Errors assume that the covariance matrix of the errors is correctly specified.\n"
     ]
    }
   ],
   "source": [
    "print(model.summary())"
   ]
  },
  {
   "cell_type": "markdown",
   "metadata": {},
   "source": [
    "Provide model output and an interpretation of the results. "
   ]
  },
  {
   "cell_type": "markdown",
   "metadata": {},
   "source": [
    "### Interpetation"
   ]
  },
  {
   "cell_type": "markdown",
   "metadata": {},
   "source": [
    "In this output, we can see that the value is 0.013 This means that the model is capable of explaining 1.3% of the patterns in the data. It may not be a great fit.\n"
   ]
  },
  {
   "cell_type": "markdown",
   "metadata": {},
   "source": [
    "A p-value of less than 0.05 is considered to be statistically significant. This regression output shows a p-value of 0.636. In other words, review count does not impact the rating of the restaurant."
   ]
  },
  {
   "cell_type": "markdown",
   "metadata": {},
   "source": [
    "coef: In this case, we can see that the coef of review_count has a value of 0.0006. This means that a unit increase in the value of review_count will not have a positive impact on the rating of that place."
   ]
  },
  {
   "cell_type": "markdown",
   "metadata": {},
   "source": [
    "# Stretch"
   ]
  },
  {
   "cell_type": "markdown",
   "metadata": {},
   "source": [
    "How can you turn the regression model into a classification model?"
   ]
  },
  {
   "cell_type": "markdown",
   "metadata": {},
   "source": [
    "From my research, this would involve chunking the numerical data into bins which serve as categories to further create a new model. <br> In the case of ratings: <br> 0.0 - 2 = Poor <br> 2.1 - 3 = Average <br> 3.1 - 4 = Great <br> 4.1 - 5.0 = Exceptional"
   ]
  },
  {
   "cell_type": "markdown",
   "metadata": {},
   "source": [
    "The categories that map to numbers above become the categories in which we classify our model. At least, that's my best guess."
   ]
  },
  {
   "cell_type": "code",
   "execution_count": null,
   "metadata": {},
   "outputs": [],
   "source": []
  }
 ],
 "metadata": {
  "kernelspec": {
   "display_name": "Python 3 (ipykernel)",
   "language": "python",
   "name": "python3"
  },
  "language_info": {
   "codemirror_mode": {
    "name": "ipython",
    "version": 3
   },
   "file_extension": ".py",
   "mimetype": "text/x-python",
   "name": "python",
   "nbconvert_exporter": "python",
   "pygments_lexer": "ipython3",
   "version": "3.9.18"
  }
 },
 "nbformat": 4,
 "nbformat_minor": 4
}
